{
  "nbformat": 4,
  "nbformat_minor": 0,
  "metadata": {
    "colab": {
      "name": "Predict Future Sales.ipynb",
      "provenance": [],
      "collapsed_sections": [],
      "toc_visible": true,
      "machine_shape": "hm",
      "include_colab_link": true
    },
    "kernelspec": {
      "name": "python3",
      "display_name": "Python 3"
    }
  },
  "cells": [
    {
      "cell_type": "markdown",
      "metadata": {
        "id": "view-in-github",
        "colab_type": "text"
      },
      "source": [
        "<a href=\"https://colab.research.google.com/github/mohiiieldin/Predict-Future-Sales-Competition-on-Kaggle/blob/master/Predict_Future_Sales.ipynb\" target=\"_parent\"><img src=\"https://colab.research.google.com/assets/colab-badge.svg\" alt=\"Open In Colab\"/></a>"
      ]
    },
    {
      "cell_type": "code",
      "metadata": {
        "id": "E2ucAX5gRe-h",
        "colab_type": "code",
        "outputId": "bd4c3fba-556e-4146-e7ce-65866367910f",
        "colab": {
          "base_uri": "https://localhost:8080/",
          "height": 122
        }
      },
      "source": [
        "from google.colab import drive\n",
        "drive.mount('/content/gdrive')"
      ],
      "execution_count": 0,
      "outputs": [
        {
          "output_type": "stream",
          "text": [
            "Go to this URL in a browser: https://accounts.google.com/o/oauth2/auth?client_id=947318989803-6bn6qk8qdgf4n4g3pfee6491hc0brc4i.apps.googleusercontent.com&redirect_uri=urn%3aietf%3awg%3aoauth%3a2.0%3aoob&response_type=code&scope=email%20https%3a%2f%2fwww.googleapis.com%2fauth%2fdocs.test%20https%3a%2f%2fwww.googleapis.com%2fauth%2fdrive%20https%3a%2f%2fwww.googleapis.com%2fauth%2fdrive.photos.readonly%20https%3a%2f%2fwww.googleapis.com%2fauth%2fpeopleapi.readonly\n",
            "\n",
            "Enter your authorization code:\n",
            "··········\n",
            "Mounted at /content/gdrive\n"
          ],
          "name": "stdout"
        }
      ]
    },
    {
      "cell_type": "code",
      "metadata": {
        "id": "v8_f_sUPTT60",
        "colab_type": "code",
        "colab": {}
      },
      "source": [
        "import pandas as pd\n",
        "import matplotlib.pyplot as plt\n",
        "import numpy as np\n",
        "from numpy import sqrt\n",
        "from datetime import datetime, timedelta,date\n",
        "import seaborn as sns\n",
        "from sklearn.metrics import mean_squared_error\n",
        "#importing machine learning libraries\n",
        "import pickle\n",
        "import gc # to free some space from the memory\n",
        "from sklearn.model_selection import KFold\n",
        "\n",
        "\n",
        "#importing regressors\n",
        "from sklearn.ensemble import RandomForestRegressor\n",
        "from xgboost import XGBRegressor \n",
        "from xgboost import plot_importance\n",
        "from sklearn.linear_model import LinearRegression\n",
        "from sklearn.tree import DecisionTreeRegressor\n",
        "\n",
        "#ignoring warnings\n",
        "import warnings\n",
        "warnings.filterwarnings(\"ignore\")\n",
        "from sklearn.model_selection import GridSearchCV\n",
        "\n",
        "# time seires staff\n",
        "import statsmodels.api as sm\n",
        "import itertools\n",
        "from statsmodels.tsa.seasonal import seasonal_decompose\n",
        "from statsmodels.tsa.statespace.sarimax import SARIMAX\n",
        "\n",
        "from pandas.plotting import autocorrelation_plot\n",
        "from statsmodels.tsa.stattools import adfuller, acf, pacf,arma_order_select_ic\n",
        "\n",
        "plt.style.use('ggplot') # plots style\n",
        "# fixing the seed so that the code is reproduceable\n",
        "random_state = 1"
      ],
      "execution_count": 0,
      "outputs": []
    },
    {
      "cell_type": "code",
      "metadata": {
        "id": "XXkWHiH_TXcB",
        "colab_type": "code",
        "colab": {}
      },
      "source": [
        "# Reading Data\n",
        "item_categories = pd.read_csv(\"/content/drive/My Drive/GP Data/item_categories-translated.csv\") \n",
        "items = pd.read_csv(\"/content/drive/My Drive/GP Data/items-translated.csv\")\n",
        "sales = pd.read_csv(\"/content/drive/My Drive/GP Data/sales_train_v2.csv\")\n",
        "shops = pd.read_csv(\"/content/drive/My Drive/GP Data/shops-translated.csv\")\n",
        "test = pd.read_csv(\"/content/drive/My Drive/GP Data/test.csv\")\n",
        "sample_submission = pd.read_csv('/content/drive/My Drive/GP Data/sample_submission.csv')"
      ],
      "execution_count": 0,
      "outputs": []
    },
    {
      "cell_type": "markdown",
      "metadata": {
        "id": "JWgvhCY1pFQE",
        "colab_type": "text"
      },
      "source": [
        "Let's take a look on the data"
      ]
    },
    {
      "cell_type": "code",
      "metadata": {
        "id": "LVorXmKcVLpI",
        "colab_type": "code",
        "outputId": "a9a2a789-7938-4e3d-f64d-532f15406f5e",
        "colab": {
          "base_uri": "https://localhost:8080/",
          "height": 585
        }
      },
      "source": [
        "print(\"----------Shape of Data----------\")\n",
        "print(sales.shape)\n",
        "print(\"----------first 5 rows----------\")\n",
        "print(sales.head(5))\n",
        "print(\"-----------data frame overview-----------\")\n",
        "print(sales.info())\n",
        "print(\"----------Missing value-----------\")\n",
        "print(sales.isnull().sum())"
      ],
      "execution_count": 0,
      "outputs": [
        {
          "output_type": "stream",
          "text": [
            "----------Shape of Data----------\n",
            "(2935849, 6)\n",
            "----------first 5 rows----------\n",
            "         date  date_block_num  shop_id  item_id  item_price  item_cnt_day\n",
            "0  02.01.2013               0       59    22154      999.00           1.0\n",
            "1  03.01.2013               0       25     2552      899.00           1.0\n",
            "2  05.01.2013               0       25     2552      899.00          -1.0\n",
            "3  06.01.2013               0       25     2554     1709.05           1.0\n",
            "4  15.01.2013               0       25     2555     1099.00           1.0\n",
            "-----------data frame overview-----------\n",
            "<class 'pandas.core.frame.DataFrame'>\n",
            "RangeIndex: 2935849 entries, 0 to 2935848\n",
            "Data columns (total 6 columns):\n",
            " #   Column          Dtype  \n",
            "---  ------          -----  \n",
            " 0   date            object \n",
            " 1   date_block_num  int64  \n",
            " 2   shop_id         int64  \n",
            " 3   item_id         int64  \n",
            " 4   item_price      float64\n",
            " 5   item_cnt_day    float64\n",
            "dtypes: float64(2), int64(3), object(1)\n",
            "memory usage: 134.4+ MB\n",
            "None\n",
            "----------Missing value-----------\n",
            "date              0\n",
            "date_block_num    0\n",
            "shop_id           0\n",
            "item_id           0\n",
            "item_price        0\n",
            "item_cnt_day      0\n",
            "dtype: int64\n"
          ],
          "name": "stdout"
        }
      ]
    },
    {
      "cell_type": "markdown",
      "metadata": {
        "id": "s3gIO6_Xpfwb",
        "colab_type": "text"
      },
      "source": [
        "1) Date "
      ]
    },
    {
      "cell_type": "code",
      "metadata": {
        "id": "0909fTXupKTD",
        "colab_type": "code",
        "outputId": "0b01d0f8-9b18-4792-d117-cb8f1543f6c6",
        "colab": {
          "base_uri": "https://localhost:8080/",
          "height": 51
        }
      },
      "source": [
        "# changing the type of the column into date time, this will ease future feature engineering\n",
        "sales.date = pd.to_datetime(sales.date)\n",
        "print(\"First date --> \" , sales.date.min())\n",
        "print(\"Last date --> \" , sales.date.max())"
      ],
      "execution_count": 0,
      "outputs": [
        {
          "output_type": "stream",
          "text": [
            "First date -->  2013-01-01 00:00:00\n",
            "Last date -->  2015-12-10 00:00:00\n"
          ],
          "name": "stdout"
        }
      ]
    },
    {
      "cell_type": "markdown",
      "metadata": {
        "id": "o9YeQ6dxpezn",
        "colab_type": "text"
      },
      "source": [
        "2) date_block_num"
      ]
    },
    {
      "cell_type": "code",
      "metadata": {
        "id": "nE0XMkn5pVWL",
        "colab_type": "code",
        "outputId": "12bbb4ea-03d0-49ef-d810-598d669f5344",
        "colab": {
          "base_uri": "https://localhost:8080/",
          "height": 534
        }
      },
      "source": [
        "#what is the number of items soled at each month ?\n",
        "sales_grouped_by_month =  sales.groupby('date_block_num')['item_cnt_day'].sum()\n",
        "plt.figure(figsize=(15,8))\n",
        "plt.title(\"Number of items sold by each month\")\n",
        "plt.xlabel(\"Date_block_num\")\n",
        "plt.ylabel(\"Items_sum\")\n",
        "sns.lineplot(data = sales_grouped_by_month)"
      ],
      "execution_count": 0,
      "outputs": [
        {
          "output_type": "execute_result",
          "data": {
            "text/plain": [
              "<matplotlib.axes._subplots.AxesSubplot at 0x7f19d89aa588>"
            ]
          },
          "metadata": {
            "tags": []
          },
          "execution_count": 10
        },
        {
          "output_type": "display_data",
          "data": {
            "image/png": "[encoded data removed]",
            "text/plain": [
              "<Figure size 1080x576 with 1 Axes>"
            ]
          },
          "metadata": {
            "tags": []
          }
        }
      ]
    },
    {
      "cell_type": "markdown",
      "metadata": {
        "id": "DDAiJMf8pix7",
        "colab_type": "text"
      },
      "source": [
        "3) shop_id"
      ]
    },
    {
      "cell_type": "code",
      "metadata": {
        "id": "GY3NHfXbprUa",
        "colab_type": "code",
        "outputId": "881f4b55-aa5c-4248-c0c3-3e2f63f2df6e",
        "colab": {
          "base_uri": "https://localhost:8080/",
          "height": 34
        }
      },
      "source": [
        "print(\"Nuumber of shops is : \",sales.shop_id.nunique())"
      ],
      "execution_count": 0,
      "outputs": [
        {
          "output_type": "stream",
          "text": [
            "Nuumber of shops is :  60\n"
          ],
          "name": "stdout"
        }
      ]
    },
    {
      "cell_type": "code",
      "metadata": {
        "id": "-sDVZqYSpuly",
        "colab_type": "code",
        "outputId": "abf8403d-b522-4e7b-8ddd-71285ca8935a",
        "colab": {
          "base_uri": "https://localhost:8080/",
          "height": 430
        }
      },
      "source": [
        "# what is the number of items soled at each shop ?\n",
        "items_ordered_grouped_by_shop =  sales.groupby('shop_id')['item_cnt_day'].sum()\n",
        "plt.figure(figsize=(20,8))\n",
        "plt.title(\"Number of items sold by each shop\")\n",
        "plt.xlabel(\"shop_id\")\n",
        "plt.ylabel(\"Items_mean\")\n",
        "sns.barplot(x = sales.shop_id.unique(),y =  items_ordered_grouped_by_shop )"
      ],
      "execution_count": 0,
      "outputs": [
        {
          "output_type": "execute_result",
          "data": {
            "text/plain": [
              "<matplotlib.axes._subplots.AxesSubplot at 0x7f19d7d96080>"
            ]
          },
          "metadata": {
            "tags": []
          },
          "execution_count": 11
        },
        {
          "output_type": "display_data",
          "data": {
            "image/png": "[encoded data removed]",
            "text/plain": [
              "<Figure size 1440x576 with 1 Axes>"
            ]
          },
          "metadata": {
            "tags": []
          }
        }
      ]
    },
    {
      "cell_type": "markdown",
      "metadata": {
        "id": "NuPOKmx8pyKq",
        "colab_type": "text"
      },
      "source": [
        "There is a significant difference between the shops in terms number of ordered items."
      ]
    },
    {
      "cell_type": "markdown",
      "metadata": {
        "id": "3WYw31Ykp2nv",
        "colab_type": "text"
      },
      "source": [
        "4) item_id"
      ]
    },
    {
      "cell_type": "code",
      "metadata": {
        "id": "uPMoKm4QpzTl",
        "colab_type": "code",
        "outputId": "9dd8a271-bcbb-4599-de33-d620489ef10a",
        "colab": {
          "base_uri": "https://localhost:8080/",
          "height": 221
        }
      },
      "source": [
        "#number of unique items\n",
        "print(sales.item_id.nunique())\n",
        "best_5_items = sales.groupby(\"item_id\")['item_cnt_day'].sum().sort_values(ascending = False ).head(5)\n",
        "items_info = items[items.item_id.isin(best_5_items.index)].sort_values(by = 'item_id')\n",
        "items_info"
      ],
      "execution_count": 0,
      "outputs": [
        {
          "output_type": "stream",
          "text": [
            "21807\n"
          ],
          "name": "stdout"
        },
        {
          "output_type": "execute_result",
          "data": {
            "text/html": [
              "<div>\n",
              "<style scoped>\n",
              "    .dataframe tbody tr th:only-of-type {\n",
              "        vertical-align: middle;\n",
              "    }\n",
              "\n",
              "    .dataframe tbody tr th {\n",
              "        vertical-align: top;\n",
              "    }\n",
              "\n",
              "    .dataframe thead th {\n",
              "        text-align: right;\n",
              "    }\n",
              "</style>\n",
              "<table border=\"1\" class=\"dataframe\">\n",
              "  <thead>\n",
              "    <tr style=\"text-align: right;\">\n",
              "      <th></th>\n",
              "      <th>item_id</th>\n",
              "      <th>item_category_id</th>\n",
              "      <th>item_name_translated</th>\n",
              "    </tr>\n",
              "  </thead>\n",
              "  <tbody>\n",
              "    <tr>\n",
              "      <th>2808</th>\n",
              "      <td>2808</td>\n",
              "      <td>30</td>\n",
              "      <td>Diablo III [PC, Jewel, Russian version]</td>\n",
              "    </tr>\n",
              "    <tr>\n",
              "      <th>3732</th>\n",
              "      <td>3732</td>\n",
              "      <td>19</td>\n",
              "      <td>Grand Theft Auto V [PS3, Russian subtitles]</td>\n",
              "    </tr>\n",
              "    <tr>\n",
              "      <th>5822</th>\n",
              "      <td>5822</td>\n",
              "      <td>35</td>\n",
              "      <td>Playstation Store replenishment of wallet: Pay...</td>\n",
              "    </tr>\n",
              "    <tr>\n",
              "      <th>17717</th>\n",
              "      <td>17717</td>\n",
              "      <td>79</td>\n",
              "      <td>Acceptance of funds for 1C-Online</td>\n",
              "    </tr>\n",
              "    <tr>\n",
              "      <th>20949</th>\n",
              "      <td>20949</td>\n",
              "      <td>71</td>\n",
              "      <td>Corporate package T-shirt 1C Interest white (3...</td>\n",
              "    </tr>\n",
              "  </tbody>\n",
              "</table>\n",
              "</div>"
            ],
            "text/plain": [
              "       item_id  ...                               item_name_translated\n",
              "2808      2808  ...            Diablo III [PC, Jewel, Russian version]\n",
              "3732      3732  ...        Grand Theft Auto V [PS3, Russian subtitles]\n",
              "5822      5822  ...  Playstation Store replenishment of wallet: Pay...\n",
              "17717    17717  ...                  Acceptance of funds for 1C-Online\n",
              "20949    20949  ...  Corporate package T-shirt 1C Interest white (3...\n",
              "\n",
              "[5 rows x 3 columns]"
            ]
          },
          "metadata": {
            "tags": []
          },
          "execution_count": 12
        }
      ]
    },
    {
      "cell_type": "code",
      "metadata": {
        "id": "TAzXgPbFpzb0",
        "colab_type": "code",
        "outputId": "cd43b0c6-d480-40a1-ab43-0c3134bb496e",
        "colab": {
          "base_uri": "https://localhost:8080/",
          "height": 414
        }
      },
      "source": [
        "plt.figure(figsize = (20,8))\n",
        "plt.title(\"Most 5 items ordered\")\n",
        "plt.xlabel(\"Item Name\")\n",
        "plt.ylabel(\"Number of ordered items\")\n",
        "sns.barplot(x = items_info.item_name_translated.values , y = best_5_items.values)"
      ],
      "execution_count": 0,
      "outputs": [
        {
          "output_type": "execute_result",
          "data": {
            "text/plain": [
              "<matplotlib.axes._subplots.AxesSubplot at 0x7f19d79d7898>"
            ]
          },
          "metadata": {
            "tags": []
          },
          "execution_count": 13
        },
        {
          "output_type": "display_data",
          "data": {
            "image/png": "[encoded data removed]",
            "text/plain": [
              "<Figure size 1440x576 with 1 Axes>"
            ]
          },
          "metadata": {
            "tags": []
          }
        }
      ]
    },
    {
      "cell_type": "markdown",
      "metadata": {
        "id": "-IFDxUtRqCz6",
        "colab_type": "text"
      },
      "source": [
        "This is a big number compared to the other !"
      ]
    },
    {
      "cell_type": "markdown",
      "metadata": {
        "id": "JHO6LEgUqMwK",
        "colab_type": "text"
      },
      "source": [
        "5) item_price"
      ]
    },
    {
      "cell_type": "code",
      "metadata": {
        "id": "Mpq9bMyrpzfI",
        "colab_type": "code",
        "outputId": "0f573b7d-ca4b-4918-d5d9-899609724345",
        "colab": {
          "base_uri": "https://localhost:8080/",
          "height": 589
        }
      },
      "source": [
        "print(sales.item_price.describe().round(2))\n",
        "plt.figure(figsize = (20 , 8))\n",
        "sns.boxplot(sales.item_price)"
      ],
      "execution_count": 0,
      "outputs": [
        {
          "output_type": "stream",
          "text": [
            "count    2935849.00\n",
            "mean         890.85\n",
            "std         1729.80\n",
            "min           -1.00\n",
            "25%          249.00\n",
            "50%          399.00\n",
            "75%          999.00\n",
            "max       307980.00\n",
            "Name: item_price, dtype: float64\n"
          ],
          "name": "stdout"
        },
        {
          "output_type": "execute_result",
          "data": {
            "text/plain": [
              "<matplotlib.axes._subplots.AxesSubplot at 0x7f19d794bba8>"
            ]
          },
          "metadata": {
            "tags": []
          },
          "execution_count": 14
        },
        {
          "output_type": "display_data",
          "data": {
            "image/png": "[encoded data removed]",
            "text/plain": [
              "<Figure size 1440x576 with 1 Axes>"
            ]
          },
          "metadata": {
            "tags": []
          }
        }
      ]
    },
    {
      "cell_type": "markdown",
      "metadata": {
        "id": "830ld-2zUk-D",
        "colab_type": "text"
      },
      "source": [
        "removing high and negative prices "
      ]
    },
    {
      "cell_type": "code",
      "metadata": {
        "id": "kK3GJGoFV2ud",
        "colab_type": "code",
        "outputId": "4d8c6e73-054d-42a3-cbd9-c8aad9cfbd3b",
        "colab": {
          "base_uri": "https://localhost:8080/",
          "height": 34
        }
      },
      "source": [
        "len(sales[sales.item_price > 25000] )/len(sales)"
      ],
      "execution_count": 0,
      "outputs": [
        {
          "output_type": "execute_result",
          "data": {
            "text/plain": [
              "0.0007265956490103583"
            ]
          },
          "metadata": {
            "tags": []
          },
          "execution_count": 21
        }
      ]
    },
    {
      "cell_type": "code",
      "metadata": {
        "id": "5_0somsIue48",
        "colab_type": "code",
        "colab": {}
      },
      "source": [
        "sales = sales[(sales.item_price > 0) & (sales.item_price <= 25000)]"
      ],
      "execution_count": 0,
      "outputs": []
    },
    {
      "cell_type": "code",
      "metadata": {
        "id": "qdUge4xBu4eo",
        "colab_type": "code",
        "outputId": "8bf00978-c663-481d-9fa7-5b2aa454fbc6",
        "colab": {
          "base_uri": "https://localhost:8080/",
          "height": 589
        }
      },
      "source": [
        "print(sales.item_price.describe().round(2))\n",
        "plt.figure(figsize = (20 , 8))\n",
        "sns.boxplot(sales.item_price)"
      ],
      "execution_count": 0,
      "outputs": [
        {
          "output_type": "stream",
          "text": [
            "count    2933475.00\n",
            "mean         868.77\n",
            "std         1536.25\n",
            "min            0.07\n",
            "25%          249.00\n",
            "50%          399.00\n",
            "75%          999.00\n",
            "max        24999.00\n",
            "Name: item_price, dtype: float64\n"
          ],
          "name": "stdout"
        },
        {
          "output_type": "execute_result",
          "data": {
            "text/plain": [
              "<matplotlib.axes._subplots.AxesSubplot at 0x7f19d7503438>"
            ]
          },
          "metadata": {
            "tags": []
          },
          "execution_count": 23
        },
        {
          "output_type": "display_data",
          "data": {
            "image/png": "[encoded data removed]",
            "text/plain": [
              "<Figure size 1440x576 with 1 Axes>"
            ]
          },
          "metadata": {
            "tags": []
          }
        }
      ]
    },
    {
      "cell_type": "markdown",
      "metadata": {
        "id": "71tDe5FyqPNj",
        "colab_type": "text"
      },
      "source": [
        "6) item_cnt_day (target variable):"
      ]
    },
    {
      "cell_type": "code",
      "metadata": {
        "id": "OK1CJ-VVpzmW",
        "colab_type": "code",
        "outputId": "2388a313-a254-4899-aea3-8208fa6fe120",
        "colab": {
          "base_uri": "https://localhost:8080/",
          "height": 589
        }
      },
      "source": [
        "print(sales.item_cnt_day.describe().round())\n",
        "plt.figure(figsize = (20 , 8))\n",
        "sns.boxplot(sales.item_cnt_day)"
      ],
      "execution_count": 0,
      "outputs": [
        {
          "output_type": "stream",
          "text": [
            "count    2933475.0\n",
            "mean           1.0\n",
            "std            3.0\n",
            "min          -22.0\n",
            "25%            1.0\n",
            "50%            1.0\n",
            "75%            1.0\n",
            "max         2169.0\n",
            "Name: item_cnt_day, dtype: float64\n"
          ],
          "name": "stdout"
        },
        {
          "output_type": "execute_result",
          "data": {
            "text/plain": [
              "<matplotlib.axes._subplots.AxesSubplot at 0x7f19d755cb70>"
            ]
          },
          "metadata": {
            "tags": []
          },
          "execution_count": 24
        },
        {
          "output_type": "display_data",
          "data": {
            "image/png": "[encoded data removed]",
            "text/plain": [
              "<Figure size 1440x576 with 1 Axes>"
            ]
          },
          "metadata": {
            "tags": []
          }
        }
      ]
    },
    {
      "cell_type": "markdown",
      "metadata": {
        "id": "439Jb6e5qU58",
        "colab_type": "text"
      },
      "source": [
        "# Time series forcasting"
      ]
    },
    {
      "cell_type": "markdown",
      "metadata": {
        "id": "BcBJMBMrqZy0",
        "colab_type": "text"
      },
      "source": [
        "# 1)Arima ( AutoRegressive Integrated Moving Average )"
      ]
    },
    {
      "cell_type": "code",
      "metadata": {
        "id": "2wD3dSsOpzqF",
        "colab_type": "code",
        "colab": {}
      },
      "source": [
        "ts=sales.groupby([\"date_block_num\"])[\"item_cnt_day\"].sum()\n",
        "ts.astype('float')\n",
        "plt.figure(figsize=(16,8))\n",
        "plt.title('Total Sales by month')\n",
        "plt.xlabel('Time')\n",
        "plt.ylabel('Sales')\n",
        "plt.plot(ts);"
      ],
      "execution_count": 0,
      "outputs": []
    },
    {
      "cell_type": "markdown",
      "metadata": {
        "id": "CMk60_U2pwMI",
        "colab_type": "text"
      },
      "source": [
        "There is a clear trend and seasonality in the data let's look in more details by making decomposition. It's an additive model as the frequency and amplitude is not changing over time."
      ]
    },
    {
      "cell_type": "code",
      "metadata": {
        "id": "-gI-RJnApq89",
        "colab_type": "code",
        "colab": {}
      },
      "source": [
        "decomp = sm.tsa.seasonal_decompose(ts.values , freq = 12 ,model = 'additive' )\n",
        "fig = decomp.plot()"
      ],
      "execution_count": 0,
      "outputs": []
    },
    {
      "cell_type": "markdown",
      "metadata": {
        "id": "AyvAhAVIpy25",
        "colab_type": "text"
      },
      "source": [
        "To use Arima the data must be stationary, i will make Augmented dicky fuller test to check stationarity there are other tests but this is the most popular."
      ]
    },
    {
      "cell_type": "code",
      "metadata": {
        "id": "i8Qb9DOdprIQ",
        "colab_type": "code",
        "colab": {}
      },
      "source": [
        "def ADF_test(ts) :\n",
        "    df_test = adfuller(ts , autolag = \"AIC\")\n",
        "    df_output = pd.Series(df_test[0:4] , index = ['Test Statistic','p-value','#Lags Used','Number of Observations Used'])\n",
        "    print(df_output)"
      ],
      "execution_count": 0,
      "outputs": []
    },
    {
      "cell_type": "code",
      "metadata": {
        "id": "L3BQbc5VprNA",
        "colab_type": "code",
        "colab": {}
      },
      "source": [
        "ADF_test(ts)"
      ],
      "execution_count": 0,
      "outputs": []
    },
    {
      "cell_type": "code",
      "metadata": {
        "id": "Xcb8k9zRprFm",
        "colab_type": "code",
        "colab": {}
      },
      "source": [
        "# create a differenced series\n",
        "def difference(dataset, interval=1):\n",
        "    diff = []\n",
        "    for i in range(interval, len(dataset)):\n",
        "        value = dataset[i] - dataset[i - interval]\n",
        "        diff.append(value)\n",
        "    return Series(diff)\n",
        "\n",
        "# invert the series to the original scale\n",
        "def inverse_difference(last_ob, value):\n",
        "    return value + last_ob"
      ],
      "execution_count": 0,
      "outputs": []
    },
    {
      "cell_type": "code",
      "metadata": {
        "id": "5VzqCE1EprEB",
        "colab_type": "code",
        "colab": {}
      },
      "source": [
        "stationary_ts = difference(ts)\n",
        "ADF_test(stationary_ts)"
      ],
      "execution_count": 0,
      "outputs": []
    },
    {
      "cell_type": "markdown",
      "metadata": {
        "id": "Dl34Klbx4Jp-",
        "colab_type": "text"
      },
      "source": [
        "The data is stationary now, only best parameter values left and arima has 3 parameters: (p, d, q). These three parameters account for seasonality, trend, and noise. plus another 3 parameters (P,D,Q) which are the same but for inserting the seasonaloity with us and using SARIMA."
      ]
    },
    {
      "cell_type": "code",
      "metadata": {
        "id": "NrJRhZgTprCE",
        "colab_type": "code",
        "colab": {}
      },
      "source": [
        "p = d = q = range(0, 2) # taking values 0 , 1 , 2 respectively \n",
        "pdq = list(itertools.product(p, d, q)) #combine them in a list\n",
        "seasonal_pdq = [(x[0], x[1], x[2], 12) for x in pdq] #seasonal parameters will take all combinations of (0,1,2) \n",
        "# 12 is the time spane of repeating the seasonal pattern it could be differnt but i just choosed to make it 12 for simplicity"
      ],
      "execution_count": 0,
      "outputs": []
    },
    {
      "cell_type": "code",
      "metadata": {
        "id": "LkAWVTW6pq6r",
        "colab_type": "code",
        "colab": {}
      },
      "source": [
        "# I will use grid search to find the optimal set of parameters\n",
        "aic = []\n",
        "for param in pdq:\n",
        "    for param_seasonal in seasonal_pdq:\n",
        "        try:\n",
        "            mod = sm.tsa.statespace.SARIMAX(stationary_ts,\n",
        "                                            order=param,\n",
        "                                            seasonal_order=param_seasonal,\n",
        "                                            )\n",
        "            results = mod.fit()\n",
        "            aic.append(results.aic)\n",
        "            print('ARIMA{}x{}12 - AIC:{}'.format(param, param_seasonal, results.aic))\n",
        "        except:\n",
        "            continue\n",
        "print(min(aic))"
      ],
      "execution_count": 0,
      "outputs": []
    },
    {
      "cell_type": "markdown",
      "metadata": {
        "id": "f5MUHMvc4QGH",
        "colab_type": "text"
      },
      "source": [
        "(0, 1, 1)x(1, 1, 0, 12)12 are best paramaters with the least aic score 432.9178807849364 Let's do it ..."
      ]
    },
    {
      "cell_type": "code",
      "metadata": {
        "id": "r9thnvHupq4k",
        "colab_type": "code",
        "colab": {}
      },
      "source": [
        "stationary_train = stationary_ts[0:27]\n",
        "stationary_test = stationary_ts[27:33]\n",
        "print('train: \\n', stationary_train , '\\n\\n')\n",
        "print('test: \\n', stationary_test)"
      ],
      "execution_count": 0,
      "outputs": []
    },
    {
      "cell_type": "code",
      "metadata": {
        "id": "Wrcw4OWupq1S",
        "colab_type": "code",
        "colab": {}
      },
      "source": [
        "# Fit the model on the stationary_train set\n",
        "mod = sm.tsa.statespace.SARIMAX(stationary_train,\n",
        "                                order=(1, 1, 1),\n",
        "                                seasonal_order=(1, 1, 0, 12))\n",
        "results = mod.fit()\n"
      ],
      "execution_count": 0,
      "outputs": []
    },
    {
      "cell_type": "markdown",
      "metadata": {
        "id": "paOJYQin4Ufq",
        "colab_type": "text"
      },
      "source": [
        "We should always run model diagnostics to investigate any unusual behavior"
      ]
    },
    {
      "cell_type": "code",
      "metadata": {
        "id": "r3SunQMapqyC",
        "colab_type": "code",
        "colab": {}
      },
      "source": [
        "fig = results.plot_diagnostics(figsize=(15, 12))\n",
        "diagnostigs = fig"
      ],
      "execution_count": 0,
      "outputs": []
    },
    {
      "cell_type": "markdown",
      "metadata": {
        "id": "2AXc6UWs4Y-U",
        "colab_type": "text"
      },
      "source": [
        "diagnostics is not bad so we are good and continue"
      ]
    },
    {
      "cell_type": "code",
      "metadata": {
        "id": "5JDYaR7Jpqvl",
        "colab_type": "code",
        "colab": {}
      },
      "source": [
        "yhat = results.predict(28, 33).tolist() # Predicting based on the stationary data\n",
        "test = ts[28:34].tolist() # cinverting ti list to loop through it\n",
        "yhat = [inverse_difference(test[i], yhat[i]) for i in range(len(yhat))]\n",
        "yhat = pd.Series(yhat , index = ts[28:34].index) # converting it from list to a series to get the index "
      ],
      "execution_count": 0,
      "outputs": []
    },
    {
      "cell_type": "code",
      "metadata": {
        "id": "h1Z2h2wIpqs6",
        "colab_type": "code",
        "colab": {}
      },
      "source": [
        "plt.figure(figsize = (12,6))\n",
        "plt.plot(ts[0:28] , label='Train')\n",
        "plt.plot(ts[28:34] , label='Test')\n",
        "plt.plot(yhat , label='six-months ahead Forecast')\n",
        "plt.xlabel('Date block num')\n",
        "plt.ylabel('number of items sold')\n",
        "plt.legend()\n",
        "plt.show()\n",
        "rmse = sqrt(mean_squared_error(ts[28:34],yhat))\n",
        "print('RMSE: %.1f' % rmse , \"\\n\")\n",
        "print(ts.describe()[1:3].round())"
      ],
      "execution_count": 0,
      "outputs": []
    },
    {
      "cell_type": "markdown",
      "metadata": {
        "id": "XxsZN3IZqiB_",
        "colab_type": "text"
      },
      "source": [
        "# Machine Learning"
      ]
    },
    {
      "cell_type": "markdown",
      "metadata": {
        "id": "f9PNzXqysFVf",
        "colab_type": "text"
      },
      "source": [
        "# Starting with a base model"
      ]
    },
    {
      "cell_type": "code",
      "metadata": {
        "id": "QuUmkd8epzvE",
        "colab_type": "code",
        "outputId": "f698b565-37e4-4e91-96e5-1605f97a9098",
        "colab": {
          "base_uri": "https://localhost:8080/",
          "height": 419
        }
      },
      "source": [
        "# Getting ready for the base model\n",
        "sales.date = pd.to_datetime(sales.date)\n",
        "sales['year'] = sales.date.dt.year\n",
        "\n",
        "base = sales.copy() # leaving the original dataset untouched\n",
        "base = pd.DataFrame(base.groupby(['date_block_num','shop_id','year','item_id'])['item_cnt_day'].sum())\n",
        "base = base.reset_index() \n",
        "base = base.rename(columns = {'item_cnt_day':'item_cnt_month'})\n",
        "base"
      ],
      "execution_count": 0,
      "outputs": [
        {
          "output_type": "execute_result",
          "data": {
            "text/html": [
              "<div>\n",
              "<style scoped>\n",
              "    .dataframe tbody tr th:only-of-type {\n",
              "        vertical-align: middle;\n",
              "    }\n",
              "\n",
              "    .dataframe tbody tr th {\n",
              "        vertical-align: top;\n",
              "    }\n",
              "\n",
              "    .dataframe thead th {\n",
              "        text-align: right;\n",
              "    }\n",
              "</style>\n",
              "<table border=\"1\" class=\"dataframe\">\n",
              "  <thead>\n",
              "    <tr style=\"text-align: right;\">\n",
              "      <th></th>\n",
              "      <th>date_block_num</th>\n",
              "      <th>shop_id</th>\n",
              "      <th>year</th>\n",
              "      <th>item_id</th>\n",
              "      <th>item_cnt_month</th>\n",
              "    </tr>\n",
              "  </thead>\n",
              "  <tbody>\n",
              "    <tr>\n",
              "      <th>0</th>\n",
              "      <td>0</td>\n",
              "      <td>0</td>\n",
              "      <td>2013</td>\n",
              "      <td>32</td>\n",
              "      <td>6.0</td>\n",
              "    </tr>\n",
              "    <tr>\n",
              "      <th>1</th>\n",
              "      <td>0</td>\n",
              "      <td>0</td>\n",
              "      <td>2013</td>\n",
              "      <td>33</td>\n",
              "      <td>3.0</td>\n",
              "    </tr>\n",
              "    <tr>\n",
              "      <th>2</th>\n",
              "      <td>0</td>\n",
              "      <td>0</td>\n",
              "      <td>2013</td>\n",
              "      <td>35</td>\n",
              "      <td>1.0</td>\n",
              "    </tr>\n",
              "    <tr>\n",
              "      <th>3</th>\n",
              "      <td>0</td>\n",
              "      <td>0</td>\n",
              "      <td>2013</td>\n",
              "      <td>43</td>\n",
              "      <td>1.0</td>\n",
              "    </tr>\n",
              "    <tr>\n",
              "      <th>4</th>\n",
              "      <td>0</td>\n",
              "      <td>0</td>\n",
              "      <td>2013</td>\n",
              "      <td>51</td>\n",
              "      <td>2.0</td>\n",
              "    </tr>\n",
              "    <tr>\n",
              "      <th>...</th>\n",
              "      <td>...</td>\n",
              "      <td>...</td>\n",
              "      <td>...</td>\n",
              "      <td>...</td>\n",
              "      <td>...</td>\n",
              "    </tr>\n",
              "    <tr>\n",
              "      <th>1608223</th>\n",
              "      <td>33</td>\n",
              "      <td>59</td>\n",
              "      <td>2015</td>\n",
              "      <td>22087</td>\n",
              "      <td>6.0</td>\n",
              "    </tr>\n",
              "    <tr>\n",
              "      <th>1608224</th>\n",
              "      <td>33</td>\n",
              "      <td>59</td>\n",
              "      <td>2015</td>\n",
              "      <td>22088</td>\n",
              "      <td>2.0</td>\n",
              "    </tr>\n",
              "    <tr>\n",
              "      <th>1608225</th>\n",
              "      <td>33</td>\n",
              "      <td>59</td>\n",
              "      <td>2015</td>\n",
              "      <td>22091</td>\n",
              "      <td>1.0</td>\n",
              "    </tr>\n",
              "    <tr>\n",
              "      <th>1608226</th>\n",
              "      <td>33</td>\n",
              "      <td>59</td>\n",
              "      <td>2015</td>\n",
              "      <td>22100</td>\n",
              "      <td>1.0</td>\n",
              "    </tr>\n",
              "    <tr>\n",
              "      <th>1608227</th>\n",
              "      <td>33</td>\n",
              "      <td>59</td>\n",
              "      <td>2015</td>\n",
              "      <td>22102</td>\n",
              "      <td>1.0</td>\n",
              "    </tr>\n",
              "  </tbody>\n",
              "</table>\n",
              "<p>1608228 rows × 5 columns</p>\n",
              "</div>"
            ],
            "text/plain": [
              "         date_block_num  shop_id  year  item_id  item_cnt_month\n",
              "0                     0        0  2013       32             6.0\n",
              "1                     0        0  2013       33             3.0\n",
              "2                     0        0  2013       35             1.0\n",
              "3                     0        0  2013       43             1.0\n",
              "4                     0        0  2013       51             2.0\n",
              "...                 ...      ...   ...      ...             ...\n",
              "1608223              33       59  2015    22087             6.0\n",
              "1608224              33       59  2015    22088             2.0\n",
              "1608225              33       59  2015    22091             1.0\n",
              "1608226              33       59  2015    22100             1.0\n",
              "1608227              33       59  2015    22102             1.0\n",
              "\n",
              "[1608228 rows x 5 columns]"
            ]
          },
          "metadata": {
            "tags": []
          },
          "execution_count": 25
        }
      ]
    },
    {
      "cell_type": "code",
      "metadata": {
        "id": "Gzkc8-Ltp0Mr",
        "colab_type": "code",
        "colab": {}
      },
      "source": [
        "def get_data_splits(df , split_fraction = 0.11) :\n",
        "    \"\"\"\n",
        "    Splits a dataframe into 90% train, 10% validation but first order by the date_block_num. \n",
        "    \n",
        "    \"\"\"\n",
        "    df = df.sort_values(by = 'date_block_num') #sort values by the date_clock_num so that the test set is the last period of time\n",
        "    num_of_rows = int(len(df) * split_fraction)\n",
        "    train = df[ :-num_of_rows ]\n",
        "    validation = df[-num_of_rows : ]\n",
        "    \n",
        "    return train, validation"
      ],
      "execution_count": 0,
      "outputs": []
    },
    {
      "cell_type": "code",
      "metadata": {
        "id": "FE61W5dHp0QF",
        "colab_type": "code",
        "colab": {}
      },
      "source": [
        "train, validation = get_data_splits(base)"
      ],
      "execution_count": 0,
      "outputs": []
    },
    {
      "cell_type": "code",
      "metadata": {
        "id": "QZWzkR4qqckq",
        "colab_type": "code",
        "outputId": "dfa4133d-2357-4c7d-ab55-1b21e61dc1fe",
        "colab": {
          "base_uri": "https://localhost:8080/",
          "height": 419
        }
      },
      "source": [
        "validation"
      ],
      "execution_count": 0,
      "outputs": [
        {
          "output_type": "execute_result",
          "data": {
            "text/html": [
              "<div>\n",
              "<style scoped>\n",
              "    .dataframe tbody tr th:only-of-type {\n",
              "        vertical-align: middle;\n",
              "    }\n",
              "\n",
              "    .dataframe tbody tr th {\n",
              "        vertical-align: top;\n",
              "    }\n",
              "\n",
              "    .dataframe thead th {\n",
              "        text-align: right;\n",
              "    }\n",
              "</style>\n",
              "<table border=\"1\" class=\"dataframe\">\n",
              "  <thead>\n",
              "    <tr style=\"text-align: right;\">\n",
              "      <th></th>\n",
              "      <th>date_block_num</th>\n",
              "      <th>shop_id</th>\n",
              "      <th>year</th>\n",
              "      <th>item_id</th>\n",
              "      <th>item_cnt_month</th>\n",
              "    </tr>\n",
              "  </thead>\n",
              "  <tbody>\n",
              "    <tr>\n",
              "      <th>1427274</th>\n",
              "      <td>28</td>\n",
              "      <td>25</td>\n",
              "      <td>2015</td>\n",
              "      <td>12286</td>\n",
              "      <td>1.0</td>\n",
              "    </tr>\n",
              "    <tr>\n",
              "      <th>1427273</th>\n",
              "      <td>28</td>\n",
              "      <td>25</td>\n",
              "      <td>2015</td>\n",
              "      <td>12241</td>\n",
              "      <td>1.0</td>\n",
              "    </tr>\n",
              "    <tr>\n",
              "      <th>1427272</th>\n",
              "      <td>28</td>\n",
              "      <td>25</td>\n",
              "      <td>2015</td>\n",
              "      <td>12232</td>\n",
              "      <td>1.0</td>\n",
              "    </tr>\n",
              "    <tr>\n",
              "      <th>1427271</th>\n",
              "      <td>28</td>\n",
              "      <td>25</td>\n",
              "      <td>2015</td>\n",
              "      <td>12231</td>\n",
              "      <td>1.0</td>\n",
              "    </tr>\n",
              "    <tr>\n",
              "      <th>1427270</th>\n",
              "      <td>28</td>\n",
              "      <td>25</td>\n",
              "      <td>2015</td>\n",
              "      <td>12212</td>\n",
              "      <td>1.0</td>\n",
              "    </tr>\n",
              "    <tr>\n",
              "      <th>...</th>\n",
              "      <td>...</td>\n",
              "      <td>...</td>\n",
              "      <td>...</td>\n",
              "      <td>...</td>\n",
              "      <td>...</td>\n",
              "    </tr>\n",
              "    <tr>\n",
              "      <th>1588096</th>\n",
              "      <td>33</td>\n",
              "      <td>24</td>\n",
              "      <td>2015</td>\n",
              "      <td>9355</td>\n",
              "      <td>3.0</td>\n",
              "    </tr>\n",
              "    <tr>\n",
              "      <th>1588095</th>\n",
              "      <td>33</td>\n",
              "      <td>24</td>\n",
              "      <td>2015</td>\n",
              "      <td>9337</td>\n",
              "      <td>1.0</td>\n",
              "    </tr>\n",
              "    <tr>\n",
              "      <th>1588094</th>\n",
              "      <td>33</td>\n",
              "      <td>24</td>\n",
              "      <td>2015</td>\n",
              "      <td>8743</td>\n",
              "      <td>1.0</td>\n",
              "    </tr>\n",
              "    <tr>\n",
              "      <th>1588092</th>\n",
              "      <td>33</td>\n",
              "      <td>24</td>\n",
              "      <td>2015</td>\n",
              "      <td>8737</td>\n",
              "      <td>2.0</td>\n",
              "    </tr>\n",
              "    <tr>\n",
              "      <th>1609123</th>\n",
              "      <td>33</td>\n",
              "      <td>59</td>\n",
              "      <td>2015</td>\n",
              "      <td>22102</td>\n",
              "      <td>1.0</td>\n",
              "    </tr>\n",
              "  </tbody>\n",
              "</table>\n",
              "<p>160912 rows × 5 columns</p>\n",
              "</div>"
            ],
            "text/plain": [
              "         date_block_num  shop_id  year  item_id  item_cnt_month\n",
              "1427274              28       25  2015    12286             1.0\n",
              "1427273              28       25  2015    12241             1.0\n",
              "1427272              28       25  2015    12232             1.0\n",
              "1427271              28       25  2015    12231             1.0\n",
              "1427270              28       25  2015    12212             1.0\n",
              "...                 ...      ...   ...      ...             ...\n",
              "1588096              33       24  2015     9355             3.0\n",
              "1588095              33       24  2015     9337             1.0\n",
              "1588094              33       24  2015     8743             1.0\n",
              "1588092              33       24  2015     8737             2.0\n",
              "1609123              33       59  2015    22102             1.0\n",
              "\n",
              "[160912 rows x 5 columns]"
            ]
          },
          "metadata": {
            "tags": []
          },
          "execution_count": 16
        }
      ]
    },
    {
      "cell_type": "code",
      "metadata": {
        "id": "AFhrAm7Fp0S0",
        "colab_type": "code",
        "outputId": "94d9ae07-ef36-4e48-d251-ddffe80ccabf",
        "colab": {
          "base_uri": "https://localhost:8080/",
          "height": 71
        }
      },
      "source": [
        "\n",
        "X_train = train.drop('item_cnt_month' , axis = 1)\n",
        "y_train = train.item_cnt_month\n",
        "\n",
        "X_val = validation.drop('item_cnt_month' , axis = 1)\n",
        "y_val = validation.item_cnt_month\n",
        "\n",
        "\n",
        "models = []\n",
        "models.append(('XGB' , XGBRegressor(n_jobs= -1 , random_state= 1 ,random_state = random_state)) )\n",
        "models.append(('RF' ,RandomForestRegressor(verbose = False ,random_state = 1) ))\n",
        "models.append(('LR' ,LinearRegression() ))\n",
        "for name, model in models :\n",
        "    model.fit(X_train, y_train)\n",
        "    rmse = sqrt( mean_squared_error(model.predict(X_val), y_val ) ) \n",
        "    print(name ,\": \",rmse )\n"
      ],
      "execution_count": 0,
      "outputs": [
        {
          "output_type": "stream",
          "text": [
            "[12:16:11] WARNING: /workspace/src/objective/regression_obj.cu:152: reg:linear is now deprecated in favor of reg:squarederror.\n",
            "XGB :  10.595643104027445\n"
          ],
          "name": "stdout"
        }
      ]
    },
    {
      "cell_type": "code",
      "metadata": {
        "id": "fWExkWPzp0Vb",
        "colab_type": "code",
        "colab": {}
      },
      "source": [
        "# These are the values of the base model and will be improved after every part in the notebook\n",
        "XGB :  7.175706496337836\n",
        "RF :  8.50106502627325\n",
        "LR :  8.036103975520204"
      ],
      "execution_count": 0,
      "outputs": []
    },
    {
      "cell_type": "code",
      "metadata": {
        "id": "bbUcLCTAp0Yv",
        "colab_type": "code",
        "outputId": "266bde85-f2b3-4784-c9f7-088c7126ae89",
        "colab": {
          "base_uri": "https://localhost:8080/",
          "height": 419
        }
      },
      "source": [
        "# i want to insert in the first position the date_block_num to match the test with the train\n",
        "test.insert(0 , 'date_block_num' , [34 for i in range(0, len(test) )])\n",
        "test = test.drop('ID' , axis= 1)\n",
        "test['year'] = 2015\n",
        "test"
      ],
      "execution_count": 0,
      "outputs": [
        {
          "output_type": "execute_result",
          "data": {
            "text/html": [
              "<div>\n",
              "<style scoped>\n",
              "    .dataframe tbody tr th:only-of-type {\n",
              "        vertical-align: middle;\n",
              "    }\n",
              "\n",
              "    .dataframe tbody tr th {\n",
              "        vertical-align: top;\n",
              "    }\n",
              "\n",
              "    .dataframe thead th {\n",
              "        text-align: right;\n",
              "    }\n",
              "</style>\n",
              "<table border=\"1\" class=\"dataframe\">\n",
              "  <thead>\n",
              "    <tr style=\"text-align: right;\">\n",
              "      <th></th>\n",
              "      <th>date_block_num</th>\n",
              "      <th>shop_id</th>\n",
              "      <th>item_id</th>\n",
              "      <th>year</th>\n",
              "    </tr>\n",
              "  </thead>\n",
              "  <tbody>\n",
              "    <tr>\n",
              "      <th>0</th>\n",
              "      <td>34</td>\n",
              "      <td>5</td>\n",
              "      <td>5037</td>\n",
              "      <td>2015</td>\n",
              "    </tr>\n",
              "    <tr>\n",
              "      <th>1</th>\n",
              "      <td>34</td>\n",
              "      <td>5</td>\n",
              "      <td>5320</td>\n",
              "      <td>2015</td>\n",
              "    </tr>\n",
              "    <tr>\n",
              "      <th>2</th>\n",
              "      <td>34</td>\n",
              "      <td>5</td>\n",
              "      <td>5233</td>\n",
              "      <td>2015</td>\n",
              "    </tr>\n",
              "    <tr>\n",
              "      <th>3</th>\n",
              "      <td>34</td>\n",
              "      <td>5</td>\n",
              "      <td>5232</td>\n",
              "      <td>2015</td>\n",
              "    </tr>\n",
              "    <tr>\n",
              "      <th>4</th>\n",
              "      <td>34</td>\n",
              "      <td>5</td>\n",
              "      <td>5268</td>\n",
              "      <td>2015</td>\n",
              "    </tr>\n",
              "    <tr>\n",
              "      <th>...</th>\n",
              "      <td>...</td>\n",
              "      <td>...</td>\n",
              "      <td>...</td>\n",
              "      <td>...</td>\n",
              "    </tr>\n",
              "    <tr>\n",
              "      <th>214195</th>\n",
              "      <td>34</td>\n",
              "      <td>45</td>\n",
              "      <td>18454</td>\n",
              "      <td>2015</td>\n",
              "    </tr>\n",
              "    <tr>\n",
              "      <th>214196</th>\n",
              "      <td>34</td>\n",
              "      <td>45</td>\n",
              "      <td>16188</td>\n",
              "      <td>2015</td>\n",
              "    </tr>\n",
              "    <tr>\n",
              "      <th>214197</th>\n",
              "      <td>34</td>\n",
              "      <td>45</td>\n",
              "      <td>15757</td>\n",
              "      <td>2015</td>\n",
              "    </tr>\n",
              "    <tr>\n",
              "      <th>214198</th>\n",
              "      <td>34</td>\n",
              "      <td>45</td>\n",
              "      <td>19648</td>\n",
              "      <td>2015</td>\n",
              "    </tr>\n",
              "    <tr>\n",
              "      <th>214199</th>\n",
              "      <td>34</td>\n",
              "      <td>45</td>\n",
              "      <td>969</td>\n",
              "      <td>2015</td>\n",
              "    </tr>\n",
              "  </tbody>\n",
              "</table>\n",
              "<p>214200 rows × 4 columns</p>\n",
              "</div>"
            ],
            "text/plain": [
              "        date_block_num  shop_id  item_id  year\n",
              "0                   34        5     5037  2015\n",
              "1                   34        5     5320  2015\n",
              "2                   34        5     5233  2015\n",
              "3                   34        5     5232  2015\n",
              "4                   34        5     5268  2015\n",
              "...                ...      ...      ...   ...\n",
              "214195              34       45    18454  2015\n",
              "214196              34       45    16188  2015\n",
              "214197              34       45    15757  2015\n",
              "214198              34       45    19648  2015\n",
              "214199              34       45      969  2015\n",
              "\n",
              "[214200 rows x 4 columns]"
            ]
          },
          "metadata": {
            "tags": []
          },
          "execution_count": 28
        }
      ]
    },
    {
      "cell_type": "code",
      "metadata": {
        "id": "xweIO0lop0di",
        "colab_type": "code",
        "colab": {}
      },
      "source": [
        "# submitting to the leaderboard\n",
        "xgb = XGBRegressor(verbose = False , ,random_state = random_state)\n",
        "xgb.fit(base.drop('item_cnt_month',axis = 1), base.item_cnt_month)\n",
        "preds_xgb = xgb.predict(test)\n",
        "sub = sample_submission\n",
        "sub.item_cnt_month = preds_xgb\n",
        "sub.to_csv('sub.csv' , index = False)"
      ],
      "execution_count": 0,
      "outputs": []
    },
    {
      "cell_type": "markdown",
      "metadata": {
        "id": "KeQ5ukf3rBbn",
        "colab_type": "text"
      },
      "source": [
        "I got about 6 RMSE with the base model"
      ]
    },
    {
      "cell_type": "markdown",
      "metadata": {
        "id": "q2BtWNBTrH7r",
        "colab_type": "text"
      },
      "source": [
        "# Feature Engineering"
      ]
    },
    {
      "cell_type": "code",
      "metadata": {
        "id": "yI96BZVerFk1",
        "colab_type": "code",
        "colab": {}
      },
      "source": [
        "sales1 = base.copy() # Continue on the base model"
      ],
      "execution_count": 0,
      "outputs": []
    },
    {
      "cell_type": "code",
      "metadata": {
        "id": "CI4q45NNrFzz",
        "colab_type": "code",
        "colab": {}
      },
      "source": [
        "# what is the portion of data that has target variable value with more than 20\n",
        "round((len(base[base.item_cnt_month > 20]) / len(base)),3)\n"
      ],
      "execution_count": 0,
      "outputs": []
    },
    {
      "cell_type": "markdown",
      "metadata": {
        "id": "SF1nqCURrTVg",
        "colab_type": "text"
      },
      "source": [
        "item_cnt_day has natural ouliers with values more than 20 and although they represent the real life but they are not a lot and make a lot of niose to the model so i will trim any value more than 20 and we will lose a small fraction of the data anyways\n",
        "\n"
      ]
    },
    {
      "cell_type": "code",
      "metadata": {
        "id": "sXaSi_dArF9y",
        "colab_type": "code",
        "outputId": "df59ad04-46a8-4355-c7f0-cce360fcfcca",
        "colab": {
          "base_uri": "https://localhost:8080/",
          "height": 572
        }
      },
      "source": [
        "sales1 = sales1[sales1.item_cnt_month <= 20]\n",
        "print(sales1.item_cnt_month.describe().round())\n",
        "plt.figure(figsize = (20 , 8))\n",
        "sns.boxplot(sales1.item_cnt_month)\n",
        "plt.show()"
      ],
      "execution_count": 0,
      "outputs": [
        {
          "output_type": "stream",
          "text": [
            "count    1596797.0\n",
            "mean           2.0\n",
            "std            2.0\n",
            "min          -22.0\n",
            "25%            1.0\n",
            "50%            1.0\n",
            "75%            2.0\n",
            "max           20.0\n",
            "Name: item_cnt_month, dtype: float64\n"
          ],
          "name": "stdout"
        },
        {
          "output_type": "display_data",
          "data": {
            "image/png": "[encoded data removed]",
            "text/plain": [
              "<Figure size 1440x576 with 1 Axes>"
            ]
          },
          "metadata": {
            "tags": []
          }
        }
      ]
    },
    {
      "cell_type": "code",
      "metadata": {
        "id": "7zq3IXAdrLMg",
        "colab_type": "code",
        "outputId": "4e78ea22-a31c-4fc6-9736-03d573b42066",
        "colab": {
          "base_uri": "https://localhost:8080/",
          "height": 51
        }
      },
      "source": [
        "# how many value in the target variable less than zero\n",
        "print(len(sales1[sales1.item_cnt_month < 0 ]))\n",
        "print(len(sales1[sales1.item_cnt_month < 0 ]) / len(sales1))"
      ],
      "execution_count": 0,
      "outputs": [
        {
          "output_type": "stream",
          "text": [
            "915\n",
            "0.000572767443272549\n"
          ],
          "name": "stdout"
        }
      ]
    },
    {
      "cell_type": "markdown",
      "metadata": {
        "id": "nQxXw2JzrUCs",
        "colab_type": "text"
      },
      "source": [
        "I will remove the negative values as they will cause noise on the data"
      ]
    },
    {
      "cell_type": "code",
      "metadata": {
        "id": "hFnPFz_ArXVn",
        "colab_type": "code",
        "colab": {}
      },
      "source": [
        "sales1 = sales1[sales1.item_cnt_month > 0]"
      ],
      "execution_count": 0,
      "outputs": []
    },
    {
      "cell_type": "markdown",
      "metadata": {
        "id": "aA4tjnZ8rjXP",
        "colab_type": "text"
      },
      "source": [
        "Testing the model performance after trimming all values greater than 20 and less than 0"
      ]
    },
    {
      "cell_type": "code",
      "metadata": {
        "id": "gPIqVMSgrF2x",
        "colab_type": "code",
        "outputId": "45b8aa04-bd6d-4708-d623-5ff330ee7d93",
        "colab": {
          "base_uri": "https://localhost:8080/",
          "height": 88
        }
      },
      "source": [
        "# Validating after trimming the target variabel\n",
        "train, validation = get_data_splits(sales1)\n",
        "X_train = train.drop('item_cnt_month' , axis = 1)\n",
        "y_train = train.item_cnt_month\n",
        "\n",
        "X_val = validation.drop('item_cnt_month' , axis = 1)\n",
        "y_val = validation.item_cnt_month\n",
        "\n",
        "\n",
        "models = []\n",
        "models.append(('XGB' , XGBRegressor(n_jobs= -1 , random_state = random_state)) )\n",
        "models.append(('tree' ,DecisionTreeRegressor( random_state = random_state) ))\n",
        "for name, model in models :\n",
        "    model.fit(X_train, y_train)\n",
        "    rmse = sqrt( mean_squared_error(model.predict(X_val), y_val ) ) \n",
        "    print(name ,\": \",rmse )"
      ],
      "execution_count": 0,
      "outputs": [
        {
          "output_type": "stream",
          "text": [
            "[22:05:08] WARNING: /workspace/src/objective/regression_obj.cu:152: reg:linear is now deprecated in favor of reg:squarederror.\n",
            "XGB :  1.8107339608258164\n",
            "tree :  2.200290557105213\n"
          ],
          "name": "stdout"
        }
      ]
    },
    {
      "cell_type": "code",
      "metadata": {
        "id": "lFf0A-E_rgN2",
        "colab_type": "code",
        "colab": {}
      },
      "source": [
        "XGB :  1.8107339608258164\n",
        "tree :  2.200290557105213"
      ],
      "execution_count": 0,
      "outputs": []
    },
    {
      "cell_type": "markdown",
      "metadata": {
        "id": "HAZXlpr6rlVY",
        "colab_type": "text"
      },
      "source": [
        "Trimming the target variable improved the performance a lot on the validation data"
      ]
    },
    {
      "cell_type": "markdown",
      "metadata": {
        "id": "-3v-BeGbQLFZ",
        "colab_type": "text"
      },
      "source": [
        "refitting on the full data and see the impact"
      ]
    },
    {
      "cell_type": "code",
      "metadata": {
        "id": "qhYLSXu8Qa1t",
        "colab_type": "code",
        "outputId": "995ca555-c93f-44fb-8f3d-6e8bc2ce3ec0",
        "colab": {
          "base_uri": "https://localhost:8080/",
          "height": 54
        }
      },
      "source": [
        "xgb = XGBRegressor(verbose = False , n_jobs = -1 , random_state = random_state)\n",
        "xgb.fit(sales1.drop(['item_cnt_month'],axis = 1), sales1.item_cnt_month)\n",
        "\n",
        "# saving the model in order to run it again witout taking so much time\n",
        "file_name = 'xgb_after_trimming.sav'\n",
        "pickle.dump(xgb , open(file_name, 'wb'))\n"
      ],
      "execution_count": 0,
      "outputs": [
        {
          "output_type": "stream",
          "text": [
            "[22:27:07] WARNING: /workspace/src/objective/regression_obj.cu:152: reg:linear is now deprecated in favor of reg:squarederror.\n"
          ],
          "name": "stdout"
        }
      ]
    },
    {
      "cell_type": "code",
      "metadata": {
        "id": "Iggjt4HMQ3t2",
        "colab_type": "code",
        "colab": {}
      },
      "source": [
        "# submitting in the leaderboard\n",
        "#xgb = pickle.load(open('/content/xgb_after_trimming.sav', 'rb'))\n",
        "test = test[sales1.drop('item_cnt_month',axis = 1).columns] # sorting column names in the same order\n",
        "preds = xgb.predict(test)\n",
        "sub = sample_submission\n",
        "sub.item_cnt_month = preds\n",
        "sub.to_csv('xgb_after_trimming.csv' , index = False)"
      ],
      "execution_count": 0,
      "outputs": []
    },
    {
      "cell_type": "code",
      "metadata": {
        "id": "EfoypIoDUZEc",
        "colab_type": "code",
        "colab": {}
      },
      "source": [
        "sales1.to_csv('sales1.csv' , index = False)\n",
        "test.to_csv('test.csv',index = False)"
      ],
      "execution_count": 0,
      "outputs": []
    },
    {
      "cell_type": "code",
      "metadata": {
        "id": "0f-XAo79UPM_",
        "colab_type": "code",
        "colab": {}
      },
      "source": [
        "# reading the sales file\n",
        "sales1 = pd.read_csv('/content/sales1.csv')\n",
        "test = pd.read_csv('/content/test.csv')"
      ],
      "execution_count": 0,
      "outputs": []
    },
    {
      "cell_type": "markdown",
      "metadata": {
        "id": "JhzRy-WXrnxg",
        "colab_type": "text"
      },
      "source": [
        "# Mean Encoding"
      ]
    },
    {
      "cell_type": "markdown",
      "metadata": {
        "id": "rg2gcwjlrrW_",
        "colab_type": "text"
      },
      "source": [
        "`Motivation` : the item_id is not ordinal and if we one hot encoded it we will fall in the curse of dimensionality hence mean encoding is needed to solve this trap."
      ]
    },
    {
      "cell_type": "code",
      "metadata": {
        "id": "gCA5tsltrgQo",
        "colab_type": "code",
        "outputId": "b0394cc0-33d7-496c-f712-75e9d5ee9e6b",
        "colab": {
          "base_uri": "https://localhost:8080/",
          "height": 419
        }
      },
      "source": [
        "from itertools import product # to make cartisien product\n",
        "index_cols = ['shop_id' , 'item_id' , 'date_block_num']\n",
        "grid = []\n",
        "for block_num in sales.date_block_num.unique() : # iterating over the 34 month\n",
        "    curr_shops = sales[sales.date_block_num == block_num]['shop_id'].unique() # get the unique shops in this month\n",
        "    curr_items = sales[sales.date_block_num == block_num]['item_id'].unique() # get the unique items in this month\n",
        "    grid.append(np.array(list(product (*[ curr_shops, curr_items, [block_num]]))))\n",
        "grid = pd.DataFrame(np.vstack(grid) , columns = index_cols ) \n",
        "all_data = grid.merge(sales1[['shop_id' , 'item_id' , 'date_block_num','item_cnt_month']] , how = 'left' , on = index_cols).sort_values(index_cols).fillna(0) #to add the item_cnt_month\n",
        "all_data"
      ],
      "execution_count": 0,
      "outputs": [
        {
          "output_type": "execute_result",
          "data": {
            "text/html": [
              "<div>\n",
              "<style scoped>\n",
              "    .dataframe tbody tr th:only-of-type {\n",
              "        vertical-align: middle;\n",
              "    }\n",
              "\n",
              "    .dataframe tbody tr th {\n",
              "        vertical-align: top;\n",
              "    }\n",
              "\n",
              "    .dataframe thead th {\n",
              "        text-align: right;\n",
              "    }\n",
              "</style>\n",
              "<table border=\"1\" class=\"dataframe\">\n",
              "  <thead>\n",
              "    <tr style=\"text-align: right;\">\n",
              "      <th></th>\n",
              "      <th>shop_id</th>\n",
              "      <th>item_id</th>\n",
              "      <th>date_block_num</th>\n",
              "      <th>item_cnt_month</th>\n",
              "    </tr>\n",
              "  </thead>\n",
              "  <tbody>\n",
              "    <tr>\n",
              "      <th>606857</th>\n",
              "      <td>0</td>\n",
              "      <td>12</td>\n",
              "      <td>1</td>\n",
              "      <td>0.0</td>\n",
              "    </tr>\n",
              "    <tr>\n",
              "      <th>139255</th>\n",
              "      <td>0</td>\n",
              "      <td>19</td>\n",
              "      <td>0</td>\n",
              "      <td>0.0</td>\n",
              "    </tr>\n",
              "    <tr>\n",
              "      <th>141495</th>\n",
              "      <td>0</td>\n",
              "      <td>27</td>\n",
              "      <td>0</td>\n",
              "      <td>0.0</td>\n",
              "    </tr>\n",
              "    <tr>\n",
              "      <th>606011</th>\n",
              "      <td>0</td>\n",
              "      <td>27</td>\n",
              "      <td>1</td>\n",
              "      <td>0.0</td>\n",
              "    </tr>\n",
              "    <tr>\n",
              "      <th>144968</th>\n",
              "      <td>0</td>\n",
              "      <td>28</td>\n",
              "      <td>0</td>\n",
              "      <td>0.0</td>\n",
              "    </tr>\n",
              "    <tr>\n",
              "      <th>...</th>\n",
              "      <td>...</td>\n",
              "      <td>...</td>\n",
              "      <td>...</td>\n",
              "      <td>...</td>\n",
              "    </tr>\n",
              "    <tr>\n",
              "      <th>5954</th>\n",
              "      <td>59</td>\n",
              "      <td>22168</td>\n",
              "      <td>0</td>\n",
              "      <td>0.0</td>\n",
              "    </tr>\n",
              "    <tr>\n",
              "      <th>442338</th>\n",
              "      <td>59</td>\n",
              "      <td>22168</td>\n",
              "      <td>1</td>\n",
              "      <td>0.0</td>\n",
              "    </tr>\n",
              "    <tr>\n",
              "      <th>1104387</th>\n",
              "      <td>59</td>\n",
              "      <td>22168</td>\n",
              "      <td>2</td>\n",
              "      <td>0.0</td>\n",
              "    </tr>\n",
              "    <tr>\n",
              "      <th>3339542</th>\n",
              "      <td>59</td>\n",
              "      <td>22168</td>\n",
              "      <td>8</td>\n",
              "      <td>0.0</td>\n",
              "    </tr>\n",
              "    <tr>\n",
              "      <th>5255652</th>\n",
              "      <td>59</td>\n",
              "      <td>22169</td>\n",
              "      <td>14</td>\n",
              "      <td>0.0</td>\n",
              "    </tr>\n",
              "  </tbody>\n",
              "</table>\n",
              "<p>10913850 rows × 4 columns</p>\n",
              "</div>"
            ],
            "text/plain": [
              "         shop_id  item_id  date_block_num  item_cnt_month\n",
              "606857         0       12               1             0.0\n",
              "139255         0       19               0             0.0\n",
              "141495         0       27               0             0.0\n",
              "606011         0       27               1             0.0\n",
              "144968         0       28               0             0.0\n",
              "...          ...      ...             ...             ...\n",
              "5954          59    22168               0             0.0\n",
              "442338        59    22168               1             0.0\n",
              "1104387       59    22168               2             0.0\n",
              "3339542       59    22168               8             0.0\n",
              "5255652       59    22169              14             0.0\n",
              "\n",
              "[10913850 rows x 4 columns]"
            ]
          },
          "metadata": {
            "tags": []
          },
          "execution_count": 7
        }
      ]
    },
    {
      "cell_type": "code",
      "metadata": {
        "id": "8BbWaGjDrgTl",
        "colab_type": "code",
        "colab": {}
      },
      "source": [
        "def downcasting(df) :\n",
        "    \"\"\"\n",
        "    make 2 lists onc contains index of float64 columns and the other int64 or int32,\n",
        "    then change the dtype of these column into less memory consumer data type\n",
        "    \"\"\"\n",
        "    float_cols = [ col for col in df if df[col].dtype == \"float64\" ]\n",
        "    int_cols = [col for col in df if df[col].dtype in ['int64','int32']]\n",
        "    df[float_cols] = df[float_cols].astype(np.float32)\n",
        "    df[int_cols] = df[int_cols].astype(np.int16)\n",
        "    return df"
      ],
      "execution_count": 0,
      "outputs": []
    },
    {
      "cell_type": "code",
      "metadata": {
        "id": "35_88BoOrgYM",
        "colab_type": "code",
        "outputId": "84edfc76-3129-4bda-d7f7-e8047123db23",
        "colab": {
          "base_uri": "https://localhost:8080/",
          "height": 204
        }
      },
      "source": [
        "# reducing memory usage\n",
        "all_data = downcasting(all_data)\n",
        "all_data.item_cnt_month = all_data.item_cnt_month.astype('int16')\n",
        "all_data.info()"
      ],
      "execution_count": 0,
      "outputs": [
        {
          "output_type": "stream",
          "text": [
            "<class 'pandas.core.frame.DataFrame'>\n",
            "Int64Index: 10913850 entries, 606857 to 5255652\n",
            "Data columns (total 4 columns):\n",
            " #   Column          Dtype\n",
            "---  ------          -----\n",
            " 0   shop_id         int16\n",
            " 1   item_id         int16\n",
            " 2   date_block_num  int16\n",
            " 3   item_cnt_month  int16\n",
            "dtypes: int16(4)\n",
            "memory usage: 166.5 MB\n"
          ],
          "name": "stdout"
        }
      ]
    },
    {
      "cell_type": "markdown",
      "metadata": {
        "id": "kyQcktod1WEy",
        "colab_type": "text"
      },
      "source": [
        "adding category_id to mean encode it"
      ]
    },
    {
      "cell_type": "code",
      "metadata": {
        "id": "CCkrE0lJ4lLm",
        "colab_type": "code",
        "outputId": "9105cb0d-6553-4711-ad1b-005c77f3b180",
        "colab": {
          "base_uri": "https://localhost:8080/",
          "height": 439
        }
      },
      "source": [
        "# for each item_id put the item_category_id\n",
        "all_data = all_data.merge(items[['item_id','item_category_id']] ) \n",
        "test = test.merge(items[['item_id','item_category_id']])\n",
        "all_data"
      ],
      "execution_count": 0,
      "outputs": [
        {
          "output_type": "execute_result",
          "data": {
            "text/html": [
              "<div>\n",
              "<style scoped>\n",
              "    .dataframe tbody tr th:only-of-type {\n",
              "        vertical-align: middle;\n",
              "    }\n",
              "\n",
              "    .dataframe tbody tr th {\n",
              "        vertical-align: top;\n",
              "    }\n",
              "\n",
              "    .dataframe thead th {\n",
              "        text-align: right;\n",
              "    }\n",
              "</style>\n",
              "<table border=\"1\" class=\"dataframe\">\n",
              "  <thead>\n",
              "    <tr style=\"text-align: right;\">\n",
              "      <th></th>\n",
              "      <th>shop_id</th>\n",
              "      <th>item_id</th>\n",
              "      <th>date_block_num</th>\n",
              "      <th>item_cnt_month</th>\n",
              "      <th>item_category_id</th>\n",
              "      <th>item_target_enc</th>\n",
              "      <th>category_target_enc</th>\n",
              "      <th>shop_target_enc</th>\n",
              "    </tr>\n",
              "  </thead>\n",
              "  <tbody>\n",
              "    <tr>\n",
              "      <th>0</th>\n",
              "      <td>0</td>\n",
              "      <td>12</td>\n",
              "      <td>1</td>\n",
              "      <td>0</td>\n",
              "      <td>55</td>\n",
              "      <td>0.277068</td>\n",
              "      <td>0.244224</td>\n",
              "      <td>0.542470</td>\n",
              "    </tr>\n",
              "    <tr>\n",
              "      <th>1</th>\n",
              "      <td>1</td>\n",
              "      <td>12</td>\n",
              "      <td>1</td>\n",
              "      <td>0</td>\n",
              "      <td>55</td>\n",
              "      <td>0.277068</td>\n",
              "      <td>0.244224</td>\n",
              "      <td>0.331652</td>\n",
              "    </tr>\n",
              "    <tr>\n",
              "      <th>2</th>\n",
              "      <td>2</td>\n",
              "      <td>12</td>\n",
              "      <td>1</td>\n",
              "      <td>0</td>\n",
              "      <td>55</td>\n",
              "      <td>0.277068</td>\n",
              "      <td>0.244224</td>\n",
              "      <td>0.108152</td>\n",
              "    </tr>\n",
              "    <tr>\n",
              "      <th>3</th>\n",
              "      <td>3</td>\n",
              "      <td>12</td>\n",
              "      <td>1</td>\n",
              "      <td>0</td>\n",
              "      <td>55</td>\n",
              "      <td>0.277068</td>\n",
              "      <td>0.244224</td>\n",
              "      <td>0.105209</td>\n",
              "    </tr>\n",
              "    <tr>\n",
              "      <th>4</th>\n",
              "      <td>4</td>\n",
              "      <td>12</td>\n",
              "      <td>1</td>\n",
              "      <td>0</td>\n",
              "      <td>55</td>\n",
              "      <td>0.277068</td>\n",
              "      <td>0.244224</td>\n",
              "      <td>0.147489</td>\n",
              "    </tr>\n",
              "    <tr>\n",
              "      <th>...</th>\n",
              "      <td>...</td>\n",
              "      <td>...</td>\n",
              "      <td>...</td>\n",
              "      <td>...</td>\n",
              "      <td>...</td>\n",
              "      <td>...</td>\n",
              "      <td>...</td>\n",
              "      <td>...</td>\n",
              "    </tr>\n",
              "    <tr>\n",
              "      <th>10913845</th>\n",
              "      <td>55</td>\n",
              "      <td>22169</td>\n",
              "      <td>14</td>\n",
              "      <td>0</td>\n",
              "      <td>69</td>\n",
              "      <td>0.277068</td>\n",
              "      <td>0.176874</td>\n",
              "      <td>0.171766</td>\n",
              "    </tr>\n",
              "    <tr>\n",
              "      <th>10913846</th>\n",
              "      <td>56</td>\n",
              "      <td>22169</td>\n",
              "      <td>14</td>\n",
              "      <td>0</td>\n",
              "      <td>69</td>\n",
              "      <td>0.277068</td>\n",
              "      <td>0.176874</td>\n",
              "      <td>0.301092</td>\n",
              "    </tr>\n",
              "    <tr>\n",
              "      <th>10913847</th>\n",
              "      <td>57</td>\n",
              "      <td>22169</td>\n",
              "      <td>14</td>\n",
              "      <td>0</td>\n",
              "      <td>69</td>\n",
              "      <td>0.277068</td>\n",
              "      <td>0.176874</td>\n",
              "      <td>0.521881</td>\n",
              "    </tr>\n",
              "    <tr>\n",
              "      <th>10913848</th>\n",
              "      <td>58</td>\n",
              "      <td>22169</td>\n",
              "      <td>14</td>\n",
              "      <td>0</td>\n",
              "      <td>69</td>\n",
              "      <td>0.277068</td>\n",
              "      <td>0.176874</td>\n",
              "      <td>0.323199</td>\n",
              "    </tr>\n",
              "    <tr>\n",
              "      <th>10913849</th>\n",
              "      <td>59</td>\n",
              "      <td>22169</td>\n",
              "      <td>14</td>\n",
              "      <td>0</td>\n",
              "      <td>69</td>\n",
              "      <td>0.277068</td>\n",
              "      <td>0.176874</td>\n",
              "      <td>0.189415</td>\n",
              "    </tr>\n",
              "  </tbody>\n",
              "</table>\n",
              "<p>10913850 rows × 8 columns</p>\n",
              "</div>"
            ],
            "text/plain": [
              "          shop_id  item_id  ...  category_target_enc  shop_target_enc\n",
              "0               0       12  ...             0.244224         0.542470\n",
              "1               1       12  ...             0.244224         0.331652\n",
              "2               2       12  ...             0.244224         0.108152\n",
              "3               3       12  ...             0.244224         0.105209\n",
              "4               4       12  ...             0.244224         0.147489\n",
              "...           ...      ...  ...                  ...              ...\n",
              "10913845       55    22169  ...             0.176874         0.171766\n",
              "10913846       56    22169  ...             0.176874         0.301092\n",
              "10913847       57    22169  ...             0.176874         0.521881\n",
              "10913848       58    22169  ...             0.176874         0.323199\n",
              "10913849       59    22169  ...             0.176874         0.189415\n",
              "\n",
              "[10913850 rows x 8 columns]"
            ]
          },
          "metadata": {
            "tags": []
          },
          "execution_count": 22
        }
      ]
    },
    {
      "cell_type": "code",
      "metadata": {
        "id": "UP5qIuSjyck2",
        "colab_type": "code",
        "outputId": "fd6d2c90-acfb-4e26-cb46-1153db630a43",
        "colab": {
          "base_uri": "https://localhost:8080/",
          "height": 136
        }
      },
      "source": [
        "all_data.isna().sum() # no nulls and every thing is right"
      ],
      "execution_count": 0,
      "outputs": [
        {
          "output_type": "execute_result",
          "data": {
            "text/plain": [
              "shop_id             0\n",
              "item_id             0\n",
              "date_block_num      0\n",
              "item_cnt_month      0\n",
              "item_category_id    0\n",
              "item_price          0\n",
              "dtype: int64"
            ]
          },
          "metadata": {
            "tags": []
          },
          "execution_count": 26
        }
      ]
    },
    {
      "cell_type": "markdown",
      "metadata": {
        "id": "KSmwRUQVsNkF",
        "colab_type": "text"
      },
      "source": [
        "Working with regularized mean encoding in order to decrease the leakage"
      ]
    },
    {
      "cell_type": "code",
      "metadata": {
        "id": "oom77WQurgwB",
        "colab_type": "code",
        "colab": {}
      },
      "source": [
        "# encoding item_id\n",
        "kf = KFold(n_splits = 5 , shuffle = False)\n",
        "for train_ind, val_ind in kf.split(all_data) :\n",
        "    train_data , val_data = all_data.iloc[train_ind], all_data.iloc[val_ind]\n",
        "    all_data.loc[all_data.index[val_ind] , 'item_target_enc'] = val_data['item_id'].map(train_data.groupby('item_id')['item_cnt_month'].mean())\n",
        "    \n",
        "all_data['item_target_enc'].fillna(all_data.item_cnt_month.mean(), inplace=True) # fill na that happend from values in validation not in the train with the global mean    "
      ],
      "execution_count": 0,
      "outputs": []
    },
    {
      "cell_type": "code",
      "metadata": {
        "id": "Vwy8iREZrgtr",
        "colab_type": "code",
        "outputId": "cc9b6eea-1cd5-438b-9e25-464655e83714",
        "colab": {
          "base_uri": "https://localhost:8080/",
          "height": 419
        }
      },
      "source": [
        "# making a column to map it to the test set\n",
        "item_mean_enc = all_data.groupby('item_id')['item_target_enc'].unique()\n",
        "item_mean_enc = item_mean_enc.apply(lambda x: x.mean())\n",
        "\n",
        "test['item_target_enc'] = test['item_id'].map(item_mean_enc) # mapping the variable in the test \n",
        "test.fillna(all_data.item_cnt_month.mean() , inplace = True)\n",
        "test"
      ],
      "execution_count": 0,
      "outputs": [
        {
          "output_type": "execute_result",
          "data": {
            "text/html": [
              "<div>\n",
              "<style scoped>\n",
              "    .dataframe tbody tr th:only-of-type {\n",
              "        vertical-align: middle;\n",
              "    }\n",
              "\n",
              "    .dataframe tbody tr th {\n",
              "        vertical-align: top;\n",
              "    }\n",
              "\n",
              "    .dataframe thead th {\n",
              "        text-align: right;\n",
              "    }\n",
              "</style>\n",
              "<table border=\"1\" class=\"dataframe\">\n",
              "  <thead>\n",
              "    <tr style=\"text-align: right;\">\n",
              "      <th></th>\n",
              "      <th>date_block_num</th>\n",
              "      <th>item_id</th>\n",
              "      <th>shop_id</th>\n",
              "      <th>year</th>\n",
              "      <th>item_category_id</th>\n",
              "      <th>item_target_enc</th>\n",
              "    </tr>\n",
              "  </thead>\n",
              "  <tbody>\n",
              "    <tr>\n",
              "      <th>0</th>\n",
              "      <td>34</td>\n",
              "      <td>5037</td>\n",
              "      <td>5</td>\n",
              "      <td>2015</td>\n",
              "      <td>19</td>\n",
              "      <td>0.277068</td>\n",
              "    </tr>\n",
              "    <tr>\n",
              "      <th>1</th>\n",
              "      <td>34</td>\n",
              "      <td>5037</td>\n",
              "      <td>4</td>\n",
              "      <td>2015</td>\n",
              "      <td>19</td>\n",
              "      <td>0.277068</td>\n",
              "    </tr>\n",
              "    <tr>\n",
              "      <th>2</th>\n",
              "      <td>34</td>\n",
              "      <td>5037</td>\n",
              "      <td>6</td>\n",
              "      <td>2015</td>\n",
              "      <td>19</td>\n",
              "      <td>0.277068</td>\n",
              "    </tr>\n",
              "    <tr>\n",
              "      <th>3</th>\n",
              "      <td>34</td>\n",
              "      <td>5037</td>\n",
              "      <td>3</td>\n",
              "      <td>2015</td>\n",
              "      <td>19</td>\n",
              "      <td>0.277068</td>\n",
              "    </tr>\n",
              "    <tr>\n",
              "      <th>4</th>\n",
              "      <td>34</td>\n",
              "      <td>5037</td>\n",
              "      <td>2</td>\n",
              "      <td>2015</td>\n",
              "      <td>19</td>\n",
              "      <td>0.277068</td>\n",
              "    </tr>\n",
              "    <tr>\n",
              "      <th>...</th>\n",
              "      <td>...</td>\n",
              "      <td>...</td>\n",
              "      <td>...</td>\n",
              "      <td>...</td>\n",
              "      <td>...</td>\n",
              "      <td>...</td>\n",
              "    </tr>\n",
              "    <tr>\n",
              "      <th>214195</th>\n",
              "      <td>34</td>\n",
              "      <td>969</td>\n",
              "      <td>46</td>\n",
              "      <td>2015</td>\n",
              "      <td>37</td>\n",
              "      <td>0.277068</td>\n",
              "    </tr>\n",
              "    <tr>\n",
              "      <th>214196</th>\n",
              "      <td>34</td>\n",
              "      <td>969</td>\n",
              "      <td>41</td>\n",
              "      <td>2015</td>\n",
              "      <td>37</td>\n",
              "      <td>0.277068</td>\n",
              "    </tr>\n",
              "    <tr>\n",
              "      <th>214197</th>\n",
              "      <td>34</td>\n",
              "      <td>969</td>\n",
              "      <td>44</td>\n",
              "      <td>2015</td>\n",
              "      <td>37</td>\n",
              "      <td>0.277068</td>\n",
              "    </tr>\n",
              "    <tr>\n",
              "      <th>214198</th>\n",
              "      <td>34</td>\n",
              "      <td>969</td>\n",
              "      <td>39</td>\n",
              "      <td>2015</td>\n",
              "      <td>37</td>\n",
              "      <td>0.277068</td>\n",
              "    </tr>\n",
              "    <tr>\n",
              "      <th>214199</th>\n",
              "      <td>34</td>\n",
              "      <td>969</td>\n",
              "      <td>45</td>\n",
              "      <td>2015</td>\n",
              "      <td>37</td>\n",
              "      <td>0.277068</td>\n",
              "    </tr>\n",
              "  </tbody>\n",
              "</table>\n",
              "<p>214200 rows × 6 columns</p>\n",
              "</div>"
            ],
            "text/plain": [
              "        date_block_num  item_id  ...  item_category_id  item_target_enc\n",
              "0                   34     5037  ...                19         0.277068\n",
              "1                   34     5037  ...                19         0.277068\n",
              "2                   34     5037  ...                19         0.277068\n",
              "3                   34     5037  ...                19         0.277068\n",
              "4                   34     5037  ...                19         0.277068\n",
              "...                ...      ...  ...               ...              ...\n",
              "214195              34      969  ...                37         0.277068\n",
              "214196              34      969  ...                37         0.277068\n",
              "214197              34      969  ...                37         0.277068\n",
              "214198              34      969  ...                37         0.277068\n",
              "214199              34      969  ...                37         0.277068\n",
              "\n",
              "[214200 rows x 6 columns]"
            ]
          },
          "metadata": {
            "tags": []
          },
          "execution_count": 23
        }
      ]
    },
    {
      "cell_type": "code",
      "metadata": {
        "id": "18sr_i5j_mAH",
        "colab_type": "code",
        "colab": {}
      },
      "source": [
        "# encoding item_category_id\n",
        "kf = KFold(n_splits = 5 , shuffle = False)\n",
        "for train_ind, val_ind in kf.split(all_data) :\n",
        "    train_data , val_data = all_data.iloc[train_ind], all_data.iloc[val_ind]\n",
        "    all_data.loc[all_data.index[val_ind] , 'category_target_enc'] = val_data['item_category_id'].map(train_data.groupby('item_category_id')['item_cnt_month'].mean())\n",
        "    \n",
        "all_data['category_target_enc'].fillna(all_data.item_cnt_month.mean(), inplace=True) # fill na that happend from values in validation not in the train with the global mean    "
      ],
      "execution_count": 0,
      "outputs": []
    },
    {
      "cell_type": "code",
      "metadata": {
        "id": "lL9Pv4ZW_mOz",
        "colab_type": "code",
        "outputId": "902efe8a-4f38-4ec4-9b1d-8e699a012533",
        "colab": {
          "base_uri": "https://localhost:8080/",
          "height": 419
        }
      },
      "source": [
        "# making a column to map it to the test set\n",
        "category_mean_enc = all_data.groupby('item_category_id')['category_target_enc'].unique()\n",
        "category_mean_enc = category_mean_enc.apply(lambda x: x.mean())\n",
        "\n",
        "test['category_target_enc'] = test['item_category_id'].map(category_mean_enc) # mapping the variable in the test \n",
        "test.fillna(all_data.item_cnt_month.mean() , inplace = True)\n",
        "test"
      ],
      "execution_count": 0,
      "outputs": [
        {
          "output_type": "execute_result",
          "data": {
            "text/html": [
              "<div>\n",
              "<style scoped>\n",
              "    .dataframe tbody tr th:only-of-type {\n",
              "        vertical-align: middle;\n",
              "    }\n",
              "\n",
              "    .dataframe tbody tr th {\n",
              "        vertical-align: top;\n",
              "    }\n",
              "\n",
              "    .dataframe thead th {\n",
              "        text-align: right;\n",
              "    }\n",
              "</style>\n",
              "<table border=\"1\" class=\"dataframe\">\n",
              "  <thead>\n",
              "    <tr style=\"text-align: right;\">\n",
              "      <th></th>\n",
              "      <th>date_block_num</th>\n",
              "      <th>item_id</th>\n",
              "      <th>shop_id</th>\n",
              "      <th>year</th>\n",
              "      <th>item_category_id</th>\n",
              "      <th>item_target_enc</th>\n",
              "      <th>category_target_enc</th>\n",
              "    </tr>\n",
              "  </thead>\n",
              "  <tbody>\n",
              "    <tr>\n",
              "      <th>0</th>\n",
              "      <td>34</td>\n",
              "      <td>5037</td>\n",
              "      <td>5</td>\n",
              "      <td>2015</td>\n",
              "      <td>19</td>\n",
              "      <td>0.277068</td>\n",
              "      <td>0.654430</td>\n",
              "    </tr>\n",
              "    <tr>\n",
              "      <th>1</th>\n",
              "      <td>34</td>\n",
              "      <td>5037</td>\n",
              "      <td>4</td>\n",
              "      <td>2015</td>\n",
              "      <td>19</td>\n",
              "      <td>0.277068</td>\n",
              "      <td>0.654430</td>\n",
              "    </tr>\n",
              "    <tr>\n",
              "      <th>2</th>\n",
              "      <td>34</td>\n",
              "      <td>5037</td>\n",
              "      <td>6</td>\n",
              "      <td>2015</td>\n",
              "      <td>19</td>\n",
              "      <td>0.277068</td>\n",
              "      <td>0.654430</td>\n",
              "    </tr>\n",
              "    <tr>\n",
              "      <th>3</th>\n",
              "      <td>34</td>\n",
              "      <td>5037</td>\n",
              "      <td>3</td>\n",
              "      <td>2015</td>\n",
              "      <td>19</td>\n",
              "      <td>0.277068</td>\n",
              "      <td>0.654430</td>\n",
              "    </tr>\n",
              "    <tr>\n",
              "      <th>4</th>\n",
              "      <td>34</td>\n",
              "      <td>5037</td>\n",
              "      <td>2</td>\n",
              "      <td>2015</td>\n",
              "      <td>19</td>\n",
              "      <td>0.277068</td>\n",
              "      <td>0.654430</td>\n",
              "    </tr>\n",
              "    <tr>\n",
              "      <th>...</th>\n",
              "      <td>...</td>\n",
              "      <td>...</td>\n",
              "      <td>...</td>\n",
              "      <td>...</td>\n",
              "      <td>...</td>\n",
              "      <td>...</td>\n",
              "      <td>...</td>\n",
              "    </tr>\n",
              "    <tr>\n",
              "      <th>214195</th>\n",
              "      <td>34</td>\n",
              "      <td>969</td>\n",
              "      <td>46</td>\n",
              "      <td>2015</td>\n",
              "      <td>37</td>\n",
              "      <td>0.277068</td>\n",
              "      <td>0.173617</td>\n",
              "    </tr>\n",
              "    <tr>\n",
              "      <th>214196</th>\n",
              "      <td>34</td>\n",
              "      <td>969</td>\n",
              "      <td>41</td>\n",
              "      <td>2015</td>\n",
              "      <td>37</td>\n",
              "      <td>0.277068</td>\n",
              "      <td>0.173617</td>\n",
              "    </tr>\n",
              "    <tr>\n",
              "      <th>214197</th>\n",
              "      <td>34</td>\n",
              "      <td>969</td>\n",
              "      <td>44</td>\n",
              "      <td>2015</td>\n",
              "      <td>37</td>\n",
              "      <td>0.277068</td>\n",
              "      <td>0.173617</td>\n",
              "    </tr>\n",
              "    <tr>\n",
              "      <th>214198</th>\n",
              "      <td>34</td>\n",
              "      <td>969</td>\n",
              "      <td>39</td>\n",
              "      <td>2015</td>\n",
              "      <td>37</td>\n",
              "      <td>0.277068</td>\n",
              "      <td>0.173617</td>\n",
              "    </tr>\n",
              "    <tr>\n",
              "      <th>214199</th>\n",
              "      <td>34</td>\n",
              "      <td>969</td>\n",
              "      <td>45</td>\n",
              "      <td>2015</td>\n",
              "      <td>37</td>\n",
              "      <td>0.277068</td>\n",
              "      <td>0.173617</td>\n",
              "    </tr>\n",
              "  </tbody>\n",
              "</table>\n",
              "<p>214200 rows × 7 columns</p>\n",
              "</div>"
            ],
            "text/plain": [
              "        date_block_num  item_id  ...  item_target_enc  category_target_enc\n",
              "0                   34     5037  ...         0.277068             0.654430\n",
              "1                   34     5037  ...         0.277068             0.654430\n",
              "2                   34     5037  ...         0.277068             0.654430\n",
              "3                   34     5037  ...         0.277068             0.654430\n",
              "4                   34     5037  ...         0.277068             0.654430\n",
              "...                ...      ...  ...              ...                  ...\n",
              "214195              34      969  ...         0.277068             0.173617\n",
              "214196              34      969  ...         0.277068             0.173617\n",
              "214197              34      969  ...         0.277068             0.173617\n",
              "214198              34      969  ...         0.277068             0.173617\n",
              "214199              34      969  ...         0.277068             0.173617\n",
              "\n",
              "[214200 rows x 7 columns]"
            ]
          },
          "metadata": {
            "tags": []
          },
          "execution_count": 24
        }
      ]
    },
    {
      "cell_type": "markdown",
      "metadata": {
        "id": "b7155FUTVu-m",
        "colab_type": "text"
      },
      "source": [
        "encoding shop id"
      ]
    },
    {
      "cell_type": "code",
      "metadata": {
        "id": "BQO_eP6uVz75",
        "colab_type": "code",
        "colab": {}
      },
      "source": [
        "# encoding item_category_id\n",
        "kf = KFold(n_splits = 5 , shuffle = False)\n",
        "for train_ind, val_ind in kf.split(all_data) :\n",
        "    train_data , val_data = all_data.iloc[train_ind], all_data.iloc[val_ind]\n",
        "    all_data.loc[all_data.index[val_ind] , 'shop_target_enc'] = val_data['shop_id'].map(train_data.groupby('shop_id')['item_cnt_month'].mean())\n",
        "    \n",
        "all_data['shop_target_enc'].fillna(all_data.item_cnt_month.mean(), inplace=True) # fill na that happend from values in validation not in the train with the global mean    "
      ],
      "execution_count": 0,
      "outputs": []
    },
    {
      "cell_type": "code",
      "metadata": {
        "id": "FuA01CScV1ol",
        "colab_type": "code",
        "outputId": "d281e48a-cf0e-4933-d7d4-8b885a9fdcfb",
        "colab": {
          "base_uri": "https://localhost:8080/",
          "height": 419
        }
      },
      "source": [
        "# making a column to map it to the test set\n",
        "shop_mean_enc = all_data.groupby('shop_id')['shop_target_enc'].unique()\n",
        "shop_mean_enc = shop_mean_enc.apply(lambda x: x.mean())\n",
        "\n",
        "test['shop_target_enc'] = test['shop_id'].map(shop_mean_enc) # mapping the variable in the test \n",
        "test.fillna(all_data.item_cnt_month.mean() , inplace = True)\n",
        "test"
      ],
      "execution_count": 0,
      "outputs": [
        {
          "output_type": "execute_result",
          "data": {
            "text/html": [
              "<div>\n",
              "<style scoped>\n",
              "    .dataframe tbody tr th:only-of-type {\n",
              "        vertical-align: middle;\n",
              "    }\n",
              "\n",
              "    .dataframe tbody tr th {\n",
              "        vertical-align: top;\n",
              "    }\n",
              "\n",
              "    .dataframe thead th {\n",
              "        text-align: right;\n",
              "    }\n",
              "</style>\n",
              "<table border=\"1\" class=\"dataframe\">\n",
              "  <thead>\n",
              "    <tr style=\"text-align: right;\">\n",
              "      <th></th>\n",
              "      <th>date_block_num</th>\n",
              "      <th>item_id</th>\n",
              "      <th>shop_id</th>\n",
              "      <th>year</th>\n",
              "      <th>item_category_id</th>\n",
              "      <th>item_target_enc</th>\n",
              "      <th>category_target_enc</th>\n",
              "      <th>shop_target_enc</th>\n",
              "    </tr>\n",
              "  </thead>\n",
              "  <tbody>\n",
              "    <tr>\n",
              "      <th>0</th>\n",
              "      <td>34</td>\n",
              "      <td>5037</td>\n",
              "      <td>5</td>\n",
              "      <td>2015</td>\n",
              "      <td>19</td>\n",
              "      <td>0.277068</td>\n",
              "      <td>0.654430</td>\n",
              "      <td>0.173480</td>\n",
              "    </tr>\n",
              "    <tr>\n",
              "      <th>1</th>\n",
              "      <td>34</td>\n",
              "      <td>5037</td>\n",
              "      <td>4</td>\n",
              "      <td>2015</td>\n",
              "      <td>19</td>\n",
              "      <td>0.277068</td>\n",
              "      <td>0.654430</td>\n",
              "      <td>0.167921</td>\n",
              "    </tr>\n",
              "    <tr>\n",
              "      <th>2</th>\n",
              "      <td>34</td>\n",
              "      <td>5037</td>\n",
              "      <td>6</td>\n",
              "      <td>2015</td>\n",
              "      <td>19</td>\n",
              "      <td>0.277068</td>\n",
              "      <td>0.654430</td>\n",
              "      <td>0.360782</td>\n",
              "    </tr>\n",
              "    <tr>\n",
              "      <th>3</th>\n",
              "      <td>34</td>\n",
              "      <td>5037</td>\n",
              "      <td>3</td>\n",
              "      <td>2015</td>\n",
              "      <td>19</td>\n",
              "      <td>0.277068</td>\n",
              "      <td>0.654430</td>\n",
              "      <td>0.112695</td>\n",
              "    </tr>\n",
              "    <tr>\n",
              "      <th>4</th>\n",
              "      <td>34</td>\n",
              "      <td>5037</td>\n",
              "      <td>2</td>\n",
              "      <td>2015</td>\n",
              "      <td>19</td>\n",
              "      <td>0.277068</td>\n",
              "      <td>0.654430</td>\n",
              "      <td>0.115980</td>\n",
              "    </tr>\n",
              "    <tr>\n",
              "      <th>...</th>\n",
              "      <td>...</td>\n",
              "      <td>...</td>\n",
              "      <td>...</td>\n",
              "      <td>...</td>\n",
              "      <td>...</td>\n",
              "      <td>...</td>\n",
              "      <td>...</td>\n",
              "      <td>...</td>\n",
              "    </tr>\n",
              "    <tr>\n",
              "      <th>214195</th>\n",
              "      <td>34</td>\n",
              "      <td>969</td>\n",
              "      <td>46</td>\n",
              "      <td>2015</td>\n",
              "      <td>37</td>\n",
              "      <td>0.277068</td>\n",
              "      <td>0.173617</td>\n",
              "      <td>0.292687</td>\n",
              "    </tr>\n",
              "    <tr>\n",
              "      <th>214196</th>\n",
              "      <td>34</td>\n",
              "      <td>969</td>\n",
              "      <td>41</td>\n",
              "      <td>2015</td>\n",
              "      <td>37</td>\n",
              "      <td>0.277068</td>\n",
              "      <td>0.173617</td>\n",
              "      <td>0.188659</td>\n",
              "    </tr>\n",
              "    <tr>\n",
              "      <th>214197</th>\n",
              "      <td>34</td>\n",
              "      <td>969</td>\n",
              "      <td>44</td>\n",
              "      <td>2015</td>\n",
              "      <td>37</td>\n",
              "      <td>0.277068</td>\n",
              "      <td>0.173617</td>\n",
              "      <td>0.176294</td>\n",
              "    </tr>\n",
              "    <tr>\n",
              "      <th>214198</th>\n",
              "      <td>34</td>\n",
              "      <td>969</td>\n",
              "      <td>39</td>\n",
              "      <td>2015</td>\n",
              "      <td>37</td>\n",
              "      <td>0.277068</td>\n",
              "      <td>0.173617</td>\n",
              "      <td>0.114884</td>\n",
              "    </tr>\n",
              "    <tr>\n",
              "      <th>214199</th>\n",
              "      <td>34</td>\n",
              "      <td>969</td>\n",
              "      <td>45</td>\n",
              "      <td>2015</td>\n",
              "      <td>37</td>\n",
              "      <td>0.277068</td>\n",
              "      <td>0.173617</td>\n",
              "      <td>0.161153</td>\n",
              "    </tr>\n",
              "  </tbody>\n",
              "</table>\n",
              "<p>214200 rows × 8 columns</p>\n",
              "</div>"
            ],
            "text/plain": [
              "        date_block_num  item_id  ...  category_target_enc  shop_target_enc\n",
              "0                   34     5037  ...             0.654430         0.173480\n",
              "1                   34     5037  ...             0.654430         0.167921\n",
              "2                   34     5037  ...             0.654430         0.360782\n",
              "3                   34     5037  ...             0.654430         0.112695\n",
              "4                   34     5037  ...             0.654430         0.115980\n",
              "...                ...      ...  ...                  ...              ...\n",
              "214195              34      969  ...             0.173617         0.292687\n",
              "214196              34      969  ...             0.173617         0.188659\n",
              "214197              34      969  ...             0.173617         0.176294\n",
              "214198              34      969  ...             0.173617         0.114884\n",
              "214199              34      969  ...             0.173617         0.161153\n",
              "\n",
              "[214200 rows x 8 columns]"
            ]
          },
          "metadata": {
            "tags": []
          },
          "execution_count": 25
        }
      ]
    },
    {
      "cell_type": "markdown",
      "metadata": {
        "id": "aHTC0YYdeoPV",
        "colab_type": "text"
      },
      "source": [
        "seeing the impact of mean encoding"
      ]
    },
    {
      "cell_type": "code",
      "metadata": {
        "id": "k9ISd4NZZYD4",
        "colab_type": "code",
        "outputId": "49256e04-7012-4e37-e823-2df2863e8aa7",
        "colab": {
          "base_uri": "https://localhost:8080/",
          "height": 80
        }
      },
      "source": [
        "test.head(1)"
      ],
      "execution_count": 0,
      "outputs": [
        {
          "output_type": "execute_result",
          "data": {
            "text/html": [
              "<div>\n",
              "<style scoped>\n",
              "    .dataframe tbody tr th:only-of-type {\n",
              "        vertical-align: middle;\n",
              "    }\n",
              "\n",
              "    .dataframe tbody tr th {\n",
              "        vertical-align: top;\n",
              "    }\n",
              "\n",
              "    .dataframe thead th {\n",
              "        text-align: right;\n",
              "    }\n",
              "</style>\n",
              "<table border=\"1\" class=\"dataframe\">\n",
              "  <thead>\n",
              "    <tr style=\"text-align: right;\">\n",
              "      <th></th>\n",
              "      <th>ID</th>\n",
              "      <th>shop_id</th>\n",
              "      <th>item_id</th>\n",
              "      <th>item_category_id</th>\n",
              "      <th>item_target_enc</th>\n",
              "      <th>category_target_enc</th>\n",
              "      <th>shop_target_enc</th>\n",
              "    </tr>\n",
              "  </thead>\n",
              "  <tbody>\n",
              "    <tr>\n",
              "      <th>0</th>\n",
              "      <td>0</td>\n",
              "      <td>5</td>\n",
              "      <td>5037</td>\n",
              "      <td>19</td>\n",
              "      <td>0.277068</td>\n",
              "      <td>0.65443</td>\n",
              "      <td>0.17348</td>\n",
              "    </tr>\n",
              "  </tbody>\n",
              "</table>\n",
              "</div>"
            ],
            "text/plain": [
              "   ID  shop_id  item_id  ...  item_target_enc  category_target_enc  shop_target_enc\n",
              "0   0        5     5037  ...         0.277068              0.65443          0.17348\n",
              "\n",
              "[1 rows x 7 columns]"
            ]
          },
          "metadata": {
            "tags": []
          },
          "execution_count": 19
        }
      ]
    },
    {
      "cell_type": "code",
      "metadata": {
        "id": "e-hikRUYZgAM",
        "colab_type": "code",
        "outputId": "48c987c5-223d-48ad-f47e-14412815224b",
        "colab": {
          "base_uri": "https://localhost:8080/",
          "height": 100
        }
      },
      "source": [
        "all_data.head(1)"
      ],
      "execution_count": 0,
      "outputs": [
        {
          "output_type": "execute_result",
          "data": {
            "text/html": [
              "<div>\n",
              "<style scoped>\n",
              "    .dataframe tbody tr th:only-of-type {\n",
              "        vertical-align: middle;\n",
              "    }\n",
              "\n",
              "    .dataframe tbody tr th {\n",
              "        vertical-align: top;\n",
              "    }\n",
              "\n",
              "    .dataframe thead th {\n",
              "        text-align: right;\n",
              "    }\n",
              "</style>\n",
              "<table border=\"1\" class=\"dataframe\">\n",
              "  <thead>\n",
              "    <tr style=\"text-align: right;\">\n",
              "      <th></th>\n",
              "      <th>shop_id</th>\n",
              "      <th>item_id</th>\n",
              "      <th>date_block_num</th>\n",
              "      <th>item_cnt_month</th>\n",
              "      <th>item_category_id</th>\n",
              "      <th>item_target_enc</th>\n",
              "      <th>category_target_enc</th>\n",
              "      <th>shop_target_enc</th>\n",
              "    </tr>\n",
              "  </thead>\n",
              "  <tbody>\n",
              "    <tr>\n",
              "      <th>0</th>\n",
              "      <td>0</td>\n",
              "      <td>12</td>\n",
              "      <td>1</td>\n",
              "      <td>0</td>\n",
              "      <td>55</td>\n",
              "      <td>0.277068</td>\n",
              "      <td>0.244224</td>\n",
              "      <td>0.54247</td>\n",
              "    </tr>\n",
              "  </tbody>\n",
              "</table>\n",
              "</div>"
            ],
            "text/plain": [
              "   shop_id  item_id  ...  category_target_enc  shop_target_enc\n",
              "0        0       12  ...             0.244224          0.54247\n",
              "\n",
              "[1 rows x 8 columns]"
            ]
          },
          "metadata": {
            "tags": []
          },
          "execution_count": 20
        }
      ]
    },
    {
      "cell_type": "code",
      "metadata": {
        "id": "Q05Il9xuesHW",
        "colab_type": "code",
        "colab": {}
      },
      "source": [
        "xgb = XGBRegressor(verbose = False , n_jobs = -1 ,random_state = random_state)\n",
        "xgb.fit(all_data.drop(['item_cnt_month','item_id','item_category_id'],axis = 1), all_data.item_cnt_month)\n",
        "\n",
        "#saving the model in order to run it again witout taking so much time\n",
        "file_name = 'xgb_mean_encoding_with_shop_id.sav'\n",
        "pickle.dump(xgb , open(file_name, 'wb'))\n",
        "\n",
        "# submitting in the leaderboard\n",
        "#xgb = pickle.load(open('', 'rb'))\n",
        "test = test[all_data.drop('item_cnt_month',axis = 1).columns]\n",
        "preds_xgb = xgb.predict(test.drop(['item_id','item_category_id'],axis = 1))\n",
        "sub = sample_submission\n",
        "sub.item_cnt_month = preds_xgb\n",
        "sub.to_csv('xgb_mean_encoding_with_shop_id.csv' , index = False)"
      ],
      "execution_count": 0,
      "outputs": []
    },
    {
      "cell_type": "markdown",
      "metadata": {
        "id": "tn5APdwomgJv",
        "colab_type": "text"
      },
      "source": [
        "The Error deacresed from `1.85026` to `1.23868`"
      ]
    },
    {
      "cell_type": "markdown",
      "metadata": {
        "id": "fGZMGQok_oUT",
        "colab_type": "text"
      },
      "source": [
        "Mean encodnig improved the model performance a lot"
      ]
    },
    {
      "cell_type": "markdown",
      "metadata": {
        "id": "Yb1yhw5lsZe0",
        "colab_type": "text"
      },
      "source": [
        "working with the price "
      ]
    },
    {
      "cell_type": "code",
      "metadata": {
        "id": "nDHWJEK6tGfI",
        "colab_type": "code",
        "colab": {}
      },
      "source": [
        "item_prices = pd.DataFrame(sales.groupby('item_id')['item_price'].unique()).reset_index()\n",
        "item_prices"
      ],
      "execution_count": 0,
      "outputs": []
    },
    {
      "cell_type": "markdown",
      "metadata": {
        "id": "b_LXsjbQHAwZ",
        "colab_type": "text"
      },
      "source": [
        "There are different prices for the same item so we need to take the average to reduce the varianece and enforce consistancy\n"
      ]
    },
    {
      "cell_type": "code",
      "metadata": {
        "id": "KgUNI-lDHBJ5",
        "colab_type": "code",
        "outputId": "dd85d179-697e-4188-d3a1-ae5beecae57e",
        "colab": {
          "base_uri": "https://localhost:8080/",
          "height": 419
        }
      },
      "source": [
        "# for each item get its mean price\n",
        "mean_prices = pd.DataFrame(sales.groupby('item_id')['item_price'].mean()).reset_index()\n",
        "mean_prices"
      ],
      "execution_count": 0,
      "outputs": [
        {
          "output_type": "execute_result",
          "data": {
            "text/html": [
              "<div>\n",
              "<style scoped>\n",
              "    .dataframe tbody tr th:only-of-type {\n",
              "        vertical-align: middle;\n",
              "    }\n",
              "\n",
              "    .dataframe tbody tr th {\n",
              "        vertical-align: top;\n",
              "    }\n",
              "\n",
              "    .dataframe thead th {\n",
              "        text-align: right;\n",
              "    }\n",
              "</style>\n",
              "<table border=\"1\" class=\"dataframe\">\n",
              "  <thead>\n",
              "    <tr style=\"text-align: right;\">\n",
              "      <th></th>\n",
              "      <th>item_id</th>\n",
              "      <th>item_price</th>\n",
              "    </tr>\n",
              "  </thead>\n",
              "  <tbody>\n",
              "    <tr>\n",
              "      <th>0</th>\n",
              "      <td>0</td>\n",
              "      <td>58.000000</td>\n",
              "    </tr>\n",
              "    <tr>\n",
              "      <th>1</th>\n",
              "      <td>1</td>\n",
              "      <td>4490.000000</td>\n",
              "    </tr>\n",
              "    <tr>\n",
              "      <th>2</th>\n",
              "      <td>2</td>\n",
              "      <td>58.000000</td>\n",
              "    </tr>\n",
              "    <tr>\n",
              "      <th>3</th>\n",
              "      <td>3</td>\n",
              "      <td>79.000000</td>\n",
              "    </tr>\n",
              "    <tr>\n",
              "      <th>4</th>\n",
              "      <td>4</td>\n",
              "      <td>58.000000</td>\n",
              "    </tr>\n",
              "    <tr>\n",
              "      <th>...</th>\n",
              "      <td>...</td>\n",
              "      <td>...</td>\n",
              "    </tr>\n",
              "    <tr>\n",
              "      <th>21802</th>\n",
              "      <td>22165</td>\n",
              "      <td>59.000000</td>\n",
              "    </tr>\n",
              "    <tr>\n",
              "      <th>21803</th>\n",
              "      <td>22166</td>\n",
              "      <td>150.000000</td>\n",
              "    </tr>\n",
              "    <tr>\n",
              "      <th>21804</th>\n",
              "      <td>22167</td>\n",
              "      <td>297.686490</td>\n",
              "    </tr>\n",
              "    <tr>\n",
              "      <th>21805</th>\n",
              "      <td>22168</td>\n",
              "      <td>798.916667</td>\n",
              "    </tr>\n",
              "    <tr>\n",
              "      <th>21806</th>\n",
              "      <td>22169</td>\n",
              "      <td>4349.000000</td>\n",
              "    </tr>\n",
              "  </tbody>\n",
              "</table>\n",
              "<p>21807 rows × 2 columns</p>\n",
              "</div>"
            ],
            "text/plain": [
              "       item_id   item_price\n",
              "0            0    58.000000\n",
              "1            1  4490.000000\n",
              "2            2    58.000000\n",
              "3            3    79.000000\n",
              "4            4    58.000000\n",
              "...        ...          ...\n",
              "21802    22165    59.000000\n",
              "21803    22166   150.000000\n",
              "21804    22167   297.686490\n",
              "21805    22168   798.916667\n",
              "21806    22169  4349.000000\n",
              "\n",
              "[21807 rows x 2 columns]"
            ]
          },
          "metadata": {
            "tags": []
          },
          "execution_count": 27
        }
      ]
    },
    {
      "cell_type": "code",
      "metadata": {
        "id": "oqLQsxqp9RPq",
        "colab_type": "code",
        "colab": {}
      },
      "source": [
        "all_data = all_data.merge(mean_prices)\n",
        "all_data = all_data.rename(columns= {'item_price': 'mean_price'})\n",
        "all_data.mean_price = round(all_data.mean_price , 2)"
      ],
      "execution_count": 0,
      "outputs": []
    },
    {
      "cell_type": "code",
      "metadata": {
        "id": "bVydHAVkHQCz",
        "colab_type": "code",
        "outputId": "81609287-18d2-48f8-fed8-09818775f942",
        "colab": {
          "base_uri": "https://localhost:8080/",
          "height": 439
        }
      },
      "source": [
        "test = test.merge(mean_prices,how = 'left' ) # mapping the price for each item by merging on the item_id\n",
        "test = test.rename(columns = {'item_price':'mean_price'})\n",
        "test.mean_price = round(test.mean_price , 2)\n",
        "test"
      ],
      "execution_count": 0,
      "outputs": [
        {
          "output_type": "execute_result",
          "data": {
            "text/html": [
              "<div>\n",
              "<style scoped>\n",
              "    .dataframe tbody tr th:only-of-type {\n",
              "        vertical-align: middle;\n",
              "    }\n",
              "\n",
              "    .dataframe tbody tr th {\n",
              "        vertical-align: top;\n",
              "    }\n",
              "\n",
              "    .dataframe thead th {\n",
              "        text-align: right;\n",
              "    }\n",
              "</style>\n",
              "<table border=\"1\" class=\"dataframe\">\n",
              "  <thead>\n",
              "    <tr style=\"text-align: right;\">\n",
              "      <th></th>\n",
              "      <th>shop_id</th>\n",
              "      <th>item_id</th>\n",
              "      <th>date_block_num</th>\n",
              "      <th>item_category_id</th>\n",
              "      <th>item_target_enc</th>\n",
              "      <th>category_target_enc</th>\n",
              "      <th>shop_target_enc</th>\n",
              "      <th>mean_price</th>\n",
              "    </tr>\n",
              "  </thead>\n",
              "  <tbody>\n",
              "    <tr>\n",
              "      <th>0</th>\n",
              "      <td>5</td>\n",
              "      <td>5037</td>\n",
              "      <td>34</td>\n",
              "      <td>19</td>\n",
              "      <td>0.277068</td>\n",
              "      <td>0.654430</td>\n",
              "      <td>0.173480</td>\n",
              "      <td>1926.83</td>\n",
              "    </tr>\n",
              "    <tr>\n",
              "      <th>1</th>\n",
              "      <td>4</td>\n",
              "      <td>5037</td>\n",
              "      <td>34</td>\n",
              "      <td>19</td>\n",
              "      <td>0.277068</td>\n",
              "      <td>0.654430</td>\n",
              "      <td>0.167921</td>\n",
              "      <td>1926.83</td>\n",
              "    </tr>\n",
              "    <tr>\n",
              "      <th>2</th>\n",
              "      <td>6</td>\n",
              "      <td>5037</td>\n",
              "      <td>34</td>\n",
              "      <td>19</td>\n",
              "      <td>0.277068</td>\n",
              "      <td>0.654430</td>\n",
              "      <td>0.360782</td>\n",
              "      <td>1926.83</td>\n",
              "    </tr>\n",
              "    <tr>\n",
              "      <th>3</th>\n",
              "      <td>3</td>\n",
              "      <td>5037</td>\n",
              "      <td>34</td>\n",
              "      <td>19</td>\n",
              "      <td>0.277068</td>\n",
              "      <td>0.654430</td>\n",
              "      <td>0.112695</td>\n",
              "      <td>1926.83</td>\n",
              "    </tr>\n",
              "    <tr>\n",
              "      <th>4</th>\n",
              "      <td>2</td>\n",
              "      <td>5037</td>\n",
              "      <td>34</td>\n",
              "      <td>19</td>\n",
              "      <td>0.277068</td>\n",
              "      <td>0.654430</td>\n",
              "      <td>0.115980</td>\n",
              "      <td>1926.83</td>\n",
              "    </tr>\n",
              "    <tr>\n",
              "      <th>...</th>\n",
              "      <td>...</td>\n",
              "      <td>...</td>\n",
              "      <td>...</td>\n",
              "      <td>...</td>\n",
              "      <td>...</td>\n",
              "      <td>...</td>\n",
              "      <td>...</td>\n",
              "      <td>...</td>\n",
              "    </tr>\n",
              "    <tr>\n",
              "      <th>214195</th>\n",
              "      <td>46</td>\n",
              "      <td>969</td>\n",
              "      <td>34</td>\n",
              "      <td>37</td>\n",
              "      <td>0.277068</td>\n",
              "      <td>0.173617</td>\n",
              "      <td>0.292687</td>\n",
              "      <td>502.30</td>\n",
              "    </tr>\n",
              "    <tr>\n",
              "      <th>214196</th>\n",
              "      <td>41</td>\n",
              "      <td>969</td>\n",
              "      <td>34</td>\n",
              "      <td>37</td>\n",
              "      <td>0.277068</td>\n",
              "      <td>0.173617</td>\n",
              "      <td>0.188659</td>\n",
              "      <td>502.30</td>\n",
              "    </tr>\n",
              "    <tr>\n",
              "      <th>214197</th>\n",
              "      <td>44</td>\n",
              "      <td>969</td>\n",
              "      <td>34</td>\n",
              "      <td>37</td>\n",
              "      <td>0.277068</td>\n",
              "      <td>0.173617</td>\n",
              "      <td>0.176294</td>\n",
              "      <td>502.30</td>\n",
              "    </tr>\n",
              "    <tr>\n",
              "      <th>214198</th>\n",
              "      <td>39</td>\n",
              "      <td>969</td>\n",
              "      <td>34</td>\n",
              "      <td>37</td>\n",
              "      <td>0.277068</td>\n",
              "      <td>0.173617</td>\n",
              "      <td>0.114884</td>\n",
              "      <td>502.30</td>\n",
              "    </tr>\n",
              "    <tr>\n",
              "      <th>214199</th>\n",
              "      <td>45</td>\n",
              "      <td>969</td>\n",
              "      <td>34</td>\n",
              "      <td>37</td>\n",
              "      <td>0.277068</td>\n",
              "      <td>0.173617</td>\n",
              "      <td>0.161153</td>\n",
              "      <td>502.30</td>\n",
              "    </tr>\n",
              "  </tbody>\n",
              "</table>\n",
              "<p>214200 rows × 8 columns</p>\n",
              "</div>"
            ],
            "text/plain": [
              "        shop_id  item_id  ...  shop_target_enc  mean_price\n",
              "0             5     5037  ...         0.173480     1926.83\n",
              "1             4     5037  ...         0.167921     1926.83\n",
              "2             6     5037  ...         0.360782     1926.83\n",
              "3             3     5037  ...         0.112695     1926.83\n",
              "4             2     5037  ...         0.115980     1926.83\n",
              "...         ...      ...  ...              ...         ...\n",
              "214195       46      969  ...         0.292687      502.30\n",
              "214196       41      969  ...         0.188659      502.30\n",
              "214197       44      969  ...         0.176294      502.30\n",
              "214198       39      969  ...         0.114884      502.30\n",
              "214199       45      969  ...         0.161153      502.30\n",
              "\n",
              "[214200 rows x 8 columns]"
            ]
          },
          "metadata": {
            "tags": []
          },
          "execution_count": 29
        }
      ]
    },
    {
      "cell_type": "code",
      "metadata": {
        "id": "N-bBfCz7HeRN",
        "colab_type": "code",
        "outputId": "f6943742-ca04-482a-c760-0e1798eb318d",
        "colab": {
          "base_uri": "https://localhost:8080/",
          "height": 170
        }
      },
      "source": [
        "test.isna().sum()"
      ],
      "execution_count": 0,
      "outputs": [
        {
          "output_type": "execute_result",
          "data": {
            "text/plain": [
              "date_block_num             0\n",
              "shop_id                    0\n",
              "item_id                    0\n",
              "year                       0\n",
              "item_category_id           0\n",
              "item_target_enc            0\n",
              "category_target_enc        0\n",
              "mean_price             15372\n",
              "dtype: int64"
            ]
          },
          "metadata": {
            "tags": []
          },
          "execution_count": 74
        }
      ]
    },
    {
      "cell_type": "code",
      "metadata": {
        "id": "5NIet0WtHiBH",
        "colab_type": "code",
        "outputId": "30c2cd23-875d-46c2-fe9e-5e05f911a952",
        "colab": {
          "base_uri": "https://localhost:8080/",
          "height": 34
        }
      },
      "source": [
        "len([i for i in test.item_id.unique() if i not in sales.item_id.unique()])"
      ],
      "execution_count": 0,
      "outputs": [
        {
          "output_type": "execute_result",
          "data": {
            "text/plain": [
              "366"
            ]
          },
          "metadata": {
            "tags": []
          },
          "execution_count": 79
        }
      ]
    },
    {
      "cell_type": "code",
      "metadata": {
        "id": "heD4XNEpLagg",
        "colab_type": "code",
        "outputId": "de8b3206-4980-4f28-82d1-546a5a62af1d",
        "colab": {
          "base_uri": "https://localhost:8080/",
          "height": 34
        }
      },
      "source": [
        "test.item_id.nunique()"
      ],
      "execution_count": 0,
      "outputs": [
        {
          "output_type": "execute_result",
          "data": {
            "text/plain": [
              "5100"
            ]
          },
          "metadata": {
            "tags": []
          },
          "execution_count": 81
        }
      ]
    },
    {
      "cell_type": "markdown",
      "metadata": {
        "id": "DbYsVEXGHdZS",
        "colab_type": "text"
      },
      "source": [
        "there are `366` out of `5100` unique test item_id not in the train data so i will impute them with the category_id_mean_price"
      ]
    },
    {
      "cell_type": "code",
      "metadata": {
        "id": "ZGR7uJZoIEST",
        "colab_type": "code",
        "outputId": "d1afa50a-a358-4545-fb45-09284d7edec1",
        "colab": {
          "base_uri": "https://localhost:8080/",
          "height": 419
        }
      },
      "source": [
        "# for each category get its mean price\n",
        "category_mean_prices = pd.DataFrame(all_data.groupby('item_category_id')['mean_price'].mean()).reset_index()\n",
        "category_mean_prices"
      ],
      "execution_count": 0,
      "outputs": [
        {
          "output_type": "execute_result",
          "data": {
            "text/html": [
              "<div>\n",
              "<style scoped>\n",
              "    .dataframe tbody tr th:only-of-type {\n",
              "        vertical-align: middle;\n",
              "    }\n",
              "\n",
              "    .dataframe tbody tr th {\n",
              "        vertical-align: top;\n",
              "    }\n",
              "\n",
              "    .dataframe thead th {\n",
              "        text-align: right;\n",
              "    }\n",
              "</style>\n",
              "<table border=\"1\" class=\"dataframe\">\n",
              "  <thead>\n",
              "    <tr style=\"text-align: right;\">\n",
              "      <th></th>\n",
              "      <th>item_category_id</th>\n",
              "      <th>mean_price</th>\n",
              "    </tr>\n",
              "  </thead>\n",
              "  <tbody>\n",
              "    <tr>\n",
              "      <th>0</th>\n",
              "      <td>0</td>\n",
              "      <td>87.360584</td>\n",
              "    </tr>\n",
              "    <tr>\n",
              "      <th>1</th>\n",
              "      <td>1</td>\n",
              "      <td>216.241758</td>\n",
              "    </tr>\n",
              "    <tr>\n",
              "      <th>2</th>\n",
              "      <td>2</td>\n",
              "      <td>2376.713047</td>\n",
              "    </tr>\n",
              "    <tr>\n",
              "      <th>3</th>\n",
              "      <td>3</td>\n",
              "      <td>1689.994049</td>\n",
              "    </tr>\n",
              "    <tr>\n",
              "      <th>4</th>\n",
              "      <td>4</td>\n",
              "      <td>488.529793</td>\n",
              "    </tr>\n",
              "    <tr>\n",
              "      <th>...</th>\n",
              "      <td>...</td>\n",
              "      <td>...</td>\n",
              "    </tr>\n",
              "    <tr>\n",
              "      <th>79</th>\n",
              "      <td>79</td>\n",
              "      <td>1094.630000</td>\n",
              "    </tr>\n",
              "    <tr>\n",
              "      <th>80</th>\n",
              "      <td>80</td>\n",
              "      <td>1227.256667</td>\n",
              "    </tr>\n",
              "    <tr>\n",
              "      <th>81</th>\n",
              "      <td>81</td>\n",
              "      <td>247.967597</td>\n",
              "    </tr>\n",
              "    <tr>\n",
              "      <th>82</th>\n",
              "      <td>82</td>\n",
              "      <td>34.450027</td>\n",
              "    </tr>\n",
              "    <tr>\n",
              "      <th>83</th>\n",
              "      <td>83</td>\n",
              "      <td>106.628343</td>\n",
              "    </tr>\n",
              "  </tbody>\n",
              "</table>\n",
              "<p>84 rows × 2 columns</p>\n",
              "</div>"
            ],
            "text/plain": [
              "    item_category_id   mean_price\n",
              "0                  0    87.360584\n",
              "1                  1   216.241758\n",
              "2                  2  2376.713047\n",
              "3                  3  1689.994049\n",
              "4                  4   488.529793\n",
              "..               ...          ...\n",
              "79                79  1094.630000\n",
              "80                80  1227.256667\n",
              "81                81   247.967597\n",
              "82                82    34.450027\n",
              "83                83   106.628343\n",
              "\n",
              "[84 rows x 2 columns]"
            ]
          },
          "metadata": {
            "tags": []
          },
          "execution_count": 31
        }
      ]
    },
    {
      "cell_type": "code",
      "metadata": {
        "id": "56YSCuAUSY0t",
        "colab_type": "code",
        "outputId": "9e207cc7-32ea-4761-cc92-01cc5fb306aa",
        "colab": {
          "base_uri": "https://localhost:8080/",
          "height": 34
        }
      },
      "source": [
        "missing_cat = [i for i in test.item_category_id.unique() if i not in category_mean_prices.item_category_id.unique()]\n",
        "missing_cat"
      ],
      "execution_count": 0,
      "outputs": [
        {
          "output_type": "execute_result",
          "data": {
            "text/plain": [
              "[]"
            ]
          },
          "metadata": {
            "tags": []
          },
          "execution_count": 32
        }
      ]
    },
    {
      "cell_type": "code",
      "metadata": {
        "id": "zbgmJ-zaL0AJ",
        "colab_type": "code",
        "colab": {}
      },
      "source": [
        "dic = {}\n",
        "for i in category_mean_prices.item_category_id.unique() :\n",
        "  dic[i] =category_mean_prices[category_mean_prices.item_category_id == i]['mean_price'].values[0]\n",
        "\n",
        "for i in  missing_cat :\n",
        "  dic[i] = all_data.mean_price.mean() #fill with the global mean"
      ],
      "execution_count": 0,
      "outputs": []
    },
    {
      "cell_type": "code",
      "metadata": {
        "id": "D2qdm0AzRI6s",
        "colab_type": "code",
        "colab": {}
      },
      "source": [
        "ind = test[test.mean_price.isna()].index\n",
        "for i in ind :\n",
        "  test.loc[i , 'mean_price'] = dic[test.loc[i , 'item_category_id']]"
      ],
      "execution_count": 0,
      "outputs": []
    },
    {
      "cell_type": "code",
      "metadata": {
        "id": "IVIByubeflq0",
        "colab_type": "code",
        "outputId": "55e75e41-3778-4bab-88c9-5ed6ad93774d",
        "colab": {
          "base_uri": "https://localhost:8080/",
          "height": 71
        }
      },
      "source": [
        "xgb = XGBRegressor(verbose = False , n_jobs = -1 ,random_state = random_state)\n",
        "xgb.fit(all_data.drop(['item_cnt_month','item_id','item_category_id'],axis = 1), all_data.item_cnt_month)\n",
        "\n",
        "# saving the model in order to run it again witout taking so much time\n",
        "file_name = 'xgb_mean_encoding_with_price.sav'\n",
        "pickle.dump(xgb , open(file_name, 'wb'))\n",
        "\n",
        "# submitting in the leaderboard\n",
        "#xgb = pickle.load(open('', 'rb'))\n",
        "preds_xgb = xgb.predict(test.drop(['item_id','item_category_id'],axis = 1))\n",
        "sub = sample_submission\n",
        "sub.item_cnt_month = preds_xgb\n",
        "sub.to_csv('xgb_mean_encoding_with_price.csv' , index = False)"
      ],
      "execution_count": 0,
      "outputs": [
        {
          "output_type": "stream",
          "text": [
            "[22:55:07] WARNING: /workspace/src/objective/regression_obj.cu:152: reg:linear is now deprecated in favor of reg:squarederror.\n",
            "[22:55:07] WARNING: /workspace/src/learner.cc:686: Tree method is automatically selected to be 'approx' for faster speed. To use old behavior (exact greedy algorithm on single machine), set tree_method to 'exact'.\n"
          ],
          "name": "stdout"
        }
      ]
    },
    {
      "cell_type": "markdown",
      "metadata": {
        "id": "NaUnolvjnjF0",
        "colab_type": "text"
      },
      "source": [
        "Accuracy is the same"
      ]
    },
    {
      "cell_type": "markdown",
      "metadata": {
        "id": "VE7BtWnC9eKf",
        "colab_type": "text"
      },
      "source": [
        "adding the year"
      ]
    },
    {
      "cell_type": "code",
      "metadata": {
        "id": "gjBcxjtH5gP0",
        "colab_type": "code",
        "outputId": "44640d08-4210-4a0a-c6b2-7f7e15daf638",
        "colab": {
          "base_uri": "https://localhost:8080/",
          "height": 439
        }
      },
      "source": [
        "all_data['year'] = all_data['date_block_num'].map(lambda x : 2013 if x < 12 else 2014 if x < 24 else 2015)\n",
        "test['year'] = 2015\n",
        "all_data"
      ],
      "execution_count": 0,
      "outputs": [
        {
          "output_type": "execute_result",
          "data": {
            "text/html": [
              "<div>\n",
              "<style scoped>\n",
              "    .dataframe tbody tr th:only-of-type {\n",
              "        vertical-align: middle;\n",
              "    }\n",
              "\n",
              "    .dataframe tbody tr th {\n",
              "        vertical-align: top;\n",
              "    }\n",
              "\n",
              "    .dataframe thead th {\n",
              "        text-align: right;\n",
              "    }\n",
              "</style>\n",
              "<table border=\"1\" class=\"dataframe\">\n",
              "  <thead>\n",
              "    <tr style=\"text-align: right;\">\n",
              "      <th></th>\n",
              "      <th>shop_id</th>\n",
              "      <th>item_id</th>\n",
              "      <th>date_block_num</th>\n",
              "      <th>item_cnt_month</th>\n",
              "      <th>item_category_id</th>\n",
              "      <th>item_target_enc</th>\n",
              "      <th>category_target_enc</th>\n",
              "      <th>shop_target_enc</th>\n",
              "      <th>mean_price</th>\n",
              "      <th>year</th>\n",
              "    </tr>\n",
              "  </thead>\n",
              "  <tbody>\n",
              "    <tr>\n",
              "      <th>0</th>\n",
              "      <td>0</td>\n",
              "      <td>12</td>\n",
              "      <td>1</td>\n",
              "      <td>0</td>\n",
              "      <td>55</td>\n",
              "      <td>0.277068</td>\n",
              "      <td>0.244224</td>\n",
              "      <td>0.542470</td>\n",
              "      <td>189.0</td>\n",
              "      <td>2013</td>\n",
              "    </tr>\n",
              "    <tr>\n",
              "      <th>1</th>\n",
              "      <td>1</td>\n",
              "      <td>12</td>\n",
              "      <td>1</td>\n",
              "      <td>0</td>\n",
              "      <td>55</td>\n",
              "      <td>0.277068</td>\n",
              "      <td>0.244224</td>\n",
              "      <td>0.331652</td>\n",
              "      <td>189.0</td>\n",
              "      <td>2013</td>\n",
              "    </tr>\n",
              "    <tr>\n",
              "      <th>2</th>\n",
              "      <td>2</td>\n",
              "      <td>12</td>\n",
              "      <td>1</td>\n",
              "      <td>0</td>\n",
              "      <td>55</td>\n",
              "      <td>0.277068</td>\n",
              "      <td>0.244224</td>\n",
              "      <td>0.108152</td>\n",
              "      <td>189.0</td>\n",
              "      <td>2013</td>\n",
              "    </tr>\n",
              "    <tr>\n",
              "      <th>3</th>\n",
              "      <td>3</td>\n",
              "      <td>12</td>\n",
              "      <td>1</td>\n",
              "      <td>0</td>\n",
              "      <td>55</td>\n",
              "      <td>0.277068</td>\n",
              "      <td>0.244224</td>\n",
              "      <td>0.105209</td>\n",
              "      <td>189.0</td>\n",
              "      <td>2013</td>\n",
              "    </tr>\n",
              "    <tr>\n",
              "      <th>4</th>\n",
              "      <td>4</td>\n",
              "      <td>12</td>\n",
              "      <td>1</td>\n",
              "      <td>0</td>\n",
              "      <td>55</td>\n",
              "      <td>0.277068</td>\n",
              "      <td>0.244224</td>\n",
              "      <td>0.147489</td>\n",
              "      <td>189.0</td>\n",
              "      <td>2013</td>\n",
              "    </tr>\n",
              "    <tr>\n",
              "      <th>...</th>\n",
              "      <td>...</td>\n",
              "      <td>...</td>\n",
              "      <td>...</td>\n",
              "      <td>...</td>\n",
              "      <td>...</td>\n",
              "      <td>...</td>\n",
              "      <td>...</td>\n",
              "      <td>...</td>\n",
              "      <td>...</td>\n",
              "      <td>...</td>\n",
              "    </tr>\n",
              "    <tr>\n",
              "      <th>10913845</th>\n",
              "      <td>55</td>\n",
              "      <td>22169</td>\n",
              "      <td>14</td>\n",
              "      <td>0</td>\n",
              "      <td>69</td>\n",
              "      <td>0.277068</td>\n",
              "      <td>0.176874</td>\n",
              "      <td>0.171766</td>\n",
              "      <td>4349.0</td>\n",
              "      <td>2014</td>\n",
              "    </tr>\n",
              "    <tr>\n",
              "      <th>10913846</th>\n",
              "      <td>56</td>\n",
              "      <td>22169</td>\n",
              "      <td>14</td>\n",
              "      <td>0</td>\n",
              "      <td>69</td>\n",
              "      <td>0.277068</td>\n",
              "      <td>0.176874</td>\n",
              "      <td>0.301092</td>\n",
              "      <td>4349.0</td>\n",
              "      <td>2014</td>\n",
              "    </tr>\n",
              "    <tr>\n",
              "      <th>10913847</th>\n",
              "      <td>57</td>\n",
              "      <td>22169</td>\n",
              "      <td>14</td>\n",
              "      <td>0</td>\n",
              "      <td>69</td>\n",
              "      <td>0.277068</td>\n",
              "      <td>0.176874</td>\n",
              "      <td>0.521881</td>\n",
              "      <td>4349.0</td>\n",
              "      <td>2014</td>\n",
              "    </tr>\n",
              "    <tr>\n",
              "      <th>10913848</th>\n",
              "      <td>58</td>\n",
              "      <td>22169</td>\n",
              "      <td>14</td>\n",
              "      <td>0</td>\n",
              "      <td>69</td>\n",
              "      <td>0.277068</td>\n",
              "      <td>0.176874</td>\n",
              "      <td>0.323199</td>\n",
              "      <td>4349.0</td>\n",
              "      <td>2014</td>\n",
              "    </tr>\n",
              "    <tr>\n",
              "      <th>10913849</th>\n",
              "      <td>59</td>\n",
              "      <td>22169</td>\n",
              "      <td>14</td>\n",
              "      <td>0</td>\n",
              "      <td>69</td>\n",
              "      <td>0.277068</td>\n",
              "      <td>0.176874</td>\n",
              "      <td>0.189415</td>\n",
              "      <td>4349.0</td>\n",
              "      <td>2014</td>\n",
              "    </tr>\n",
              "  </tbody>\n",
              "</table>\n",
              "<p>10913850 rows × 10 columns</p>\n",
              "</div>"
            ],
            "text/plain": [
              "          shop_id  item_id  date_block_num  ...  shop_target_enc  mean_price  year\n",
              "0               0       12               1  ...         0.542470       189.0  2013\n",
              "1               1       12               1  ...         0.331652       189.0  2013\n",
              "2               2       12               1  ...         0.108152       189.0  2013\n",
              "3               3       12               1  ...         0.105209       189.0  2013\n",
              "4               4       12               1  ...         0.147489       189.0  2013\n",
              "...           ...      ...             ...  ...              ...         ...   ...\n",
              "10913845       55    22169              14  ...         0.171766      4349.0  2014\n",
              "10913846       56    22169              14  ...         0.301092      4349.0  2014\n",
              "10913847       57    22169              14  ...         0.521881      4349.0  2014\n",
              "10913848       58    22169              14  ...         0.323199      4349.0  2014\n",
              "10913849       59    22169              14  ...         0.189415      4349.0  2014\n",
              "\n",
              "[10913850 rows x 10 columns]"
            ]
          },
          "metadata": {
            "tags": []
          },
          "execution_count": 35
        }
      ]
    },
    {
      "cell_type": "code",
      "metadata": {
        "id": "EftJnmtM-oKj",
        "colab_type": "code",
        "outputId": "ca4c3245-35a1-4391-b4e8-bde58a99343b",
        "colab": {
          "base_uri": "https://localhost:8080/",
          "height": 306
        }
      },
      "source": [
        "all_data = downcasting(all_data) # reducing memory usage\n",
        "all_data.info()"
      ],
      "execution_count": 0,
      "outputs": [
        {
          "output_type": "stream",
          "text": [
            "<class 'pandas.core.frame.DataFrame'>\n",
            "Int64Index: 10913850 entries, 0 to 10913849\n",
            "Data columns (total 10 columns):\n",
            " #   Column               Dtype  \n",
            "---  ------               -----  \n",
            " 0   shop_id              int16  \n",
            " 1   item_id              int16  \n",
            " 2   date_block_num       int16  \n",
            " 3   item_cnt_month       int16  \n",
            " 4   item_category_id     int16  \n",
            " 5   item_target_enc      float32\n",
            " 6   category_target_enc  float32\n",
            " 7   shop_target_enc      float32\n",
            " 8   mean_price           float32\n",
            " 9   year                 int16  \n",
            "dtypes: float32(4), int16(6)\n",
            "memory usage: 374.7 MB\n"
          ],
          "name": "stdout"
        }
      ]
    },
    {
      "cell_type": "markdown",
      "metadata": {
        "id": "855rYcG6uwku",
        "colab_type": "text"
      },
      "source": [
        "# Adding lags"
      ]
    },
    {
      "cell_type": "code",
      "metadata": {
        "id": "rMx80OpUu6UC",
        "colab_type": "code",
        "colab": {}
      },
      "source": [
        "# train lags with\n",
        "lag_list = [1, 2, 3 ]\n",
        "\n",
        "for lag in lag_list:\n",
        "    ft_name = ('item_cnt_month_shifted%s' % lag)\n",
        "    all_data[ft_name] = all_data.sort_values('date_block_num').groupby(['shop_id','item_id'])['item_cnt_month'].shift(lag)\n",
        "    # Fill the empty shifted features with 0\n",
        "    all_data[ft_name].fillna(0, inplace=True)"
      ],
      "execution_count": 0,
      "outputs": []
    },
    {
      "cell_type": "code",
      "metadata": {
        "id": "X7WVfpYNu8P-",
        "colab_type": "code",
        "colab": {}
      },
      "source": [
        "all_data_lags[all_data_lags.item_id ==13881 ].sort_values(['date_block_num','shop_id']).tail(60)"
      ],
      "execution_count": 0,
      "outputs": []
    },
    {
      "cell_type": "code",
      "metadata": {
        "id": "0yNZLoG9kB9P",
        "colab_type": "code",
        "outputId": "d2a802a3-b2c9-4426-e626-d957b92d2d46",
        "colab": {
          "base_uri": "https://localhost:8080/",
          "height": 357
        }
      },
      "source": [
        "all_data.info()"
      ],
      "execution_count": 0,
      "outputs": [
        {
          "output_type": "stream",
          "text": [
            "<class 'pandas.core.frame.DataFrame'>\n",
            "Int64Index: 10913850 entries, 0 to 10913849\n",
            "Data columns (total 13 columns):\n",
            " #   Column                   Dtype  \n",
            "---  ------                   -----  \n",
            " 0   shop_id                  int16  \n",
            " 1   item_id                  int16  \n",
            " 2   date_block_num           int16  \n",
            " 3   item_cnt_month           int16  \n",
            " 4   item_category_id         int16  \n",
            " 5   item_target_enc          float32\n",
            " 6   category_target_enc      float32\n",
            " 7   shop_target_enc          float32\n",
            " 8   mean_price               float32\n",
            " 9   year                     int16  \n",
            " 10  item_cnt_month_shifted1  float64\n",
            " 11  item_cnt_month_shifted2  float64\n",
            " 12  item_cnt_month_shifted3  float64\n",
            "dtypes: float32(4), float64(3), int16(6)\n",
            "memory usage: 624.5 MB\n"
          ],
          "name": "stdout"
        }
      ]
    },
    {
      "cell_type": "code",
      "metadata": {
        "id": "2Mso_N_rACGl",
        "colab_type": "code",
        "outputId": "2620ec05-45a9-4350-908b-4a7947a8dd49",
        "colab": {
          "base_uri": "https://localhost:8080/",
          "height": 357
        }
      },
      "source": [
        "all_data.item_cnt_month_shifted1  = all_data.item_cnt_month_shifted1.astype('int8')\n",
        "all_data.item_cnt_month_shifted2  = all_data.item_cnt_month_shifted2.astype('int8')\n",
        "all_data.item_cnt_month_shifted3  = all_data.item_cnt_month_shifted3.astype('int8')\n",
        "all_data.info()"
      ],
      "execution_count": 0,
      "outputs": [
        {
          "output_type": "stream",
          "text": [
            "<class 'pandas.core.frame.DataFrame'>\n",
            "Int64Index: 10913850 entries, 0 to 10913849\n",
            "Data columns (total 13 columns):\n",
            " #   Column                   Dtype  \n",
            "---  ------                   -----  \n",
            " 0   shop_id                  int16  \n",
            " 1   item_id                  int16  \n",
            " 2   date_block_num           int16  \n",
            " 3   item_cnt_month           int16  \n",
            " 4   item_category_id         int16  \n",
            " 5   item_target_enc          float32\n",
            " 6   category_target_enc      float32\n",
            " 7   shop_target_enc          float32\n",
            " 8   mean_price               float32\n",
            " 9   year                     int16  \n",
            " 10  item_cnt_month_shifted1  int8   \n",
            " 11  item_cnt_month_shifted2  int8   \n",
            " 12  item_cnt_month_shifted3  int8   \n",
            "dtypes: float32(4), int16(6), int8(3)\n",
            "memory usage: 405.9 MB\n"
          ],
          "name": "stdout"
        }
      ]
    },
    {
      "cell_type": "markdown",
      "metadata": {
        "id": "ZJgCvNbyoFds",
        "colab_type": "text"
      },
      "source": [
        "the memory usage is reduced to the half"
      ]
    },
    {
      "cell_type": "markdown",
      "metadata": {
        "id": "f-9-avpU-gO4",
        "colab_type": "text"
      },
      "source": [
        "adding the lags to the test data"
      ]
    },
    {
      "cell_type": "code",
      "metadata": {
        "id": "TCNDdwIJOZ14",
        "colab_type": "code",
        "colab": {}
      },
      "source": [
        "def get_test_lags(all_data , test, lag) :\n",
        "    \n",
        "    shifted = all_data[['date_block_num','shop_id','item_id', 'item_cnt_month']]\n",
        "    shifted.columns = ['date_block_num','shop_id','item_id', 'item_cnt_month_shifted'+ str(lag)]\n",
        "    shifted['date_block_num'] -= lag\n",
        "    test_lag = pd.merge(test, shifted, on=['date_block_num','shop_id','item_id'] , how = 'left')\n",
        "    return test_lag['item_cnt_month_shifted'+ str(lag)] #return the last column (the lags) "
      ],
      "execution_count": 0,
      "outputs": []
    },
    {
      "cell_type": "code",
      "metadata": {
        "id": "Bg8_TAZDP3f4",
        "colab_type": "code",
        "colab": {}
      },
      "source": [
        "test_lags = test.copy()\n",
        "for lag in range(1,4):\n",
        "    lag_values = get_test_lags(all_data ,test, lag)\n",
        "    test_lags['item_cnt_month_shifted'+ str(lag)] = lag_values\n",
        "test_lags.fillna(0 , inplace = True)    "
      ],
      "execution_count": 0,
      "outputs": []
    },
    {
      "cell_type": "markdown",
      "metadata": {
        "id": "cRiWGbH9RT3a",
        "colab_type": "text"
      },
      "source": [
        "from `1.238` to`1.230` "
      ]
    },
    {
      "cell_type": "code",
      "metadata": {
        "id": "2yvUjLjdRChh",
        "colab_type": "code",
        "colab": {}
      },
      "source": [
        "all_data_l = all_data.copy()\n",
        "all_data_l['date_block_num'] += 1\n",
        "test_lags1 = test.merge(all_data_l[['date_block_num','shop_id','item_id', 'item_cnt_month','item_cnt_month_shifted1','item_cnt_month_shifted2']] , how = 'left' , on =['date_block_num', 'item_id','shop_id'] )\n",
        "test_lags1 = test_lags1.rename(columns = {'item_cnt_month':'item_cnt_month_shifted1' , 'item_cnt_month_shifted1':'item_cnt_month_shifted2','itemm_cnt_month_shifted2':'itemm_cnt_month_shifted3'})"
      ],
      "execution_count": 0,
      "outputs": []
    },
    {
      "cell_type": "code",
      "metadata": {
        "id": "2xP7MsicSXjh",
        "colab_type": "code",
        "colab": {}
      },
      "source": [
        "test_lags1.fillna(0 , inplace = True)"
      ],
      "execution_count": 0,
      "outputs": []
    },
    {
      "cell_type": "markdown",
      "metadata": {
        "id": "ynVxQLL6oeCD",
        "colab_type": "text"
      },
      "source": [
        "testing the lags impact"
      ]
    },
    {
      "cell_type": "code",
      "metadata": {
        "id": "p4B4gMG61ZHQ",
        "colab_type": "code",
        "outputId": "6c00c8d6-5afd-4b92-bf88-70fc7e54640f",
        "colab": {
          "base_uri": "https://localhost:8080/",
          "height": 71
        }
      },
      "source": [
        "xgb = XGBRegressor(verbose = False , n_jobs = -1,random_state = random_state)\n",
        "xgb.fit(all_data.drop(['item_cnt_month','item_id','item_category_id','mean_price'],axis = 1), all_data.item_cnt_month)\n",
        "\n",
        "# saving the model in order to run it again witout taking so much time\n",
        "file_name = 'xgb_adding_lags.sav'\n",
        "pickle.dump(xgb , open(file_name, 'wb'))\n"
      ],
      "execution_count": 0,
      "outputs": [
        {
          "output_type": "stream",
          "text": [
            "[00:58:15] WARNING: /workspace/src/objective/regression_obj.cu:152: reg:linear is now deprecated in favor of reg:squarederror.\n",
            "[00:58:15] WARNING: /workspace/src/learner.cc:686: Tree method is automatically selected to be 'approx' for faster speed. To use old behavior (exact greedy algorithm on single machine), set tree_method to 'exact'.\n"
          ],
          "name": "stdout"
        }
      ]
    },
    {
      "cell_type": "code",
      "metadata": {
        "id": "lD8BRuRHr0G-",
        "colab_type": "code",
        "colab": {}
      },
      "source": [
        "# submitting in the leaderboard\n",
        "#xgb = pickle.load(open('', 'rb'))\n",
        "test_lags = test_lags[all_data.drop('item_cnt_month' , axis = 1).columns]\n",
        "preds_xgb = xgb.predict(test_lags.drop(['item_id','item_category_id','mean_price'],axis = 1))\n",
        "sub = sample_submission\n",
        "sub.item_cnt_month = preds_xgb\n",
        "sub.to_csv('xgb_adding_lags7.csv' , index = False)"
      ],
      "execution_count": 0,
      "outputs": []
    },
    {
      "cell_type": "markdown",
      "metadata": {
        "id": "mgdsg5cyS1f-",
        "colab_type": "text"
      },
      "source": [
        "adding item category name"
      ]
    },
    {
      "cell_type": "code",
      "metadata": {
        "id": "Ld9slT6Yu9CT",
        "colab_type": "code",
        "colab": {}
      },
      "source": [
        "all_data = all_data.merge(item_categories) # getting the item_category_name\n",
        "test = test_lags.merge(item_categories) # getting the item_category_name "
      ],
      "execution_count": 0,
      "outputs": []
    },
    {
      "cell_type": "markdown",
      "metadata": {
        "id": "MCeqygL5-Rhu",
        "colab_type": "text"
      },
      "source": [
        "adding main category and subcategory"
      ]
    },
    {
      "cell_type": "code",
      "metadata": {
        "id": "m1qKQmr6TgCC",
        "colab_type": "code",
        "colab": {}
      },
      "source": [
        "all_data['main_category'] = all_data.item_category_name_translated.str.split('-').map(lambda x: x[0].strip()) \n",
        "all_data['sub_category'] = all_data.item_category_name_translated.str.split('-').map(lambda x: x[1].strip() if len(x) > 1 else x[0].strip())"
      ],
      "execution_count": 0,
      "outputs": []
    },
    {
      "cell_type": "code",
      "metadata": {
        "id": "KrdVJ4XojuMd",
        "colab_type": "code",
        "colab": {}
      },
      "source": [
        "test['main_category'] = test.item_category_name_translated.str.split('-').map(lambda x: x[0].strip()) \n",
        "test['sub_category'] = test.item_category_name_translated.str.split('-').map(lambda x: x[1].strip() if len(x) > 1 else x[0].strip())"
      ],
      "execution_count": 0,
      "outputs": []
    },
    {
      "cell_type": "code",
      "metadata": {
        "id": "1Hqp7MMhjuYX",
        "colab_type": "code",
        "outputId": "261d3e11-40c2-44f6-9e5d-926b4b6b6c01",
        "colab": {
          "base_uri": "https://localhost:8080/",
          "height": 136
        }
      },
      "source": [
        "shops.shop_name_translated.unique()[:10]"
      ],
      "execution_count": 0,
      "outputs": [
        {
          "output_type": "execute_result",
          "data": {
            "text/plain": [
              "array(['Yakutsk Ordzhonikidze, 56 francs', 'Yakutsk TC \"Central\" franc',\n",
              "       'Adygea Shopping Center \"Mega\"',\n",
              "       'Balashikha TRK \"October-Kinomir\"',\n",
              "       'Volzhsky shopping center \"Volga Mall\"',\n",
              "       'Vologda Shopping and Entertainment Center \"Marmalade\"',\n",
              "       'Voronezh (Plekhanovskaya, 13)', 'Voronezh TRC \"Maksimir\"',\n",
              "       'Voronezh TRC City-Park \"Grad\"', 'Outbound Trade'], dtype=object)"
            ]
          },
          "metadata": {
            "tags": []
          },
          "execution_count": 201
        }
      ]
    },
    {
      "cell_type": "markdown",
      "metadata": {
        "id": "UMMQQkOyjzPy",
        "colab_type": "text"
      },
      "source": [
        "the start of every shop_name is a city"
      ]
    },
    {
      "cell_type": "code",
      "metadata": {
        "id": "fECZ6-uHjy5j",
        "colab_type": "code",
        "outputId": "7b0b3781-b74a-446c-c0ef-a3bc212e79e7",
        "colab": {
          "base_uri": "https://localhost:8080/",
          "height": 609
        }
      },
      "source": [
        "all_data = all_data.merge(shops) #adding shop_name\n",
        "all_data['city'] = all_data.shop_name_translated.str.split(' ').map(lambda x : x[0]) #the first word is a city name\n",
        "all_data"
      ],
      "execution_count": 0,
      "outputs": [
        {
          "output_type": "execute_result",
          "data": {
            "text/html": [
              "<div>\n",
              "<style scoped>\n",
              "    .dataframe tbody tr th:only-of-type {\n",
              "        vertical-align: middle;\n",
              "    }\n",
              "\n",
              "    .dataframe tbody tr th {\n",
              "        vertical-align: top;\n",
              "    }\n",
              "\n",
              "    .dataframe thead th {\n",
              "        text-align: right;\n",
              "    }\n",
              "</style>\n",
              "<table border=\"1\" class=\"dataframe\">\n",
              "  <thead>\n",
              "    <tr style=\"text-align: right;\">\n",
              "      <th></th>\n",
              "      <th>shop_id</th>\n",
              "      <th>item_id</th>\n",
              "      <th>date_block_num</th>\n",
              "      <th>item_cnt_month</th>\n",
              "      <th>item_category_id</th>\n",
              "      <th>item_target_enc</th>\n",
              "      <th>category_target_enc</th>\n",
              "      <th>shop_target_enc</th>\n",
              "      <th>mean_price</th>\n",
              "      <th>year</th>\n",
              "      <th>item_cnt_month_shifted1</th>\n",
              "      <th>item_cnt_month_shifted2</th>\n",
              "      <th>item_cnt_month_shifted3</th>\n",
              "      <th>item_category_name_translated</th>\n",
              "      <th>main_category</th>\n",
              "      <th>sub_category</th>\n",
              "      <th>shop_name_translated</th>\n",
              "      <th>city</th>\n",
              "    </tr>\n",
              "  </thead>\n",
              "  <tbody>\n",
              "    <tr>\n",
              "      <th>0</th>\n",
              "      <td>0</td>\n",
              "      <td>12</td>\n",
              "      <td>1</td>\n",
              "      <td>0</td>\n",
              "      <td>55</td>\n",
              "      <td>0.277068</td>\n",
              "      <td>0.244224</td>\n",
              "      <td>0.542470</td>\n",
              "      <td>189.000000</td>\n",
              "      <td>2013</td>\n",
              "      <td>0</td>\n",
              "      <td>0</td>\n",
              "      <td>0</td>\n",
              "      <td>Music - CD of local production</td>\n",
              "      <td>Music</td>\n",
              "      <td>CD of local production</td>\n",
              "      <td>Yakutsk Ordzhonikidze, 56 francs</td>\n",
              "      <td>Yakutsk</td>\n",
              "    </tr>\n",
              "    <tr>\n",
              "      <th>1</th>\n",
              "      <td>0</td>\n",
              "      <td>970</td>\n",
              "      <td>0</td>\n",
              "      <td>0</td>\n",
              "      <td>55</td>\n",
              "      <td>0.277068</td>\n",
              "      <td>0.244224</td>\n",
              "      <td>0.542470</td>\n",
              "      <td>301.200012</td>\n",
              "      <td>2013</td>\n",
              "      <td>0</td>\n",
              "      <td>0</td>\n",
              "      <td>0</td>\n",
              "      <td>Music - CD of local production</td>\n",
              "      <td>Music</td>\n",
              "      <td>CD of local production</td>\n",
              "      <td>Yakutsk Ordzhonikidze, 56 francs</td>\n",
              "      <td>Yakutsk</td>\n",
              "    </tr>\n",
              "    <tr>\n",
              "      <th>2</th>\n",
              "      <td>0</td>\n",
              "      <td>970</td>\n",
              "      <td>1</td>\n",
              "      <td>1</td>\n",
              "      <td>55</td>\n",
              "      <td>0.277068</td>\n",
              "      <td>0.244224</td>\n",
              "      <td>0.542470</td>\n",
              "      <td>301.200012</td>\n",
              "      <td>2013</td>\n",
              "      <td>0</td>\n",
              "      <td>0</td>\n",
              "      <td>0</td>\n",
              "      <td>Music - CD of local production</td>\n",
              "      <td>Music</td>\n",
              "      <td>CD of local production</td>\n",
              "      <td>Yakutsk Ordzhonikidze, 56 francs</td>\n",
              "      <td>Yakutsk</td>\n",
              "    </tr>\n",
              "    <tr>\n",
              "      <th>3</th>\n",
              "      <td>0</td>\n",
              "      <td>971</td>\n",
              "      <td>0</td>\n",
              "      <td>0</td>\n",
              "      <td>55</td>\n",
              "      <td>0.277068</td>\n",
              "      <td>0.244224</td>\n",
              "      <td>0.542470</td>\n",
              "      <td>308.209991</td>\n",
              "      <td>2013</td>\n",
              "      <td>0</td>\n",
              "      <td>0</td>\n",
              "      <td>0</td>\n",
              "      <td>Music - CD of local production</td>\n",
              "      <td>Music</td>\n",
              "      <td>CD of local production</td>\n",
              "      <td>Yakutsk Ordzhonikidze, 56 francs</td>\n",
              "      <td>Yakutsk</td>\n",
              "    </tr>\n",
              "    <tr>\n",
              "      <th>4</th>\n",
              "      <td>0</td>\n",
              "      <td>971</td>\n",
              "      <td>1</td>\n",
              "      <td>1</td>\n",
              "      <td>55</td>\n",
              "      <td>0.277068</td>\n",
              "      <td>0.244224</td>\n",
              "      <td>0.542470</td>\n",
              "      <td>308.209991</td>\n",
              "      <td>2013</td>\n",
              "      <td>0</td>\n",
              "      <td>0</td>\n",
              "      <td>0</td>\n",
              "      <td>Music - CD of local production</td>\n",
              "      <td>Music</td>\n",
              "      <td>CD of local production</td>\n",
              "      <td>Yakutsk Ordzhonikidze, 56 francs</td>\n",
              "      <td>Yakutsk</td>\n",
              "    </tr>\n",
              "    <tr>\n",
              "      <th>...</th>\n",
              "      <td>...</td>\n",
              "      <td>...</td>\n",
              "      <td>...</td>\n",
              "      <td>...</td>\n",
              "      <td>...</td>\n",
              "      <td>...</td>\n",
              "      <td>...</td>\n",
              "      <td>...</td>\n",
              "      <td>...</td>\n",
              "      <td>...</td>\n",
              "      <td>...</td>\n",
              "      <td>...</td>\n",
              "      <td>...</td>\n",
              "      <td>...</td>\n",
              "      <td>...</td>\n",
              "      <td>...</td>\n",
              "      <td>...</td>\n",
              "      <td>...</td>\n",
              "    </tr>\n",
              "    <tr>\n",
              "      <th>10913845</th>\n",
              "      <td>58</td>\n",
              "      <td>16835</td>\n",
              "      <td>26</td>\n",
              "      <td>0</td>\n",
              "      <td>50</td>\n",
              "      <td>0.277068</td>\n",
              "      <td>0.277068</td>\n",
              "      <td>0.323199</td>\n",
              "      <td>24.000000</td>\n",
              "      <td>2015</td>\n",
              "      <td>0</td>\n",
              "      <td>0</td>\n",
              "      <td>0</td>\n",
              "      <td>Books - Postcards</td>\n",
              "      <td>Books</td>\n",
              "      <td>Postcards</td>\n",
              "      <td>Yakutsk Central shopping center</td>\n",
              "      <td>Yakutsk</td>\n",
              "    </tr>\n",
              "    <tr>\n",
              "      <th>10913846</th>\n",
              "      <td>58</td>\n",
              "      <td>17703</td>\n",
              "      <td>18</td>\n",
              "      <td>0</td>\n",
              "      <td>51</td>\n",
              "      <td>0.277068</td>\n",
              "      <td>0.277068</td>\n",
              "      <td>0.323199</td>\n",
              "      <td>129.000000</td>\n",
              "      <td>2014</td>\n",
              "      <td>0</td>\n",
              "      <td>0</td>\n",
              "      <td>0</td>\n",
              "      <td>Books - Cognitive Literature</td>\n",
              "      <td>Books</td>\n",
              "      <td>Cognitive Literature</td>\n",
              "      <td>Yakutsk Central shopping center</td>\n",
              "      <td>Yakutsk</td>\n",
              "    </tr>\n",
              "    <tr>\n",
              "      <th>10913847</th>\n",
              "      <td>58</td>\n",
              "      <td>19700</td>\n",
              "      <td>11</td>\n",
              "      <td>0</td>\n",
              "      <td>53</td>\n",
              "      <td>0.277068</td>\n",
              "      <td>0.277068</td>\n",
              "      <td>0.323199</td>\n",
              "      <td>299.000000</td>\n",
              "      <td>2013</td>\n",
              "      <td>0</td>\n",
              "      <td>0</td>\n",
              "      <td>0</td>\n",
              "      <td>Books - Fiction</td>\n",
              "      <td>Books</td>\n",
              "      <td>Fiction</td>\n",
              "      <td>Yakutsk Central shopping center</td>\n",
              "      <td>Yakutsk</td>\n",
              "    </tr>\n",
              "    <tr>\n",
              "      <th>10913848</th>\n",
              "      <td>58</td>\n",
              "      <td>19701</td>\n",
              "      <td>13</td>\n",
              "      <td>0</td>\n",
              "      <td>53</td>\n",
              "      <td>0.277068</td>\n",
              "      <td>0.277068</td>\n",
              "      <td>0.323199</td>\n",
              "      <td>349.000000</td>\n",
              "      <td>2014</td>\n",
              "      <td>0</td>\n",
              "      <td>0</td>\n",
              "      <td>0</td>\n",
              "      <td>Books - Fiction</td>\n",
              "      <td>Books</td>\n",
              "      <td>Fiction</td>\n",
              "      <td>Yakutsk Central shopping center</td>\n",
              "      <td>Yakutsk</td>\n",
              "    </tr>\n",
              "    <tr>\n",
              "      <th>10913849</th>\n",
              "      <td>58</td>\n",
              "      <td>20273</td>\n",
              "      <td>9</td>\n",
              "      <td>0</td>\n",
              "      <td>53</td>\n",
              "      <td>0.277068</td>\n",
              "      <td>0.277068</td>\n",
              "      <td>0.323199</td>\n",
              "      <td>199.000000</td>\n",
              "      <td>2013</td>\n",
              "      <td>0</td>\n",
              "      <td>0</td>\n",
              "      <td>0</td>\n",
              "      <td>Books - Fiction</td>\n",
              "      <td>Books</td>\n",
              "      <td>Fiction</td>\n",
              "      <td>Yakutsk Central shopping center</td>\n",
              "      <td>Yakutsk</td>\n",
              "    </tr>\n",
              "  </tbody>\n",
              "</table>\n",
              "<p>10913850 rows × 18 columns</p>\n",
              "</div>"
            ],
            "text/plain": [
              "          shop_id  item_id  ...              shop_name_translated     city\n",
              "0               0       12  ...  Yakutsk Ordzhonikidze, 56 francs  Yakutsk\n",
              "1               0      970  ...  Yakutsk Ordzhonikidze, 56 francs  Yakutsk\n",
              "2               0      970  ...  Yakutsk Ordzhonikidze, 56 francs  Yakutsk\n",
              "3               0      971  ...  Yakutsk Ordzhonikidze, 56 francs  Yakutsk\n",
              "4               0      971  ...  Yakutsk Ordzhonikidze, 56 francs  Yakutsk\n",
              "...           ...      ...  ...                               ...      ...\n",
              "10913845       58    16835  ...   Yakutsk Central shopping center  Yakutsk\n",
              "10913846       58    17703  ...   Yakutsk Central shopping center  Yakutsk\n",
              "10913847       58    19700  ...   Yakutsk Central shopping center  Yakutsk\n",
              "10913848       58    19701  ...   Yakutsk Central shopping center  Yakutsk\n",
              "10913849       58    20273  ...   Yakutsk Central shopping center  Yakutsk\n",
              "\n",
              "[10913850 rows x 18 columns]"
            ]
          },
          "metadata": {
            "tags": []
          },
          "execution_count": 45
        }
      ]
    },
    {
      "cell_type": "code",
      "metadata": {
        "id": "CnT96f1Ok8Yi",
        "colab_type": "code",
        "colab": {}
      },
      "source": [
        "test = test.merge(shops) #adding shop_name\n",
        "test['city'] = test.shop_name_translated.str.split(' ').map(lambda x : x[0]) #the first word is a city name"
      ],
      "execution_count": 0,
      "outputs": []
    },
    {
      "cell_type": "markdown",
      "metadata": {
        "id": "hBttL4ZOlI73",
        "colab_type": "text"
      },
      "source": [
        "nothing else important in the shop_name or the item_category_name so i will remove them"
      ]
    },
    {
      "cell_type": "markdown",
      "metadata": {
        "id": "_NYeqZ7zX-OM",
        "colab_type": "text"
      },
      "source": [
        "mean encode the new three added variables"
      ]
    },
    {
      "cell_type": "code",
      "metadata": {
        "id": "yuoOsZBKDX4j",
        "colab_type": "code",
        "colab": {}
      },
      "source": [
        "kf = KFold(n_splits = 5 , shuffle = False)\n",
        "for train_ind, val_ind in kf.split(all_data) :\n",
        "    train_data , val_data = all_data.iloc[train_ind], all_data.iloc[val_ind]\n",
        "    all_data.loc[all_data.index[val_ind] , 'city_target_enc'] = val_data['city'].map(train_data.groupby('city')['item_cnt_month'].mean())\n",
        "    all_data.loc[all_data.index[val_ind] , 'main_category_target_enc'] = val_data['main_category'].map(train_data.groupby('main_category')['item_cnt_month'].mean())\n",
        "    all_data.loc[all_data.index[val_ind] , 'sub_category_target_enc'] = val_data['sub_category'].map(train_data.groupby('sub_category')['item_cnt_month'].mean())\n",
        "\n",
        "all_data.fillna(all_data.item_cnt_month.mean(), inplace=True) # fill na that happend from values in validation not in the train with the global mean    \n"
      ],
      "execution_count": 0,
      "outputs": []
    },
    {
      "cell_type": "code",
      "metadata": {
        "id": "F98St7y6brCC",
        "colab_type": "code",
        "colab": {}
      },
      "source": [
        "# making a column to map it to the test set\n",
        "city_mean_enc = all_data.groupby('city')['city_target_enc'].unique()\n",
        "city_mean_enc = city_mean_enc.apply(lambda x: x.mean())\n",
        "test['city_target_enc'] = test['city'].map(city_mean_enc) # mapping the variable in the test \n",
        "\n",
        "sub_category_mean_enc = all_data.groupby('sub_category')['sub_category_target_enc'].unique()\n",
        "sub_category_mean_enc = sub_category_mean_enc.apply(lambda x: x.mean())\n",
        "test['sub_category_target_enc'] = test['sub_category'].map(sub_category_mean_enc) # mapping the variable in the test \n",
        "\n",
        "main_category_mean_enc = all_data.groupby('main_category')['main_category_target_enc'].unique()\n",
        "main_category_mean_enc = main_category_mean_enc.apply(lambda x: x.mean())\n",
        "test['main_category_target_enc'] = test['main_category'].map(main_category_mean_enc) # mapping the variable in the test \n",
        "\n",
        "test.fillna(all_data.item_cnt_month.mean() , inplace = True)\n",
        "test"
      ],
      "execution_count": 0,
      "outputs": []
    },
    {
      "cell_type": "code",
      "metadata": {
        "id": "dDih0BIyeSvL",
        "colab_type": "code",
        "colab": {}
      },
      "source": [
        "all_data = downcasting(all_data)"
      ],
      "execution_count": 0,
      "outputs": []
    },
    {
      "cell_type": "code",
      "metadata": {
        "id": "FdNqqCnwenAL",
        "colab_type": "code",
        "colab": {}
      },
      "source": [
        "all_data.shop_id = all_data.shop_id.astype('int8')\n",
        "all_data.date_block_num = all_data.date_block_num.astype('int8')\n",
        "all_data.item_cnt_month = all_data.item_cnt_month.astype('int8')\n",
        "all_data.item_category_id = all_data.item_category_id.astype('int8')\n",
        "all_data.year = all_data.year.astype('int8')"
      ],
      "execution_count": 0,
      "outputs": []
    },
    {
      "cell_type": "code",
      "metadata": {
        "id": "PwwbwF5dDbr0",
        "colab_type": "code",
        "colab": {}
      },
      "source": [
        "# keep a version of this data\n",
        "all_data.to_csv('my_data.csv' , index = False)\n",
        "test.to_csv('test.csv' , index = False)"
      ],
      "execution_count": 0,
      "outputs": []
    },
    {
      "cell_type": "code",
      "metadata": {
        "id": "r2EDSRu_flyk",
        "colab_type": "code",
        "colab": {}
      },
      "source": [
        "# reading the data from the last stop point\n",
        "all_data = pd.read_csv('')\n",
        "test = pd.read_csv('')"
      ],
      "execution_count": 0,
      "outputs": []
    },
    {
      "cell_type": "code",
      "metadata": {
        "id": "rSWTmCmAj278",
        "colab_type": "code",
        "colab": {}
      },
      "source": [
        "all_data.drop(['shop_name_translated', 'item_category_name_translated'] , inplace = True , axis = 1)\n",
        "test.drop(['shop_name_translated','item_category_name_translated'] , inplace = True , axis = 1)"
      ],
      "execution_count": 0,
      "outputs": []
    },
    {
      "cell_type": "markdown",
      "metadata": {
        "id": "gp7eA4NdWd1m",
        "colab_type": "text"
      },
      "source": [
        "adding interaction features with label encoding"
      ]
    },
    {
      "cell_type": "code",
      "metadata": {
        "id": "VMFS1P6EYD-D",
        "colab_type": "code",
        "colab": {}
      },
      "source": [
        "import itertools\n",
        "cat_features = ['shop_id','item_id','city' ,'main_category','sub_category','item_cnt_month_shifted1','item_cnt_month_shifted2','item_cnt_month_shifted3','mean_price']\n",
        "# Iterate through each pair of 2 features, combine them into interaction features\n",
        "all_combinations = list(itertools.combinations(cat_features, 2))\n",
        "for combination in all_combinations: #for each pair of columns convert them to strings then join them with the + operator.\n",
        "  interaction = all_data[combination[0]].map(str) + '_' + all_data[combination[1]].map(str)\n",
        "  interaction_name = combination[0] + '_' + combination[1]\n",
        "\n",
        "  all_data[interaction_name] = pd.factorize(interaction) # return the interaction column label encoded directly\n"
      ],
      "execution_count": 0,
      "outputs": []
    },
    {
      "cell_type": "code",
      "metadata": {
        "id": "oDPiSU0XY-Hk",
        "colab_type": "code",
        "colab": {}
      },
      "source": [
        "for combination in all_combinations: #for each pair of columns convert them to strings then join them with the + operator.\n",
        "  interaction = test[combination[0]].map(str) + '_' + test[combination[1]].map(str)\n",
        "  interaction_name = combination[0] + '_' + combination[1]\n",
        "  test[interaction_name] = pd.factorize(interaction) # return the interaction column label encoded directly\n"
      ],
      "execution_count": 0,
      "outputs": []
    },
    {
      "cell_type": "markdown",
      "metadata": {
        "id": "AkysO2I6DYeP",
        "colab_type": "text"
      },
      "source": [
        "seeing the effect of the added features"
      ]
    },
    {
      "cell_type": "code",
      "metadata": {
        "id": "lWYdI3INft-z",
        "colab_type": "code",
        "colab": {}
      },
      "source": [
        "xgb = XGBRegressor(verbose = False , n_jobs = -1,random_state = random_state)\n",
        "xgb.fit(all_data.drop(['item_cnt_month','item_id','item_category_id','shop_id','city','main_category','sub_category'],axis = 1), all_data.item_cnt_month)\n",
        "\n",
        "# saving the model in order to run it again witout taking so much time\n",
        "file_name = 'xgball_features.sav'\n",
        "pickle.dump(xgb , open(file_name, 'wb'))"
      ],
      "execution_count": 0,
      "outputs": []
    },
    {
      "cell_type": "code",
      "metadata": {
        "id": "WggLjej0WjSA",
        "colab_type": "code",
        "colab": {}
      },
      "source": [
        "# submitting in the leaderboard\n",
        "#xgb = pickle.load(open('', 'rb'))\n",
        "test_lags = test_lags[all_data.drop('item_cnt_month' , axis = 1).columns]\n",
        "preds_xgb = xgb.predict(test_lags.drop(['item_id','item_category_id','shop_id','city','main_category','sub_category'],axis = 1))\n",
        "sub = sample_submission\n",
        "sub.item_cnt_month = preds_xgb\n",
        "sub.to_csv('xgball_features.csv' , index = False)"
      ],
      "execution_count": 0,
      "outputs": []
    },
    {
      "cell_type": "markdown",
      "metadata": {
        "id": "cJTLhGcvTvuq",
        "colab_type": "text"
      },
      "source": [
        "# Feature selection"
      ]
    },
    {
      "cell_type": "code",
      "metadata": {
        "id": "8lOMTMoVT0qy",
        "colab_type": "code",
        "colab": {}
      },
      "source": [
        "results=pd.DataFrame()\n",
        "results['columns']=X_train.columns\n",
        "results['importances'] = xgb.feature_importances_\n",
        "results.sort_values(by='importances',ascending=False,inplace=True)\n",
        "results.head(60)"
      ],
      "execution_count": 0,
      "outputs": []
    },
    {
      "cell_type": "code",
      "metadata": {
        "id": "vvjA9KeHkaJn",
        "colab_type": "code",
        "colab": {}
      },
      "source": [
        "train = all_data[all_data.date_block_num < 33]\n",
        "val = all_data[all_data.date_block_num == 33] # taking the last month to simulate the test set\n",
        "\n",
        "thresholds = sort(model.feature_importances_)\n",
        "for thresh in thresholds:\n",
        "\t# select features using threshold\n",
        "\tselection = SelectFromModel(model, threshold=thresh, prefit=True)\n",
        "\tselect_train = selection.transform(train)\n",
        "\t# train model\n",
        "\tselection_model = XGBRegressor()\n",
        "\tselection_model.fit(select_train.drop('item_cnt_month',axis = 1),select_train.item_cnt_month )\n",
        "\t# eval model\n",
        "\tselect_val = selection.transform(val)\n",
        "\tpredictions = selection_model.predict(select_val)\n",
        "\tRMSE = sqrt(mean_squared_error(val.item_cnt_month, predictions))\n",
        "\tprint(\"Thresh=%.3f, n=%d, RMSE: %.2f%%\" % (thresh, select_train.shape[1], RMSE))\n"
      ],
      "execution_count": 0,
      "outputs": []
    },
    {
      "cell_type": "code",
      "metadata": {
        "id": "IuPPhzJ2V33Z",
        "colab_type": "code",
        "colab": {}
      },
      "source": [
        "results = results[results.importances > 0]\n",
        "selected_cols = list(results['columns'].values)\n",
        "Final_X_train = X_train[selected_cols]\n",
        "Final_X_test = X_test[selected_cols]"
      ],
      "execution_count": 0,
      "outputs": []
    },
    {
      "cell_type": "code",
      "metadata": {
        "id": "HBMOYRMEVwCU",
        "colab_type": "code",
        "colab": {}
      },
      "source": [
        "plt.figure(figsize=(20,8))\n",
        "plt.title(\"Features importance based on f1 score\")\n",
        "plt.xlabel(\"features\")\n",
        "plt.ylabel(\"inportance\")\n",
        "sns.barplot(x = results['features'] , y = results['importance'] )"
      ],
      "execution_count": 0,
      "outputs": []
    },
    {
      "cell_type": "code",
      "metadata": {
        "id": "5B7HQHfhVKvq",
        "colab_type": "code",
        "colab": {}
      },
      "source": [
        "plt.figure(figsize=(20,8))\n",
        "plot_importance(xgb)\n",
        "plt.show()"
      ],
      "execution_count": 0,
      "outputs": []
    },
    {
      "cell_type": "markdown",
      "metadata": {
        "id": "XSkmsQMdvdUC",
        "colab_type": "text"
      },
      "source": [
        "# hyper paramter tuning"
      ]
    },
    {
      "cell_type": "markdown",
      "metadata": {
        "id": "GumZmtSio7U1",
        "colab_type": "text"
      },
      "source": [
        "we will not be able to do cross validation of grid search as it's time based data "
      ]
    },
    {
      "cell_type": "code",
      "metadata": {
        "id": "fpWt743iu83a",
        "colab_type": "code",
        "colab": {}
      },
      "source": [
        ""
      ],
      "execution_count": 0,
      "outputs": []
    },
    {
      "cell_type": "code",
      "metadata": {
        "id": "0cdpG9pFvqpi",
        "colab_type": "code",
        "colab": {}
      },
      "source": [
        ""
      ],
      "execution_count": 0,
      "outputs": []
    },
    {
      "cell_type": "code",
      "metadata": {
        "id": "oZVNGtD1vqnI",
        "colab_type": "code",
        "colab": {}
      },
      "source": [
        ""
      ],
      "execution_count": 0,
      "outputs": []
    },
    {
      "cell_type": "markdown",
      "metadata": {
        "id": "vchvb4XOT1wS",
        "colab_type": "text"
      },
      "source": [
        "# Model Explainability with shap values"
      ]
    },
    {
      "cell_type": "code",
      "metadata": {
        "id": "b_A6pULjvqlN",
        "colab_type": "code",
        "colab": {}
      },
      "source": [
        ""
      ],
      "execution_count": 0,
      "outputs": []
    },
    {
      "cell_type": "code",
      "metadata": {
        "id": "a5Jr0JQAvqjw",
        "colab_type": "code",
        "colab": {}
      },
      "source": [
        ""
      ],
      "execution_count": 0,
      "outputs": []
    },
    {
      "cell_type": "markdown",
      "metadata": {
        "id": "CDTPawedUCxB",
        "colab_type": "text"
      },
      "source": [
        "# Trying Ensamble technique to increase the accuracy"
      ]
    },
    {
      "cell_type": "code",
      "metadata": {
        "id": "w1Tldx-XUIm7",
        "colab_type": "code",
        "colab": {}
      },
      "source": [
        ""
      ],
      "execution_count": 0,
      "outputs": []
    },
    {
      "cell_type": "code",
      "metadata": {
        "id": "wgjUpqdvUIrZ",
        "colab_type": "code",
        "colab": {}
      },
      "source": [
        ""
      ],
      "execution_count": 0,
      "outputs": []
    }
  ]
}