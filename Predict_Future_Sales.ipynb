{
  "nbformat": 4,
  "nbformat_minor": 0,
  "metadata": {
    "colab": {
      "name": "Predict Future Sales.ipynb",
      "provenance": [],
      "collapsed_sections": [
        "BcBJMBMrqZy0"
      ],
      "toc_visible": true,
      "machine_shape": "hm",
      "include_colab_link": true
    },
    "kernelspec": {
      "name": "python3",
      "display_name": "Python 3"
    }
  },
  "cells": [
    {
      "cell_type": "markdown",
      "metadata": {
        "id": "view-in-github",
        "colab_type": "text"
      },
      "source": [
        "<a href=\"https://colab.research.google.com/github/mohiiieldin/Predict-Future-Sales-Competition-on-Kaggle-Python-/blob/master/Predict_Future_Sales.ipynb\" target=\"_parent\"><img src=\"https://colab.research.google.com/assets/colab-badge.svg\" alt=\"Open In Colab\"/></a>"
      ]
    },
    {
      "cell_type": "code",
      "metadata": {
        "id": "E2ucAX5gRe-h",
        "colab_type": "code",
        "outputId": "6b3713fd-5853-4bf7-e534-9204abc18671",
        "colab": {
          "base_uri": "https://localhost:8080/",
          "height": 122
        }
      },
      "source": [
        "from google.colab import drive\n",
        "drive.mount('/content/gdrive')"
      ],
      "execution_count": 0,
      "outputs": [
        {
          "output_type": "stream",
          "text": [
            "Go to this URL in a browser: https://accounts.google.com/o/oauth2/auth?client_id=947318989803-6bn6qk8qdgf4n4g3pfee6491hc0brc4i.apps.googleusercontent.com&redirect_uri=urn%3aietf%3awg%3aoauth%3a2.0%3aoob&response_type=code&scope=email%20https%3a%2f%2fwww.googleapis.com%2fauth%2fdocs.test%20https%3a%2f%2fwww.googleapis.com%2fauth%2fdrive%20https%3a%2f%2fwww.googleapis.com%2fauth%2fdrive.photos.readonly%20https%3a%2f%2fwww.googleapis.com%2fauth%2fpeopleapi.readonly\n",
            "\n",
            "Enter your authorization code:\n",
            "··········\n",
            "Mounted at /content/gdrive\n"
          ],
          "name": "stdout"
        }
      ]
    },
    {
      "cell_type": "code",
      "metadata": {
        "id": "v8_f_sUPTT60",
        "colab_type": "code",
        "colab": {}
      },
      "source": [
        "import pandas as pd\n",
        "import matplotlib.pyplot as plt\n",
        "import numpy as np\n",
        "from numpy import sqrt\n",
        "from datetime import datetime, timedelta,date\n",
        "import seaborn as sns\n",
        "from sklearn.metrics import mean_squared_error\n",
        "#importing machine learning libraries\n",
        "import pickle\n",
        "import gc # to free some space from the memory\n",
        "from sklearn.model_selection import KFold\n",
        "\n",
        "\n",
        "#importing regressors\n",
        "from sklearn.ensemble import RandomForestRegressor\n",
        "from xgboost import XGBRegressor \n",
        "from xgboost import plot_importance\n",
        "from lightgbm import plot_importance\n",
        "from sklearn.linear_model import LinearRegression\n",
        "from sklearn.tree import DecisionTreeRegressor\n",
        "from lightgbm import LGBMRegressor\n",
        "\n",
        "\n",
        "#ignoring warnings\n",
        "import warnings\n",
        "warnings.filterwarnings(\"ignore\")\n",
        "from sklearn.model_selection import GridSearchCV\n",
        "\n",
        "# time seires staff\n",
        "import statsmodels.api as sm\n",
        "import itertools\n",
        "from statsmodels.tsa.seasonal import seasonal_decompose\n",
        "from statsmodels.tsa.statespace.sarimax import SARIMAX\n",
        "\n",
        "from pandas.plotting import autocorrelation_plot\n",
        "from statsmodels.tsa.stattools import adfuller, acf, pacf,arma_order_select_ic\n",
        "\n",
        "plt.style.use('ggplot') # plots style\n",
        "# fixing the seed so that the code is reproduceable\n",
        "random_state = 1"
      ],
      "execution_count": 0,
      "outputs": []
    },
    {
      "cell_type": "code",
      "metadata": {
        "id": "XXkWHiH_TXcB",
        "colab_type": "code",
        "colab": {}
      },
      "source": [
        "# Reading Data\n",
        "item_categories = pd.read_csv(\"/content/gdrive/My Drive/GP Data/item_categories-translated.csv\") \n",
        "items = pd.read_csv(\"/content/gdrive/My Drive/GP Data/items-translated.csv\")\n",
        "sales = pd.read_csv(\"/content/gdrive/My Drive/GP Data/sales_train_v2.csv\")\n",
        "shops = pd.read_csv(\"/content/gdrive/My Drive/GP Data/shops-translated.csv\")\n",
        "test = pd.read_csv(\"/content/gdrive/My Drive/GP Data/test.csv\")\n",
        "sample_submission = pd.read_csv('/content/gdrive/My Drive/GP Data/sample_submission.csv')"
      ],
      "execution_count": 0,
      "outputs": []
    },
    {
      "cell_type": "markdown",
      "metadata": {
        "id": "JWgvhCY1pFQE",
        "colab_type": "text"
      },
      "source": [
        "Let's take a look on the data"
      ]
    },
    {
      "cell_type": "code",
      "metadata": {
        "id": "LVorXmKcVLpI",
        "colab_type": "code",
        "outputId": "a9a2a789-7938-4e3d-f64d-532f15406f5e",
        "colab": {
          "base_uri": "https://localhost:8080/",
          "height": 585
        }
      },
      "source": [
        "print(\"----------Shape of Data----------\")\n",
        "print(sales.shape)\n",
        "print(\"----------first 5 rows----------\")\n",
        "print(sales.head(5))\n",
        "print(\"-----------data frame overview-----------\")\n",
        "print(sales.info())\n",
        "print(\"----------Missing value-----------\")\n",
        "print(sales.isnull().sum())"
      ],
      "execution_count": 0,
      "outputs": [
        {
          "output_type": "stream",
          "text": [
            "----------Shape of Data----------\n",
            "(2935849, 6)\n",
            "----------first 5 rows----------\n",
            "         date  date_block_num  shop_id  item_id  item_price  item_cnt_day\n",
            "0  02.01.2013               0       59    22154      999.00           1.0\n",
            "1  03.01.2013               0       25     2552      899.00           1.0\n",
            "2  05.01.2013               0       25     2552      899.00          -1.0\n",
            "3  06.01.2013               0       25     2554     1709.05           1.0\n",
            "4  15.01.2013               0       25     2555     1099.00           1.0\n",
            "-----------data frame overview-----------\n",
            "<class 'pandas.core.frame.DataFrame'>\n",
            "RangeIndex: 2935849 entries, 0 to 2935848\n",
            "Data columns (total 6 columns):\n",
            " #   Column          Dtype  \n",
            "---  ------          -----  \n",
            " 0   date            object \n",
            " 1   date_block_num  int64  \n",
            " 2   shop_id         int64  \n",
            " 3   item_id         int64  \n",
            " 4   item_price      float64\n",
            " 5   item_cnt_day    float64\n",
            "dtypes: float64(2), int64(3), object(1)\n",
            "memory usage: 134.4+ MB\n",
            "None\n",
            "----------Missing value-----------\n",
            "date              0\n",
            "date_block_num    0\n",
            "shop_id           0\n",
            "item_id           0\n",
            "item_price        0\n",
            "item_cnt_day      0\n",
            "dtype: int64\n"
          ],
          "name": "stdout"
        }
      ]
    },
    {
      "cell_type": "markdown",
      "metadata": {
        "id": "s3gIO6_Xpfwb",
        "colab_type": "text"
      },
      "source": [
        "1) Date "
      ]
    },
    {
      "cell_type": "code",
      "metadata": {
        "id": "0909fTXupKTD",
        "colab_type": "code",
        "outputId": "0b01d0f8-9b18-4792-d117-cb8f1543f6c6",
        "colab": {
          "base_uri": "https://localhost:8080/",
          "height": 51
        }
      },
      "source": [
        "# changing the type of the column into date time, this will ease future feature engineering\n",
        "sales.date = pd.to_datetime(sales.date)\n",
        "print(\"First date --> \" , sales.date.min())\n",
        "print(\"Last date --> \" , sales.date.max())"
      ],
      "execution_count": 0,
      "outputs": [
        {
          "output_type": "stream",
          "text": [
            "First date -->  2013-01-01 00:00:00\n",
            "Last date -->  2015-12-10 00:00:00\n"
          ],
          "name": "stdout"
        }
      ]
    },
    {
      "cell_type": "markdown",
      "metadata": {
        "id": "o9YeQ6dxpezn",
        "colab_type": "text"
      },
      "source": [
        "2) date_block_num"
      ]
    },
    {
      "cell_type": "code",
      "metadata": {
        "id": "nE0XMkn5pVWL",
        "colab_type": "code",
        "outputId": "12bbb4ea-03d0-49ef-d810-598d669f5344",
        "colab": {
          "base_uri": "https://localhost:8080/",
          "height": 534
        }
      },
      "source": [
        "#what is the number of items soled at each month ?\n",
        "sales_grouped_by_month =  sales.groupby('date_block_num')['item_cnt_day'].sum()\n",
        "plt.figure(figsize=(15,8))\n",
        "plt.title(\"Number of items sold by each month\")\n",
        "plt.xlabel(\"Date_block_num\")\n",
        "plt.ylabel(\"Items_sum\")\n",
        "sns.lineplot(data = sales_grouped_by_month)"
      ],
      "execution_count": 0,
      "outputs": [
        {
          "output_type": "execute_result",
          "data": {
            "text/plain": [
              "<matplotlib.axes._subplots.AxesSubplot at 0x7f19d89aa588>"
            ]
          },
          "metadata": {
            "tags": []
          },
          "execution_count": 10
        },
        {
          "output_type": "display_data",
          "data": {
            "image/png": "[encoded data removed]",
            "text/plain": [
              "<Figure size 1080x576 with 1 Axes>"
            ]
          },
          "metadata": {
            "tags": []
          }
        }
      ]
    },
    {
      "cell_type": "markdown",
      "metadata": {
        "id": "DDAiJMf8pix7",
        "colab_type": "text"
      },
      "source": [
        "3) shop_id"
      ]
    },
    {
      "cell_type": "code",
      "metadata": {
        "id": "GY3NHfXbprUa",
        "colab_type": "code",
        "outputId": "881f4b55-aa5c-4248-c0c3-3e2f63f2df6e",
        "colab": {
          "base_uri": "https://localhost:8080/",
          "height": 34
        }
      },
      "source": [
        "print(\"Nuumber of shops is : \",sales.shop_id.nunique())"
      ],
      "execution_count": 0,
      "outputs": [
        {
          "output_type": "stream",
          "text": [
            "Nuumber of shops is :  60\n"
          ],
          "name": "stdout"
        }
      ]
    },
    {
      "cell_type": "code",
      "metadata": {
        "id": "-sDVZqYSpuly",
        "colab_type": "code",
        "outputId": "abf8403d-b522-4e7b-8ddd-71285ca8935a",
        "colab": {
          "base_uri": "https://localhost:8080/",
          "height": 430
        }
      },
      "source": [
        "# what is the number of items soled at each shop ?\n",
        "items_ordered_grouped_by_shop =  sales.groupby('shop_id')['item_cnt_day'].sum()\n",
        "plt.figure(figsize=(20,8))\n",
        "plt.title(\"Number of items sold by each shop\")\n",
        "plt.xlabel(\"shop_id\")\n",
        "plt.ylabel(\"Items_mean\")\n",
        "sns.barplot(x = sales.shop_id.unique(),y =  items_ordered_grouped_by_shop )"
      ],
      "execution_count": 0,
      "outputs": [
        {
          "output_type": "execute_result",
          "data": {
            "text/plain": [
              "<matplotlib.axes._subplots.AxesSubplot at 0x7f19d7d96080>"
            ]
          },
          "metadata": {
            "tags": []
          },
          "execution_count": 11
        },
        {
          "output_type": "display_data",
          "data": {
            "image/png": "[encoded data removed]",
            "text/plain": [
              "<Figure size 1440x576 with 1 Axes>"
            ]
          },
          "metadata": {
            "tags": []
          }
        }
      ]
    },
    {
      "cell_type": "markdown",
      "metadata": {
        "id": "NuPOKmx8pyKq",
        "colab_type": "text"
      },
      "source": [
        "There is a significant difference between the shops in terms number of ordered items."
      ]
    },
    {
      "cell_type": "markdown",
      "metadata": {
        "id": "3WYw31Ykp2nv",
        "colab_type": "text"
      },
      "source": [
        "4) item_id"
      ]
    },
    {
      "cell_type": "code",
      "metadata": {
        "id": "uPMoKm4QpzTl",
        "colab_type": "code",
        "outputId": "9dd8a271-bcbb-4599-de33-d620489ef10a",
        "colab": {
          "base_uri": "https://localhost:8080/",
          "height": 221
        }
      },
      "source": [
        "#number of unique items\n",
        "print(sales.item_id.nunique())\n",
        "best_5_items = sales.groupby(\"item_id\")['item_cnt_day'].sum().sort_values(ascending = False ).head(5)\n",
        "items_info = items[items.item_id.isin(best_5_items.index)].sort_values(by = 'item_id')\n",
        "items_info"
      ],
      "execution_count": 0,
      "outputs": [
        {
          "output_type": "stream",
          "text": [
            "21807\n"
          ],
          "name": "stdout"
        },
        {
          "output_type": "execute_result",
          "data": {
            "text/html": [
              "<div>\n",
              "<style scoped>\n",
              "    .dataframe tbody tr th:only-of-type {\n",
              "        vertical-align: middle;\n",
              "    }\n",
              "\n",
              "    .dataframe tbody tr th {\n",
              "        vertical-align: top;\n",
              "    }\n",
              "\n",
              "    .dataframe thead th {\n",
              "        text-align: right;\n",
              "    }\n",
              "</style>\n",
              "<table border=\"1\" class=\"dataframe\">\n",
              "  <thead>\n",
              "    <tr style=\"text-align: right;\">\n",
              "      <th></th>\n",
              "      <th>item_id</th>\n",
              "      <th>item_category_id</th>\n",
              "      <th>item_name_translated</th>\n",
              "    </tr>\n",
              "  </thead>\n",
              "  <tbody>\n",
              "    <tr>\n",
              "      <th>2808</th>\n",
              "      <td>2808</td>\n",
              "      <td>30</td>\n",
              "      <td>Diablo III [PC, Jewel, Russian version]</td>\n",
              "    </tr>\n",
              "    <tr>\n",
              "      <th>3732</th>\n",
              "      <td>3732</td>\n",
              "      <td>19</td>\n",
              "      <td>Grand Theft Auto V [PS3, Russian subtitles]</td>\n",
              "    </tr>\n",
              "    <tr>\n",
              "      <th>5822</th>\n",
              "      <td>5822</td>\n",
              "      <td>35</td>\n",
              "      <td>Playstation Store replenishment of wallet: Pay...</td>\n",
              "    </tr>\n",
              "    <tr>\n",
              "      <th>17717</th>\n",
              "      <td>17717</td>\n",
              "      <td>79</td>\n",
              "      <td>Acceptance of funds for 1C-Online</td>\n",
              "    </tr>\n",
              "    <tr>\n",
              "      <th>20949</th>\n",
              "      <td>20949</td>\n",
              "      <td>71</td>\n",
              "      <td>Corporate package T-shirt 1C Interest white (3...</td>\n",
              "    </tr>\n",
              "  </tbody>\n",
              "</table>\n",
              "</div>"
            ],
            "text/plain": [
              "       item_id  ...                               item_name_translated\n",
              "2808      2808  ...            Diablo III [PC, Jewel, Russian version]\n",
              "3732      3732  ...        Grand Theft Auto V [PS3, Russian subtitles]\n",
              "5822      5822  ...  Playstation Store replenishment of wallet: Pay...\n",
              "17717    17717  ...                  Acceptance of funds for 1C-Online\n",
              "20949    20949  ...  Corporate package T-shirt 1C Interest white (3...\n",
              "\n",
              "[5 rows x 3 columns]"
            ]
          },
          "metadata": {
            "tags": []
          },
          "execution_count": 12
        }
      ]
    },
    {
      "cell_type": "code",
      "metadata": {
        "id": "TAzXgPbFpzb0",
        "colab_type": "code",
        "outputId": "cd43b0c6-d480-40a1-ab43-0c3134bb496e",
        "colab": {
          "base_uri": "https://localhost:8080/",
          "height": 414
        }
      },
      "source": [
        "plt.figure(figsize = (20,8))\n",
        "plt.title(\"Most 5 items ordered\")\n",
        "plt.xlabel(\"Item Name\")\n",
        "plt.ylabel(\"Number of ordered items\")\n",
        "sns.barplot(x = items_info.item_name_translated.values , y = best_5_items.values)"
      ],
      "execution_count": 0,
      "outputs": [
        {
          "output_type": "execute_result",
          "data": {
            "text/plain": [
              "<matplotlib.axes._subplots.AxesSubplot at 0x7f19d79d7898>"
            ]
          },
          "metadata": {
            "tags": []
          },
          "execution_count": 13
        },
        {
          "output_type": "display_data",
          "data": {
            "image/png": "[encoded data removed]",
            "text/plain": [
              "<Figure size 1440x576 with 1 Axes>"
            ]
          },
          "metadata": {
            "tags": []
          }
        }
      ]
    },
    {
      "cell_type": "markdown",
      "metadata": {
        "id": "-IFDxUtRqCz6",
        "colab_type": "text"
      },
      "source": [
        "This is a big number compared to the other !"
      ]
    },
    {
      "cell_type": "markdown",
      "metadata": {
        "id": "JHO6LEgUqMwK",
        "colab_type": "text"
      },
      "source": [
        "5) item_price"
      ]
    },
    {
      "cell_type": "code",
      "metadata": {
        "id": "Mpq9bMyrpzfI",
        "colab_type": "code",
        "outputId": "0f573b7d-ca4b-4918-d5d9-899609724345",
        "colab": {
          "base_uri": "https://localhost:8080/",
          "height": 589
        }
      },
      "source": [
        "print(sales.item_price.describe().round(2))\n",
        "plt.figure(figsize = (20 , 8))\n",
        "sns.boxplot(sales.item_price)"
      ],
      "execution_count": 0,
      "outputs": [
        {
          "output_type": "stream",
          "text": [
            "count    2935849.00\n",
            "mean         890.85\n",
            "std         1729.80\n",
            "min           -1.00\n",
            "25%          249.00\n",
            "50%          399.00\n",
            "75%          999.00\n",
            "max       307980.00\n",
            "Name: item_price, dtype: float64\n"
          ],
          "name": "stdout"
        },
        {
          "output_type": "execute_result",
          "data": {
            "text/plain": [
              "<matplotlib.axes._subplots.AxesSubplot at 0x7f19d794bba8>"
            ]
          },
          "metadata": {
            "tags": []
          },
          "execution_count": 14
        },
        {
          "output_type": "display_data",
          "data": {
            "image/png": "[encoded data removed]",
            "text/plain": [
              "<Figure size 1440x576 with 1 Axes>"
            ]
          },
          "metadata": {
            "tags": []
          }
        }
      ]
    },
    {
      "cell_type": "markdown",
      "metadata": {
        "id": "830ld-2zUk-D",
        "colab_type": "text"
      },
      "source": [
        "removing high and negative prices "
      ]
    },
    {
      "cell_type": "code",
      "metadata": {
        "id": "kK3GJGoFV2ud",
        "colab_type": "code",
        "outputId": "4d8c6e73-054d-42a3-cbd9-c8aad9cfbd3b",
        "colab": {
          "base_uri": "https://localhost:8080/",
          "height": 34
        }
      },
      "source": [
        "len(sales[sales.item_price > 25000] )/len(sales)"
      ],
      "execution_count": 0,
      "outputs": [
        {
          "output_type": "execute_result",
          "data": {
            "text/plain": [
              "0.0007265956490103583"
            ]
          },
          "metadata": {
            "tags": []
          },
          "execution_count": 21
        }
      ]
    },
    {
      "cell_type": "code",
      "metadata": {
        "id": "5_0somsIue48",
        "colab_type": "code",
        "colab": {}
      },
      "source": [
        "sales = sales[(sales.item_price > 0) & (sales.item_price <= 25000)]"
      ],
      "execution_count": 0,
      "outputs": []
    },
    {
      "cell_type": "code",
      "metadata": {
        "id": "qdUge4xBu4eo",
        "colab_type": "code",
        "outputId": "8bf00978-c663-481d-9fa7-5b2aa454fbc6",
        "colab": {
          "base_uri": "https://localhost:8080/",
          "height": 589
        }
      },
      "source": [
        "print(sales.item_price.describe().round(2))\n",
        "plt.figure(figsize = (20 , 8))\n",
        "sns.boxplot(sales.item_price)"
      ],
      "execution_count": 0,
      "outputs": [
        {
          "output_type": "stream",
          "text": [
            "count    2933475.00\n",
            "mean         868.77\n",
            "std         1536.25\n",
            "min            0.07\n",
            "25%          249.00\n",
            "50%          399.00\n",
            "75%          999.00\n",
            "max        24999.00\n",
            "Name: item_price, dtype: float64\n"
          ],
          "name": "stdout"
        },
        {
          "output_type": "execute_result",
          "data": {
            "text/plain": [
              "<matplotlib.axes._subplots.AxesSubplot at 0x7f19d7503438>"
            ]
          },
          "metadata": {
            "tags": []
          },
          "execution_count": 23
        },
        {
          "output_type": "display_data",
          "data": {
            "image/png": "[encoded data removed]",
            "text/plain": [
              "<Figure size 1440x576 with 1 Axes>"
            ]
          },
          "metadata": {
            "tags": []
          }
        }
      ]
    },
    {
      "cell_type": "markdown",
      "metadata": {
        "id": "71tDe5FyqPNj",
        "colab_type": "text"
      },
      "source": [
        "6) item_cnt_day (target variable):"
      ]
    },
    {
      "cell_type": "code",
      "metadata": {
        "id": "OK1CJ-VVpzmW",
        "colab_type": "code",
        "outputId": "2388a313-a254-4899-aea3-8208fa6fe120",
        "colab": {
          "base_uri": "https://localhost:8080/",
          "height": 589
        }
      },
      "source": [
        "print(sales.item_cnt_day.describe().round())\n",
        "plt.figure(figsize = (20 , 8))\n",
        "sns.boxplot(sales.item_cnt_day)"
      ],
      "execution_count": 0,
      "outputs": [
        {
          "output_type": "stream",
          "text": [
            "count    2933475.0\n",
            "mean           1.0\n",
            "std            3.0\n",
            "min          -22.0\n",
            "25%            1.0\n",
            "50%            1.0\n",
            "75%            1.0\n",
            "max         2169.0\n",
            "Name: item_cnt_day, dtype: float64\n"
          ],
          "name": "stdout"
        },
        {
          "output_type": "execute_result",
          "data": {
            "text/plain": [
              "<matplotlib.axes._subplots.AxesSubplot at 0x7f19d755cb70>"
            ]
          },
          "metadata": {
            "tags": []
          },
          "execution_count": 24
        },
        {
          "output_type": "display_data",
          "data": {
            "image/png": "[encoded data removed]",
            "text/plain": [
              "<Figure size 1440x576 with 1 Axes>"
            ]
          },
          "metadata": {
            "tags": []
          }
        }
      ]
    },
    {
      "cell_type": "markdown",
      "metadata": {
        "id": "439Jb6e5qU58",
        "colab_type": "text"
      },
      "source": [
        "# Time series forcasting"
      ]
    },
    {
      "cell_type": "markdown",
      "metadata": {
        "id": "BcBJMBMrqZy0",
        "colab_type": "text"
      },
      "source": [
        "# 1)Arima ( AutoRegressive Integrated Moving Average )"
      ]
    },
    {
      "cell_type": "code",
      "metadata": {
        "id": "2wD3dSsOpzqF",
        "colab_type": "code",
        "colab": {}
      },
      "source": [
        "ts=sales.groupby([\"date_block_num\"])[\"item_cnt_day\"].sum()\n",
        "ts.astype('float')\n",
        "plt.figure(figsize=(16,8))\n",
        "plt.title('Total Sales by month')\n",
        "plt.xlabel('Time')\n",
        "plt.ylabel('Sales')\n",
        "plt.plot(ts);"
      ],
      "execution_count": 0,
      "outputs": []
    },
    {
      "cell_type": "markdown",
      "metadata": {
        "id": "CMk60_U2pwMI",
        "colab_type": "text"
      },
      "source": [
        "There is a clear trend and seasonality in the data let's look in more details by making decomposition. It's an additive model as the frequency and amplitude is not changing over time."
      ]
    },
    {
      "cell_type": "code",
      "metadata": {
        "id": "-gI-RJnApq89",
        "colab_type": "code",
        "colab": {}
      },
      "source": [
        "decomp = sm.tsa.seasonal_decompose(ts.values , freq = 12 ,model = 'additive' )\n",
        "fig = decomp.plot()"
      ],
      "execution_count": 0,
      "outputs": []
    },
    {
      "cell_type": "markdown",
      "metadata": {
        "id": "AyvAhAVIpy25",
        "colab_type": "text"
      },
      "source": [
        "To use Arima the data must be stationary, i will make Augmented dicky fuller test to check stationarity there are other tests but this is the most popular."
      ]
    },
    {
      "cell_type": "code",
      "metadata": {
        "id": "i8Qb9DOdprIQ",
        "colab_type": "code",
        "colab": {}
      },
      "source": [
        "def ADF_test(ts) :\n",
        "    df_test = adfuller(ts , autolag = \"AIC\")\n",
        "    df_output = pd.Series(df_test[0:4] , index = ['Test Statistic','p-value','#Lags Used','Number of Observations Used'])\n",
        "    print(df_output)"
      ],
      "execution_count": 0,
      "outputs": []
    },
    {
      "cell_type": "code",
      "metadata": {
        "id": "L3BQbc5VprNA",
        "colab_type": "code",
        "colab": {}
      },
      "source": [
        "ADF_test(ts)"
      ],
      "execution_count": 0,
      "outputs": []
    },
    {
      "cell_type": "code",
      "metadata": {
        "id": "Xcb8k9zRprFm",
        "colab_type": "code",
        "colab": {}
      },
      "source": [
        "# create a differenced series\n",
        "def difference(dataset, interval=1):\n",
        "    diff = []\n",
        "    for i in range(interval, len(dataset)):\n",
        "        value = dataset[i] - dataset[i - interval]\n",
        "        diff.append(value)\n",
        "    return Series(diff)\n",
        "\n",
        "# invert the series to the original scale\n",
        "def inverse_difference(last_ob, value):\n",
        "    return value + last_ob"
      ],
      "execution_count": 0,
      "outputs": []
    },
    {
      "cell_type": "code",
      "metadata": {
        "id": "5VzqCE1EprEB",
        "colab_type": "code",
        "colab": {}
      },
      "source": [
        "stationary_ts = difference(ts)\n",
        "ADF_test(stationary_ts)"
      ],
      "execution_count": 0,
      "outputs": []
    },
    {
      "cell_type": "markdown",
      "metadata": {
        "id": "Dl34Klbx4Jp-",
        "colab_type": "text"
      },
      "source": [
        "The data is stationary now, only best parameter values left and arima has 3 parameters: (p, d, q). These three parameters account for seasonality, trend, and noise. plus another 3 parameters (P,D,Q) which are the same but for inserting the seasonaloity with us and using SARIMA."
      ]
    },
    {
      "cell_type": "code",
      "metadata": {
        "id": "NrJRhZgTprCE",
        "colab_type": "code",
        "colab": {}
      },
      "source": [
        "p = d = q = range(0, 2) # taking values 0 , 1 , 2 respectively \n",
        "pdq = list(itertools.product(p, d, q)) #combine them in a list\n",
        "seasonal_pdq = [(x[0], x[1], x[2], 12) for x in pdq] #seasonal parameters will take all combinations of (0,1,2) \n",
        "# 12 is the time spane of repeating the seasonal pattern it could be differnt but i just choosed to make it 12 for simplicity"
      ],
      "execution_count": 0,
      "outputs": []
    },
    {
      "cell_type": "code",
      "metadata": {
        "id": "LkAWVTW6pq6r",
        "colab_type": "code",
        "colab": {}
      },
      "source": [
        "# I will use grid search to find the optimal set of parameters\n",
        "aic = []\n",
        "for param in pdq:\n",
        "    for param_seasonal in seasonal_pdq:\n",
        "        try:\n",
        "            mod = sm.tsa.statespace.SARIMAX(stationary_ts,\n",
        "                                            order=param,\n",
        "                                            seasonal_order=param_seasonal,\n",
        "                                            )\n",
        "            results = mod.fit()\n",
        "            aic.append(results.aic)\n",
        "            print('ARIMA{}x{}12 - AIC:{}'.format(param, param_seasonal, results.aic))\n",
        "        except:\n",
        "            continue\n",
        "print(min(aic))"
      ],
      "execution_count": 0,
      "outputs": []
    },
    {
      "cell_type": "markdown",
      "metadata": {
        "id": "f5MUHMvc4QGH",
        "colab_type": "text"
      },
      "source": [
        "(0, 1, 1)x(1, 1, 0, 12)12 are best paramaters with the least aic score 432.9178807849364 Let's do it ..."
      ]
    },
    {
      "cell_type": "code",
      "metadata": {
        "id": "r9thnvHupq4k",
        "colab_type": "code",
        "colab": {}
      },
      "source": [
        "stationary_train = stationary_ts[0:27]\n",
        "stationary_test = stationary_ts[27:33]\n",
        "print('train: \\n', stationary_train , '\\n\\n')\n",
        "print('test: \\n', stationary_test)"
      ],
      "execution_count": 0,
      "outputs": []
    },
    {
      "cell_type": "code",
      "metadata": {
        "id": "Wrcw4OWupq1S",
        "colab_type": "code",
        "colab": {}
      },
      "source": [
        "# Fit the model on the stationary_train set\n",
        "mod = sm.tsa.statespace.SARIMAX(stationary_train,\n",
        "                                order=(1, 1, 1),\n",
        "                                seasonal_order=(1, 1, 0, 12))\n",
        "results = mod.fit()\n"
      ],
      "execution_count": 0,
      "outputs": []
    },
    {
      "cell_type": "markdown",
      "metadata": {
        "id": "paOJYQin4Ufq",
        "colab_type": "text"
      },
      "source": [
        "We should always run model diagnostics to investigate any unusual behavior"
      ]
    },
    {
      "cell_type": "code",
      "metadata": {
        "id": "r3SunQMapqyC",
        "colab_type": "code",
        "colab": {}
      },
      "source": [
        "fig = results.plot_diagnostics(figsize=(15, 12))\n",
        "diagnostigs = fig"
      ],
      "execution_count": 0,
      "outputs": []
    },
    {
      "cell_type": "markdown",
      "metadata": {
        "id": "2AXc6UWs4Y-U",
        "colab_type": "text"
      },
      "source": [
        "diagnostics is not bad so we are good and continue"
      ]
    },
    {
      "cell_type": "code",
      "metadata": {
        "id": "5JDYaR7Jpqvl",
        "colab_type": "code",
        "colab": {}
      },
      "source": [
        "yhat = results.predict(28, 33).tolist() # Predicting based on the stationary data\n",
        "test = ts[28:34].tolist() # cinverting ti list to loop through it\n",
        "yhat = [inverse_difference(test[i], yhat[i]) for i in range(len(yhat))]\n",
        "yhat = pd.Series(yhat , index = ts[28:34].index) # converting it from list to a series to get the index "
      ],
      "execution_count": 0,
      "outputs": []
    },
    {
      "cell_type": "code",
      "metadata": {
        "id": "h1Z2h2wIpqs6",
        "colab_type": "code",
        "colab": {}
      },
      "source": [
        "plt.figure(figsize = (12,6))\n",
        "plt.plot(ts[0:28] , label='Train')\n",
        "plt.plot(ts[28:34] , label='Test')\n",
        "plt.plot(yhat , label='six-months ahead Forecast')\n",
        "plt.xlabel('Date block num')\n",
        "plt.ylabel('number of items sold')\n",
        "plt.legend()\n",
        "plt.show()\n",
        "rmse = sqrt(mean_squared_error(ts[28:34],yhat))\n",
        "print('RMSE: %.1f' % rmse , \"\\n\")\n",
        "print(ts.describe()[1:3].round())"
      ],
      "execution_count": 0,
      "outputs": []
    },
    {
      "cell_type": "markdown",
      "metadata": {
        "id": "XxsZN3IZqiB_",
        "colab_type": "text"
      },
      "source": [
        "# Machine Learning"
      ]
    },
    {
      "cell_type": "markdown",
      "metadata": {
        "id": "f9PNzXqysFVf",
        "colab_type": "text"
      },
      "source": [
        "# Starting with a base model"
      ]
    },
    {
      "cell_type": "code",
      "metadata": {
        "id": "QuUmkd8epzvE",
        "colab_type": "code",
        "outputId": "f5d58431-e31d-49ab-d28f-c946810c4aac",
        "colab": {
          "base_uri": "https://localhost:8080/",
          "height": 419
        }
      },
      "source": [
        "# Getting ready for the base model\n",
        "sales.date = pd.to_datetime(sales.date)\n",
        "sales['year'] = sales.date.dt.year\n",
        "\n",
        "base = sales.copy() # leaving the original dataset untouched\n",
        "base = pd.DataFrame(base.groupby(['date_block_num','shop_id','year','item_id'])['item_cnt_day'].sum())\n",
        "base = base.reset_index() \n",
        "base = base.rename(columns = {'item_cnt_day':'item_cnt_month'})\n",
        "base"
      ],
      "execution_count": 0,
      "outputs": [
        {
          "output_type": "execute_result",
          "data": {
            "text/html": [
              "<div>\n",
              "<style scoped>\n",
              "    .dataframe tbody tr th:only-of-type {\n",
              "        vertical-align: middle;\n",
              "    }\n",
              "\n",
              "    .dataframe tbody tr th {\n",
              "        vertical-align: top;\n",
              "    }\n",
              "\n",
              "    .dataframe thead th {\n",
              "        text-align: right;\n",
              "    }\n",
              "</style>\n",
              "<table border=\"1\" class=\"dataframe\">\n",
              "  <thead>\n",
              "    <tr style=\"text-align: right;\">\n",
              "      <th></th>\n",
              "      <th>date_block_num</th>\n",
              "      <th>shop_id</th>\n",
              "      <th>year</th>\n",
              "      <th>item_id</th>\n",
              "      <th>item_cnt_month</th>\n",
              "    </tr>\n",
              "  </thead>\n",
              "  <tbody>\n",
              "    <tr>\n",
              "      <th>0</th>\n",
              "      <td>0</td>\n",
              "      <td>0</td>\n",
              "      <td>2013</td>\n",
              "      <td>32</td>\n",
              "      <td>6.0</td>\n",
              "    </tr>\n",
              "    <tr>\n",
              "      <th>1</th>\n",
              "      <td>0</td>\n",
              "      <td>0</td>\n",
              "      <td>2013</td>\n",
              "      <td>33</td>\n",
              "      <td>3.0</td>\n",
              "    </tr>\n",
              "    <tr>\n",
              "      <th>2</th>\n",
              "      <td>0</td>\n",
              "      <td>0</td>\n",
              "      <td>2013</td>\n",
              "      <td>35</td>\n",
              "      <td>1.0</td>\n",
              "    </tr>\n",
              "    <tr>\n",
              "      <th>3</th>\n",
              "      <td>0</td>\n",
              "      <td>0</td>\n",
              "      <td>2013</td>\n",
              "      <td>43</td>\n",
              "      <td>1.0</td>\n",
              "    </tr>\n",
              "    <tr>\n",
              "      <th>4</th>\n",
              "      <td>0</td>\n",
              "      <td>0</td>\n",
              "      <td>2013</td>\n",
              "      <td>51</td>\n",
              "      <td>2.0</td>\n",
              "    </tr>\n",
              "    <tr>\n",
              "      <th>...</th>\n",
              "      <td>...</td>\n",
              "      <td>...</td>\n",
              "      <td>...</td>\n",
              "      <td>...</td>\n",
              "      <td>...</td>\n",
              "    </tr>\n",
              "    <tr>\n",
              "      <th>1609119</th>\n",
              "      <td>33</td>\n",
              "      <td>59</td>\n",
              "      <td>2015</td>\n",
              "      <td>22087</td>\n",
              "      <td>6.0</td>\n",
              "    </tr>\n",
              "    <tr>\n",
              "      <th>1609120</th>\n",
              "      <td>33</td>\n",
              "      <td>59</td>\n",
              "      <td>2015</td>\n",
              "      <td>22088</td>\n",
              "      <td>2.0</td>\n",
              "    </tr>\n",
              "    <tr>\n",
              "      <th>1609121</th>\n",
              "      <td>33</td>\n",
              "      <td>59</td>\n",
              "      <td>2015</td>\n",
              "      <td>22091</td>\n",
              "      <td>1.0</td>\n",
              "    </tr>\n",
              "    <tr>\n",
              "      <th>1609122</th>\n",
              "      <td>33</td>\n",
              "      <td>59</td>\n",
              "      <td>2015</td>\n",
              "      <td>22100</td>\n",
              "      <td>1.0</td>\n",
              "    </tr>\n",
              "    <tr>\n",
              "      <th>1609123</th>\n",
              "      <td>33</td>\n",
              "      <td>59</td>\n",
              "      <td>2015</td>\n",
              "      <td>22102</td>\n",
              "      <td>1.0</td>\n",
              "    </tr>\n",
              "  </tbody>\n",
              "</table>\n",
              "<p>1609124 rows × 5 columns</p>\n",
              "</div>"
            ],
            "text/plain": [
              "         date_block_num  shop_id  year  item_id  item_cnt_month\n",
              "0                     0        0  2013       32             6.0\n",
              "1                     0        0  2013       33             3.0\n",
              "2                     0        0  2013       35             1.0\n",
              "3                     0        0  2013       43             1.0\n",
              "4                     0        0  2013       51             2.0\n",
              "...                 ...      ...   ...      ...             ...\n",
              "1609119              33       59  2015    22087             6.0\n",
              "1609120              33       59  2015    22088             2.0\n",
              "1609121              33       59  2015    22091             1.0\n",
              "1609122              33       59  2015    22100             1.0\n",
              "1609123              33       59  2015    22102             1.0\n",
              "\n",
              "[1609124 rows x 5 columns]"
            ]
          },
          "metadata": {
            "tags": []
          },
          "execution_count": 5
        }
      ]
    },
    {
      "cell_type": "code",
      "metadata": {
        "id": "Gzkc8-Ltp0Mr",
        "colab_type": "code",
        "colab": {}
      },
      "source": [
        "def get_data_splits(df) :\n",
        "    \"\"\"\n",
        "    Splits a dataframe into 90% train, 10% validation but first order by the date_block_num. \n",
        "    \n",
        "    \"\"\"\n",
        "    df = df.sort_values(by = 'date_block_num') #sort values by the date_clock_num so that the test set is the last period of time\n",
        "    train = df[df.date_block_num < 32]\n",
        "    validation = df[df.date_block_num > 31] # taking the last 2 months to simulate the test set \n",
        "    return train, validation"
      ],
      "execution_count": 0,
      "outputs": []
    },
    {
      "cell_type": "code",
      "metadata": {
        "id": "FE61W5dHp0QF",
        "colab_type": "code",
        "colab": {}
      },
      "source": [
        "train, validation = get_data_splits(base)"
      ],
      "execution_count": 0,
      "outputs": []
    },
    {
      "cell_type": "code",
      "metadata": {
        "id": "QZWzkR4qqckq",
        "colab_type": "code",
        "outputId": "d2aa4c6a-18e3-4215-ad38-85afc49c40f6",
        "colab": {
          "base_uri": "https://localhost:8080/",
          "height": 419
        }
      },
      "source": [
        "validation"
      ],
      "execution_count": 0,
      "outputs": [
        {
          "output_type": "execute_result",
          "data": {
            "text/html": [
              "<div>\n",
              "<style scoped>\n",
              "    .dataframe tbody tr th:only-of-type {\n",
              "        vertical-align: middle;\n",
              "    }\n",
              "\n",
              "    .dataframe tbody tr th {\n",
              "        vertical-align: top;\n",
              "    }\n",
              "\n",
              "    .dataframe thead th {\n",
              "        text-align: right;\n",
              "    }\n",
              "</style>\n",
              "<table border=\"1\" class=\"dataframe\">\n",
              "  <thead>\n",
              "    <tr style=\"text-align: right;\">\n",
              "      <th></th>\n",
              "      <th>date_block_num</th>\n",
              "      <th>shop_id</th>\n",
              "      <th>year</th>\n",
              "      <th>item_id</th>\n",
              "      <th>item_cnt_month</th>\n",
              "    </tr>\n",
              "  </thead>\n",
              "  <tbody>\n",
              "    <tr>\n",
              "      <th>1567699</th>\n",
              "      <td>32</td>\n",
              "      <td>42</td>\n",
              "      <td>2015</td>\n",
              "      <td>15066</td>\n",
              "      <td>2.0</td>\n",
              "    </tr>\n",
              "    <tr>\n",
              "      <th>1567700</th>\n",
              "      <td>32</td>\n",
              "      <td>42</td>\n",
              "      <td>2015</td>\n",
              "      <td>15067</td>\n",
              "      <td>31.0</td>\n",
              "    </tr>\n",
              "    <tr>\n",
              "      <th>1567701</th>\n",
              "      <td>32</td>\n",
              "      <td>42</td>\n",
              "      <td>2015</td>\n",
              "      <td>15068</td>\n",
              "      <td>1.0</td>\n",
              "    </tr>\n",
              "    <tr>\n",
              "      <th>1567704</th>\n",
              "      <td>32</td>\n",
              "      <td>42</td>\n",
              "      <td>2015</td>\n",
              "      <td>15096</td>\n",
              "      <td>2.0</td>\n",
              "    </tr>\n",
              "    <tr>\n",
              "      <th>1567703</th>\n",
              "      <td>32</td>\n",
              "      <td>42</td>\n",
              "      <td>2015</td>\n",
              "      <td>15087</td>\n",
              "      <td>2.0</td>\n",
              "    </tr>\n",
              "    <tr>\n",
              "      <th>...</th>\n",
              "      <td>...</td>\n",
              "      <td>...</td>\n",
              "      <td>...</td>\n",
              "      <td>...</td>\n",
              "      <td>...</td>\n",
              "    </tr>\n",
              "    <tr>\n",
              "      <th>1588096</th>\n",
              "      <td>33</td>\n",
              "      <td>24</td>\n",
              "      <td>2015</td>\n",
              "      <td>9355</td>\n",
              "      <td>3.0</td>\n",
              "    </tr>\n",
              "    <tr>\n",
              "      <th>1588095</th>\n",
              "      <td>33</td>\n",
              "      <td>24</td>\n",
              "      <td>2015</td>\n",
              "      <td>9337</td>\n",
              "      <td>1.0</td>\n",
              "    </tr>\n",
              "    <tr>\n",
              "      <th>1588094</th>\n",
              "      <td>33</td>\n",
              "      <td>24</td>\n",
              "      <td>2015</td>\n",
              "      <td>8743</td>\n",
              "      <td>1.0</td>\n",
              "    </tr>\n",
              "    <tr>\n",
              "      <th>1588092</th>\n",
              "      <td>33</td>\n",
              "      <td>24</td>\n",
              "      <td>2015</td>\n",
              "      <td>8737</td>\n",
              "      <td>2.0</td>\n",
              "    </tr>\n",
              "    <tr>\n",
              "      <th>1609123</th>\n",
              "      <td>33</td>\n",
              "      <td>59</td>\n",
              "      <td>2015</td>\n",
              "      <td>22102</td>\n",
              "      <td>1.0</td>\n",
              "    </tr>\n",
              "  </tbody>\n",
              "</table>\n",
              "<p>61209 rows × 5 columns</p>\n",
              "</div>"
            ],
            "text/plain": [
              "         date_block_num  shop_id  year  item_id  item_cnt_month\n",
              "1567699              32       42  2015    15066             2.0\n",
              "1567700              32       42  2015    15067            31.0\n",
              "1567701              32       42  2015    15068             1.0\n",
              "1567704              32       42  2015    15096             2.0\n",
              "1567703              32       42  2015    15087             2.0\n",
              "...                 ...      ...   ...      ...             ...\n",
              "1588096              33       24  2015     9355             3.0\n",
              "1588095              33       24  2015     9337             1.0\n",
              "1588094              33       24  2015     8743             1.0\n",
              "1588092              33       24  2015     8737             2.0\n",
              "1609123              33       59  2015    22102             1.0\n",
              "\n",
              "[61209 rows x 5 columns]"
            ]
          },
          "metadata": {
            "tags": []
          },
          "execution_count": 16
        }
      ]
    },
    {
      "cell_type": "code",
      "metadata": {
        "id": "AFhrAm7Fp0S0",
        "colab_type": "code",
        "outputId": "820a7a6b-0499-4da2-f781-a760b4e8a158",
        "colab": {
          "base_uri": "https://localhost:8080/",
          "height": 122
        }
      },
      "source": [
        "\n",
        "X_train = train.drop('item_cnt_month' , axis = 1)\n",
        "y_train = train.item_cnt_month\n",
        "\n",
        "X_val = validation.drop('item_cnt_month' , axis = 1)\n",
        "y_val = validation.item_cnt_month\n",
        "\n",
        "\n",
        "models = []\n",
        "models.append(('LGBM',LGBMRegressor(n_jobs = -1 , random_state = random_state)))\n",
        "models.append(('XGB' , XGBRegressor(n_jobs= -1 ,random_state = random_state)) )\n",
        "models.append(('RF' ,RandomForestRegressor(verbose = False ,random_state = random_state) ))\n",
        "models.append(('LR' ,LinearRegression() ))\n",
        "for name, model in models :\n",
        "    model.fit(X_train, y_train)\n",
        "    rmse = sqrt( mean_squared_error(model.predict(X_val), y_val ) ) \n",
        "    print(name ,\": \",rmse )\n"
      ],
      "execution_count": 0,
      "outputs": [
        {
          "output_type": "stream",
          "text": [
            "LGBM :  16.25462807143281\n",
            "[20:06:23] WARNING: /workspace/src/objective/regression_obj.cu:152: reg:linear is now deprecated in favor of reg:squarederror.\n",
            "XGB :  16.135782269473\n",
            "RF :  14.926916180602934\n",
            "LR :  16.547247380574465\n"
          ],
          "name": "stdout"
        }
      ]
    },
    {
      "cell_type": "markdown",
      "metadata": {
        "id": "jU3Pd7KGtJYB",
        "colab_type": "text"
      },
      "source": [
        "These are the values of the base model and will be improved after every part in the notebook\n",
        "\n",
        "LGBM :  16.25462807143281\n",
        "\n",
        "XGB :  16.135782269473\n",
        "\n",
        "RF :  14.926916180602934\n",
        "\n",
        "LR :  16.547247380574465"
      ]
    },
    {
      "cell_type": "code",
      "metadata": {
        "id": "bbUcLCTAp0Yv",
        "colab_type": "code",
        "outputId": "7300ff74-ff27-4462-b283-a1f83433fd39",
        "colab": {
          "base_uri": "https://localhost:8080/",
          "height": 419
        }
      },
      "source": [
        "# i want to insert in the first position the date_block_num to match the test with the train\n",
        "test.insert(0 , 'date_block_num' , [34 for i in range(0, len(test) )])\n",
        "test = test.drop('ID' , axis= 1)\n",
        "test['year'] = 2015\n",
        "test"
      ],
      "execution_count": 0,
      "outputs": [
        {
          "output_type": "execute_result",
          "data": {
            "text/html": [
              "<div>\n",
              "<style scoped>\n",
              "    .dataframe tbody tr th:only-of-type {\n",
              "        vertical-align: middle;\n",
              "    }\n",
              "\n",
              "    .dataframe tbody tr th {\n",
              "        vertical-align: top;\n",
              "    }\n",
              "\n",
              "    .dataframe thead th {\n",
              "        text-align: right;\n",
              "    }\n",
              "</style>\n",
              "<table border=\"1\" class=\"dataframe\">\n",
              "  <thead>\n",
              "    <tr style=\"text-align: right;\">\n",
              "      <th></th>\n",
              "      <th>date_block_num</th>\n",
              "      <th>shop_id</th>\n",
              "      <th>item_id</th>\n",
              "      <th>year</th>\n",
              "    </tr>\n",
              "  </thead>\n",
              "  <tbody>\n",
              "    <tr>\n",
              "      <th>0</th>\n",
              "      <td>34</td>\n",
              "      <td>5</td>\n",
              "      <td>5037</td>\n",
              "      <td>2015</td>\n",
              "    </tr>\n",
              "    <tr>\n",
              "      <th>1</th>\n",
              "      <td>34</td>\n",
              "      <td>5</td>\n",
              "      <td>5320</td>\n",
              "      <td>2015</td>\n",
              "    </tr>\n",
              "    <tr>\n",
              "      <th>2</th>\n",
              "      <td>34</td>\n",
              "      <td>5</td>\n",
              "      <td>5233</td>\n",
              "      <td>2015</td>\n",
              "    </tr>\n",
              "    <tr>\n",
              "      <th>3</th>\n",
              "      <td>34</td>\n",
              "      <td>5</td>\n",
              "      <td>5232</td>\n",
              "      <td>2015</td>\n",
              "    </tr>\n",
              "    <tr>\n",
              "      <th>4</th>\n",
              "      <td>34</td>\n",
              "      <td>5</td>\n",
              "      <td>5268</td>\n",
              "      <td>2015</td>\n",
              "    </tr>\n",
              "    <tr>\n",
              "      <th>...</th>\n",
              "      <td>...</td>\n",
              "      <td>...</td>\n",
              "      <td>...</td>\n",
              "      <td>...</td>\n",
              "    </tr>\n",
              "    <tr>\n",
              "      <th>214195</th>\n",
              "      <td>34</td>\n",
              "      <td>45</td>\n",
              "      <td>18454</td>\n",
              "      <td>2015</td>\n",
              "    </tr>\n",
              "    <tr>\n",
              "      <th>214196</th>\n",
              "      <td>34</td>\n",
              "      <td>45</td>\n",
              "      <td>16188</td>\n",
              "      <td>2015</td>\n",
              "    </tr>\n",
              "    <tr>\n",
              "      <th>214197</th>\n",
              "      <td>34</td>\n",
              "      <td>45</td>\n",
              "      <td>15757</td>\n",
              "      <td>2015</td>\n",
              "    </tr>\n",
              "    <tr>\n",
              "      <th>214198</th>\n",
              "      <td>34</td>\n",
              "      <td>45</td>\n",
              "      <td>19648</td>\n",
              "      <td>2015</td>\n",
              "    </tr>\n",
              "    <tr>\n",
              "      <th>214199</th>\n",
              "      <td>34</td>\n",
              "      <td>45</td>\n",
              "      <td>969</td>\n",
              "      <td>2015</td>\n",
              "    </tr>\n",
              "  </tbody>\n",
              "</table>\n",
              "<p>214200 rows × 4 columns</p>\n",
              "</div>"
            ],
            "text/plain": [
              "        date_block_num  shop_id  item_id  year\n",
              "0                   34        5     5037  2015\n",
              "1                   34        5     5320  2015\n",
              "2                   34        5     5233  2015\n",
              "3                   34        5     5232  2015\n",
              "4                   34        5     5268  2015\n",
              "...                ...      ...      ...   ...\n",
              "214195              34       45    18454  2015\n",
              "214196              34       45    16188  2015\n",
              "214197              34       45    15757  2015\n",
              "214198              34       45    19648  2015\n",
              "214199              34       45      969  2015\n",
              "\n",
              "[214200 rows x 4 columns]"
            ]
          },
          "metadata": {
            "tags": []
          },
          "execution_count": 131
        }
      ]
    },
    {
      "cell_type": "code",
      "metadata": {
        "id": "xweIO0lop0di",
        "colab_type": "code",
        "colab": {}
      },
      "source": [
        "# submitting to the leaderboard\n",
        "xgb = XGBRegressor(verbose = False , ,random_state = random_state)\n",
        "xgb.fit(base.drop('item_cnt_month',axis = 1), base.item_cnt_month)\n",
        "preds_xgb = xgb.predict(test)\n",
        "sub = sample_submission\n",
        "sub.item_cnt_month = preds_xgb\n",
        "sub.to_csv('sub.csv' , index = False)"
      ],
      "execution_count": 0,
      "outputs": []
    },
    {
      "cell_type": "markdown",
      "metadata": {
        "id": "KeQ5ukf3rBbn",
        "colab_type": "text"
      },
      "source": [
        "I got about 6 RMSE with the base model"
      ]
    },
    {
      "cell_type": "markdown",
      "metadata": {
        "id": "q2BtWNBTrH7r",
        "colab_type": "text"
      },
      "source": [
        "# Feature Engineering"
      ]
    },
    {
      "cell_type": "code",
      "metadata": {
        "id": "yI96BZVerFk1",
        "colab_type": "code",
        "colab": {}
      },
      "source": [
        "sales1 = base.copy() # Continue on the base model"
      ],
      "execution_count": 0,
      "outputs": []
    },
    {
      "cell_type": "code",
      "metadata": {
        "id": "MfjLEH0Br29r",
        "colab_type": "code",
        "colab": {}
      },
      "source": [
        "# removing duplicate rows \n",
        "sales1.drop_duplicates(inplace = True , keep = 'first')"
      ],
      "execution_count": 0,
      "outputs": []
    },
    {
      "cell_type": "code",
      "metadata": {
        "id": "CI4q45NNrFzz",
        "colab_type": "code",
        "outputId": "5bc7f34b-87d2-4430-ae5b-4b4ee3fda08f",
        "colab": {
          "base_uri": "https://localhost:8080/",
          "height": 34
        }
      },
      "source": [
        "# what is the portion of data that has target variable value with more than 20\n",
        "round((len(sales1[sales1.item_cnt_month > 20]) / len(sales1)),3)\n"
      ],
      "execution_count": 0,
      "outputs": [
        {
          "output_type": "execute_result",
          "data": {
            "text/plain": [
              "0.0"
            ]
          },
          "metadata": {
            "tags": []
          },
          "execution_count": 24
        }
      ]
    },
    {
      "cell_type": "markdown",
      "metadata": {
        "id": "SF1nqCURrTVg",
        "colab_type": "text"
      },
      "source": [
        "item_cnt_day has natural ouliers with values more than 20 and although they represent the real life but they are not a lot and make a lot of niose to the model so i will trim any value more than 20 and we will lose a small fraction of the data anyways\n",
        "\n"
      ]
    },
    {
      "cell_type": "code",
      "metadata": {
        "id": "sXaSi_dArF9y",
        "colab_type": "code",
        "outputId": "8a3ebc96-84cc-468d-d7da-89ca192a85a7",
        "colab": {
          "base_uri": "https://localhost:8080/",
          "height": 572
        }
      },
      "source": [
        "sales1 = sales1[sales1.item_cnt_month <= 20]\n",
        "print(sales1.item_cnt_month.describe().round())\n",
        "plt.figure(figsize = (20 , 8))\n",
        "sns.boxplot(sales1.item_cnt_month)\n",
        "plt.show()"
      ],
      "execution_count": 0,
      "outputs": [
        {
          "output_type": "stream",
          "text": [
            "count    1597661.0\n",
            "mean           2.0\n",
            "std            2.0\n",
            "min          -22.0\n",
            "25%            1.0\n",
            "50%            1.0\n",
            "75%            2.0\n",
            "max           20.0\n",
            "Name: item_cnt_month, dtype: float64\n"
          ],
          "name": "stdout"
        },
        {
          "output_type": "display_data",
          "data": {
            "image/png": "[encoded data removed]",
            "text/plain": [
              "<Figure size 1440x576 with 1 Axes>"
            ]
          },
          "metadata": {
            "tags": []
          }
        }
      ]
    },
    {
      "cell_type": "code",
      "metadata": {
        "id": "7zq3IXAdrLMg",
        "colab_type": "code",
        "outputId": "d6aa14e7-9eba-45d0-b52e-3ac8f536c1d3",
        "colab": {
          "base_uri": "https://localhost:8080/",
          "height": 51
        }
      },
      "source": [
        "# how many value in the target variable less than zero\n",
        "print(len(sales1[sales1.item_cnt_month < 0 ]))\n",
        "print(len(sales1[sales1.item_cnt_month < 0 ]) / len(sales1))"
      ],
      "execution_count": 0,
      "outputs": [
        {
          "output_type": "stream",
          "text": [
            "915\n",
            "0.0005727122336966352\n"
          ],
          "name": "stdout"
        }
      ]
    },
    {
      "cell_type": "markdown",
      "metadata": {
        "id": "nQxXw2JzrUCs",
        "colab_type": "text"
      },
      "source": [
        "I will remove the negative values as they will cause noise on the data"
      ]
    },
    {
      "cell_type": "code",
      "metadata": {
        "id": "hFnPFz_ArXVn",
        "colab_type": "code",
        "colab": {}
      },
      "source": [
        "sales1 = sales1[sales1.item_cnt_month > 0]"
      ],
      "execution_count": 0,
      "outputs": []
    },
    {
      "cell_type": "markdown",
      "metadata": {
        "id": "aA4tjnZ8rjXP",
        "colab_type": "text"
      },
      "source": [
        "Testing the model performance after trimming all values greater than 20 and less than 0"
      ]
    },
    {
      "cell_type": "code",
      "metadata": {
        "id": "gPIqVMSgrF2x",
        "colab_type": "code",
        "outputId": "eb458675-75f0-400e-8aea-65f225b8bd52",
        "colab": {
          "base_uri": "https://localhost:8080/",
          "height": 88
        }
      },
      "source": [
        "# Validating after trimming the target variabel\n",
        "train, validation = get_data_splits(sales1)\n",
        "X_train = train.drop('item_cnt_month' , axis = 1)\n",
        "y_train = train.item_cnt_month\n",
        "\n",
        "X_val = validation.drop('item_cnt_month' , axis = 1)\n",
        "y_val = validation.item_cnt_month\n",
        "\n",
        "\n",
        "models = []\n",
        "models.append(('XGB' , XGBRegressor(n_jobs= -1 , random_state = random_state)) )\n",
        "models.append(('LGBM' ,LGBMRegressor( random_state = random_state) ))\n",
        "for name, model in models :\n",
        "    model.fit(X_train, y_train)\n",
        "    rmse = sqrt( mean_squared_error(model.predict(X_val), y_val ) ) \n",
        "    print(name ,\": \",rmse )"
      ],
      "execution_count": 0,
      "outputs": [
        {
          "output_type": "stream",
          "text": [
            "[20:21:53] WARNING: /workspace/src/objective/regression_obj.cu:152: reg:linear is now deprecated in favor of reg:squarederror.\n",
            "XGB :  1.9368071858443434\n",
            "LGBM :  1.8915577818949325\n"
          ],
          "name": "stdout"
        }
      ]
    },
    {
      "cell_type": "markdown",
      "metadata": {
        "id": "Vk6dgVi3tDzs",
        "colab_type": "text"
      },
      "source": [
        "XGB :  1.9368071858443434\n",
        "\n",
        "LGBM :  1.8915577818949325"
      ]
    },
    {
      "cell_type": "markdown",
      "metadata": {
        "id": "HAZXlpr6rlVY",
        "colab_type": "text"
      },
      "source": [
        "Trimming the target variable improved the performance a lot on the validation data"
      ]
    },
    {
      "cell_type": "markdown",
      "metadata": {
        "id": "avaqMNP1qKy6",
        "colab_type": "text"
      },
      "source": [
        "Since the results of lightGBM and XGB are very similar but light gbm is much much faster i will continue using lightgbm"
      ]
    },
    {
      "cell_type": "code",
      "metadata": {
        "id": "qhYLSXu8Qa1t",
        "colab_type": "code",
        "colab": {}
      },
      "source": [
        "# refitting on the full data and see the impact\n",
        "lgbm = LGBMRegressor( n_jobs = -1 , random_state = random_state)\n",
        "lgbm.fit(sales1.drop(['item_cnt_month'],axis = 1), sales1.item_cnt_month)\n",
        "\n",
        "# saving the model in order to run it again witout taking so much time\n",
        "file_name = 'lgbm_after_trimming.sav'\n",
        "pickle.dump(lgbm , open(file_name, 'wb'))\n"
      ],
      "execution_count": 0,
      "outputs": []
    },
    {
      "cell_type": "code",
      "metadata": {
        "id": "Iggjt4HMQ3t2",
        "colab_type": "code",
        "colab": {}
      },
      "source": [
        "# submitting in the leaderboard\n",
        "# load the file from the disk\n",
        "lgbm = pickle.load(open('/content/lgbm_after_trimming.sav', 'rb'))\n",
        "test = test[sales1.drop('item_cnt_month',axis = 1).columns] # sorting column names in the same order\n",
        "preds = lgbm.predict(test)\n",
        "sub = sample_submission\n",
        "sub.item_cnt_month = preds\n",
        "sub.to_csv('lgbm_after_trimming.csv' , index = False)"
      ],
      "execution_count": 0,
      "outputs": []
    },
    {
      "cell_type": "code",
      "metadata": {
        "id": "7i6LHSpAxZtO",
        "colab_type": "code",
        "outputId": "d4412bd3-98cb-4f70-adb1-911880cf526f",
        "colab": {
          "base_uri": "https://localhost:8080/",
          "height": 316
        }
      },
      "source": [
        "lgbm = pickle.load(open('/content/lgbm_after_trimming.sav', 'rb'))\n",
        "# ploting the importance\n",
        "plot_importance(lgbm)"
      ],
      "execution_count": 0,
      "outputs": [
        {
          "output_type": "execute_result",
          "data": {
            "text/plain": [
              "<matplotlib.axes._subplots.AxesSubplot at 0x7f758843ff98>"
            ]
          },
          "metadata": {
            "tags": []
          },
          "execution_count": 53
        },
        {
          "output_type": "display_data",
          "data": {
            "image/png": "[encoded data removed]",
            "text/plain": [
              "<Figure size 432x288 with 1 Axes>"
            ]
          },
          "metadata": {
            "tags": []
          }
        }
      ]
    },
    {
      "cell_type": "markdown",
      "metadata": {
        "id": "JhzRy-WXrnxg",
        "colab_type": "text"
      },
      "source": [
        "# Mean Encoding"
      ]
    },
    {
      "cell_type": "markdown",
      "metadata": {
        "id": "rg2gcwjlrrW_",
        "colab_type": "text"
      },
      "source": [
        "`Motivation` : the item_id is not ordinal and if we one hot encoded it we will fall in the curse of dimensionality hence mean encoding is needed to solve this trap."
      ]
    },
    {
      "cell_type": "code",
      "metadata": {
        "id": "gCA5tsltrgQo",
        "colab_type": "code",
        "outputId": "a6e48094-c466-46ae-c7c7-4e2ad50cfbbf",
        "colab": {
          "base_uri": "https://localhost:8080/",
          "height": 419
        }
      },
      "source": [
        "from itertools import product # to make cartisien product\n",
        "index_cols = ['shop_id' , 'item_id' , 'date_block_num']\n",
        "grid = []\n",
        "for block_num in sales.date_block_num.unique() : # iterating over the 34 month\n",
        "    curr_shops = sales[sales.date_block_num == block_num]['shop_id'].unique() # get the unique shops in this month\n",
        "    curr_items = sales[sales.date_block_num == block_num]['item_id'].unique() # get the unique items in this month\n",
        "    grid.append(np.array(list(product (*[ curr_shops, curr_items, [block_num]]))))\n",
        "grid = pd.DataFrame(np.vstack(grid) , columns = index_cols ) \n",
        "all_data = grid.merge(sales1[['shop_id' , 'item_id' , 'date_block_num','item_cnt_month']] , how = 'left' , on = index_cols).sort_values(index_cols).fillna(0) #to add the item_cnt_month\n",
        "all_data"
      ],
      "execution_count": 0,
      "outputs": [
        {
          "output_type": "execute_result",
          "data": {
            "text/html": [
              "<div>\n",
              "<style scoped>\n",
              "    .dataframe tbody tr th:only-of-type {\n",
              "        vertical-align: middle;\n",
              "    }\n",
              "\n",
              "    .dataframe tbody tr th {\n",
              "        vertical-align: top;\n",
              "    }\n",
              "\n",
              "    .dataframe thead th {\n",
              "        text-align: right;\n",
              "    }\n",
              "</style>\n",
              "<table border=\"1\" class=\"dataframe\">\n",
              "  <thead>\n",
              "    <tr style=\"text-align: right;\">\n",
              "      <th></th>\n",
              "      <th>shop_id</th>\n",
              "      <th>item_id</th>\n",
              "      <th>date_block_num</th>\n",
              "      <th>item_cnt_month</th>\n",
              "    </tr>\n",
              "  </thead>\n",
              "  <tbody>\n",
              "    <tr>\n",
              "      <th>606783</th>\n",
              "      <td>0</td>\n",
              "      <td>12</td>\n",
              "      <td>1</td>\n",
              "      <td>0.0</td>\n",
              "    </tr>\n",
              "    <tr>\n",
              "      <th>139237</th>\n",
              "      <td>0</td>\n",
              "      <td>19</td>\n",
              "      <td>0</td>\n",
              "      <td>0.0</td>\n",
              "    </tr>\n",
              "    <tr>\n",
              "      <th>141477</th>\n",
              "      <td>0</td>\n",
              "      <td>27</td>\n",
              "      <td>0</td>\n",
              "      <td>0.0</td>\n",
              "    </tr>\n",
              "    <tr>\n",
              "      <th>605937</th>\n",
              "      <td>0</td>\n",
              "      <td>27</td>\n",
              "      <td>1</td>\n",
              "      <td>0.0</td>\n",
              "    </tr>\n",
              "    <tr>\n",
              "      <th>144950</th>\n",
              "      <td>0</td>\n",
              "      <td>28</td>\n",
              "      <td>0</td>\n",
              "      <td>0.0</td>\n",
              "    </tr>\n",
              "    <tr>\n",
              "      <th>...</th>\n",
              "      <td>...</td>\n",
              "      <td>...</td>\n",
              "      <td>...</td>\n",
              "      <td>...</td>\n",
              "    </tr>\n",
              "    <tr>\n",
              "      <th>5953</th>\n",
              "      <td>59</td>\n",
              "      <td>22168</td>\n",
              "      <td>0</td>\n",
              "      <td>0.0</td>\n",
              "    </tr>\n",
              "    <tr>\n",
              "      <th>442284</th>\n",
              "      <td>59</td>\n",
              "      <td>22168</td>\n",
              "      <td>1</td>\n",
              "      <td>0.0</td>\n",
              "    </tr>\n",
              "    <tr>\n",
              "      <th>1104210</th>\n",
              "      <td>59</td>\n",
              "      <td>22168</td>\n",
              "      <td>2</td>\n",
              "      <td>0.0</td>\n",
              "    </tr>\n",
              "    <tr>\n",
              "      <th>3339045</th>\n",
              "      <td>59</td>\n",
              "      <td>22168</td>\n",
              "      <td>8</td>\n",
              "      <td>0.0</td>\n",
              "    </tr>\n",
              "    <tr>\n",
              "      <th>5254803</th>\n",
              "      <td>59</td>\n",
              "      <td>22169</td>\n",
              "      <td>14</td>\n",
              "      <td>0.0</td>\n",
              "    </tr>\n",
              "  </tbody>\n",
              "</table>\n",
              "<p>10909361 rows × 4 columns</p>\n",
              "</div>"
            ],
            "text/plain": [
              "         shop_id  item_id  date_block_num  item_cnt_month\n",
              "606783         0       12               1             0.0\n",
              "139237         0       19               0             0.0\n",
              "141477         0       27               0             0.0\n",
              "605937         0       27               1             0.0\n",
              "144950         0       28               0             0.0\n",
              "...          ...      ...             ...             ...\n",
              "5953          59    22168               0             0.0\n",
              "442284        59    22168               1             0.0\n",
              "1104210       59    22168               2             0.0\n",
              "3339045       59    22168               8             0.0\n",
              "5254803       59    22169              14             0.0\n",
              "\n",
              "[10909361 rows x 4 columns]"
            ]
          },
          "metadata": {
            "tags": []
          },
          "execution_count": 35
        }
      ]
    },
    {
      "cell_type": "code",
      "metadata": {
        "id": "8BbWaGjDrgTl",
        "colab_type": "code",
        "colab": {}
      },
      "source": [
        "def downcasting(df) :\n",
        "    \"\"\"\n",
        "    make 2 lists onc contains index of float64 columns and the other int64 or int32,\n",
        "    then change the dtype of these column into less memory consumer data type\n",
        "    \"\"\"\n",
        "    float_cols = [ col for col in df if df[col].dtype == \"float64\" ]\n",
        "    int_cols = [col for col in df if df[col].dtype in ['int64','int32']]\n",
        "    df[float_cols] = df[float_cols].astype(np.float32)\n",
        "    df[int_cols] = df[int_cols].astype(np.int16)\n",
        "    return df"
      ],
      "execution_count": 0,
      "outputs": []
    },
    {
      "cell_type": "code",
      "metadata": {
        "id": "35_88BoOrgYM",
        "colab_type": "code",
        "outputId": "fe59bb34-1d5e-4b74-df98-30aedc5df72e",
        "colab": {
          "base_uri": "https://localhost:8080/",
          "height": 204
        }
      },
      "source": [
        "# reducing memory usage\n",
        "all_data = downcasting(all_data)\n",
        "all_data.item_cnt_month = all_data.item_cnt_month.astype('int16')\n",
        "all_data.info()"
      ],
      "execution_count": 0,
      "outputs": [
        {
          "output_type": "stream",
          "text": [
            "<class 'pandas.core.frame.DataFrame'>\n",
            "Int64Index: 10909361 entries, 606783 to 5254803\n",
            "Data columns (total 4 columns):\n",
            " #   Column          Dtype\n",
            "---  ------          -----\n",
            " 0   shop_id         int16\n",
            " 1   item_id         int16\n",
            " 2   date_block_num  int16\n",
            " 3   item_cnt_month  int16\n",
            "dtypes: int16(4)\n",
            "memory usage: 166.5 MB\n"
          ],
          "name": "stdout"
        }
      ]
    },
    {
      "cell_type": "markdown",
      "metadata": {
        "id": "kyQcktod1WEy",
        "colab_type": "text"
      },
      "source": [
        "adding category_id to mean encode it"
      ]
    },
    {
      "cell_type": "code",
      "metadata": {
        "id": "CCkrE0lJ4lLm",
        "colab_type": "code",
        "colab": {}
      },
      "source": [
        "# for each item_id put the item_category_id\n",
        "all_data = all_data.merge(items[['item_id','item_category_id']] ) \n",
        "test = test.merge(items[['item_id','item_category_id']])\n",
        "all_data"
      ],
      "execution_count": 0,
      "outputs": []
    },
    {
      "cell_type": "code",
      "metadata": {
        "id": "UP5qIuSjyck2",
        "colab_type": "code",
        "outputId": "342ea7bc-ed6c-46ef-f530-b6e510b85799",
        "colab": {
          "base_uri": "https://localhost:8080/",
          "height": 119
        }
      },
      "source": [
        "all_data.isna().sum() # no nulls and every thing is right"
      ],
      "execution_count": 0,
      "outputs": [
        {
          "output_type": "execute_result",
          "data": {
            "text/plain": [
              "shop_id             0\n",
              "item_id             0\n",
              "date_block_num      0\n",
              "item_cnt_month      0\n",
              "item_category_id    0\n",
              "dtype: int64"
            ]
          },
          "metadata": {
            "tags": []
          },
          "execution_count": 39
        }
      ]
    },
    {
      "cell_type": "markdown",
      "metadata": {
        "id": "KSmwRUQVsNkF",
        "colab_type": "text"
      },
      "source": [
        "Working with regularized mean encoding in order to decrease the leakage"
      ]
    },
    {
      "cell_type": "code",
      "metadata": {
        "id": "oom77WQurgwB",
        "colab_type": "code",
        "colab": {}
      },
      "source": [
        "# encoding item_id, category_id, shop_id\n",
        "kf = KFold(n_splits = 5 , shuffle = False)\n",
        "for train_ind, val_ind in kf.split(all_data) :\n",
        "    train_data , val_data = all_data.iloc[train_ind], all_data.iloc[val_ind]\n",
        "    all_data.loc[all_data.index[val_ind] , 'item_target_enc'] = val_data['item_id'].map(train_data.groupby('item_id')['item_cnt_month'].mean())\n",
        "    all_data.loc[all_data.index[val_ind] , 'category_target_enc'] = val_data['item_category_id'].map(train_data.groupby('item_category_id')['item_cnt_month'].mean())\n",
        "    all_data.loc[all_data.index[val_ind] , 'shop_target_enc'] = val_data['shop_id'].map(train_data.groupby('shop_id')['item_cnt_month'].mean())\n",
        "\n",
        "all_data.fillna(all_data.item_cnt_month.mean(), inplace=True) # fill na that happend from values in validation not in the train with the global mean    "
      ],
      "execution_count": 0,
      "outputs": []
    },
    {
      "cell_type": "code",
      "metadata": {
        "id": "Vwy8iREZrgtr",
        "colab_type": "code",
        "colab": {}
      },
      "source": [
        "# making a column to map item_target_enc to the test set\n",
        "item_mean_enc = all_data.groupby('item_id')['item_target_enc'].unique()\n",
        "item_mean_enc = item_mean_enc.apply(lambda x: x.mean())\n",
        "\n",
        "test['item_target_enc'] = test['item_id'].map(item_mean_enc) # mapping the variable in the test \n",
        "test.fillna(all_data.item_cnt_month.mean() , inplace = True)\n"
      ],
      "execution_count": 0,
      "outputs": []
    },
    {
      "cell_type": "code",
      "metadata": {
        "id": "lL9Pv4ZW_mOz",
        "colab_type": "code",
        "colab": {}
      },
      "source": [
        "# making a column to map item_category_id to the test set\n",
        "category_mean_enc = all_data.groupby('item_category_id')['category_target_enc'].unique()\n",
        "category_mean_enc = category_mean_enc.apply(lambda x: x.mean())\n",
        "\n",
        "test['category_target_enc'] = test['item_category_id'].map(category_mean_enc) # mapping the variable in the test \n",
        "test.fillna(all_data.item_cnt_month.mean() , inplace = True)"
      ],
      "execution_count": 0,
      "outputs": []
    },
    {
      "cell_type": "code",
      "metadata": {
        "id": "FuA01CScV1ol",
        "colab_type": "code",
        "colab": {}
      },
      "source": [
        "# making a column to map the shop_target_enc to the test set\n",
        "shop_mean_enc = all_data.groupby('shop_id')['shop_target_enc'].unique()\n",
        "shop_mean_enc = shop_mean_enc.apply(lambda x: x.mean())\n",
        "\n",
        "test['shop_target_enc'] = test['shop_id'].map(shop_mean_enc) # mapping the variable in the test \n",
        "test.fillna(all_data.item_cnt_month.mean() , inplace = True)"
      ],
      "execution_count": 0,
      "outputs": []
    },
    {
      "cell_type": "code",
      "metadata": {
        "id": "tdH6ejPSwwco",
        "colab_type": "code",
        "outputId": "db44d10b-98d0-4cb6-bbeb-5a377cfba6c7",
        "colab": {
          "base_uri": "https://localhost:8080/",
          "height": 419
        }
      },
      "source": [
        "test"
      ],
      "execution_count": 0,
      "outputs": [
        {
          "output_type": "execute_result",
          "data": {
            "text/html": [
              "<div>\n",
              "<style scoped>\n",
              "    .dataframe tbody tr th:only-of-type {\n",
              "        vertical-align: middle;\n",
              "    }\n",
              "\n",
              "    .dataframe tbody tr th {\n",
              "        vertical-align: top;\n",
              "    }\n",
              "\n",
              "    .dataframe thead th {\n",
              "        text-align: right;\n",
              "    }\n",
              "</style>\n",
              "<table border=\"1\" class=\"dataframe\">\n",
              "  <thead>\n",
              "    <tr style=\"text-align: right;\">\n",
              "      <th></th>\n",
              "      <th>date_block_num</th>\n",
              "      <th>shop_id</th>\n",
              "      <th>item_id</th>\n",
              "      <th>year</th>\n",
              "      <th>item_category_id</th>\n",
              "      <th>item_target_enc</th>\n",
              "      <th>category_target_enc</th>\n",
              "      <th>shop_target_enc</th>\n",
              "    </tr>\n",
              "  </thead>\n",
              "  <tbody>\n",
              "    <tr>\n",
              "      <th>0</th>\n",
              "      <td>34</td>\n",
              "      <td>5</td>\n",
              "      <td>5037</td>\n",
              "      <td>2015</td>\n",
              "      <td>19</td>\n",
              "      <td>0.277278</td>\n",
              "      <td>0.654432</td>\n",
              "      <td>0.173669</td>\n",
              "    </tr>\n",
              "    <tr>\n",
              "      <th>1</th>\n",
              "      <td>34</td>\n",
              "      <td>4</td>\n",
              "      <td>5037</td>\n",
              "      <td>2015</td>\n",
              "      <td>19</td>\n",
              "      <td>0.277278</td>\n",
              "      <td>0.654432</td>\n",
              "      <td>0.168128</td>\n",
              "    </tr>\n",
              "    <tr>\n",
              "      <th>2</th>\n",
              "      <td>34</td>\n",
              "      <td>6</td>\n",
              "      <td>5037</td>\n",
              "      <td>2015</td>\n",
              "      <td>19</td>\n",
              "      <td>0.277278</td>\n",
              "      <td>0.654432</td>\n",
              "      <td>0.360933</td>\n",
              "    </tr>\n",
              "    <tr>\n",
              "      <th>3</th>\n",
              "      <td>34</td>\n",
              "      <td>3</td>\n",
              "      <td>5037</td>\n",
              "      <td>2015</td>\n",
              "      <td>19</td>\n",
              "      <td>0.277278</td>\n",
              "      <td>0.654432</td>\n",
              "      <td>0.112823</td>\n",
              "    </tr>\n",
              "    <tr>\n",
              "      <th>4</th>\n",
              "      <td>34</td>\n",
              "      <td>2</td>\n",
              "      <td>5037</td>\n",
              "      <td>2015</td>\n",
              "      <td>19</td>\n",
              "      <td>0.277278</td>\n",
              "      <td>0.654432</td>\n",
              "      <td>0.116079</td>\n",
              "    </tr>\n",
              "    <tr>\n",
              "      <th>...</th>\n",
              "      <td>...</td>\n",
              "      <td>...</td>\n",
              "      <td>...</td>\n",
              "      <td>...</td>\n",
              "      <td>...</td>\n",
              "      <td>...</td>\n",
              "      <td>...</td>\n",
              "      <td>...</td>\n",
              "    </tr>\n",
              "    <tr>\n",
              "      <th>214195</th>\n",
              "      <td>34</td>\n",
              "      <td>46</td>\n",
              "      <td>969</td>\n",
              "      <td>2015</td>\n",
              "      <td>37</td>\n",
              "      <td>0.277278</td>\n",
              "      <td>0.173617</td>\n",
              "      <td>0.292857</td>\n",
              "    </tr>\n",
              "    <tr>\n",
              "      <th>214196</th>\n",
              "      <td>34</td>\n",
              "      <td>41</td>\n",
              "      <td>969</td>\n",
              "      <td>2015</td>\n",
              "      <td>37</td>\n",
              "      <td>0.277278</td>\n",
              "      <td>0.173617</td>\n",
              "      <td>0.188739</td>\n",
              "    </tr>\n",
              "    <tr>\n",
              "      <th>214197</th>\n",
              "      <td>34</td>\n",
              "      <td>44</td>\n",
              "      <td>969</td>\n",
              "      <td>2015</td>\n",
              "      <td>37</td>\n",
              "      <td>0.277278</td>\n",
              "      <td>0.173617</td>\n",
              "      <td>0.176377</td>\n",
              "    </tr>\n",
              "    <tr>\n",
              "      <th>214198</th>\n",
              "      <td>34</td>\n",
              "      <td>39</td>\n",
              "      <td>969</td>\n",
              "      <td>2015</td>\n",
              "      <td>37</td>\n",
              "      <td>0.277278</td>\n",
              "      <td>0.173617</td>\n",
              "      <td>0.115032</td>\n",
              "    </tr>\n",
              "    <tr>\n",
              "      <th>214199</th>\n",
              "      <td>34</td>\n",
              "      <td>45</td>\n",
              "      <td>969</td>\n",
              "      <td>2015</td>\n",
              "      <td>37</td>\n",
              "      <td>0.277278</td>\n",
              "      <td>0.173617</td>\n",
              "      <td>0.161225</td>\n",
              "    </tr>\n",
              "  </tbody>\n",
              "</table>\n",
              "<p>214200 rows × 8 columns</p>\n",
              "</div>"
            ],
            "text/plain": [
              "        date_block_num  shop_id  ...  category_target_enc  shop_target_enc\n",
              "0                   34        5  ...             0.654432         0.173669\n",
              "1                   34        4  ...             0.654432         0.168128\n",
              "2                   34        6  ...             0.654432         0.360933\n",
              "3                   34        3  ...             0.654432         0.112823\n",
              "4                   34        2  ...             0.654432         0.116079\n",
              "...                ...      ...  ...                  ...              ...\n",
              "214195              34       46  ...             0.173617         0.292857\n",
              "214196              34       41  ...             0.173617         0.188739\n",
              "214197              34       44  ...             0.173617         0.176377\n",
              "214198              34       39  ...             0.173617         0.115032\n",
              "214199              34       45  ...             0.173617         0.161225\n",
              "\n",
              "[214200 rows x 8 columns]"
            ]
          },
          "metadata": {
            "tags": []
          },
          "execution_count": 136
        }
      ]
    },
    {
      "cell_type": "markdown",
      "metadata": {
        "id": "aHTC0YYdeoPV",
        "colab_type": "text"
      },
      "source": [
        "seeing the importance of the added features"
      ]
    },
    {
      "cell_type": "code",
      "metadata": {
        "id": "Q05Il9xuesHW",
        "colab_type": "code",
        "colab": {}
      },
      "source": [
        "lgbm = LGBMRegressor(verbose = 0 , n_jobs = -1 ,random_state = random_state)\n",
        "lgbm.fit(all_data.drop(['item_cnt_month','item_id','item_category_id','shop_id'],axis = 1), all_data.item_cnt_month)\n",
        "\n",
        "#saving the model in order to run it again witout taking so much time\n",
        "file_name = 'lgbm_mean_encoding1.sav'\n",
        "pickle.dump(lgbm , open(file_name, 'wb'))\n",
        "\n",
        "# submitting in the leaderboard\n",
        "lgbm = pickle.load(open('/content/lgbm_mean_encoding1.sav', 'rb'))\n",
        "test = test[all_data.drop('item_cnt_month',axis = 1).columns] # sorting the columns\n",
        "preds_lgbm = lgbm.predict(test.drop(['item_id','item_category_id','shop_id'],axis = 1))\n",
        "sub = sample_submission\n",
        "sub.item_cnt_month = preds_lgbm\n",
        "sub.to_csv('lgbm_mean_encoding1.csv' , index = False)"
      ],
      "execution_count": 0,
      "outputs": []
    },
    {
      "cell_type": "markdown",
      "metadata": {
        "id": "tn5APdwomgJv",
        "colab_type": "text"
      },
      "source": [
        "*The* Error deacresed from `1.85026` to `1.25`"
      ]
    },
    {
      "cell_type": "markdown",
      "metadata": {
        "id": "fGZMGQok_oUT",
        "colab_type": "text"
      },
      "source": [
        "Mean encodnig improved the model performance a lot"
      ]
    },
    {
      "cell_type": "code",
      "metadata": {
        "id": "DJZ4A_8O0HbN",
        "colab_type": "code",
        "colab": {}
      },
      "source": [
        "lgbm = LGBMRegressor(verbose = 0 , n_jobs = -1 ,random_state = random_state)\n",
        "lgbm.fit(all_data.drop(['item_cnt_month'],axis = 1), all_data.item_cnt_month)\n",
        "\n",
        "#saving the model in order to run it again witout taking so much time\n",
        "file_name = 'lgbm_mean_encoding2.sav'\n",
        "pickle.dump(lgbm , open(file_name, 'wb'))\n",
        "\n",
        "# submitting in the leaderboard\n",
        "lgbm = pickle.load(open('/content/lgbm_mean_encoding2.sav', 'rb'))\n",
        "test = test[all_data.drop('item_cnt_month',axis = 1).columns] # sorting the columns\n",
        "preds_lgbm = lgbm.predict(test ,axis = 1)\n",
        "sub = sample_submission\n",
        "sub.item_cnt_month = preds_lgbm\n",
        "sub.to_csv('lgbm_mean_encoding2.csv' , index = False)"
      ],
      "execution_count": 0,
      "outputs": []
    },
    {
      "cell_type": "code",
      "metadata": {
        "id": "gewOiyk0vaEV",
        "colab_type": "code",
        "outputId": "41d2f125-e685-4a33-ddca-2a5c672772f6",
        "colab": {
          "base_uri": "https://localhost:8080/",
          "height": 316
        }
      },
      "source": [
        "# ploting the importance\n",
        "lgbm = pickle.load(open('/content/lgbm_mean_encoding2.sav', 'rb'))\n",
        "plot_importance(lgbm)"
      ],
      "execution_count": 0,
      "outputs": [
        {
          "output_type": "execute_result",
          "data": {
            "text/plain": [
              "<matplotlib.axes._subplots.AxesSubplot at 0x7f758568c9e8>"
            ]
          },
          "metadata": {
            "tags": []
          },
          "execution_count": 59
        },
        {
          "output_type": "display_data",
          "data": {
            "image/png": "[encoded data removed]",
            "text/plain": [
              "<Figure size 432x288 with 1 Axes>"
            ]
          },
          "metadata": {
            "tags": []
          }
        }
      ]
    },
    {
      "cell_type": "markdown",
      "metadata": {
        "id": "Yb1yhw5lsZe0",
        "colab_type": "text"
      },
      "source": [
        "working with the price "
      ]
    },
    {
      "cell_type": "code",
      "metadata": {
        "id": "nDHWJEK6tGfI",
        "colab_type": "code",
        "outputId": "cc57c91e-fdef-41e3-f023-3b29e5bd75e9",
        "colab": {
          "base_uri": "https://localhost:8080/",
          "height": 419
        }
      },
      "source": [
        "item_prices = pd.DataFrame(sales.groupby('item_id')['item_price'].unique()).reset_index()\n",
        "item_prices"
      ],
      "execution_count": 0,
      "outputs": [
        {
          "output_type": "execute_result",
          "data": {
            "text/html": [
              "<div>\n",
              "<style scoped>\n",
              "    .dataframe tbody tr th:only-of-type {\n",
              "        vertical-align: middle;\n",
              "    }\n",
              "\n",
              "    .dataframe tbody tr th {\n",
              "        vertical-align: top;\n",
              "    }\n",
              "\n",
              "    .dataframe thead th {\n",
              "        text-align: right;\n",
              "    }\n",
              "</style>\n",
              "<table border=\"1\" class=\"dataframe\">\n",
              "  <thead>\n",
              "    <tr style=\"text-align: right;\">\n",
              "      <th></th>\n",
              "      <th>item_id</th>\n",
              "      <th>item_price</th>\n",
              "    </tr>\n",
              "  </thead>\n",
              "  <tbody>\n",
              "    <tr>\n",
              "      <th>0</th>\n",
              "      <td>0</td>\n",
              "      <td>[58.0]</td>\n",
              "    </tr>\n",
              "    <tr>\n",
              "      <th>1</th>\n",
              "      <td>1</td>\n",
              "      <td>[4490.0]</td>\n",
              "    </tr>\n",
              "    <tr>\n",
              "      <th>2</th>\n",
              "      <td>2</td>\n",
              "      <td>[58.0]</td>\n",
              "    </tr>\n",
              "    <tr>\n",
              "      <th>3</th>\n",
              "      <td>3</td>\n",
              "      <td>[100.0, 58.0]</td>\n",
              "    </tr>\n",
              "    <tr>\n",
              "      <th>4</th>\n",
              "      <td>4</td>\n",
              "      <td>[58.0]</td>\n",
              "    </tr>\n",
              "    <tr>\n",
              "      <th>...</th>\n",
              "      <td>...</td>\n",
              "      <td>...</td>\n",
              "    </tr>\n",
              "    <tr>\n",
              "      <th>21777</th>\n",
              "      <td>22165</td>\n",
              "      <td>[59.0]</td>\n",
              "    </tr>\n",
              "    <tr>\n",
              "      <th>21778</th>\n",
              "      <td>22166</td>\n",
              "      <td>[150.0]</td>\n",
              "    </tr>\n",
              "    <tr>\n",
              "      <th>21779</th>\n",
              "      <td>22167</td>\n",
              "      <td>[299.0, 287.0, 155.0, 239.2, 284.0, 268.9, 269...</td>\n",
              "    </tr>\n",
              "    <tr>\n",
              "      <th>21780</th>\n",
              "      <td>22168</td>\n",
              "      <td>[799.0, 798.5]</td>\n",
              "    </tr>\n",
              "    <tr>\n",
              "      <th>21781</th>\n",
              "      <td>22169</td>\n",
              "      <td>[4349.0]</td>\n",
              "    </tr>\n",
              "  </tbody>\n",
              "</table>\n",
              "<p>21782 rows × 2 columns</p>\n",
              "</div>"
            ],
            "text/plain": [
              "       item_id                                         item_price\n",
              "0            0                                             [58.0]\n",
              "1            1                                           [4490.0]\n",
              "2            2                                             [58.0]\n",
              "3            3                                      [100.0, 58.0]\n",
              "4            4                                             [58.0]\n",
              "...        ...                                                ...\n",
              "21777    22165                                             [59.0]\n",
              "21778    22166                                            [150.0]\n",
              "21779    22167  [299.0, 287.0, 155.0, 239.2, 284.0, 268.9, 269...\n",
              "21780    22168                                     [799.0, 798.5]\n",
              "21781    22169                                           [4349.0]\n",
              "\n",
              "[21782 rows x 2 columns]"
            ]
          },
          "metadata": {
            "tags": []
          },
          "execution_count": 60
        }
      ]
    },
    {
      "cell_type": "code",
      "metadata": {
        "id": "CPStOUTY3RDt",
        "colab_type": "code",
        "colab": {}
      },
      "source": [
        "# taking different statictical measurements of the price\n",
        "item_prices['min_price'] = item_prices.item_price.apply(lambda p : np.min(p))\n",
        "item_prices['max_price'] = item_prices.item_price.apply(lambda p : np.max(p))\n",
        "item_prices['mean_price'] = item_prices.item_price.apply(lambda p : np.mean(p))\n",
        "item_prices['std_price'] = item_prices.item_price.apply(lambda p : np.std(p))"
      ],
      "execution_count": 0,
      "outputs": []
    },
    {
      "cell_type": "code",
      "metadata": {
        "id": "B48ib3y36Dxg",
        "colab_type": "code",
        "outputId": "57c4076f-3cd8-42da-9540-d6badf664d80",
        "colab": {
          "base_uri": "https://localhost:8080/",
          "height": 419
        }
      },
      "source": [
        "item_prices"
      ],
      "execution_count": 0,
      "outputs": [
        {
          "output_type": "execute_result",
          "data": {
            "text/html": [
              "<div>\n",
              "<style scoped>\n",
              "    .dataframe tbody tr th:only-of-type {\n",
              "        vertical-align: middle;\n",
              "    }\n",
              "\n",
              "    .dataframe tbody tr th {\n",
              "        vertical-align: top;\n",
              "    }\n",
              "\n",
              "    .dataframe thead th {\n",
              "        text-align: right;\n",
              "    }\n",
              "</style>\n",
              "<table border=\"1\" class=\"dataframe\">\n",
              "  <thead>\n",
              "    <tr style=\"text-align: right;\">\n",
              "      <th></th>\n",
              "      <th>item_id</th>\n",
              "      <th>item_price</th>\n",
              "      <th>min_price</th>\n",
              "      <th>max_price</th>\n",
              "      <th>mean_price</th>\n",
              "      <th>std_price</th>\n",
              "    </tr>\n",
              "  </thead>\n",
              "  <tbody>\n",
              "    <tr>\n",
              "      <th>0</th>\n",
              "      <td>0</td>\n",
              "      <td>[58.0]</td>\n",
              "      <td>58.0</td>\n",
              "      <td>58.0</td>\n",
              "      <td>58.00000</td>\n",
              "      <td>0.000000</td>\n",
              "    </tr>\n",
              "    <tr>\n",
              "      <th>1</th>\n",
              "      <td>1</td>\n",
              "      <td>[4490.0]</td>\n",
              "      <td>4490.0</td>\n",
              "      <td>4490.0</td>\n",
              "      <td>4490.00000</td>\n",
              "      <td>0.000000</td>\n",
              "    </tr>\n",
              "    <tr>\n",
              "      <th>2</th>\n",
              "      <td>2</td>\n",
              "      <td>[58.0]</td>\n",
              "      <td>58.0</td>\n",
              "      <td>58.0</td>\n",
              "      <td>58.00000</td>\n",
              "      <td>0.000000</td>\n",
              "    </tr>\n",
              "    <tr>\n",
              "      <th>3</th>\n",
              "      <td>3</td>\n",
              "      <td>[100.0, 58.0]</td>\n",
              "      <td>58.0</td>\n",
              "      <td>100.0</td>\n",
              "      <td>79.00000</td>\n",
              "      <td>21.000000</td>\n",
              "    </tr>\n",
              "    <tr>\n",
              "      <th>4</th>\n",
              "      <td>4</td>\n",
              "      <td>[58.0]</td>\n",
              "      <td>58.0</td>\n",
              "      <td>58.0</td>\n",
              "      <td>58.00000</td>\n",
              "      <td>0.000000</td>\n",
              "    </tr>\n",
              "    <tr>\n",
              "      <th>...</th>\n",
              "      <td>...</td>\n",
              "      <td>...</td>\n",
              "      <td>...</td>\n",
              "      <td>...</td>\n",
              "      <td>...</td>\n",
              "      <td>...</td>\n",
              "    </tr>\n",
              "    <tr>\n",
              "      <th>21777</th>\n",
              "      <td>22165</td>\n",
              "      <td>[59.0]</td>\n",
              "      <td>59.0</td>\n",
              "      <td>59.0</td>\n",
              "      <td>59.00000</td>\n",
              "      <td>0.000000</td>\n",
              "    </tr>\n",
              "    <tr>\n",
              "      <th>21778</th>\n",
              "      <td>22166</td>\n",
              "      <td>[150.0]</td>\n",
              "      <td>150.0</td>\n",
              "      <td>150.0</td>\n",
              "      <td>150.00000</td>\n",
              "      <td>0.000000</td>\n",
              "    </tr>\n",
              "    <tr>\n",
              "      <th>21779</th>\n",
              "      <td>22167</td>\n",
              "      <td>[299.0, 287.0, 155.0, 239.2, 284.0, 268.9, 269...</td>\n",
              "      <td>155.0</td>\n",
              "      <td>299.0</td>\n",
              "      <td>257.04375</td>\n",
              "      <td>42.441087</td>\n",
              "    </tr>\n",
              "    <tr>\n",
              "      <th>21780</th>\n",
              "      <td>22168</td>\n",
              "      <td>[799.0, 798.5]</td>\n",
              "      <td>798.5</td>\n",
              "      <td>799.0</td>\n",
              "      <td>798.75000</td>\n",
              "      <td>0.250000</td>\n",
              "    </tr>\n",
              "    <tr>\n",
              "      <th>21781</th>\n",
              "      <td>22169</td>\n",
              "      <td>[4349.0]</td>\n",
              "      <td>4349.0</td>\n",
              "      <td>4349.0</td>\n",
              "      <td>4349.00000</td>\n",
              "      <td>0.000000</td>\n",
              "    </tr>\n",
              "  </tbody>\n",
              "</table>\n",
              "<p>21782 rows × 6 columns</p>\n",
              "</div>"
            ],
            "text/plain": [
              "       item_id  ...  std_price\n",
              "0            0  ...   0.000000\n",
              "1            1  ...   0.000000\n",
              "2            2  ...   0.000000\n",
              "3            3  ...  21.000000\n",
              "4            4  ...   0.000000\n",
              "...        ...  ...        ...\n",
              "21777    22165  ...   0.000000\n",
              "21778    22166  ...   0.000000\n",
              "21779    22167  ...  42.441087\n",
              "21780    22168  ...   0.250000\n",
              "21781    22169  ...   0.000000\n",
              "\n",
              "[21782 rows x 6 columns]"
            ]
          },
          "metadata": {
            "tags": []
          },
          "execution_count": 78
        }
      ]
    },
    {
      "cell_type": "code",
      "metadata": {
        "id": "oqLQsxqp9RPq",
        "colab_type": "code",
        "outputId": "9469c2b6-6c52-4ddd-d479-56dff0129537",
        "colab": {
          "base_uri": "https://localhost:8080/",
          "height": 224
        }
      },
      "source": [
        "all_data = all_data.merge(item_prices.drop('item_price',axis = 1) , how = 'left' , on = 'item_id')\n",
        "all_data.head()"
      ],
      "execution_count": 0,
      "outputs": [
        {
          "output_type": "execute_result",
          "data": {
            "text/html": [
              "<div>\n",
              "<style scoped>\n",
              "    .dataframe tbody tr th:only-of-type {\n",
              "        vertical-align: middle;\n",
              "    }\n",
              "\n",
              "    .dataframe tbody tr th {\n",
              "        vertical-align: top;\n",
              "    }\n",
              "\n",
              "    .dataframe thead th {\n",
              "        text-align: right;\n",
              "    }\n",
              "</style>\n",
              "<table border=\"1\" class=\"dataframe\">\n",
              "  <thead>\n",
              "    <tr style=\"text-align: right;\">\n",
              "      <th></th>\n",
              "      <th>shop_id</th>\n",
              "      <th>item_id</th>\n",
              "      <th>date_block_num</th>\n",
              "      <th>item_cnt_month</th>\n",
              "      <th>item_category_id</th>\n",
              "      <th>item_target_enc</th>\n",
              "      <th>category_target_enc</th>\n",
              "      <th>shop_target_enc</th>\n",
              "      <th>min_price</th>\n",
              "      <th>max_price</th>\n",
              "      <th>mean_price</th>\n",
              "      <th>std_price</th>\n",
              "    </tr>\n",
              "  </thead>\n",
              "  <tbody>\n",
              "    <tr>\n",
              "      <th>0</th>\n",
              "      <td>0</td>\n",
              "      <td>12</td>\n",
              "      <td>1</td>\n",
              "      <td>0</td>\n",
              "      <td>55</td>\n",
              "      <td>0.277278</td>\n",
              "      <td>0.244224</td>\n",
              "      <td>0.542470</td>\n",
              "      <td>189.0</td>\n",
              "      <td>189.0</td>\n",
              "      <td>189.0</td>\n",
              "      <td>0.0</td>\n",
              "    </tr>\n",
              "    <tr>\n",
              "      <th>1</th>\n",
              "      <td>1</td>\n",
              "      <td>12</td>\n",
              "      <td>1</td>\n",
              "      <td>0</td>\n",
              "      <td>55</td>\n",
              "      <td>0.277278</td>\n",
              "      <td>0.244224</td>\n",
              "      <td>0.331652</td>\n",
              "      <td>189.0</td>\n",
              "      <td>189.0</td>\n",
              "      <td>189.0</td>\n",
              "      <td>0.0</td>\n",
              "    </tr>\n",
              "    <tr>\n",
              "      <th>2</th>\n",
              "      <td>2</td>\n",
              "      <td>12</td>\n",
              "      <td>1</td>\n",
              "      <td>0</td>\n",
              "      <td>55</td>\n",
              "      <td>0.277278</td>\n",
              "      <td>0.244224</td>\n",
              "      <td>0.108260</td>\n",
              "      <td>189.0</td>\n",
              "      <td>189.0</td>\n",
              "      <td>189.0</td>\n",
              "      <td>0.0</td>\n",
              "    </tr>\n",
              "    <tr>\n",
              "      <th>3</th>\n",
              "      <td>3</td>\n",
              "      <td>12</td>\n",
              "      <td>1</td>\n",
              "      <td>0</td>\n",
              "      <td>55</td>\n",
              "      <td>0.277278</td>\n",
              "      <td>0.244224</td>\n",
              "      <td>0.105354</td>\n",
              "      <td>189.0</td>\n",
              "      <td>189.0</td>\n",
              "      <td>189.0</td>\n",
              "      <td>0.0</td>\n",
              "    </tr>\n",
              "    <tr>\n",
              "      <th>4</th>\n",
              "      <td>4</td>\n",
              "      <td>12</td>\n",
              "      <td>1</td>\n",
              "      <td>0</td>\n",
              "      <td>55</td>\n",
              "      <td>0.277278</td>\n",
              "      <td>0.244224</td>\n",
              "      <td>0.147721</td>\n",
              "      <td>189.0</td>\n",
              "      <td>189.0</td>\n",
              "      <td>189.0</td>\n",
              "      <td>0.0</td>\n",
              "    </tr>\n",
              "  </tbody>\n",
              "</table>\n",
              "</div>"
            ],
            "text/plain": [
              "   shop_id  item_id  date_block_num  ...  max_price  mean_price  std_price\n",
              "0        0       12               1  ...      189.0       189.0        0.0\n",
              "1        1       12               1  ...      189.0       189.0        0.0\n",
              "2        2       12               1  ...      189.0       189.0        0.0\n",
              "3        3       12               1  ...      189.0       189.0        0.0\n",
              "4        4       12               1  ...      189.0       189.0        0.0\n",
              "\n",
              "[5 rows x 12 columns]"
            ]
          },
          "metadata": {
            "tags": []
          },
          "execution_count": 79
        }
      ]
    },
    {
      "cell_type": "code",
      "metadata": {
        "id": "bVydHAVkHQCz",
        "colab_type": "code",
        "outputId": "4ac2f561-c0b1-4550-e0be-9ded36bc2450",
        "colab": {
          "base_uri": "https://localhost:8080/",
          "height": 224
        }
      },
      "source": [
        "test = test.merge(item_prices.drop('item_price',axis = 1) , how = 'left' , on = 'item_id')\n",
        "test.head()"
      ],
      "execution_count": 0,
      "outputs": [
        {
          "output_type": "execute_result",
          "data": {
            "text/html": [
              "<div>\n",
              "<style scoped>\n",
              "    .dataframe tbody tr th:only-of-type {\n",
              "        vertical-align: middle;\n",
              "    }\n",
              "\n",
              "    .dataframe tbody tr th {\n",
              "        vertical-align: top;\n",
              "    }\n",
              "\n",
              "    .dataframe thead th {\n",
              "        text-align: right;\n",
              "    }\n",
              "</style>\n",
              "<table border=\"1\" class=\"dataframe\">\n",
              "  <thead>\n",
              "    <tr style=\"text-align: right;\">\n",
              "      <th></th>\n",
              "      <th>date_block_num</th>\n",
              "      <th>shop_id</th>\n",
              "      <th>item_id</th>\n",
              "      <th>year</th>\n",
              "      <th>item_category_id</th>\n",
              "      <th>item_target_enc</th>\n",
              "      <th>category_target_enc</th>\n",
              "      <th>shop_target_enc</th>\n",
              "      <th>min_price</th>\n",
              "      <th>max_price</th>\n",
              "      <th>mean_price</th>\n",
              "      <th>std_price</th>\n",
              "    </tr>\n",
              "  </thead>\n",
              "  <tbody>\n",
              "    <tr>\n",
              "      <th>0</th>\n",
              "      <td>34</td>\n",
              "      <td>5</td>\n",
              "      <td>5037</td>\n",
              "      <td>2015</td>\n",
              "      <td>19</td>\n",
              "      <td>0.277278</td>\n",
              "      <td>0.654432</td>\n",
              "      <td>0.173669</td>\n",
              "      <td>749.0</td>\n",
              "      <td>2599.0</td>\n",
              "      <td>1600.009389</td>\n",
              "      <td>650.607628</td>\n",
              "    </tr>\n",
              "    <tr>\n",
              "      <th>1</th>\n",
              "      <td>34</td>\n",
              "      <td>4</td>\n",
              "      <td>5037</td>\n",
              "      <td>2015</td>\n",
              "      <td>19</td>\n",
              "      <td>0.277278</td>\n",
              "      <td>0.654432</td>\n",
              "      <td>0.168128</td>\n",
              "      <td>749.0</td>\n",
              "      <td>2599.0</td>\n",
              "      <td>1600.009389</td>\n",
              "      <td>650.607628</td>\n",
              "    </tr>\n",
              "    <tr>\n",
              "      <th>2</th>\n",
              "      <td>34</td>\n",
              "      <td>6</td>\n",
              "      <td>5037</td>\n",
              "      <td>2015</td>\n",
              "      <td>19</td>\n",
              "      <td>0.277278</td>\n",
              "      <td>0.654432</td>\n",
              "      <td>0.360933</td>\n",
              "      <td>749.0</td>\n",
              "      <td>2599.0</td>\n",
              "      <td>1600.009389</td>\n",
              "      <td>650.607628</td>\n",
              "    </tr>\n",
              "    <tr>\n",
              "      <th>3</th>\n",
              "      <td>34</td>\n",
              "      <td>3</td>\n",
              "      <td>5037</td>\n",
              "      <td>2015</td>\n",
              "      <td>19</td>\n",
              "      <td>0.277278</td>\n",
              "      <td>0.654432</td>\n",
              "      <td>0.112823</td>\n",
              "      <td>749.0</td>\n",
              "      <td>2599.0</td>\n",
              "      <td>1600.009389</td>\n",
              "      <td>650.607628</td>\n",
              "    </tr>\n",
              "    <tr>\n",
              "      <th>4</th>\n",
              "      <td>34</td>\n",
              "      <td>2</td>\n",
              "      <td>5037</td>\n",
              "      <td>2015</td>\n",
              "      <td>19</td>\n",
              "      <td>0.277278</td>\n",
              "      <td>0.654432</td>\n",
              "      <td>0.116079</td>\n",
              "      <td>749.0</td>\n",
              "      <td>2599.0</td>\n",
              "      <td>1600.009389</td>\n",
              "      <td>650.607628</td>\n",
              "    </tr>\n",
              "  </tbody>\n",
              "</table>\n",
              "</div>"
            ],
            "text/plain": [
              "   date_block_num  shop_id  item_id  ...  max_price   mean_price   std_price\n",
              "0              34        5     5037  ...     2599.0  1600.009389  650.607628\n",
              "1              34        4     5037  ...     2599.0  1600.009389  650.607628\n",
              "2              34        6     5037  ...     2599.0  1600.009389  650.607628\n",
              "3              34        3     5037  ...     2599.0  1600.009389  650.607628\n",
              "4              34        2     5037  ...     2599.0  1600.009389  650.607628\n",
              "\n",
              "[5 rows x 12 columns]"
            ]
          },
          "metadata": {
            "tags": []
          },
          "execution_count": 138
        }
      ]
    },
    {
      "cell_type": "code",
      "metadata": {
        "id": "N-bBfCz7HeRN",
        "colab_type": "code",
        "colab": {}
      },
      "source": [
        "test.isna().sum()"
      ],
      "execution_count": 0,
      "outputs": []
    },
    {
      "cell_type": "code",
      "metadata": {
        "id": "5NIet0WtHiBH",
        "colab_type": "code",
        "outputId": "30c2cd23-875d-46c2-fe9e-5e05f911a952",
        "colab": {
          "base_uri": "https://localhost:8080/",
          "height": 34
        }
      },
      "source": [
        "len([i for i in test.item_id.unique() if i not in sales.item_id.unique()])"
      ],
      "execution_count": 0,
      "outputs": [
        {
          "output_type": "execute_result",
          "data": {
            "text/plain": [
              "366"
            ]
          },
          "metadata": {
            "tags": []
          },
          "execution_count": 79
        }
      ]
    },
    {
      "cell_type": "code",
      "metadata": {
        "id": "heD4XNEpLagg",
        "colab_type": "code",
        "outputId": "de8b3206-4980-4f28-82d1-546a5a62af1d",
        "colab": {
          "base_uri": "https://localhost:8080/",
          "height": 34
        }
      },
      "source": [
        "test.item_id.nunique()"
      ],
      "execution_count": 0,
      "outputs": [
        {
          "output_type": "execute_result",
          "data": {
            "text/plain": [
              "5100"
            ]
          },
          "metadata": {
            "tags": []
          },
          "execution_count": 81
        }
      ]
    },
    {
      "cell_type": "markdown",
      "metadata": {
        "id": "DbYsVEXGHdZS",
        "colab_type": "text"
      },
      "source": [
        "there are `366` out of `5100` unique test item_id not in the train data so i will impute them with the category_id_mean_price"
      ]
    },
    {
      "cell_type": "code",
      "metadata": {
        "id": "ZGR7uJZoIEST",
        "colab_type": "code",
        "outputId": "ab22b2dd-ef70-46fc-9f9a-8c2bf69bb391",
        "colab": {
          "base_uri": "https://localhost:8080/",
          "height": 419
        }
      },
      "source": [
        "# for each category get its mean price\n",
        "category_mean_prices = pd.DataFrame(all_data.groupby('item_category_id')['mean_price'].mean()).reset_index()\n",
        "category_mean_prices"
      ],
      "execution_count": 0,
      "outputs": [
        {
          "output_type": "execute_result",
          "data": {
            "text/html": [
              "<div>\n",
              "<style scoped>\n",
              "    .dataframe tbody tr th:only-of-type {\n",
              "        vertical-align: middle;\n",
              "    }\n",
              "\n",
              "    .dataframe tbody tr th {\n",
              "        vertical-align: top;\n",
              "    }\n",
              "\n",
              "    .dataframe thead th {\n",
              "        text-align: right;\n",
              "    }\n",
              "</style>\n",
              "<table border=\"1\" class=\"dataframe\">\n",
              "  <thead>\n",
              "    <tr style=\"text-align: right;\">\n",
              "      <th></th>\n",
              "      <th>item_category_id</th>\n",
              "      <th>mean_price</th>\n",
              "    </tr>\n",
              "  </thead>\n",
              "  <tbody>\n",
              "    <tr>\n",
              "      <th>0</th>\n",
              "      <td>0</td>\n",
              "      <td>87.360584</td>\n",
              "    </tr>\n",
              "    <tr>\n",
              "      <th>1</th>\n",
              "      <td>1</td>\n",
              "      <td>216.241758</td>\n",
              "    </tr>\n",
              "    <tr>\n",
              "      <th>2</th>\n",
              "      <td>2</td>\n",
              "      <td>2191.908138</td>\n",
              "    </tr>\n",
              "    <tr>\n",
              "      <th>3</th>\n",
              "      <td>3</td>\n",
              "      <td>1596.001428</td>\n",
              "    </tr>\n",
              "    <tr>\n",
              "      <th>4</th>\n",
              "      <td>4</td>\n",
              "      <td>456.361383</td>\n",
              "    </tr>\n",
              "    <tr>\n",
              "      <th>...</th>\n",
              "      <td>...</td>\n",
              "      <td>...</td>\n",
              "    </tr>\n",
              "    <tr>\n",
              "      <th>79</th>\n",
              "      <td>79</td>\n",
              "      <td>1242.963256</td>\n",
              "    </tr>\n",
              "    <tr>\n",
              "      <th>80</th>\n",
              "      <td>80</td>\n",
              "      <td>1305.192888</td>\n",
              "    </tr>\n",
              "    <tr>\n",
              "      <th>81</th>\n",
              "      <td>81</td>\n",
              "      <td>206.955551</td>\n",
              "    </tr>\n",
              "    <tr>\n",
              "      <th>82</th>\n",
              "      <td>82</td>\n",
              "      <td>28.558070</td>\n",
              "    </tr>\n",
              "    <tr>\n",
              "      <th>83</th>\n",
              "      <td>83</td>\n",
              "      <td>93.479666</td>\n",
              "    </tr>\n",
              "  </tbody>\n",
              "</table>\n",
              "<p>84 rows × 2 columns</p>\n",
              "</div>"
            ],
            "text/plain": [
              "    item_category_id   mean_price\n",
              "0                  0    87.360584\n",
              "1                  1   216.241758\n",
              "2                  2  2191.908138\n",
              "3                  3  1596.001428\n",
              "4                  4   456.361383\n",
              "..               ...          ...\n",
              "79                79  1242.963256\n",
              "80                80  1305.192888\n",
              "81                81   206.955551\n",
              "82                82    28.558070\n",
              "83                83    93.479666\n",
              "\n",
              "[84 rows x 2 columns]"
            ]
          },
          "metadata": {
            "tags": []
          },
          "execution_count": 84
        }
      ]
    },
    {
      "cell_type": "code",
      "metadata": {
        "id": "56YSCuAUSY0t",
        "colab_type": "code",
        "outputId": "3629156a-5b55-4ebd-b9c6-b2b694fdd853",
        "colab": {
          "base_uri": "https://localhost:8080/",
          "height": 34
        }
      },
      "source": [
        "# is there any missing categories\n",
        "missing_cat = [i for i in test.item_category_id.unique() if i not in category_mean_prices.item_category_id.unique()]\n",
        "missing_cat"
      ],
      "execution_count": 0,
      "outputs": [
        {
          "output_type": "execute_result",
          "data": {
            "text/plain": [
              "[]"
            ]
          },
          "metadata": {
            "tags": []
          },
          "execution_count": 87
        }
      ]
    },
    {
      "cell_type": "code",
      "metadata": {
        "id": "zbgmJ-zaL0AJ",
        "colab_type": "code",
        "colab": {}
      },
      "source": [
        "dic = {}\n",
        "for i in category_mean_prices.item_category_id.unique() :\n",
        "  dic[i] =category_mean_prices[category_mean_prices.item_category_id == i]['mean_price'].values[0]\n",
        "\n",
        "for i in  missing_cat :\n",
        "  dic[i] = all_data.mean_price.mean() #fill with the global mean"
      ],
      "execution_count": 0,
      "outputs": []
    },
    {
      "cell_type": "code",
      "metadata": {
        "id": "D2qdm0AzRI6s",
        "colab_type": "code",
        "colab": {}
      },
      "source": [
        "ind = test[test.mean_price.isna()].index\n",
        "mean_min_price = test.dropna().min_price.mean()\n",
        "mean_max_price = test.dropna().max_price.mean()\n",
        "mean_std_price = test.dropna().std_price.mean()\n",
        "\n",
        "for i in ind :\n",
        "  test.loc[i , 'mean_price'] = dic[test.loc[i , 'item_category_id']]\n",
        "  test.loc[i , 'min_price'] = mean_min_price\n",
        "  test.loc[i , 'max_price'] = mean_max_price\n",
        "  test.loc[i , 'std_price'] = mean_std_price\n"
      ],
      "execution_count": 0,
      "outputs": []
    },
    {
      "cell_type": "markdown",
      "metadata": {
        "id": "VE7BtWnC9eKf",
        "colab_type": "text"
      },
      "source": [
        "adding the year"
      ]
    },
    {
      "cell_type": "code",
      "metadata": {
        "id": "gjBcxjtH5gP0",
        "colab_type": "code",
        "outputId": "298d25a4-e2d4-4099-e4d4-397a86f3d08a",
        "colab": {
          "base_uri": "https://localhost:8080/",
          "height": 439
        }
      },
      "source": [
        "all_data['year'] = all_data['date_block_num'].map(lambda x : 2013 if x < 12 else 2014 if x < 24 else 2015)\n",
        "test['year'] = 2015\n",
        "all_data"
      ],
      "execution_count": 0,
      "outputs": [
        {
          "output_type": "execute_result",
          "data": {
            "text/html": [
              "<div>\n",
              "<style scoped>\n",
              "    .dataframe tbody tr th:only-of-type {\n",
              "        vertical-align: middle;\n",
              "    }\n",
              "\n",
              "    .dataframe tbody tr th {\n",
              "        vertical-align: top;\n",
              "    }\n",
              "\n",
              "    .dataframe thead th {\n",
              "        text-align: right;\n",
              "    }\n",
              "</style>\n",
              "<table border=\"1\" class=\"dataframe\">\n",
              "  <thead>\n",
              "    <tr style=\"text-align: right;\">\n",
              "      <th></th>\n",
              "      <th>shop_id</th>\n",
              "      <th>item_id</th>\n",
              "      <th>date_block_num</th>\n",
              "      <th>item_cnt_month</th>\n",
              "      <th>item_category_id</th>\n",
              "      <th>item_target_enc</th>\n",
              "      <th>category_target_enc</th>\n",
              "      <th>shop_target_enc</th>\n",
              "      <th>min_price</th>\n",
              "      <th>max_price</th>\n",
              "      <th>mean_price</th>\n",
              "      <th>std_price</th>\n",
              "      <th>year</th>\n",
              "      <th>item_shop_lag_1</th>\n",
              "      <th>item_shop_lag_2</th>\n",
              "      <th>item_shop_lag_3</th>\n",
              "      <th>item_category_lag_1</th>\n",
              "      <th>item_category_lag_2</th>\n",
              "      <th>item_category_lag_3</th>\n",
              "    </tr>\n",
              "  </thead>\n",
              "  <tbody>\n",
              "    <tr>\n",
              "      <th>0</th>\n",
              "      <td>0</td>\n",
              "      <td>12</td>\n",
              "      <td>1</td>\n",
              "      <td>0</td>\n",
              "      <td>55</td>\n",
              "      <td>0.277278</td>\n",
              "      <td>0.244224</td>\n",
              "      <td>0.542470</td>\n",
              "      <td>189.0</td>\n",
              "      <td>189.0</td>\n",
              "      <td>189.0</td>\n",
              "      <td>0.0</td>\n",
              "      <td>2013</td>\n",
              "      <td>0.0</td>\n",
              "      <td>0.0</td>\n",
              "      <td>0.0</td>\n",
              "      <td>0.0</td>\n",
              "      <td>0.0</td>\n",
              "      <td>0.0</td>\n",
              "    </tr>\n",
              "    <tr>\n",
              "      <th>1</th>\n",
              "      <td>1</td>\n",
              "      <td>12</td>\n",
              "      <td>1</td>\n",
              "      <td>0</td>\n",
              "      <td>55</td>\n",
              "      <td>0.277278</td>\n",
              "      <td>0.244224</td>\n",
              "      <td>0.331652</td>\n",
              "      <td>189.0</td>\n",
              "      <td>189.0</td>\n",
              "      <td>189.0</td>\n",
              "      <td>0.0</td>\n",
              "      <td>2013</td>\n",
              "      <td>0.0</td>\n",
              "      <td>0.0</td>\n",
              "      <td>0.0</td>\n",
              "      <td>0.0</td>\n",
              "      <td>0.0</td>\n",
              "      <td>0.0</td>\n",
              "    </tr>\n",
              "    <tr>\n",
              "      <th>2</th>\n",
              "      <td>2</td>\n",
              "      <td>12</td>\n",
              "      <td>1</td>\n",
              "      <td>0</td>\n",
              "      <td>55</td>\n",
              "      <td>0.277278</td>\n",
              "      <td>0.244224</td>\n",
              "      <td>0.108260</td>\n",
              "      <td>189.0</td>\n",
              "      <td>189.0</td>\n",
              "      <td>189.0</td>\n",
              "      <td>0.0</td>\n",
              "      <td>2013</td>\n",
              "      <td>0.0</td>\n",
              "      <td>0.0</td>\n",
              "      <td>0.0</td>\n",
              "      <td>0.0</td>\n",
              "      <td>0.0</td>\n",
              "      <td>0.0</td>\n",
              "    </tr>\n",
              "    <tr>\n",
              "      <th>3</th>\n",
              "      <td>3</td>\n",
              "      <td>12</td>\n",
              "      <td>1</td>\n",
              "      <td>0</td>\n",
              "      <td>55</td>\n",
              "      <td>0.277278</td>\n",
              "      <td>0.244224</td>\n",
              "      <td>0.105354</td>\n",
              "      <td>189.0</td>\n",
              "      <td>189.0</td>\n",
              "      <td>189.0</td>\n",
              "      <td>0.0</td>\n",
              "      <td>2013</td>\n",
              "      <td>0.0</td>\n",
              "      <td>0.0</td>\n",
              "      <td>0.0</td>\n",
              "      <td>0.0</td>\n",
              "      <td>0.0</td>\n",
              "      <td>0.0</td>\n",
              "    </tr>\n",
              "    <tr>\n",
              "      <th>4</th>\n",
              "      <td>4</td>\n",
              "      <td>12</td>\n",
              "      <td>1</td>\n",
              "      <td>0</td>\n",
              "      <td>55</td>\n",
              "      <td>0.277278</td>\n",
              "      <td>0.244224</td>\n",
              "      <td>0.147721</td>\n",
              "      <td>189.0</td>\n",
              "      <td>189.0</td>\n",
              "      <td>189.0</td>\n",
              "      <td>0.0</td>\n",
              "      <td>2013</td>\n",
              "      <td>0.0</td>\n",
              "      <td>0.0</td>\n",
              "      <td>0.0</td>\n",
              "      <td>0.0</td>\n",
              "      <td>0.0</td>\n",
              "      <td>0.0</td>\n",
              "    </tr>\n",
              "    <tr>\n",
              "      <th>...</th>\n",
              "      <td>...</td>\n",
              "      <td>...</td>\n",
              "      <td>...</td>\n",
              "      <td>...</td>\n",
              "      <td>...</td>\n",
              "      <td>...</td>\n",
              "      <td>...</td>\n",
              "      <td>...</td>\n",
              "      <td>...</td>\n",
              "      <td>...</td>\n",
              "      <td>...</td>\n",
              "      <td>...</td>\n",
              "      <td>...</td>\n",
              "      <td>...</td>\n",
              "      <td>...</td>\n",
              "      <td>...</td>\n",
              "      <td>...</td>\n",
              "      <td>...</td>\n",
              "      <td>...</td>\n",
              "    </tr>\n",
              "    <tr>\n",
              "      <th>10909356</th>\n",
              "      <td>55</td>\n",
              "      <td>22169</td>\n",
              "      <td>14</td>\n",
              "      <td>0</td>\n",
              "      <td>69</td>\n",
              "      <td>0.277278</td>\n",
              "      <td>0.176874</td>\n",
              "      <td>0.171828</td>\n",
              "      <td>4349.0</td>\n",
              "      <td>4349.0</td>\n",
              "      <td>4349.0</td>\n",
              "      <td>0.0</td>\n",
              "      <td>2014</td>\n",
              "      <td>0.0</td>\n",
              "      <td>0.0</td>\n",
              "      <td>0.0</td>\n",
              "      <td>0.0</td>\n",
              "      <td>0.0</td>\n",
              "      <td>0.0</td>\n",
              "    </tr>\n",
              "    <tr>\n",
              "      <th>10909357</th>\n",
              "      <td>56</td>\n",
              "      <td>22169</td>\n",
              "      <td>14</td>\n",
              "      <td>0</td>\n",
              "      <td>69</td>\n",
              "      <td>0.277278</td>\n",
              "      <td>0.176874</td>\n",
              "      <td>0.301090</td>\n",
              "      <td>4349.0</td>\n",
              "      <td>4349.0</td>\n",
              "      <td>4349.0</td>\n",
              "      <td>0.0</td>\n",
              "      <td>2014</td>\n",
              "      <td>0.0</td>\n",
              "      <td>0.0</td>\n",
              "      <td>0.0</td>\n",
              "      <td>0.0</td>\n",
              "      <td>0.0</td>\n",
              "      <td>0.0</td>\n",
              "    </tr>\n",
              "    <tr>\n",
              "      <th>10909358</th>\n",
              "      <td>57</td>\n",
              "      <td>22169</td>\n",
              "      <td>14</td>\n",
              "      <td>0</td>\n",
              "      <td>69</td>\n",
              "      <td>0.277278</td>\n",
              "      <td>0.176874</td>\n",
              "      <td>0.522160</td>\n",
              "      <td>4349.0</td>\n",
              "      <td>4349.0</td>\n",
              "      <td>4349.0</td>\n",
              "      <td>0.0</td>\n",
              "      <td>2014</td>\n",
              "      <td>0.0</td>\n",
              "      <td>0.0</td>\n",
              "      <td>0.0</td>\n",
              "      <td>0.0</td>\n",
              "      <td>0.0</td>\n",
              "      <td>0.0</td>\n",
              "    </tr>\n",
              "    <tr>\n",
              "      <th>10909359</th>\n",
              "      <td>58</td>\n",
              "      <td>22169</td>\n",
              "      <td>14</td>\n",
              "      <td>0</td>\n",
              "      <td>69</td>\n",
              "      <td>0.277278</td>\n",
              "      <td>0.176874</td>\n",
              "      <td>0.323400</td>\n",
              "      <td>4349.0</td>\n",
              "      <td>4349.0</td>\n",
              "      <td>4349.0</td>\n",
              "      <td>0.0</td>\n",
              "      <td>2014</td>\n",
              "      <td>0.0</td>\n",
              "      <td>0.0</td>\n",
              "      <td>0.0</td>\n",
              "      <td>0.0</td>\n",
              "      <td>0.0</td>\n",
              "      <td>0.0</td>\n",
              "    </tr>\n",
              "    <tr>\n",
              "      <th>10909360</th>\n",
              "      <td>59</td>\n",
              "      <td>22169</td>\n",
              "      <td>14</td>\n",
              "      <td>0</td>\n",
              "      <td>69</td>\n",
              "      <td>0.277278</td>\n",
              "      <td>0.176874</td>\n",
              "      <td>0.189443</td>\n",
              "      <td>4349.0</td>\n",
              "      <td>4349.0</td>\n",
              "      <td>4349.0</td>\n",
              "      <td>0.0</td>\n",
              "      <td>2014</td>\n",
              "      <td>0.0</td>\n",
              "      <td>0.0</td>\n",
              "      <td>0.0</td>\n",
              "      <td>0.0</td>\n",
              "      <td>0.0</td>\n",
              "      <td>0.0</td>\n",
              "    </tr>\n",
              "  </tbody>\n",
              "</table>\n",
              "<p>10909361 rows × 19 columns</p>\n",
              "</div>"
            ],
            "text/plain": [
              "          shop_id  item_id  ...  item_category_lag_2  item_category_lag_3\n",
              "0               0       12  ...                  0.0                  0.0\n",
              "1               1       12  ...                  0.0                  0.0\n",
              "2               2       12  ...                  0.0                  0.0\n",
              "3               3       12  ...                  0.0                  0.0\n",
              "4               4       12  ...                  0.0                  0.0\n",
              "...           ...      ...  ...                  ...                  ...\n",
              "10909356       55    22169  ...                  0.0                  0.0\n",
              "10909357       56    22169  ...                  0.0                  0.0\n",
              "10909358       57    22169  ...                  0.0                  0.0\n",
              "10909359       58    22169  ...                  0.0                  0.0\n",
              "10909360       59    22169  ...                  0.0                  0.0\n",
              "\n",
              "[10909361 rows x 19 columns]"
            ]
          },
          "metadata": {
            "tags": []
          },
          "execution_count": 139
        }
      ]
    },
    {
      "cell_type": "code",
      "metadata": {
        "id": "EftJnmtM-oKj",
        "colab_type": "code",
        "outputId": "0e3afa37-a7a4-470a-eb46-1b0945bdd72a",
        "colab": {
          "base_uri": "https://localhost:8080/",
          "height": 357
        }
      },
      "source": [
        "all_data = downcasting(all_data) # reducing memory usage\n",
        "all_data.info()"
      ],
      "execution_count": 0,
      "outputs": [
        {
          "output_type": "stream",
          "text": [
            "<class 'pandas.core.frame.DataFrame'>\n",
            "Int64Index: 10909361 entries, 0 to 10909360\n",
            "Data columns (total 13 columns):\n",
            " #   Column               Dtype  \n",
            "---  ------               -----  \n",
            " 0   shop_id              int16  \n",
            " 1   item_id              int16  \n",
            " 2   date_block_num       int16  \n",
            " 3   item_cnt_month       int16  \n",
            " 4   item_category_id     int16  \n",
            " 5   item_target_enc      float32\n",
            " 6   category_target_enc  float32\n",
            " 7   shop_target_enc      float32\n",
            " 8   min_price            float32\n",
            " 9   max_price            float32\n",
            " 10  mean_price           float32\n",
            " 11  std_price            float32\n",
            " 12  year                 int16  \n",
            "dtypes: float32(7), int16(6)\n",
            "memory usage: 499.4 MB\n"
          ],
          "name": "stdout"
        }
      ]
    },
    {
      "cell_type": "code",
      "metadata": {
        "id": "GjFbA5hpEO9c",
        "colab_type": "code",
        "colab": {}
      },
      "source": [
        ""
      ],
      "execution_count": 0,
      "outputs": []
    },
    {
      "cell_type": "markdown",
      "metadata": {
        "id": "855rYcG6uwku",
        "colab_type": "text"
      },
      "source": [
        "# Adding lags"
      ]
    },
    {
      "cell_type": "code",
      "metadata": {
        "id": "rMx80OpUu6UC",
        "colab_type": "code",
        "colab": {}
      },
      "source": [
        "# train lags for shop_id and item_id\n",
        "lag_list = [1, 2, 3 ]\n",
        "\n",
        "for lag in lag_list:\n",
        "    ft_name = ('item_shop_lag_%s' % lag)\n",
        "    all_data[ft_name] = all_data.sort_values('date_block_num').groupby(['shop_id','item_id'])['item_cnt_month'].shift(lag)\n",
        "    # Fill the empty shifted features with 0\n",
        "    all_data[ft_name].fillna(0, inplace=True)"
      ],
      "execution_count": 0,
      "outputs": []
    },
    {
      "cell_type": "code",
      "metadata": {
        "id": "f_IvtJmi-9Yg",
        "colab_type": "code",
        "colab": {}
      },
      "source": [
        "# train lags for item_category_id and item_id\n",
        "lag_list = [1, 2, 3 ]\n",
        "\n",
        "for lag in lag_list:\n",
        "    ft_name = ('item_category_lag_%s' % lag)\n",
        "    all_data[ft_name] = all_data.sort_values('date_block_num').groupby(['item_category_id','item_id'])['item_cnt_month'].shift(lag)\n",
        "    # Fill the empty shifted features with 0\n",
        "    all_data[ft_name].fillna(0, inplace=True)"
      ],
      "execution_count": 0,
      "outputs": []
    },
    {
      "cell_type": "code",
      "metadata": {
        "id": "X7WVfpYNu8P-",
        "colab_type": "code",
        "colab": {}
      },
      "source": [
        "all_data_lags[all_data_lags.item_id ==13881 ].sort_values(['date_block_num','shop_id']).tail(60)"
      ],
      "execution_count": 0,
      "outputs": []
    },
    {
      "cell_type": "markdown",
      "metadata": {
        "id": "f-9-avpU-gO4",
        "colab_type": "text"
      },
      "source": [
        "adding the lags to the test data"
      ]
    },
    {
      "cell_type": "code",
      "metadata": {
        "id": "TCNDdwIJOZ14",
        "colab_type": "code",
        "colab": {}
      },
      "source": [
        "# for the shop_id - item_id lags\n",
        "def get_test_lags_shop(all_data , test, lag) :\n",
        "    \n",
        "    shifted = all_data[['date_block_num','shop_id','item_id', 'item_cnt_month']]\n",
        "    shifted.columns = ['date_block_num','shop_id','item_id', 'item_shop_lag_'+ str(lag)]\n",
        "    shifted['date_block_num'] -= lag\n",
        "    test_lag = pd.merge(test, shifted, on=['date_block_num','shop_id','item_id'] , how = 'left')\n",
        "    return test_lag['item_shop_lag_'+ str(lag)] #return the last column (the lags) "
      ],
      "execution_count": 0,
      "outputs": []
    },
    {
      "cell_type": "code",
      "metadata": {
        "id": "Bg8_TAZDP3f4",
        "colab_type": "code",
        "colab": {}
      },
      "source": [
        "test_lags = test.copy()\n",
        "for lag in range(1,4):\n",
        "    lag_values = get_test_lags_shop(all_data ,test_lags, lag)\n",
        "    test_lags['item_shop_lag_'+ str(lag)] = lag_values\n",
        "test_lags.fillna(0 , inplace = True) "
      ],
      "execution_count": 0,
      "outputs": []
    },
    {
      "cell_type": "code",
      "metadata": {
        "id": "lay6vpDl_lwT",
        "colab_type": "code",
        "colab": {}
      },
      "source": [
        "# for the item_category_id - item_id lags\n",
        "def get_test_lags_category(all_data , test, lag) :\n",
        "    \n",
        "    shifted = all_data[['date_block_num','item_category_id','item_id', 'item_cnt_month']]\n",
        "    shifted.columns = ['date_block_num','item_category_id','item_id', 'item_category_lag_'+ str(lag)]\n",
        "    shifted['date_block_num'] -= lag\n",
        "    test_lag = pd.merge(test, shifted, on=['date_block_num','item_category_id','item_id'] , how = 'left')\n",
        "    return test_lag['item_category_lag_'+ str(lag)] #return the last column (the lags) "
      ],
      "execution_count": 0,
      "outputs": []
    },
    {
      "cell_type": "code",
      "metadata": {
        "id": "dMUMrM19_-vg",
        "colab_type": "code",
        "colab": {}
      },
      "source": [
        "for lag in range(1,4):\n",
        "    lag_values = get_test_lags_category(all_data ,test_lags, lag)\n",
        "    test_lags['item_category_lag_'+ str(lag)] = lag_values\n",
        "test_lags.fillna(0 , inplace = True) "
      ],
      "execution_count": 0,
      "outputs": []
    },
    {
      "cell_type": "markdown",
      "metadata": {
        "id": "ynVxQLL6oeCD",
        "colab_type": "text"
      },
      "source": [
        "testing the lags impact"
      ]
    },
    {
      "cell_type": "code",
      "metadata": {
        "id": "p4B4gMG61ZHQ",
        "colab_type": "code",
        "colab": {}
      },
      "source": [
        "lgbm = LGBMRegressor(verbose = 0 , n_jobs = -1,random_state = random_state)\n",
        "lgbm.fit(all_data.drop(['item_cnt_month'],axis = 1), all_data.item_cnt_month)\n",
        "\n",
        "# saving the model in order to run it again witout taking so much time\n",
        "file_name = 'lgbm_adding_lags.sav'\n",
        "pickle.dump(lgbm , open(file_name, 'wb'))\n"
      ],
      "execution_count": 0,
      "outputs": []
    },
    {
      "cell_type": "code",
      "metadata": {
        "id": "lD8BRuRHr0G-",
        "colab_type": "code",
        "colab": {}
      },
      "source": [
        "# submitting in the leaderboard\n",
        "lgbm = pickle.load(open('/content/lgbm_adding_lags.sav', 'rb'))\n",
        "preds_lgbm = lgbm.predict(test_lags,axis = 1)\n",
        "sub = sample_submission\n",
        "sub.item_cnt_month = preds_lgbm\n",
        "sub.to_csv('lgbm_adding_lags.csv' , index = False)"
      ],
      "execution_count": 0,
      "outputs": []
    },
    {
      "cell_type": "markdown",
      "metadata": {
        "id": "k_fnOMGPCj1u",
        "colab_type": "text"
      },
      "source": [
        ""
      ]
    },
    {
      "cell_type": "code",
      "metadata": {
        "id": "6n6MYLiyFtw1",
        "colab_type": "code",
        "outputId": "505d34a8-d1b0-4ef2-a6dd-e1099b171149",
        "colab": {
          "base_uri": "https://localhost:8080/",
          "height": 333
        }
      },
      "source": [
        "# plot importance\n",
        "plt.figure(figsize=(15,10))\n",
        "plot_importance(lgbm)"
      ],
      "execution_count": 0,
      "outputs": [
        {
          "output_type": "execute_result",
          "data": {
            "text/plain": [
              "<matplotlib.axes._subplots.AxesSubplot at 0x7f758828db38>"
            ]
          },
          "metadata": {
            "tags": []
          },
          "execution_count": 153
        },
        {
          "output_type": "display_data",
          "data": {
            "text/plain": [
              "<Figure size 1080x720 with 0 Axes>"
            ]
          },
          "metadata": {
            "tags": []
          }
        },
        {
          "output_type": "display_data",
          "data": {
            "image/png": "[encoded data removed]",
            "text/plain": [
              "<Figure size 432x288 with 1 Axes>"
            ]
          },
          "metadata": {
            "tags": []
          }
        }
      ]
    },
    {
      "cell_type": "markdown",
      "metadata": {
        "id": "mgdsg5cyS1f-",
        "colab_type": "text"
      },
      "source": [
        "adding item category name"
      ]
    },
    {
      "cell_type": "code",
      "metadata": {
        "id": "Ld9slT6Yu9CT",
        "colab_type": "code",
        "colab": {}
      },
      "source": [
        "all_data = all_data.merge(item_categories) # getting the item_category_name\n",
        "test = test_lags.merge(item_categories) # getting the item_category_name "
      ],
      "execution_count": 0,
      "outputs": []
    },
    {
      "cell_type": "markdown",
      "metadata": {
        "id": "MCeqygL5-Rhu",
        "colab_type": "text"
      },
      "source": [
        "adding main category and subcategory"
      ]
    },
    {
      "cell_type": "code",
      "metadata": {
        "id": "m1qKQmr6TgCC",
        "colab_type": "code",
        "colab": {}
      },
      "source": [
        "all_data['main_category'] = all_data.item_category_name_translated.str.split('-').map(lambda x: x[0].strip()) \n",
        "all_data['sub_category'] = all_data.item_category_name_translated.str.split('-').map(lambda x: x[1].strip() if len(x) > 1 else x[0].strip())"
      ],
      "execution_count": 0,
      "outputs": []
    },
    {
      "cell_type": "code",
      "metadata": {
        "id": "KrdVJ4XojuMd",
        "colab_type": "code",
        "colab": {}
      },
      "source": [
        "test['main_category'] = test.item_category_name_translated.str.split('-').map(lambda x: x[0].strip()) \n",
        "test['sub_category'] = test.item_category_name_translated.str.split('-').map(lambda x: x[1].strip() if len(x) > 1 else x[0].strip())"
      ],
      "execution_count": 0,
      "outputs": []
    },
    {
      "cell_type": "code",
      "metadata": {
        "id": "1Hqp7MMhjuYX",
        "colab_type": "code",
        "outputId": "261d3e11-40c2-44f6-9e5d-926b4b6b6c01",
        "colab": {
          "base_uri": "https://localhost:8080/",
          "height": 136
        }
      },
      "source": [
        "shops.shop_name_translated.unique()[:10]"
      ],
      "execution_count": 0,
      "outputs": [
        {
          "output_type": "execute_result",
          "data": {
            "text/plain": [
              "array(['Yakutsk Ordzhonikidze, 56 francs', 'Yakutsk TC \"Central\" franc',\n",
              "       'Adygea Shopping Center \"Mega\"',\n",
              "       'Balashikha TRK \"October-Kinomir\"',\n",
              "       'Volzhsky shopping center \"Volga Mall\"',\n",
              "       'Vologda Shopping and Entertainment Center \"Marmalade\"',\n",
              "       'Voronezh (Plekhanovskaya, 13)', 'Voronezh TRC \"Maksimir\"',\n",
              "       'Voronezh TRC City-Park \"Grad\"', 'Outbound Trade'], dtype=object)"
            ]
          },
          "metadata": {
            "tags": []
          },
          "execution_count": 201
        }
      ]
    },
    {
      "cell_type": "markdown",
      "metadata": {
        "id": "UMMQQkOyjzPy",
        "colab_type": "text"
      },
      "source": [
        "the start of every shop_name is a city"
      ]
    },
    {
      "cell_type": "code",
      "metadata": {
        "id": "fECZ6-uHjy5j",
        "colab_type": "code",
        "outputId": "cc44f1e0-8f59-4685-9667-0e607cf809cf",
        "colab": {
          "base_uri": "https://localhost:8080/",
          "height": 609
        }
      },
      "source": [
        "all_data = all_data.merge(shops) #adding shop_name\n",
        "all_data['city'] = all_data.shop_name_translated.str.split(' ').map(lambda x : x[0]) #the first word is a city name\n",
        "all_data"
      ],
      "execution_count": 0,
      "outputs": [
        {
          "output_type": "execute_result",
          "data": {
            "text/html": [
              "<div>\n",
              "<style scoped>\n",
              "    .dataframe tbody tr th:only-of-type {\n",
              "        vertical-align: middle;\n",
              "    }\n",
              "\n",
              "    .dataframe tbody tr th {\n",
              "        vertical-align: top;\n",
              "    }\n",
              "\n",
              "    .dataframe thead th {\n",
              "        text-align: right;\n",
              "    }\n",
              "</style>\n",
              "<table border=\"1\" class=\"dataframe\">\n",
              "  <thead>\n",
              "    <tr style=\"text-align: right;\">\n",
              "      <th></th>\n",
              "      <th>shop_id</th>\n",
              "      <th>item_id</th>\n",
              "      <th>date_block_num</th>\n",
              "      <th>item_cnt_month</th>\n",
              "      <th>item_category_id</th>\n",
              "      <th>item_target_enc</th>\n",
              "      <th>category_target_enc</th>\n",
              "      <th>shop_target_enc</th>\n",
              "      <th>min_price</th>\n",
              "      <th>max_price</th>\n",
              "      <th>mean_price</th>\n",
              "      <th>std_price</th>\n",
              "      <th>year</th>\n",
              "      <th>item_shop_lag_1</th>\n",
              "      <th>item_shop_lag_2</th>\n",
              "      <th>item_shop_lag_3</th>\n",
              "      <th>item_category_lag_1</th>\n",
              "      <th>item_category_lag_2</th>\n",
              "      <th>item_category_lag_3</th>\n",
              "      <th>item_category_name_translated</th>\n",
              "      <th>main_category</th>\n",
              "      <th>sub_category</th>\n",
              "      <th>shop_name_translated</th>\n",
              "      <th>city</th>\n",
              "    </tr>\n",
              "  </thead>\n",
              "  <tbody>\n",
              "    <tr>\n",
              "      <th>0</th>\n",
              "      <td>0</td>\n",
              "      <td>12</td>\n",
              "      <td>1</td>\n",
              "      <td>0</td>\n",
              "      <td>55</td>\n",
              "      <td>0.277278</td>\n",
              "      <td>0.244224</td>\n",
              "      <td>0.54247</td>\n",
              "      <td>189.0</td>\n",
              "      <td>189.0</td>\n",
              "      <td>189.000000</td>\n",
              "      <td>0.000000</td>\n",
              "      <td>2013</td>\n",
              "      <td>0.0</td>\n",
              "      <td>0.0</td>\n",
              "      <td>0.0</td>\n",
              "      <td>0.0</td>\n",
              "      <td>0.0</td>\n",
              "      <td>0.0</td>\n",
              "      <td>Music - CD of local production</td>\n",
              "      <td>Music</td>\n",
              "      <td>CD of local production</td>\n",
              "      <td>Yakutsk Ordzhonikidze, 56 francs</td>\n",
              "      <td>Yakutsk</td>\n",
              "    </tr>\n",
              "    <tr>\n",
              "      <th>1</th>\n",
              "      <td>0</td>\n",
              "      <td>970</td>\n",
              "      <td>0</td>\n",
              "      <td>0</td>\n",
              "      <td>55</td>\n",
              "      <td>0.277278</td>\n",
              "      <td>0.244224</td>\n",
              "      <td>0.54247</td>\n",
              "      <td>161.0</td>\n",
              "      <td>349.0</td>\n",
              "      <td>270.704987</td>\n",
              "      <td>55.759762</td>\n",
              "      <td>2013</td>\n",
              "      <td>0.0</td>\n",
              "      <td>0.0</td>\n",
              "      <td>0.0</td>\n",
              "      <td>0.0</td>\n",
              "      <td>0.0</td>\n",
              "      <td>0.0</td>\n",
              "      <td>Music - CD of local production</td>\n",
              "      <td>Music</td>\n",
              "      <td>CD of local production</td>\n",
              "      <td>Yakutsk Ordzhonikidze, 56 francs</td>\n",
              "      <td>Yakutsk</td>\n",
              "    </tr>\n",
              "    <tr>\n",
              "      <th>2</th>\n",
              "      <td>0</td>\n",
              "      <td>970</td>\n",
              "      <td>1</td>\n",
              "      <td>1</td>\n",
              "      <td>55</td>\n",
              "      <td>0.277278</td>\n",
              "      <td>0.244224</td>\n",
              "      <td>0.54247</td>\n",
              "      <td>161.0</td>\n",
              "      <td>349.0</td>\n",
              "      <td>270.704987</td>\n",
              "      <td>55.759762</td>\n",
              "      <td>2013</td>\n",
              "      <td>0.0</td>\n",
              "      <td>0.0</td>\n",
              "      <td>0.0</td>\n",
              "      <td>0.0</td>\n",
              "      <td>0.0</td>\n",
              "      <td>0.0</td>\n",
              "      <td>Music - CD of local production</td>\n",
              "      <td>Music</td>\n",
              "      <td>CD of local production</td>\n",
              "      <td>Yakutsk Ordzhonikidze, 56 francs</td>\n",
              "      <td>Yakutsk</td>\n",
              "    </tr>\n",
              "    <tr>\n",
              "      <th>3</th>\n",
              "      <td>0</td>\n",
              "      <td>971</td>\n",
              "      <td>0</td>\n",
              "      <td>0</td>\n",
              "      <td>55</td>\n",
              "      <td>0.277278</td>\n",
              "      <td>0.244224</td>\n",
              "      <td>0.54247</td>\n",
              "      <td>161.0</td>\n",
              "      <td>349.0</td>\n",
              "      <td>266.845459</td>\n",
              "      <td>56.114323</td>\n",
              "      <td>2013</td>\n",
              "      <td>0.0</td>\n",
              "      <td>0.0</td>\n",
              "      <td>0.0</td>\n",
              "      <td>0.0</td>\n",
              "      <td>0.0</td>\n",
              "      <td>0.0</td>\n",
              "      <td>Music - CD of local production</td>\n",
              "      <td>Music</td>\n",
              "      <td>CD of local production</td>\n",
              "      <td>Yakutsk Ordzhonikidze, 56 francs</td>\n",
              "      <td>Yakutsk</td>\n",
              "    </tr>\n",
              "    <tr>\n",
              "      <th>4</th>\n",
              "      <td>0</td>\n",
              "      <td>971</td>\n",
              "      <td>1</td>\n",
              "      <td>1</td>\n",
              "      <td>55</td>\n",
              "      <td>0.277278</td>\n",
              "      <td>0.244224</td>\n",
              "      <td>0.54247</td>\n",
              "      <td>161.0</td>\n",
              "      <td>349.0</td>\n",
              "      <td>266.845459</td>\n",
              "      <td>56.114323</td>\n",
              "      <td>2013</td>\n",
              "      <td>0.0</td>\n",
              "      <td>0.0</td>\n",
              "      <td>0.0</td>\n",
              "      <td>0.0</td>\n",
              "      <td>0.0</td>\n",
              "      <td>0.0</td>\n",
              "      <td>Music - CD of local production</td>\n",
              "      <td>Music</td>\n",
              "      <td>CD of local production</td>\n",
              "      <td>Yakutsk Ordzhonikidze, 56 francs</td>\n",
              "      <td>Yakutsk</td>\n",
              "    </tr>\n",
              "    <tr>\n",
              "      <th>...</th>\n",
              "      <td>...</td>\n",
              "      <td>...</td>\n",
              "      <td>...</td>\n",
              "      <td>...</td>\n",
              "      <td>...</td>\n",
              "      <td>...</td>\n",
              "      <td>...</td>\n",
              "      <td>...</td>\n",
              "      <td>...</td>\n",
              "      <td>...</td>\n",
              "      <td>...</td>\n",
              "      <td>...</td>\n",
              "      <td>...</td>\n",
              "      <td>...</td>\n",
              "      <td>...</td>\n",
              "      <td>...</td>\n",
              "      <td>...</td>\n",
              "      <td>...</td>\n",
              "      <td>...</td>\n",
              "      <td>...</td>\n",
              "      <td>...</td>\n",
              "      <td>...</td>\n",
              "      <td>...</td>\n",
              "      <td>...</td>\n",
              "    </tr>\n",
              "    <tr>\n",
              "      <th>10909356</th>\n",
              "      <td>58</td>\n",
              "      <td>16835</td>\n",
              "      <td>26</td>\n",
              "      <td>0</td>\n",
              "      <td>50</td>\n",
              "      <td>0.277278</td>\n",
              "      <td>0.277278</td>\n",
              "      <td>0.32340</td>\n",
              "      <td>24.0</td>\n",
              "      <td>24.0</td>\n",
              "      <td>24.000000</td>\n",
              "      <td>0.000000</td>\n",
              "      <td>2015</td>\n",
              "      <td>0.0</td>\n",
              "      <td>0.0</td>\n",
              "      <td>0.0</td>\n",
              "      <td>0.0</td>\n",
              "      <td>0.0</td>\n",
              "      <td>0.0</td>\n",
              "      <td>Books - Postcards</td>\n",
              "      <td>Books</td>\n",
              "      <td>Postcards</td>\n",
              "      <td>Yakutsk Central shopping center</td>\n",
              "      <td>Yakutsk</td>\n",
              "    </tr>\n",
              "    <tr>\n",
              "      <th>10909357</th>\n",
              "      <td>58</td>\n",
              "      <td>17703</td>\n",
              "      <td>18</td>\n",
              "      <td>0</td>\n",
              "      <td>51</td>\n",
              "      <td>0.277278</td>\n",
              "      <td>0.277278</td>\n",
              "      <td>0.32340</td>\n",
              "      <td>129.0</td>\n",
              "      <td>129.0</td>\n",
              "      <td>129.000000</td>\n",
              "      <td>0.000000</td>\n",
              "      <td>2014</td>\n",
              "      <td>0.0</td>\n",
              "      <td>0.0</td>\n",
              "      <td>0.0</td>\n",
              "      <td>0.0</td>\n",
              "      <td>0.0</td>\n",
              "      <td>0.0</td>\n",
              "      <td>Books - Cognitive Literature</td>\n",
              "      <td>Books</td>\n",
              "      <td>Cognitive Literature</td>\n",
              "      <td>Yakutsk Central shopping center</td>\n",
              "      <td>Yakutsk</td>\n",
              "    </tr>\n",
              "    <tr>\n",
              "      <th>10909358</th>\n",
              "      <td>58</td>\n",
              "      <td>19700</td>\n",
              "      <td>11</td>\n",
              "      <td>0</td>\n",
              "      <td>53</td>\n",
              "      <td>0.277278</td>\n",
              "      <td>0.277278</td>\n",
              "      <td>0.32340</td>\n",
              "      <td>299.0</td>\n",
              "      <td>299.0</td>\n",
              "      <td>299.000000</td>\n",
              "      <td>0.000000</td>\n",
              "      <td>2013</td>\n",
              "      <td>0.0</td>\n",
              "      <td>0.0</td>\n",
              "      <td>0.0</td>\n",
              "      <td>0.0</td>\n",
              "      <td>0.0</td>\n",
              "      <td>0.0</td>\n",
              "      <td>Books - Fiction</td>\n",
              "      <td>Books</td>\n",
              "      <td>Fiction</td>\n",
              "      <td>Yakutsk Central shopping center</td>\n",
              "      <td>Yakutsk</td>\n",
              "    </tr>\n",
              "    <tr>\n",
              "      <th>10909359</th>\n",
              "      <td>58</td>\n",
              "      <td>19701</td>\n",
              "      <td>13</td>\n",
              "      <td>0</td>\n",
              "      <td>53</td>\n",
              "      <td>0.277278</td>\n",
              "      <td>0.277278</td>\n",
              "      <td>0.32340</td>\n",
              "      <td>349.0</td>\n",
              "      <td>349.0</td>\n",
              "      <td>349.000000</td>\n",
              "      <td>0.000000</td>\n",
              "      <td>2014</td>\n",
              "      <td>0.0</td>\n",
              "      <td>0.0</td>\n",
              "      <td>0.0</td>\n",
              "      <td>0.0</td>\n",
              "      <td>0.0</td>\n",
              "      <td>0.0</td>\n",
              "      <td>Books - Fiction</td>\n",
              "      <td>Books</td>\n",
              "      <td>Fiction</td>\n",
              "      <td>Yakutsk Central shopping center</td>\n",
              "      <td>Yakutsk</td>\n",
              "    </tr>\n",
              "    <tr>\n",
              "      <th>10909360</th>\n",
              "      <td>58</td>\n",
              "      <td>20273</td>\n",
              "      <td>9</td>\n",
              "      <td>0</td>\n",
              "      <td>53</td>\n",
              "      <td>0.277278</td>\n",
              "      <td>0.277278</td>\n",
              "      <td>0.32340</td>\n",
              "      <td>199.0</td>\n",
              "      <td>199.0</td>\n",
              "      <td>199.000000</td>\n",
              "      <td>0.000000</td>\n",
              "      <td>2013</td>\n",
              "      <td>0.0</td>\n",
              "      <td>0.0</td>\n",
              "      <td>0.0</td>\n",
              "      <td>1.0</td>\n",
              "      <td>0.0</td>\n",
              "      <td>0.0</td>\n",
              "      <td>Books - Fiction</td>\n",
              "      <td>Books</td>\n",
              "      <td>Fiction</td>\n",
              "      <td>Yakutsk Central shopping center</td>\n",
              "      <td>Yakutsk</td>\n",
              "    </tr>\n",
              "  </tbody>\n",
              "</table>\n",
              "<p>10909361 rows × 24 columns</p>\n",
              "</div>"
            ],
            "text/plain": [
              "          shop_id  item_id  ...              shop_name_translated     city\n",
              "0               0       12  ...  Yakutsk Ordzhonikidze, 56 francs  Yakutsk\n",
              "1               0      970  ...  Yakutsk Ordzhonikidze, 56 francs  Yakutsk\n",
              "2               0      970  ...  Yakutsk Ordzhonikidze, 56 francs  Yakutsk\n",
              "3               0      971  ...  Yakutsk Ordzhonikidze, 56 francs  Yakutsk\n",
              "4               0      971  ...  Yakutsk Ordzhonikidze, 56 francs  Yakutsk\n",
              "...           ...      ...  ...                               ...      ...\n",
              "10909356       58    16835  ...   Yakutsk Central shopping center  Yakutsk\n",
              "10909357       58    17703  ...   Yakutsk Central shopping center  Yakutsk\n",
              "10909358       58    19700  ...   Yakutsk Central shopping center  Yakutsk\n",
              "10909359       58    19701  ...   Yakutsk Central shopping center  Yakutsk\n",
              "10909360       58    20273  ...   Yakutsk Central shopping center  Yakutsk\n",
              "\n",
              "[10909361 rows x 24 columns]"
            ]
          },
          "metadata": {
            "tags": []
          },
          "execution_count": 157
        }
      ]
    },
    {
      "cell_type": "code",
      "metadata": {
        "id": "CnT96f1Ok8Yi",
        "colab_type": "code",
        "colab": {}
      },
      "source": [
        "test = test.merge(shops) #adding shop_name\n",
        "test['city'] = test.shop_name_translated.str.split(' ').map(lambda x : x[0]) #the first word is a city name"
      ],
      "execution_count": 0,
      "outputs": []
    },
    {
      "cell_type": "markdown",
      "metadata": {
        "id": "hBttL4ZOlI73",
        "colab_type": "text"
      },
      "source": [
        "nothing else important in the shop_name or the item_category_name so i will remove them"
      ]
    },
    {
      "cell_type": "markdown",
      "metadata": {
        "id": "_NYeqZ7zX-OM",
        "colab_type": "text"
      },
      "source": [
        "mean encode the new three added variables"
      ]
    },
    {
      "cell_type": "code",
      "metadata": {
        "id": "yuoOsZBKDX4j",
        "colab_type": "code",
        "colab": {}
      },
      "source": [
        "kf = KFold(n_splits = 5 , shuffle = False)\n",
        "for train_ind, val_ind in kf.split(all_data) :\n",
        "    train_data , val_data = all_data.iloc[train_ind], all_data.iloc[val_ind]\n",
        "    all_data.loc[all_data.index[val_ind] , 'city_target_enc'] = val_data['city'].map(train_data.groupby('city')['item_cnt_month'].mean())\n",
        "    all_data.loc[all_data.index[val_ind] , 'main_category_target_enc'] = val_data['main_category'].map(train_data.groupby('main_category')['item_cnt_month'].mean())\n",
        "    all_data.loc[all_data.index[val_ind] , 'sub_category_target_enc'] = val_data['sub_category'].map(train_data.groupby('sub_category')['item_cnt_month'].mean())\n",
        "\n",
        "all_data.fillna(all_data.item_cnt_month.mean(), inplace=True) # fill na that happend from values in validation not in the train with the global mean    \n"
      ],
      "execution_count": 0,
      "outputs": []
    },
    {
      "cell_type": "code",
      "metadata": {
        "id": "F98St7y6brCC",
        "colab_type": "code",
        "outputId": "0a5f578a-11eb-4a6c-9869-3e7828550d10",
        "colab": {
          "base_uri": "https://localhost:8080/",
          "height": 694
        }
      },
      "source": [
        "# making a column to map it to the test set\n",
        "city_mean_enc = all_data.groupby('city')['city_target_enc'].unique()\n",
        "city_mean_enc = city_mean_enc.apply(lambda x: x.mean())\n",
        "test['city_target_enc'] = test['city'].map(city_mean_enc) # mapping the variable in the test \n",
        "\n",
        "sub_category_mean_enc = all_data.groupby('sub_category')['sub_category_target_enc'].unique()\n",
        "sub_category_mean_enc = sub_category_mean_enc.apply(lambda x: x.mean())\n",
        "test['sub_category_target_enc'] = test['sub_category'].map(sub_category_mean_enc) # mapping the variable in the test \n",
        "\n",
        "main_category_mean_enc = all_data.groupby('main_category')['main_category_target_enc'].unique()\n",
        "main_category_mean_enc = main_category_mean_enc.apply(lambda x: x.mean())\n",
        "test['main_category_target_enc'] = test['main_category'].map(main_category_mean_enc) # mapping the variable in the test \n",
        "\n",
        "test.fillna(all_data.item_cnt_month.mean() , inplace = True)\n",
        "test"
      ],
      "execution_count": 0,
      "outputs": [
        {
          "output_type": "execute_result",
          "data": {
            "text/html": [
              "<div>\n",
              "<style scoped>\n",
              "    .dataframe tbody tr th:only-of-type {\n",
              "        vertical-align: middle;\n",
              "    }\n",
              "\n",
              "    .dataframe tbody tr th {\n",
              "        vertical-align: top;\n",
              "    }\n",
              "\n",
              "    .dataframe thead th {\n",
              "        text-align: right;\n",
              "    }\n",
              "</style>\n",
              "<table border=\"1\" class=\"dataframe\">\n",
              "  <thead>\n",
              "    <tr style=\"text-align: right;\">\n",
              "      <th></th>\n",
              "      <th>date_block_num</th>\n",
              "      <th>shop_id</th>\n",
              "      <th>item_id</th>\n",
              "      <th>year</th>\n",
              "      <th>item_category_id</th>\n",
              "      <th>item_target_enc</th>\n",
              "      <th>category_target_enc</th>\n",
              "      <th>shop_target_enc</th>\n",
              "      <th>min_price</th>\n",
              "      <th>max_price</th>\n",
              "      <th>mean_price</th>\n",
              "      <th>std_price</th>\n",
              "      <th>item_shop_lag_1</th>\n",
              "      <th>item_shop_lag_2</th>\n",
              "      <th>item_shop_lag_3</th>\n",
              "      <th>item_category_lag_1</th>\n",
              "      <th>item_category_lag_2</th>\n",
              "      <th>item_category_lag_3</th>\n",
              "      <th>item_category_name_translated</th>\n",
              "      <th>main_category</th>\n",
              "      <th>sub_category</th>\n",
              "      <th>shop_name_translated</th>\n",
              "      <th>city</th>\n",
              "      <th>city_target_enc</th>\n",
              "      <th>sub_category_target_enc</th>\n",
              "      <th>main_category_target_enc</th>\n",
              "    </tr>\n",
              "  </thead>\n",
              "  <tbody>\n",
              "    <tr>\n",
              "      <th>0</th>\n",
              "      <td>34</td>\n",
              "      <td>5</td>\n",
              "      <td>5037</td>\n",
              "      <td>2015</td>\n",
              "      <td>19</td>\n",
              "      <td>0.277278</td>\n",
              "      <td>0.654432</td>\n",
              "      <td>0.173669</td>\n",
              "      <td>749.00</td>\n",
              "      <td>2599.0</td>\n",
              "      <td>1600.009389</td>\n",
              "      <td>650.607628</td>\n",
              "      <td>0.0</td>\n",
              "      <td>0.0</td>\n",
              "      <td>0.0</td>\n",
              "      <td>0.0</td>\n",
              "      <td>0.0</td>\n",
              "      <td>0.0</td>\n",
              "      <td>Games - PS3</td>\n",
              "      <td>Games</td>\n",
              "      <td>PS3</td>\n",
              "      <td>Vologda Shopping and Entertainment Center \"Mar...</td>\n",
              "      <td>Vologda</td>\n",
              "      <td>0.277278</td>\n",
              "      <td>0.612562</td>\n",
              "      <td>0.608982</td>\n",
              "    </tr>\n",
              "    <tr>\n",
              "      <th>1</th>\n",
              "      <td>34</td>\n",
              "      <td>5</td>\n",
              "      <td>5233</td>\n",
              "      <td>2015</td>\n",
              "      <td>19</td>\n",
              "      <td>0.277278</td>\n",
              "      <td>0.654432</td>\n",
              "      <td>0.173669</td>\n",
              "      <td>599.00</td>\n",
              "      <td>1199.0</td>\n",
              "      <td>788.110417</td>\n",
              "      <td>219.081808</td>\n",
              "      <td>0.0</td>\n",
              "      <td>0.0</td>\n",
              "      <td>0.0</td>\n",
              "      <td>0.0</td>\n",
              "      <td>0.0</td>\n",
              "      <td>0.0</td>\n",
              "      <td>Games - PS3</td>\n",
              "      <td>Games</td>\n",
              "      <td>PS3</td>\n",
              "      <td>Vologda Shopping and Entertainment Center \"Mar...</td>\n",
              "      <td>Vologda</td>\n",
              "      <td>0.277278</td>\n",
              "      <td>0.612562</td>\n",
              "      <td>0.608982</td>\n",
              "    </tr>\n",
              "    <tr>\n",
              "      <th>2</th>\n",
              "      <td>34</td>\n",
              "      <td>5</td>\n",
              "      <td>4872</td>\n",
              "      <td>2015</td>\n",
              "      <td>19</td>\n",
              "      <td>0.277278</td>\n",
              "      <td>0.654432</td>\n",
              "      <td>0.173669</td>\n",
              "      <td>524.44</td>\n",
              "      <td>1499.0</td>\n",
              "      <td>910.387500</td>\n",
              "      <td>204.067546</td>\n",
              "      <td>0.0</td>\n",
              "      <td>0.0</td>\n",
              "      <td>0.0</td>\n",
              "      <td>0.0</td>\n",
              "      <td>0.0</td>\n",
              "      <td>0.0</td>\n",
              "      <td>Games - PS3</td>\n",
              "      <td>Games</td>\n",
              "      <td>PS3</td>\n",
              "      <td>Vologda Shopping and Entertainment Center \"Mar...</td>\n",
              "      <td>Vologda</td>\n",
              "      <td>0.277278</td>\n",
              "      <td>0.612562</td>\n",
              "      <td>0.608982</td>\n",
              "    </tr>\n",
              "    <tr>\n",
              "      <th>3</th>\n",
              "      <td>34</td>\n",
              "      <td>5</td>\n",
              "      <td>5002</td>\n",
              "      <td>2015</td>\n",
              "      <td>19</td>\n",
              "      <td>0.277278</td>\n",
              "      <td>0.654432</td>\n",
              "      <td>0.173669</td>\n",
              "      <td>2999.00</td>\n",
              "      <td>2999.0</td>\n",
              "      <td>2999.000000</td>\n",
              "      <td>0.000000</td>\n",
              "      <td>0.0</td>\n",
              "      <td>0.0</td>\n",
              "      <td>0.0</td>\n",
              "      <td>0.0</td>\n",
              "      <td>0.0</td>\n",
              "      <td>0.0</td>\n",
              "      <td>Games - PS3</td>\n",
              "      <td>Games</td>\n",
              "      <td>PS3</td>\n",
              "      <td>Vologda Shopping and Entertainment Center \"Mar...</td>\n",
              "      <td>Vologda</td>\n",
              "      <td>0.277278</td>\n",
              "      <td>0.612562</td>\n",
              "      <td>0.608982</td>\n",
              "    </tr>\n",
              "    <tr>\n",
              "      <th>4</th>\n",
              "      <td>34</td>\n",
              "      <td>5</td>\n",
              "      <td>5814</td>\n",
              "      <td>2015</td>\n",
              "      <td>19</td>\n",
              "      <td>0.277278</td>\n",
              "      <td>0.654432</td>\n",
              "      <td>0.173669</td>\n",
              "      <td>599.00</td>\n",
              "      <td>1199.0</td>\n",
              "      <td>907.727963</td>\n",
              "      <td>205.852939</td>\n",
              "      <td>0.0</td>\n",
              "      <td>0.0</td>\n",
              "      <td>0.0</td>\n",
              "      <td>0.0</td>\n",
              "      <td>0.0</td>\n",
              "      <td>0.0</td>\n",
              "      <td>Games - PS3</td>\n",
              "      <td>Games</td>\n",
              "      <td>PS3</td>\n",
              "      <td>Vologda Shopping and Entertainment Center \"Mar...</td>\n",
              "      <td>Vologda</td>\n",
              "      <td>0.277278</td>\n",
              "      <td>0.612562</td>\n",
              "      <td>0.608982</td>\n",
              "    </tr>\n",
              "    <tr>\n",
              "      <th>...</th>\n",
              "      <td>...</td>\n",
              "      <td>...</td>\n",
              "      <td>...</td>\n",
              "      <td>...</td>\n",
              "      <td>...</td>\n",
              "      <td>...</td>\n",
              "      <td>...</td>\n",
              "      <td>...</td>\n",
              "      <td>...</td>\n",
              "      <td>...</td>\n",
              "      <td>...</td>\n",
              "      <td>...</td>\n",
              "      <td>...</td>\n",
              "      <td>...</td>\n",
              "      <td>...</td>\n",
              "      <td>...</td>\n",
              "      <td>...</td>\n",
              "      <td>...</td>\n",
              "      <td>...</td>\n",
              "      <td>...</td>\n",
              "      <td>...</td>\n",
              "      <td>...</td>\n",
              "      <td>...</td>\n",
              "      <td>...</td>\n",
              "      <td>...</td>\n",
              "      <td>...</td>\n",
              "    </tr>\n",
              "    <tr>\n",
              "      <th>214195</th>\n",
              "      <td>34</td>\n",
              "      <td>45</td>\n",
              "      <td>342</td>\n",
              "      <td>2015</td>\n",
              "      <td>44</td>\n",
              "      <td>0.277278</td>\n",
              "      <td>0.024265</td>\n",
              "      <td>0.161225</td>\n",
              "      <td>144.00</td>\n",
              "      <td>144.0</td>\n",
              "      <td>144.000000</td>\n",
              "      <td>0.000000</td>\n",
              "      <td>0.0</td>\n",
              "      <td>0.0</td>\n",
              "      <td>0.0</td>\n",
              "      <td>0.0</td>\n",
              "      <td>0.0</td>\n",
              "      <td>0.0</td>\n",
              "      <td>Books - Audiobooks (Numbers)</td>\n",
              "      <td>Books</td>\n",
              "      <td>Audiobooks (Numbers)</td>\n",
              "      <td>Samara TC \"ParkHaus\"</td>\n",
              "      <td>Samara</td>\n",
              "      <td>0.277278</td>\n",
              "      <td>0.023204</td>\n",
              "      <td>0.124577</td>\n",
              "    </tr>\n",
              "    <tr>\n",
              "      <th>214196</th>\n",
              "      <td>34</td>\n",
              "      <td>45</td>\n",
              "      <td>254</td>\n",
              "      <td>2015</td>\n",
              "      <td>44</td>\n",
              "      <td>0.277278</td>\n",
              "      <td>0.024265</td>\n",
              "      <td>0.161225</td>\n",
              "      <td>0.00</td>\n",
              "      <td>0.0</td>\n",
              "      <td>0.000000</td>\n",
              "      <td>0.000000</td>\n",
              "      <td>0.0</td>\n",
              "      <td>0.0</td>\n",
              "      <td>0.0</td>\n",
              "      <td>0.0</td>\n",
              "      <td>0.0</td>\n",
              "      <td>0.0</td>\n",
              "      <td>Books - Audiobooks (Numbers)</td>\n",
              "      <td>Books</td>\n",
              "      <td>Audiobooks (Numbers)</td>\n",
              "      <td>Samara TC \"ParkHaus\"</td>\n",
              "      <td>Samara</td>\n",
              "      <td>0.277278</td>\n",
              "      <td>0.023204</td>\n",
              "      <td>0.124577</td>\n",
              "    </tr>\n",
              "    <tr>\n",
              "      <th>214197</th>\n",
              "      <td>34</td>\n",
              "      <td>45</td>\n",
              "      <td>204</td>\n",
              "      <td>2015</td>\n",
              "      <td>44</td>\n",
              "      <td>0.277278</td>\n",
              "      <td>0.024265</td>\n",
              "      <td>0.161225</td>\n",
              "      <td>0.00</td>\n",
              "      <td>0.0</td>\n",
              "      <td>0.000000</td>\n",
              "      <td>0.000000</td>\n",
              "      <td>0.0</td>\n",
              "      <td>0.0</td>\n",
              "      <td>0.0</td>\n",
              "      <td>0.0</td>\n",
              "      <td>0.0</td>\n",
              "      <td>0.0</td>\n",
              "      <td>Books - Audiobooks (Numbers)</td>\n",
              "      <td>Books</td>\n",
              "      <td>Audiobooks (Numbers)</td>\n",
              "      <td>Samara TC \"ParkHaus\"</td>\n",
              "      <td>Samara</td>\n",
              "      <td>0.277278</td>\n",
              "      <td>0.023204</td>\n",
              "      <td>0.124577</td>\n",
              "    </tr>\n",
              "    <tr>\n",
              "      <th>214198</th>\n",
              "      <td>34</td>\n",
              "      <td>45</td>\n",
              "      <td>180</td>\n",
              "      <td>2015</td>\n",
              "      <td>44</td>\n",
              "      <td>0.277278</td>\n",
              "      <td>0.024265</td>\n",
              "      <td>0.161225</td>\n",
              "      <td>80.00</td>\n",
              "      <td>80.0</td>\n",
              "      <td>80.000000</td>\n",
              "      <td>0.000000</td>\n",
              "      <td>0.0</td>\n",
              "      <td>0.0</td>\n",
              "      <td>0.0</td>\n",
              "      <td>0.0</td>\n",
              "      <td>0.0</td>\n",
              "      <td>0.0</td>\n",
              "      <td>Books - Audiobooks (Numbers)</td>\n",
              "      <td>Books</td>\n",
              "      <td>Audiobooks (Numbers)</td>\n",
              "      <td>Samara TC \"ParkHaus\"</td>\n",
              "      <td>Samara</td>\n",
              "      <td>0.277278</td>\n",
              "      <td>0.023204</td>\n",
              "      <td>0.124577</td>\n",
              "    </tr>\n",
              "    <tr>\n",
              "      <th>214199</th>\n",
              "      <td>34</td>\n",
              "      <td>45</td>\n",
              "      <td>168</td>\n",
              "      <td>2015</td>\n",
              "      <td>44</td>\n",
              "      <td>0.277278</td>\n",
              "      <td>0.024265</td>\n",
              "      <td>0.161225</td>\n",
              "      <td>0.00</td>\n",
              "      <td>0.0</td>\n",
              "      <td>0.000000</td>\n",
              "      <td>0.000000</td>\n",
              "      <td>0.0</td>\n",
              "      <td>0.0</td>\n",
              "      <td>0.0</td>\n",
              "      <td>0.0</td>\n",
              "      <td>0.0</td>\n",
              "      <td>0.0</td>\n",
              "      <td>Books - Audiobooks (Numbers)</td>\n",
              "      <td>Books</td>\n",
              "      <td>Audiobooks (Numbers)</td>\n",
              "      <td>Samara TC \"ParkHaus\"</td>\n",
              "      <td>Samara</td>\n",
              "      <td>0.277278</td>\n",
              "      <td>0.023204</td>\n",
              "      <td>0.124577</td>\n",
              "    </tr>\n",
              "  </tbody>\n",
              "</table>\n",
              "<p>214200 rows × 26 columns</p>\n",
              "</div>"
            ],
            "text/plain": [
              "        date_block_num  ...  main_category_target_enc\n",
              "0                   34  ...                  0.608982\n",
              "1                   34  ...                  0.608982\n",
              "2                   34  ...                  0.608982\n",
              "3                   34  ...                  0.608982\n",
              "4                   34  ...                  0.608982\n",
              "...                ...  ...                       ...\n",
              "214195              34  ...                  0.124577\n",
              "214196              34  ...                  0.124577\n",
              "214197              34  ...                  0.124577\n",
              "214198              34  ...                  0.124577\n",
              "214199              34  ...                  0.124577\n",
              "\n",
              "[214200 rows x 26 columns]"
            ]
          },
          "metadata": {
            "tags": []
          },
          "execution_count": 160
        }
      ]
    },
    {
      "cell_type": "code",
      "metadata": {
        "id": "dDih0BIyeSvL",
        "colab_type": "code",
        "colab": {}
      },
      "source": [
        "all_data = downcasting(all_data)"
      ],
      "execution_count": 0,
      "outputs": []
    },
    {
      "cell_type": "code",
      "metadata": {
        "id": "FdNqqCnwenAL",
        "colab_type": "code",
        "colab": {}
      },
      "source": [
        "all_data.shop_id = all_data.shop_id.astype('int8')\n",
        "all_data.date_block_num = all_data.date_block_num.astype('int8')\n",
        "all_data.item_cnt_month = all_data.item_cnt_month.astype('int8')\n",
        "all_data.item_category_id = all_data.item_category_id.astype('int8')"
      ],
      "execution_count": 0,
      "outputs": []
    },
    {
      "cell_type": "code",
      "metadata": {
        "id": "ns42E19u3hb_",
        "colab_type": "code",
        "colab": {}
      },
      "source": [
        "all_data['year'] = all_data['date_block_num'].map(lambda x : 2013 if x < 12 else 2014 if x < 24 else 2015)"
      ],
      "execution_count": 0,
      "outputs": []
    },
    {
      "cell_type": "markdown",
      "metadata": {
        "id": "gp7eA4NdWd1m",
        "colab_type": "text"
      },
      "source": [
        "adding interaction features with label encoding"
      ]
    },
    {
      "cell_type": "code",
      "metadata": {
        "id": "8PIQQPswqz_v",
        "colab_type": "code",
        "outputId": "86811770-492d-47f8-aadf-69c9aecacce2",
        "colab": {
          "base_uri": "https://localhost:8080/",
          "height": 34
        }
      },
      "source": [
        "pd.factorize(['A','b','c','A'])[0]"
      ],
      "execution_count": 0,
      "outputs": [
        {
          "output_type": "execute_result",
          "data": {
            "text/plain": [
              "array([0, 1, 2, 0])"
            ]
          },
          "metadata": {
            "tags": []
          },
          "execution_count": 41
        }
      ]
    },
    {
      "cell_type": "code",
      "metadata": {
        "id": "VMFS1P6EYD-D",
        "colab_type": "code",
        "colab": {}
      },
      "source": [
        "import itertools\n",
        "cat_features = ['shop_id','item_id','city','mean_price']\n",
        "# Iterate through each pair of 2 features, combine them into interaction features\n",
        "all_combinations = list(itertools.combinations(cat_features, 2))\n",
        "for combination in all_combinations: #for each pair of columns convert them to strings then join them with the + operator.\n",
        "  interaction = all_data[combination[0]].map(str) + '_' + all_data[combination[1]].map(str)\n",
        "  interaction_name = combination[0] + '_' + combination[1]\n",
        "\n",
        "  all_data[interaction_name] = pd.factorize(interaction)[0] # return the interaction column label encoded directly\n"
      ],
      "execution_count": 0,
      "outputs": []
    },
    {
      "cell_type": "code",
      "metadata": {
        "id": "oDPiSU0XY-Hk",
        "colab_type": "code",
        "colab": {}
      },
      "source": [
        "for combination in all_combinations: #for each pair of columns convert them to strings then join them with the + operator.\n",
        "  interaction = test[combination[0]].map(str) + '_' + test[combination[1]].map(str)\n",
        "  interaction_name = combination[0] + '_' + combination[1]\n",
        "  test[interaction_name] = pd.factorize(interaction)[0] # return the interaction column label encoded directly\n"
      ],
      "execution_count": 0,
      "outputs": []
    },
    {
      "cell_type": "markdown",
      "metadata": {
        "id": "bfLUwLIc6F8W",
        "colab_type": "text"
      },
      "source": [
        "adding the month"
      ]
    },
    {
      "cell_type": "code",
      "metadata": {
        "id": "gEG5spcb6HUD",
        "colab_type": "code",
        "colab": {}
      },
      "source": [
        "all_data['month'] = all_data['date_block_num'] % 12\n",
        "test['month'] = test['date_block_num'] % 12"
      ],
      "execution_count": 0,
      "outputs": []
    },
    {
      "cell_type": "code",
      "metadata": {
        "id": "laO_pPzr5efy",
        "colab_type": "code",
        "colab": {}
      },
      "source": [
        "all_data = downcasting(all_data)\n",
        "test = downcasting(test)"
      ],
      "execution_count": 0,
      "outputs": []
    },
    {
      "cell_type": "code",
      "metadata": {
        "id": "MF6yWS21AMfQ",
        "colab_type": "code",
        "colab": {}
      },
      "source": [
        "# we don't need them any more\n",
        "all_data.drop(['city','main_category','sub_category','item_category_name_translated','shop_name_translated'],axis = 1 , inplace = True)\n",
        "test.drop(['city','main_category','sub_category','item_category_name_translated','shop_name_translated'],axis = 1 , inplace = True)"
      ],
      "execution_count": 0,
      "outputs": []
    },
    {
      "cell_type": "code",
      "metadata": {
        "id": "nIgQfWKx18-U",
        "colab_type": "code",
        "colab": {}
      },
      "source": [
        "lgbm = LGBMRegressor(verbose = 0 , n_jobs = -1,random_state = random_state)\n",
        "lgbm.fit(all_data.drop(['item_cnt_month'],axis = 1), all_data.item_cnt_month)\n",
        "\n",
        "# saving the model in order to run it again witout taking so much time\n",
        "file_name = 'lgbm_all_features.sav'\n",
        "pickle.dump(lgbm , open(file_name, 'wb'))"
      ],
      "execution_count": 0,
      "outputs": []
    },
    {
      "cell_type": "code",
      "metadata": {
        "id": "1nbOo4e52EHK",
        "colab_type": "code",
        "colab": {}
      },
      "source": [
        "# submitting in the leaderboard\n",
        "lgbm = pickle.load(open('/content/lgbm_all_features.sav', 'rb'))\n",
        "test = test[all_data.drop('item_cnt_month' , axis = 1).columns] # sorting columns in the same order\n",
        "preds_gbm = lgbm.predict(test)\n",
        "sub = sample_submission\n",
        "sub.item_cnt_month = preds_gbm\n",
        "sub.to_csv('lgbm_all_features.csv' , index = False)"
      ],
      "execution_count": 0,
      "outputs": []
    },
    {
      "cell_type": "code",
      "metadata": {
        "id": "oZ5UJxi_2Wkb",
        "colab_type": "code",
        "outputId": "fe93fe9a-2d06-4093-9fd9-75aec0c57350",
        "colab": {
          "base_uri": "https://localhost:8080/",
          "height": 486
        }
      },
      "source": [
        "feature_imp = pd.DataFrame(sorted(zip(lgbm.feature_importances_,test.columns) , reverse= True), columns=['Value','Feature'])\n",
        "plt.figure(figsize=(20, 10))\n",
        "sns.barplot(x=\"Value\", y=\"Feature\", data=feature_imp)\n",
        "plt.title('LightGBM Features importance based on gain ')\n",
        "plt.tight_layout()\n",
        "plt.show()"
      ],
      "execution_count": 0,
      "outputs": [
        {
          "output_type": "display_data",
          "data": {
            "image/png": "[encoded data removed]",
            "text/plain": [
              "<Figure size 1440x720 with 1 Axes>"
            ]
          },
          "metadata": {
            "tags": []
          }
        }
      ]
    },
    {
      "cell_type": "code",
      "metadata": {
        "id": "obI4BDg2UEG-",
        "colab_type": "code",
        "outputId": "9d690c9f-1057-466f-c070-b9b71215ed0b",
        "colab": {
          "base_uri": "https://localhost:8080/",
          "height": 886
        }
      },
      "source": [
        "feature_imp"
      ],
      "execution_count": 0,
      "outputs": [
        {
          "output_type": "execute_result",
          "data": {
            "text/html": [
              "<div>\n",
              "<style scoped>\n",
              "    .dataframe tbody tr th:only-of-type {\n",
              "        vertical-align: middle;\n",
              "    }\n",
              "\n",
              "    .dataframe tbody tr th {\n",
              "        vertical-align: top;\n",
              "    }\n",
              "\n",
              "    .dataframe thead th {\n",
              "        text-align: right;\n",
              "    }\n",
              "</style>\n",
              "<table border=\"1\" class=\"dataframe\">\n",
              "  <thead>\n",
              "    <tr style=\"text-align: right;\">\n",
              "      <th></th>\n",
              "      <th>Value</th>\n",
              "      <th>Feature</th>\n",
              "    </tr>\n",
              "  </thead>\n",
              "  <tbody>\n",
              "    <tr>\n",
              "      <th>0</th>\n",
              "      <td>382</td>\n",
              "      <td>shop_target_enc</td>\n",
              "    </tr>\n",
              "    <tr>\n",
              "      <th>1</th>\n",
              "      <td>281</td>\n",
              "      <td>item_shop_lag_1</td>\n",
              "    </tr>\n",
              "    <tr>\n",
              "      <th>2</th>\n",
              "      <td>265</td>\n",
              "      <td>item_category_lag_1</td>\n",
              "    </tr>\n",
              "    <tr>\n",
              "      <th>3</th>\n",
              "      <td>225</td>\n",
              "      <td>item_category_lag_3</td>\n",
              "    </tr>\n",
              "    <tr>\n",
              "      <th>4</th>\n",
              "      <td>220</td>\n",
              "      <td>item_category_lag_2</td>\n",
              "    </tr>\n",
              "    <tr>\n",
              "      <th>5</th>\n",
              "      <td>183</td>\n",
              "      <td>date_block_num</td>\n",
              "    </tr>\n",
              "    <tr>\n",
              "      <th>6</th>\n",
              "      <td>172</td>\n",
              "      <td>item_category_id</td>\n",
              "    </tr>\n",
              "    <tr>\n",
              "      <th>7</th>\n",
              "      <td>171</td>\n",
              "      <td>item_shop_lag_2</td>\n",
              "    </tr>\n",
              "    <tr>\n",
              "      <th>8</th>\n",
              "      <td>168</td>\n",
              "      <td>sub_category_target_enc</td>\n",
              "    </tr>\n",
              "    <tr>\n",
              "      <th>9</th>\n",
              "      <td>120</td>\n",
              "      <td>item_shop_lag_3</td>\n",
              "    </tr>\n",
              "    <tr>\n",
              "      <th>10</th>\n",
              "      <td>111</td>\n",
              "      <td>item_id_mean_price</td>\n",
              "    </tr>\n",
              "    <tr>\n",
              "      <th>11</th>\n",
              "      <td>82</td>\n",
              "      <td>main_category_target_enc</td>\n",
              "    </tr>\n",
              "    <tr>\n",
              "      <th>12</th>\n",
              "      <td>67</td>\n",
              "      <td>max_price</td>\n",
              "    </tr>\n",
              "    <tr>\n",
              "      <th>13</th>\n",
              "      <td>65</td>\n",
              "      <td>std_price</td>\n",
              "    </tr>\n",
              "    <tr>\n",
              "      <th>14</th>\n",
              "      <td>61</td>\n",
              "      <td>shop_id_city</td>\n",
              "    </tr>\n",
              "    <tr>\n",
              "      <th>15</th>\n",
              "      <td>58</td>\n",
              "      <td>min_price</td>\n",
              "    </tr>\n",
              "    <tr>\n",
              "      <th>16</th>\n",
              "      <td>57</td>\n",
              "      <td>mean_price</td>\n",
              "    </tr>\n",
              "    <tr>\n",
              "      <th>17</th>\n",
              "      <td>56</td>\n",
              "      <td>category_target_enc</td>\n",
              "    </tr>\n",
              "    <tr>\n",
              "      <th>18</th>\n",
              "      <td>46</td>\n",
              "      <td>shop_id_mean_price</td>\n",
              "    </tr>\n",
              "    <tr>\n",
              "      <th>19</th>\n",
              "      <td>46</td>\n",
              "      <td>item_id_city</td>\n",
              "    </tr>\n",
              "    <tr>\n",
              "      <th>20</th>\n",
              "      <td>35</td>\n",
              "      <td>city_mean_price</td>\n",
              "    </tr>\n",
              "    <tr>\n",
              "      <th>21</th>\n",
              "      <td>33</td>\n",
              "      <td>shop_id</td>\n",
              "    </tr>\n",
              "    <tr>\n",
              "      <th>22</th>\n",
              "      <td>31</td>\n",
              "      <td>item_id</td>\n",
              "    </tr>\n",
              "    <tr>\n",
              "      <th>23</th>\n",
              "      <td>31</td>\n",
              "      <td>city_target_enc</td>\n",
              "    </tr>\n",
              "    <tr>\n",
              "      <th>24</th>\n",
              "      <td>28</td>\n",
              "      <td>shop_id_item_id</td>\n",
              "    </tr>\n",
              "    <tr>\n",
              "      <th>25</th>\n",
              "      <td>6</td>\n",
              "      <td>year</td>\n",
              "    </tr>\n",
              "    <tr>\n",
              "      <th>26</th>\n",
              "      <td>0</td>\n",
              "      <td>item_target_enc</td>\n",
              "    </tr>\n",
              "  </tbody>\n",
              "</table>\n",
              "</div>"
            ],
            "text/plain": [
              "    Value                   Feature\n",
              "0     382           shop_target_enc\n",
              "1     281           item_shop_lag_1\n",
              "2     265       item_category_lag_1\n",
              "3     225       item_category_lag_3\n",
              "4     220       item_category_lag_2\n",
              "5     183            date_block_num\n",
              "6     172          item_category_id\n",
              "7     171           item_shop_lag_2\n",
              "8     168   sub_category_target_enc\n",
              "9     120           item_shop_lag_3\n",
              "10    111        item_id_mean_price\n",
              "11     82  main_category_target_enc\n",
              "12     67                 max_price\n",
              "13     65                 std_price\n",
              "14     61              shop_id_city\n",
              "15     58                 min_price\n",
              "16     57                mean_price\n",
              "17     56       category_target_enc\n",
              "18     46        shop_id_mean_price\n",
              "19     46              item_id_city\n",
              "20     35           city_mean_price\n",
              "21     33                   shop_id\n",
              "22     31                   item_id\n",
              "23     31           city_target_enc\n",
              "24     28           shop_id_item_id\n",
              "25      6                      year\n",
              "26      0           item_target_enc"
            ]
          },
          "metadata": {
            "tags": []
          },
          "execution_count": 258
        }
      ]
    },
    {
      "cell_type": "markdown",
      "metadata": {
        "id": "cJTLhGcvTvuq",
        "colab_type": "text"
      },
      "source": [
        "# Feature selection"
      ]
    },
    {
      "cell_type": "code",
      "metadata": {
        "id": "Nb88MinaQAst",
        "colab_type": "code",
        "outputId": "cb0be5ba-c67e-44de-9cde-6446b2d80e1b",
        "colab": {
          "base_uri": "https://localhost:8080/",
          "height": 34
        }
      },
      "source": [
        "train = all_data[all_data.date_block_num < 31]\n",
        "val = all_data[all_data.date_block_num >= 32]\n",
        "train_X = train.drop('item_cnt_month' , axis = 1)\n",
        "train_y = train.item_cnt_month\n",
        "val_X = val.drop('item_cnt_month' , axis = 1)\n",
        "val_y = val.item_cnt_month\n",
        "\n",
        "lgbm = LGBMRegressor(verbose = 0 , n_jobs = -1,random_state = random_state)\n",
        "lgbm.fit(train_X,train_y)\n",
        "rmse = sqrt( mean_squared_error(lgbm.predict(X_val), y_val ) ) \n",
        "print(rmse )"
      ],
      "execution_count": 0,
      "outputs": [
        {
          "output_type": "stream",
          "text": [
            "0.7595300453157463\n"
          ],
          "name": "stdout"
        }
      ]
    },
    {
      "cell_type": "markdown",
      "metadata": {
        "id": "uEFJ1SEP10zR",
        "colab_type": "text"
      },
      "source": [
        "There is a great improvment after adding these features"
      ]
    },
    {
      "cell_type": "code",
      "metadata": {
        "id": "7HUvsGXi2BmK",
        "colab_type": "code",
        "outputId": "fe30be3b-39d0-4daf-d729-8836f72f786c",
        "colab": {
          "base_uri": "https://localhost:8080/",
          "height": 34
        }
      },
      "source": [
        "sorted(lgbm.feature_importances_ )[:17]"
      ],
      "execution_count": 0,
      "outputs": [
        {
          "output_type": "execute_result",
          "data": {
            "text/plain": [
              "[0, 4, 29, 35, 35, 35, 38, 51, 52, 58, 59, 60, 61, 78, 79, 80, 109]"
            ]
          },
          "metadata": {
            "tags": []
          },
          "execution_count": 252
        }
      ]
    },
    {
      "cell_type": "code",
      "metadata": {
        "id": "vvjA9KeHkaJn",
        "colab_type": "code",
        "outputId": "4e891835-2a4d-415e-d25d-06ef773ff3da",
        "colab": {
          "base_uri": "https://localhost:8080/",
          "height": 306
        }
      },
      "source": [
        "from sklearn.feature_selection import SelectFromModel\n",
        "\n",
        "thresholds = sorted(lgbm.feature_importances_ )[:17] \n",
        "for thresh in thresholds:\n",
        "\t# select features using threshold\n",
        "\tselection = SelectFromModel(lgbm, threshold=thresh, prefit=True)\n",
        "\tselect_train = selection.transform(train_X)\n",
        "\t# train model\n",
        "\tselection_model = LGBMRegressor(n_jobs = -1 , random_state = random_state)\n",
        "\tselection_model.fit(select_train, train_y )\n",
        "\t# eval model\n",
        "\tselect_val = selection.transform(val_X)\n",
        "\tpredictions = selection_model.predict(select_val)\n",
        "\tRMSE = sqrt(mean_squared_error(val_y, predictions))\n",
        "\tprint(\"Thresh=%.3f, n=%d, RMSE: %.2f\" % (thresh, select_train.shape[1], RMSE))\n"
      ],
      "execution_count": 0,
      "outputs": [
        {
          "output_type": "stream",
          "text": [
            "Thresh=0.000, n=27, RMSE: 0.76\n",
            "Thresh=4.000, n=26, RMSE: 0.76\n",
            "Thresh=29.000, n=25, RMSE: 0.76\n",
            "Thresh=35.000, n=24, RMSE: 0.76\n",
            "Thresh=35.000, n=24, RMSE: 0.76\n",
            "Thresh=35.000, n=24, RMSE: 0.76\n",
            "Thresh=38.000, n=21, RMSE: 0.76\n",
            "Thresh=51.000, n=20, RMSE: 0.76\n",
            "Thresh=52.000, n=19, RMSE: 0.76\n",
            "Thresh=58.000, n=18, RMSE: 0.76\n",
            "Thresh=59.000, n=17, RMSE: 0.76\n",
            "Thresh=60.000, n=16, RMSE: 0.76\n",
            "Thresh=61.000, n=15, RMSE: 0.76\n",
            "Thresh=78.000, n=14, RMSE: 0.76\n",
            "Thresh=79.000, n=13, RMSE: 0.76\n",
            "Thresh=80.000, n=12, RMSE: 0.76\n",
            "Thresh=109.000, n=11, RMSE: 0.76\n"
          ],
          "name": "stdout"
        }
      ]
    },
    {
      "cell_type": "markdown",
      "metadata": {
        "id": "RIiuibBQh-p7",
        "colab_type": "text"
      },
      "source": [
        "so removing the columns did not enhance the process so i will keep them and be careful from overfitting"
      ]
    },
    {
      "cell_type": "code",
      "metadata": {
        "id": "IuPPhzJ2V33Z",
        "colab_type": "code",
        "colab": {}
      },
      "source": [
        "feature_imp = feature_imp[feature_imp.Value > 0]\n",
        "selected_cols = list(feature_imp['Feature'].values)\n",
        "Final_train = all_data[selected_cols]\n",
        "Final_test = test[selected_cols]"
      ],
      "execution_count": 0,
      "outputs": []
    },
    {
      "cell_type": "code",
      "metadata": {
        "id": "yKTzDBacE5fa",
        "colab_type": "code",
        "outputId": "1736704b-35fe-4173-ef00-2fb0d10df70a",
        "colab": {
          "base_uri": "https://localhost:8080/",
          "height": 72
        }
      },
      "source": [
        "train = Final_train[Final_train.date_block_num < 33]\n",
        "val = Final_train[Final_train.date_block_num == 33] # taking the last month to simulate the test set\n",
        "X_train = train.drop('item_cnt_month',axis = 1)\n",
        "y_train = train.item_cnt_month\n",
        "X_val = val.drop('item_cnt_month',axis = 1)\n",
        "y_val = val.item_cnt_month\n",
        "eval_set = [(X_val , y_val)]\n",
        "\n",
        "lgbm = LGBMRegressor(n_jobs= -1 , random_state= random_state ,)\n",
        "xgb.fit(X_train, y_train ,eval_set =eval_set , early_stop = 30) "
      ],
      "execution_count": 0,
      "outputs": [
        {
          "output_type": "stream",
          "text": [
            "[00:42:28] WARNING: /workspace/src/objective/regression_obj.cu:152: reg:linear is now deprecated in favor of reg:squarederror.\n",
            "[00:42:29] WARNING: /workspace/src/learner.cc:686: Tree method is automatically selected to be 'approx' for faster speed. To use old behavior (exact greedy algorithm on single machine), set tree_method to 'exact'.\n"
          ],
          "name": "stdout"
        }
      ]
    },
    {
      "cell_type": "code",
      "metadata": {
        "id": "b3bsdtxnNWAL",
        "colab_type": "code",
        "colab": {}
      },
      "source": [
        "pyplot.figure(figsize=(12,6))\n",
        "results = xgb.evals_result()\n",
        "epochs = len(results['validation_0'])\n",
        "x_axis = range(0, epochs)\n",
        "# plot acuuracy\n",
        "fig, ax = pyplot.subplots()\n",
        "ax.plot(x_axis, results['validation_0'], label='Train')\n",
        "ax.plot(x_axis, results['validation_1'], label='validation')\n",
        "ax.legend()\n",
        "pyplot.ylabel('RMSE')\n",
        "pyplot.title('XGBoost RMSE')\n",
        "pyplot.show()"
      ],
      "execution_count": 0,
      "outputs": []
    },
    {
      "cell_type": "code",
      "metadata": {
        "id": "HBMOYRMEVwCU",
        "colab_type": "code",
        "colab": {}
      },
      "source": [
        "plt.figure(figsize=(20,8))\n",
        "plt.title(\"Features importance based on f1 score\")\n",
        "plt.xlabel(\"features\")\n",
        "plt.ylabel(\"inportance\")\n",
        "sns.barplot(x = results['features'] , y = results['importance'] )"
      ],
      "execution_count": 0,
      "outputs": []
    },
    {
      "cell_type": "markdown",
      "metadata": {
        "id": "XSkmsQMdvdUC",
        "colab_type": "text"
      },
      "source": [
        "# hyper paramter tuning"
      ]
    },
    {
      "cell_type": "markdown",
      "metadata": {
        "id": "GumZmtSio7U1",
        "colab_type": "text"
      },
      "source": [
        "we will not be able to do cross validation of grid search as it's time based data "
      ]
    },
    {
      "cell_type": "code",
      "metadata": {
        "id": "fpWt743iu83a",
        "colab_type": "code",
        "colab": {}
      },
      "source": [
        "to be continue "
      ],
      "execution_count": 0,
      "outputs": []
    },
    {
      "cell_type": "code",
      "metadata": {
        "id": "0cdpG9pFvqpi",
        "colab_type": "code",
        "colab": {}
      },
      "source": [
        ""
      ],
      "execution_count": 0,
      "outputs": []
    },
    {
      "cell_type": "code",
      "metadata": {
        "id": "oZVNGtD1vqnI",
        "colab_type": "code",
        "colab": {}
      },
      "source": [
        ""
      ],
      "execution_count": 0,
      "outputs": []
    },
    {
      "cell_type": "markdown",
      "metadata": {
        "id": "vchvb4XOT1wS",
        "colab_type": "text"
      },
      "source": [
        "# Model Explainability with shap values"
      ]
    },
    {
      "cell_type": "code",
      "metadata": {
        "id": "b_A6pULjvqlN",
        "colab_type": "code",
        "colab": {}
      },
      "source": [
        ""
      ],
      "execution_count": 0,
      "outputs": []
    },
    {
      "cell_type": "code",
      "metadata": {
        "id": "a5Jr0JQAvqjw",
        "colab_type": "code",
        "colab": {}
      },
      "source": [
        ""
      ],
      "execution_count": 0,
      "outputs": []
    },
    {
      "cell_type": "markdown",
      "metadata": {
        "id": "CDTPawedUCxB",
        "colab_type": "text"
      },
      "source": [
        "# Trying Ensamble technique to increase the accuracy"
      ]
    },
    {
      "cell_type": "code",
      "metadata": {
        "id": "w1Tldx-XUIm7",
        "colab_type": "code",
        "colab": {}
      },
      "source": [
        ""
      ],
      "execution_count": 0,
      "outputs": []
    },
    {
      "cell_type": "code",
      "metadata": {
        "id": "wgjUpqdvUIrZ",
        "colab_type": "code",
        "colab": {}
      },
      "source": [
        ""
      ],
      "execution_count": 0,
      "outputs": []
    }
  ]
}