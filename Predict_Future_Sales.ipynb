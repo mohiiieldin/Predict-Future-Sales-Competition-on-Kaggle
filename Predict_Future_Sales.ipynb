{
  "nbformat": 4,
  "nbformat_minor": 0,
  "metadata": {
    "colab": {
      "name": "Predict Future Sales.ipynb",
      "provenance": [],
      "collapsed_sections": [],
      "authorship_tag": "ABX9TyN22PX6LvGZG9vixlqj3dDy",
      "include_colab_link": true
    },
    "kernelspec": {
      "name": "python3",
      "display_name": "Python 3"
    }
  },
  "cells": [
    {
      "cell_type": "markdown",
      "metadata": {
        "id": "view-in-github",
        "colab_type": "text"
      },
      "source": [
        "<a href=\"https://colab.research.google.com/github/mohiiieldin/Predict-Future-Sales-Competition-on-Kaggle/blob/master/Predict_Future_Sales.ipynb\" target=\"_parent\"><img src=\"https://colab.research.google.com/assets/colab-badge.svg\" alt=\"Open In Colab\"/></a>"
      ]
    },
    {
      "cell_type": "code",
      "metadata": {
        "id": "E2ucAX5gRe-h",
        "colab_type": "code",
        "outputId": "3fd0bbbd-22d5-418e-c201-86c328d4cace",
        "colab": {
          "base_uri": "https://localhost:8080/",
          "height": 125
        }
      },
      "source": [
        "from google.colab import drive\n",
        "drive.mount('/content/gdrive')"
      ],
      "execution_count": 1,
      "outputs": [
        {
          "output_type": "stream",
          "text": [
            "Go to this URL in a browser: https://accounts.google.com/o/oauth2/auth?client_id=947318989803-6bn6qk8qdgf4n4g3pfee6491hc0brc4i.apps.googleusercontent.com&redirect_uri=urn%3aietf%3awg%3aoauth%3a2.0%3aoob&response_type=code&scope=email%20https%3a%2f%2fwww.googleapis.com%2fauth%2fdocs.test%20https%3a%2f%2fwww.googleapis.com%2fauth%2fdrive%20https%3a%2f%2fwww.googleapis.com%2fauth%2fdrive.photos.readonly%20https%3a%2f%2fwww.googleapis.com%2fauth%2fpeopleapi.readonly\n",
            "\n",
            "Enter your authorization code:\n",
            "··········\n",
            "Mounted at /content/gdrive\n"
          ],
          "name": "stdout"
        }
      ]
    },
    {
      "cell_type": "code",
      "metadata": {
        "id": "v8_f_sUPTT60",
        "colab_type": "code",
        "colab": {
          "base_uri": "https://localhost:8080/",
          "height": 72
        },
        "outputId": "f6e4c5fe-c77c-472a-bc2b-0fcf5fa54fb2"
      },
      "source": [
        "import pandas as pd\n",
        "import matplotlib.pyplot as plt\n",
        "import numpy as np\n",
        "from numpy import sqrt\n",
        "from datetime import datetime, timedelta,date\n",
        "import seaborn as sns\n",
        "import geopy.distance\n",
        "from sklearn.metrics import mean_squared_error\n",
        "#importing machine learning libraries\n",
        "from sklearn.model_selection import KFold, cross_val_score, train_test_split\n",
        "#from sklearn.metrics import confusion_matrix\n",
        "import sklearn.metrics as metrics\n",
        "\n",
        "#importing regressors\n",
        "from sklearn.ensemble import RandomForestRegressor\n",
        "from xgboost.sklearn import XGBRegressor \n",
        "from sklearn.linear_model import LinearRegression\n",
        "from sklearn.tree import DecisionTreeRegressor\n",
        "from sklearn import svm\n",
        "\n",
        "#ignoring warnings\n",
        "import warnings\n",
        "warnings.filterwarnings(\"ignore\")\n",
        "from sklearn.model_selection import GridSearchCV\n",
        "\n",
        "# time seires staff\n",
        "# time seires staff\n",
        "import statsmodels.api as sm\n",
        "import itertools\n",
        "from statsmodels.tsa.seasonal import seasonal_decompose\n",
        "from statsmodels.tsa.statespace.sarimax import SARIMAX\n",
        "\n",
        "from pandas.plotting import autocorrelation_plot\n",
        "from statsmodels.tsa.stattools import adfuller, acf, pacf,arma_order_select_ic"
      ],
      "execution_count": 2,
      "outputs": [
        {
          "output_type": "stream",
          "text": [
            "/usr/local/lib/python3.6/dist-packages/statsmodels/tools/_testing.py:19: FutureWarning: pandas.util.testing is deprecated. Use the functions in the public API at pandas.testing instead.\n",
            "  import pandas.util.testing as tm\n"
          ],
          "name": "stderr"
        }
      ]
    },
    {
      "cell_type": "code",
      "metadata": {
        "id": "XXkWHiH_TXcB",
        "colab_type": "code",
        "colab": {}
      },
      "source": [
        "# Reading Data\n",
        "item_categories = pd.read_csv(\"/content/gdrive/My Drive/GP Data/item_categories-translated.csv\") \n",
        "items = pd.read_csv(\"/content/gdrive/My Drive/GP Data/items-translated.csv\")\n",
        "sales = pd.read_csv(\"/content/gdrive/My Drive/GP Data/sales_train_v2.csv\")\n",
        "shops = pd.read_csv(\"/content/gdrive/My Drive/GP Data/shops-translated.csv\")\n",
        "test = pd.read_csv(\"/content/gdrive/My Drive/GP Data/test.csv\")\n"
      ],
      "execution_count": 0,
      "outputs": []
    },
    {
      "cell_type": "markdown",
      "metadata": {
        "id": "JWgvhCY1pFQE",
        "colab_type": "text"
      },
      "source": [
        "Let's take a look on the data"
      ]
    },
    {
      "cell_type": "code",
      "metadata": {
        "id": "LVorXmKcVLpI",
        "colab_type": "code",
        "colab": {
          "base_uri": "https://localhost:8080/",
          "height": 585
        },
        "outputId": "a9a2a789-7938-4e3d-f64d-532f15406f5e"
      },
      "source": [
        "print(\"----------Shape of Data----------\")\n",
        "print(sales.shape)\n",
        "print(\"----------first 5 rows----------\")\n",
        "print(sales.head(5))\n",
        "print(\"-----------data frame overview-----------\")\n",
        "print(sales.info())\n",
        "print(\"----------Missing value-----------\")\n",
        "print(sales.isnull().sum())"
      ],
      "execution_count": 4,
      "outputs": [
        {
          "output_type": "stream",
          "text": [
            "----------Shape of Data----------\n",
            "(2935849, 6)\n",
            "----------first 5 rows----------\n",
            "         date  date_block_num  shop_id  item_id  item_price  item_cnt_day\n",
            "0  02.01.2013               0       59    22154      999.00           1.0\n",
            "1  03.01.2013               0       25     2552      899.00           1.0\n",
            "2  05.01.2013               0       25     2552      899.00          -1.0\n",
            "3  06.01.2013               0       25     2554     1709.05           1.0\n",
            "4  15.01.2013               0       25     2555     1099.00           1.0\n",
            "-----------data frame overview-----------\n",
            "<class 'pandas.core.frame.DataFrame'>\n",
            "RangeIndex: 2935849 entries, 0 to 2935848\n",
            "Data columns (total 6 columns):\n",
            " #   Column          Dtype  \n",
            "---  ------          -----  \n",
            " 0   date            object \n",
            " 1   date_block_num  int64  \n",
            " 2   shop_id         int64  \n",
            " 3   item_id         int64  \n",
            " 4   item_price      float64\n",
            " 5   item_cnt_day    float64\n",
            "dtypes: float64(2), int64(3), object(1)\n",
            "memory usage: 134.4+ MB\n",
            "None\n",
            "----------Missing value-----------\n",
            "date              0\n",
            "date_block_num    0\n",
            "shop_id           0\n",
            "item_id           0\n",
            "item_price        0\n",
            "item_cnt_day      0\n",
            "dtype: int64\n"
          ],
          "name": "stdout"
        }
      ]
    },
    {
      "cell_type": "markdown",
      "metadata": {
        "id": "s3gIO6_Xpfwb",
        "colab_type": "text"
      },
      "source": [
        "1) Date "
      ]
    },
    {
      "cell_type": "code",
      "metadata": {
        "id": "0909fTXupKTD",
        "colab_type": "code",
        "colab": {
          "base_uri": "https://localhost:8080/",
          "height": 52
        },
        "outputId": "0603a6fb-98dd-48ff-b9cb-66fc3aa38689"
      },
      "source": [
        "\n",
        "# changing the type of the column into date time, this will ease future feature engineering\n",
        "sales.date = pd.to_datetime(sales.date)\n",
        "print(\"First date --> \" , sales.date.min())\n",
        "print(\"Last date --> \" , sales.date.max())"
      ],
      "execution_count": 5,
      "outputs": [
        {
          "output_type": "stream",
          "text": [
            "First date -->  2013-01-01 00:00:00\n",
            "Last date -->  2015-12-10 00:00:00\n"
          ],
          "name": "stdout"
        }
      ]
    },
    {
      "cell_type": "markdown",
      "metadata": {
        "id": "o9YeQ6dxpezn",
        "colab_type": "text"
      },
      "source": [
        "2) date_block_num"
      ]
    },
    {
      "cell_type": "code",
      "metadata": {
        "id": "nE0XMkn5pVWL",
        "colab_type": "code",
        "colab": {
          "base_uri": "https://localhost:8080/",
          "height": 532
        },
        "outputId": "1c5a5906-f6d6-46d3-e815-7799fe9b2cbd"
      },
      "source": [
        "#what is the number of items soled at each month ?\n",
        "sales_grouped_by_month =  sales.groupby('date_block_num')['item_cnt_day'].sum()\n",
        "plt.figure(figsize=(15,8))\n",
        "plt.title(\"Number of items sold by each month\")\n",
        "plt.xlabel(\"Date_block_num\")\n",
        "plt.ylabel(\"Items_sum\")\n",
        "sns.lineplot(data = sales_grouped_by_month)"
      ],
      "execution_count": 6,
      "outputs": [
        {
          "output_type": "execute_result",
          "data": {
            "text/plain": [
              "<matplotlib.axes._subplots.AxesSubplot at 0x7f4b60655f28>"
            ]
          },
          "metadata": {
            "tags": []
          },
          "execution_count": 6
        },
        {
          "output_type": "display_data",
          "data": {
            "image/png": "[encoded data removed]",
            "text/plain": [
              "<Figure size 1080x576 with 1 Axes>"
            ]
          },
          "metadata": {
            "tags": []
          }
        }
      ]
    },
    {
      "cell_type": "markdown",
      "metadata": {
        "id": "DDAiJMf8pix7",
        "colab_type": "text"
      },
      "source": [
        "3) shop_id"
      ]
    },
    {
      "cell_type": "code",
      "metadata": {
        "id": "GY3NHfXbprUa",
        "colab_type": "code",
        "colab": {}
      },
      "source": [
        "print(\"Nuumber of shops is : \",sales.shop_id.nunique())"
      ],
      "execution_count": 0,
      "outputs": []
    },
    {
      "cell_type": "code",
      "metadata": {
        "id": "-sDVZqYSpuly",
        "colab_type": "code",
        "colab": {
          "base_uri": "https://localhost:8080/",
          "height": 492
        },
        "outputId": "e2ef1c3b-02d3-4447-f38e-8a7e8e20bf4c"
      },
      "source": [
        "# what is the number of items soled at each shop ?\n",
        "items_ordered_grouped_by_shop =  sales.groupby('shop_id')['item_cnt_day'].sum()\n",
        "plt.figure(figsize=(20,8))\n",
        "plt.title(\"Number of items sold by each shop\")\n",
        "plt.xlabel(\"shop_id\")\n",
        "plt.ylabel(\"Items_mean\")\n",
        "sns.barplot(x = sales.shop_id.unique(),y =  items_ordered_grouped_by_shop )"
      ],
      "execution_count": 7,
      "outputs": [
        {
          "output_type": "execute_result",
          "data": {
            "text/plain": [
              "<matplotlib.axes._subplots.AxesSubplot at 0x7f4b601804a8>"
            ]
          },
          "metadata": {
            "tags": []
          },
          "execution_count": 7
        },
        {
          "output_type": "display_data",
          "data": {
            "image/png": "[encoded data removed]",
            "text/plain": [
              "<Figure size 1440x576 with 1 Axes>"
            ]
          },
          "metadata": {
            "tags": []
          }
        }
      ]
    },
    {
      "cell_type": "markdown",
      "metadata": {
        "id": "NuPOKmx8pyKq",
        "colab_type": "text"
      },
      "source": [
        "There is a significant difference between the shops in terms number of ordered items."
      ]
    },
    {
      "cell_type": "markdown",
      "metadata": {
        "id": "3WYw31Ykp2nv",
        "colab_type": "text"
      },
      "source": [
        "4) item_id"
      ]
    },
    {
      "cell_type": "code",
      "metadata": {
        "id": "uPMoKm4QpzTl",
        "colab_type": "code",
        "colab": {}
      },
      "source": [
        "#number of unique items\n",
        "print(sales.item_id.nunique())\n",
        "best_5_items = sales.groupby(\"item_id\")['item_cnt_day'].sum().sort_values(ascending = False ).head(5)\n",
        "items_info = items[items.item_id.isin(best_5_items.index)].sort_values(by = 'item_id')\n",
        "items_info"
      ],
      "execution_count": 0,
      "outputs": []
    },
    {
      "cell_type": "code",
      "metadata": {
        "id": "TAzXgPbFpzb0",
        "colab_type": "code",
        "colab": {}
      },
      "source": [
        "plt.figure(figsize = (20,8))\n",
        "plt.title(\"Most 5 items ordered\")\n",
        "plt.xlabel(\"Item Name\")\n",
        "plt.ylabel(\"Number of ordered items\")\n",
        "sns.barplot(x = items_info.item_name_translated.values , y = best_5_items.values)"
      ],
      "execution_count": 0,
      "outputs": []
    },
    {
      "cell_type": "markdown",
      "metadata": {
        "id": "-IFDxUtRqCz6",
        "colab_type": "text"
      },
      "source": [
        "This is a big number compared to the other !"
      ]
    },
    {
      "cell_type": "markdown",
      "metadata": {
        "id": "JHO6LEgUqMwK",
        "colab_type": "text"
      },
      "source": [
        "5) item_price"
      ]
    },
    {
      "cell_type": "code",
      "metadata": {
        "id": "Mpq9bMyrpzfI",
        "colab_type": "code",
        "colab": {}
      },
      "source": [
        "print(sales.item_price.describe().round(2))\n",
        "plt.figure(figsize = (20 , 8))\n",
        "sns.boxplot(sales.item_price)"
      ],
      "execution_count": 0,
      "outputs": []
    },
    {
      "cell_type": "markdown",
      "metadata": {
        "id": "71tDe5FyqPNj",
        "colab_type": "text"
      },
      "source": [
        "6) item_cnt_day (target variable):"
      ]
    },
    {
      "cell_type": "code",
      "metadata": {
        "id": "OK1CJ-VVpzmW",
        "colab_type": "code",
        "colab": {}
      },
      "source": [
        "print(sales.item_cnt_day.describe().round())\n",
        "plt.figure(figsize = (20 , 8))\n",
        "sns.boxplot(sales.item_cnt_day)"
      ],
      "execution_count": 0,
      "outputs": []
    },
    {
      "cell_type": "markdown",
      "metadata": {
        "id": "439Jb6e5qU58",
        "colab_type": "text"
      },
      "source": [
        "# Time series forcasting"
      ]
    },
    {
      "cell_type": "markdown",
      "metadata": {
        "id": "BcBJMBMrqZy0",
        "colab_type": "text"
      },
      "source": [
        "# 1)Arima ( AutoRegressive Integrated Moving Average )"
      ]
    },
    {
      "cell_type": "code",
      "metadata": {
        "id": "2wD3dSsOpzqF",
        "colab_type": "code",
        "colab": {}
      },
      "source": [
        ""
      ],
      "execution_count": 0,
      "outputs": []
    },
    {
      "cell_type": "markdown",
      "metadata": {
        "id": "XxsZN3IZqiB_",
        "colab_type": "text"
      },
      "source": [
        "# Machine Learning"
      ]
    },
    {
      "cell_type": "code",
      "metadata": {
        "id": "QuUmkd8epzvE",
        "colab_type": "code",
        "colab": {}
      },
      "source": [
        "# Getting ready for the base model\n",
        "base = sales.copy() # leaving the original dataset untouched\n",
        "base = pd.DataFrame(base.groupby(['date_block_num','shop_id','item_id'])['item_cnt_day'].sum())\n",
        "base = base.reset_index() \n",
        "base = base.rename(columns = {'item_cnt_day':'item_cnt_month'})\n",
        "base"
      ],
      "execution_count": 0,
      "outputs": []
    },
    {
      "cell_type": "code",
      "metadata": {
        "id": "Gzkc8-Ltp0Mr",
        "colab_type": "code",
        "colab": {}
      },
      "source": [
        "def get_data_splits(df , split_fraction = 0.2) :\n",
        "    \"\"\"\n",
        "    Splits a dataframe into 80% train, 20% validation but first order by the date_block_num. \n",
        "    \n",
        "    \"\"\"\n",
        "    #df = df.sort_values(by = 'date_block_num') #sort values by the date_clock_num so that the test set is the last period of time\n",
        "    num_of_rows = int(len(df) * split_fraction)\n",
        "    train = df[ :-num_of_rows ]\n",
        "    validation = df[-num_of_rows : ]\n",
        "    \n",
        "    return train, validation"
      ],
      "execution_count": 0,
      "outputs": []
    },
    {
      "cell_type": "code",
      "metadata": {
        "id": "FE61W5dHp0QF",
        "colab_type": "code",
        "colab": {}
      },
      "source": [
        "train, validation = get_data_splits(base)"
      ],
      "execution_count": 0,
      "outputs": []
    },
    {
      "cell_type": "code",
      "metadata": {
        "id": "AFhrAm7Fp0S0",
        "colab_type": "code",
        "colab": {}
      },
      "source": [
        "\n",
        "X_train = train.drop('item_cnt_month' , axis = 1)\n",
        "y_train = train.item_cnt_month\n",
        "\n",
        "X_val = validation.drop('item_cnt_month' , axis = 1)\n",
        "y_val = validation.item_cnt_month\n",
        "\n",
        "\n",
        "models = []\n",
        "models.append(('XGB' , XGBRegressor()) )\n",
        "models.append(('RF' ,RandomForestRegressor(verbose = False ,random_state = 1) ))\n",
        "models.append(('LR' ,LinearRegression() ))\n",
        "for name, model in models :\n",
        "    model.fit(X_train, y_train)\n",
        "    rmse = sqrt( mean_squared_error(model.predict(X_val), y_val ) ) \n",
        "    print(name ,\": \",rmse )\n"
      ],
      "execution_count": 0,
      "outputs": []
    },
    {
      "cell_type": "code",
      "metadata": {
        "id": "fWExkWPzp0Vb",
        "colab_type": "code",
        "colab": {}
      },
      "source": [
        "# These are the values of the base model and wull be improved after every part in the notebook\n",
        "XGB :  7.175706496337836\n",
        "RF :  8.50106502627325\n",
        "LR :  8.036103975520204"
      ],
      "execution_count": 0,
      "outputs": []
    },
    {
      "cell_type": "code",
      "metadata": {
        "id": "bbUcLCTAp0Yv",
        "colab_type": "code",
        "colab": {}
      },
      "source": [
        "# i want to insert in the first position the date_block_num to match the test with the train\n",
        "test.insert(0 , 'date_block_num' , [34 for i in range(0, len(test) )])\n",
        "test = test.drop('ID' , axis= 1)\n",
        "test"
      ],
      "execution_count": 0,
      "outputs": []
    },
    {
      "cell_type": "code",
      "metadata": {
        "id": "xweIO0lop0di",
        "colab_type": "code",
        "colab": {}
      },
      "source": [
        "# submitting to the leaderboard\n",
        "xgb = XGBRegressor(verbose = False , max_depth = 10)\n",
        "xgb.fit(base.drop('item_cnt_month',axis = 1), base.item_cnt_month)\n",
        "preds_xgb = xgb.predict(test)\n",
        "sub = sample_submission\n",
        "sub.item_cnt_month = preds_xgb\n",
        "sub.to_csv('sub.csv' , index = False)"
      ],
      "execution_count": 0,
      "outputs": []
    },
    {
      "cell_type": "markdown",
      "metadata": {
        "id": "KeQ5ukf3rBbn",
        "colab_type": "text"
      },
      "source": [
        "I got about 6 RMSE with the base model"
      ]
    },
    {
      "cell_type": "markdown",
      "metadata": {
        "id": "q2BtWNBTrH7r",
        "colab_type": "text"
      },
      "source": [
        "# Feature Engineering"
      ]
    },
    {
      "cell_type": "code",
      "metadata": {
        "id": "yI96BZVerFk1",
        "colab_type": "code",
        "colab": {}
      },
      "source": [
        "sales1 = base.copy() # Continue on the base model"
      ],
      "execution_count": 0,
      "outputs": []
    },
    {
      "cell_type": "code",
      "metadata": {
        "id": "CI4q45NNrFzz",
        "colab_type": "code",
        "colab": {}
      },
      "source": [
        "# what is the portion of data that has target variable value with more than 20\n",
        "round((len(base[base.item_cnt_month > 20]) / len(base)),3)\n"
      ],
      "execution_count": 0,
      "outputs": []
    },
    {
      "cell_type": "markdown",
      "metadata": {
        "id": "SF1nqCURrTVg",
        "colab_type": "text"
      },
      "source": [
        "item_cnt_day has natural ouliers with values more than 20 and although they represent the real life but they are not a lot and make a lot of niose to the model so i will trim any value more than 20 and we will lose a small fraction of the data anyways\n",
        "\n"
      ]
    },
    {
      "cell_type": "code",
      "metadata": {
        "id": "sXaSi_dArF9y",
        "colab_type": "code",
        "colab": {}
      },
      "source": [
        "sales1 = sales1[sales1.item_cnt_month <= 20]\n",
        "print(sales1.item_cnt_month.describe().round())\n",
        "plt.figure(figsize = (20 , 8))\n",
        "sns.boxplot(sales1.item_cnt_month)\n",
        "plt.show()"
      ],
      "execution_count": 0,
      "outputs": []
    },
    {
      "cell_type": "code",
      "metadata": {
        "id": "gPIqVMSgrF2x",
        "colab_type": "code",
        "colab": {}
      },
      "source": [
        "# Validating after trimming the target variabel\n",
        "train, validation = get_data_splits(sales1)\n",
        "X_train = train.drop('item_cnt_month' , axis = 1)\n",
        "y_train = train.item_cnt_month\n",
        "\n",
        "X_val = validation.drop('item_cnt_month' , axis = 1)\n",
        "y_val = validation.item_cnt_month\n",
        "\n",
        "\n",
        "models = []\n",
        "models.append(('XGB' , XGBRegressor()) )\n",
        "models.append(('tree' ,DecisionTreeRegressor() ))\n",
        "for name, model in models :\n",
        "    model.fit(X_train, y_train)\n",
        "    rmse = sqrt( mean_squared_error(model.predict(X_val), y_val ) ) \n",
        "    print(name ,\": \",rmse )"
      ],
      "execution_count": 0,
      "outputs": []
    },
    {
      "cell_type": "code",
      "metadata": {
        "id": "lFf0A-E_rgN2",
        "colab_type": "code",
        "colab": {}
      },
      "source": [
        "XGB :  1.8130931833250858\n",
        "tree :  2.557620589777995"
      ],
      "execution_count": 0,
      "outputs": []
    },
    {
      "cell_type": "markdown",
      "metadata": {
        "id": "HAZXlpr6rlVY",
        "colab_type": "text"
      },
      "source": [
        "Trimming the target variable improved the performance a lot"
      ]
    },
    {
      "cell_type": "markdown",
      "metadata": {
        "id": "JhzRy-WXrnxg",
        "colab_type": "text"
      },
      "source": [
        "# Mean Encoding"
      ]
    },
    {
      "cell_type": "markdown",
      "metadata": {
        "id": "rg2gcwjlrrW_",
        "colab_type": "text"
      },
      "source": [
        "`Motivation` : the item_id is not ordinal and if we one hot encoded it we will fall in the curse of dimensionality hence mean encoding is needed to solve this trap."
      ]
    },
    {
      "cell_type": "code",
      "metadata": {
        "id": "gCA5tsltrgQo",
        "colab_type": "code",
        "colab": {}
      },
      "source": [
        "from itertools import product # to make cartisien product\n",
        "index_cols = ['shop_id' , 'item_id' , 'date_block_num']\n",
        "grid = []\n",
        "for block_num in sales.date_block_num.unique() : # iterating over the 34 month\n",
        "    curr_shops = sales[sales.date_block_num == block_num]['shop_id'].unique() # get the unique shops in this month\n",
        "    curr_items = sales[sales.date_block_num == block_num]['item_id'].unique() # get the unique items in this month\n",
        "    grid.append(np.array(list(product (*[ curr_shops, curr_items, [block_num]]))))\n",
        "grid = pd.DataFrame(np.vstack(grid) , columns = index_cols ) \n",
        "all_data = grid.merge(sales1 , how = 'left' , on = index_cols).sort_values(index_cols).fillna(0)\n",
        "all_data.info"
      ],
      "execution_count": 0,
      "outputs": []
    },
    {
      "cell_type": "code",
      "metadata": {
        "id": "8BbWaGjDrgTl",
        "colab_type": "code",
        "colab": {}
      },
      "source": [
        "def downcasting(df) :\n",
        "    \"\"\"\n",
        "    make 2 lists onc contains index of float64 columns and the other int64 or int32,\n",
        "    then change the dtype of these column into less memory consumer data type\n",
        "    \"\"\"\n",
        "    float_cols = [ col for col in df if df[col].dtype == \"float64\" ]\n",
        "    int_cols = [col for col in df if df[col].dtype in ['int64','int32']]\n",
        "    df[float_cols] = df[float_cols].astype(np.float32)\n",
        "    df[int_cols] = df[int_cols].astype(np.int16)\n",
        "    return df"
      ],
      "execution_count": 0,
      "outputs": []
    },
    {
      "cell_type": "code",
      "metadata": {
        "id": "35_88BoOrgYM",
        "colab_type": "code",
        "colab": {}
      },
      "source": [
        "all_data = downcasting(all_data)\n",
        "all_data.info()"
      ],
      "execution_count": 0,
      "outputs": []
    },
    {
      "cell_type": "code",
      "metadata": {
        "id": "XssFHI4orgds",
        "colab_type": "code",
        "colab": {}
      },
      "source": [
        "# Mean encoding with The naive method\n",
        "all_data['item_target_enc'] = all_data.groupby('item_id')['item_cnt_month'].transform('mean').fillna()\n",
        "all_data = all_data.fillna(all_data.item_cnt_month.mean() , inplace = True) #  fill na that happend from values in validation not in the train with the global mean   \n",
        "all_data"
      ],
      "execution_count": 0,
      "outputs": []
    },
    {
      "cell_type": "code",
      "metadata": {
        "id": "iLKeWE2crgir",
        "colab_type": "code",
        "colab": {}
      },
      "source": [
        "# Validating the mean encoding\n",
        "train, validation = get_data_splits(all_data.drop('item_id', axis = 1))\n",
        "X_train = train.drop('item_cnt_month' , axis = 1)\n",
        "y_train = train.item_cnt_month\n",
        "\n",
        "X_val = validation.drop('item_cnt_month' , axis = 1)\n",
        "y_val = validation.item_cnt_month\n",
        "\n",
        "\n",
        "models = []\n",
        "models.append(('XGB' , XGBRegressor()) )\n",
        "for name, model in models :\n",
        "    model.fit(X_train, y_train)\n",
        "    rmse = sqrt( mean_squared_error(model.predict(X_val), y_val ) ) \n",
        "    print(name ,\": \",rmse )"
      ],
      "execution_count": 0,
      "outputs": []
    },
    {
      "cell_type": "code",
      "metadata": {
        "id": "WksXoD7trgmP",
        "colab_type": "code",
        "colab": {}
      },
      "source": [
        "XGB :  1.114534640907537"
      ],
      "execution_count": 0,
      "outputs": []
    },
    {
      "cell_type": "markdown",
      "metadata": {
        "id": "VaRKFDvesCrG",
        "colab_type": "text"
      },
      "source": [
        "It worked will in decreased the RMSE"
      ]
    },
    {
      "cell_type": "code",
      "metadata": {
        "id": "nowRGSx0rgo5",
        "colab_type": "code",
        "colab": {}
      },
      "source": [
        "all_data.drop('item_target_enc',axis = 1 , inplace = True)\n"
      ],
      "execution_count": 0,
      "outputs": []
    },
    {
      "cell_type": "markdown",
      "metadata": {
        "id": "KSmwRUQVsNkF",
        "colab_type": "text"
      },
      "source": [
        "Working with regularized mean encoding in order to decrease the leakage"
      ]
    },
    {
      "cell_type": "code",
      "metadata": {
        "id": "oom77WQurgwB",
        "colab_type": "code",
        "colab": {}
      },
      "source": [
        "from sklearn.model_selection import KFold\n",
        "kf = KFold(n_splits = 5 , shuffle = False)\n",
        "for train_ind, val_ind in kf.split(all_data) :\n",
        "    train_data , val_data = all_data.iloc[train_ind], all_data.iloc[val_ind]\n",
        "    all_data.loc[all_data.index[val_ind] , 'item_target_enc'] = val_data['item_id'].map(train_data.groupby('item_id')['item_cnt_month'].mean())\n",
        "    \n",
        "all_data['item_target_enc'].fillna(all_data.item_cnt_month.mean(), inplace=True) # fill na that happend from values in validation not in the train with the global mean    "
      ],
      "execution_count": 0,
      "outputs": []
    },
    {
      "cell_type": "code",
      "metadata": {
        "id": "Vwy8iREZrgtr",
        "colab_type": "code",
        "colab": {}
      },
      "source": [
        "# making a column to map it to the test set\n",
        "item_mean_enc = all_data.groupby('item_id')['item_target_enc'].unique()\n",
        "item_mean_enc = item_mean_enc.apply(lambda x: x.mean())\n",
        "\n",
        "test['item_target_enc'] = test['item_id'].map(item_mean_enc) # mapping the variable in the test \n",
        "test.fillna(all_data.item_cnt_month.mean() , inplace = True)\n",
        "test"
      ],
      "execution_count": 0,
      "outputs": []
    },
    {
      "cell_type": "code",
      "metadata": {
        "id": "MoB54iyvrgsK",
        "colab_type": "code",
        "colab": {}
      },
      "source": [
        "# sorting the columns names in train and test dataframse in the same order\n",
        "all_data = all_data.reindex(sorted(all_data.columns), axis=1)\n",
        "test = test.reindex(sorted(test.columns), axis=1)"
      ],
      "execution_count": 0,
      "outputs": []
    },
    {
      "cell_type": "code",
      "metadata": {
        "id": "tRs0xC5trghY",
        "colab_type": "code",
        "colab": {}
      },
      "source": [
        "xgb = XGBRegressor(verbose = False )\n",
        "xgb.fit(all_data_lags.drop(['item_cnt_month','item_id'],axis = 1), all_data.item_cnt_month)"
      ],
      "execution_count": 0,
      "outputs": []
    },
    {
      "cell_type": "code",
      "metadata": {
        "id": "6P0Y_9PvrgbY",
        "colab_type": "code",
        "colab": {}
      },
      "source": [
        "# submitting in the leaderboard\n",
        "preds_xgb = xgb.predict(test_lags1.drop('item_id',axis = 1))\n",
        "sub = sample_submission\n",
        "sub.item_cnt_month = preds_xgb\n",
        "sub.to_csv('xgb_lags.csv' , index = False)"
      ],
      "execution_count": 0,
      "outputs": []
    },
    {
      "cell_type": "code",
      "metadata": {
        "id": "gtzL5mjcrgWf",
        "colab_type": "code",
        "colab": {}
      },
      "source": [
        "XGB : 1.09881"
      ],
      "execution_count": 0,
      "outputs": []
    },
    {
      "cell_type": "markdown",
      "metadata": {
        "id": "855rYcG6uwku",
        "colab_type": "text"
      },
      "source": [
        "# Adding lags"
      ]
    },
    {
      "cell_type": "code",
      "metadata": {
        "id": "BmAyxrEAuzlP",
        "colab_type": "code",
        "colab": {}
      },
      "source": [
        "all_data_lags = all_data.copy()\n",
        "lag_list = [1, 2, 3 ]\n",
        "for lag in lag_list:\n",
        "    all_data_lags['item_cnt_month_lag' + str(lag)] =  all_data_lags.item_cnt_month.shift(lag , axis = 0)\n",
        "base2.fillna(0 , inplace = True)    "
      ],
      "execution_count": 0,
      "outputs": []
    },
    {
      "cell_type": "code",
      "metadata": {
        "id": "rMx80OpUu6UC",
        "colab_type": "code",
        "colab": {}
      },
      "source": [
        "lag_list = [1, 2, 3]\n",
        "all_data_lags = all_data.copy()\n",
        "\n",
        "for lag in lag_list:\n",
        "    ft_name = ('itemm_cnt_month_shifted%s' % lag)\n",
        "    all_data_lags[ft_name] = all_data_lags.sort_values('date_block_num').groupby(['shop_id','item_id'])['item_cnt_month'].shift(lag)\n",
        "    # Fill the empty shifted features with 0\n",
        "    all_data_lags[ft_name].fillna(0, inplace=True)"
      ],
      "execution_count": 0,
      "outputs": []
    },
    {
      "cell_type": "code",
      "metadata": {
        "id": "X7WVfpYNu8P-",
        "colab_type": "code",
        "colab": {}
      },
      "source": [
        "all_data_lags[all_data_lags.item_id ==13881 ].sort_values(['date_block_num','shop_id']).tail(60)"
      ],
      "execution_count": 0,
      "outputs": []
    },
    {
      "cell_type": "code",
      "metadata": {
        "id": "ypUjl1E3u8uN",
        "colab_type": "code",
        "colab": {}
      },
      "source": [
        "lag_list = [1, 2, 3]\n",
        "subset_data = all_data[(all_data.date_block_num ==33) | (all_data.date_block_num ==32)| (all_data.date_block_num ==31)]\n",
        "test_lags = test.copy()\n",
        "for lag in lag_list:\n",
        "    ft_name = ('itemm_cnt_month_shifted%s' % lag)\n",
        "    test_lags[ft_name] = subset_data.sort_values('date_block_num').groupby(['shop_id','item_id'])['item_cnt_month'].shift(lag)\n",
        "    # Fill the empty shifted features with 0\n",
        "    #all_data_lags[ft_name].fillna(0, inplace=True)"
      ],
      "execution_count": 0,
      "outputs": []
    },
    {
      "cell_type": "code",
      "metadata": {
        "id": "93gJp-Dqu8zg",
        "colab_type": "code",
        "colab": {}
      },
      "source": [
        "def get_test_lags(all_data , test, lag) :\n",
        "    \n",
        "    shifted = test[['date_block_num','shop_id','item_id', 'item_cnt_month']]\n",
        "    shifted.columns = ['date_block_num','shop_id','item_id', 'itemm_cnt_month_shifted'+ str(lag)]\n",
        "    shifted['date_block_num'] += lag\n",
        "    test_lag = pd.merge(all_data, shifted, on=['date_block_num','shop_id','item_id'] , how = 'left')\n",
        "    return test_lag['itemm_cnt_month_shifted'+ str(lag)] #return the last column (the lags) "
      ],
      "execution_count": 0,
      "outputs": []
    },
    {
      "cell_type": "code",
      "metadata": {
        "id": "Wyu-WqMju8-y",
        "colab_type": "code",
        "colab": {}
      },
      "source": [
        "test_lags = test.copy()\n",
        "all_data_l = all_data_lags.copy()\n",
        "all_data_l['date_block_num'] += 1\n",
        "test_lags1 = test_lags.merge(all_data_l[['date_block_num','shop_id','item_id', 'item_cnt_month','itemm_cnt_month_shifted1','itemm_cnt_month_shifted2']] , how = 'left' , on =['date_block_num', 'item_id','shop_id'] )\n",
        "test_lags1 = test_lags1.rename(columns = {'item_cnt_month':'itemm_cnt_month_shifted1' , 'itemm_cnt_month_shifted1':'itemm_cnt_month_shifted2','itemm_cnt_month_shifted2':'itemm_cnt_month_shifted3'})"
      ],
      "execution_count": 0,
      "outputs": []
    },
    {
      "cell_type": "code",
      "metadata": {
        "id": "DlGOHdIBu9D5",
        "colab_type": "code",
        "colab": {}
      },
      "source": [
        "test_lags1.fillna(0,inplace = True)"
      ],
      "execution_count": 0,
      "outputs": []
    },
    {
      "cell_type": "code",
      "metadata": {
        "id": "9f59JDZeu9G6",
        "colab_type": "code",
        "colab": {}
      },
      "source": [
        "test_lags = test.copy()\n",
        "test_lags[item_cnt_month] = 0\n",
        "for lag in range(1,4):\n",
        "    lag_values = get_test_lags(all_data ,test_lags, lag)\n",
        "    test_lags['itemm_cnt_month_shifted'+ str(lag)] = lag_values"
      ],
      "execution_count": 0,
      "outputs": []
    },
    {
      "cell_type": "markdown",
      "metadata": {
        "id": "vGec28DivTBb",
        "colab_type": "text"
      },
      "source": [
        "Adding category id"
      ]
    },
    {
      "cell_type": "code",
      "metadata": {
        "id": "Ld9slT6Yu9CT",
        "colab_type": "code",
        "colab": {}
      },
      "source": [
        "all_data_lags = all_data_lags.merge(items[['item_id','item_category_id']])\n",
        "all_data_lags"
      ],
      "execution_count": 0,
      "outputs": []
    },
    {
      "cell_type": "code",
      "metadata": {
        "id": "Z9zN0bTau871",
        "colab_type": "code",
        "colab": {}
      },
      "source": [
        ""
      ],
      "execution_count": 0,
      "outputs": []
    },
    {
      "cell_type": "markdown",
      "metadata": {
        "id": "XSkmsQMdvdUC",
        "colab_type": "text"
      },
      "source": [
        "# hyper paramter tuning"
      ]
    },
    {
      "cell_type": "code",
      "metadata": {
        "id": "4FdaHI3Fu85R",
        "colab_type": "code",
        "colab": {}
      },
      "source": [
        "from scipy import stats\n",
        "kfold = KFold(n_splits=5, random_state=0 , shuffle = False)\n",
        "param_dist = {'n_estimators': stats.randint(100, 1000),\n",
        "              'learning_rate': stats.uniform(0.01, 0.6),\n",
        "              'subsample': stats.uniform(0.3, 0.9),\n",
        "              'max_depth': [5, 6, 7, 8, 9,10,11,12],\n",
        "              'colsample_bytree': stats.uniform(0.5, 0.9),\n",
        "              'min_child_weight': [1, 2, 3, 4]\n",
        "             }\n",
        "\n",
        "xgb_model = XGBRegressor()\n",
        "grid_search = RandomizedSearchCV(estimator = xgb_model, param_distributions = param_dist, n_jobs=-1 ,iid=False,\n",
        "                                 verbose=10,scoring='neg_mean_squared_error' , cv=kfold,)\n",
        "model = grid_search.fit(train , )\n",
        "\n",
        "print('best params')\n",
        "print (grid_search.best_params_)\n",
        "print('best score')\n",
        "print (grid_search.best_score_)\n"
      ],
      "execution_count": 0,
      "outputs": []
    },
    {
      "cell_type": "code",
      "metadata": {
        "id": "fpWt743iu83a",
        "colab_type": "code",
        "colab": {}
      },
      "source": [
        ""
      ],
      "execution_count": 0,
      "outputs": []
    },
    {
      "cell_type": "code",
      "metadata": {
        "id": "CfsIHbO2u8xs",
        "colab_type": "code",
        "colab": {}
      },
      "source": [
        "#from sklearn.feature_selection import SelectKBest, chi2\n",
        "#from sklearn.metrics import accuracy_score, make_scorer\n",
        "from sklearn.metrics import mean_squared_error\n",
        "\n",
        "clf = XGBRegressor(random_state=0 )\n",
        "search_space = [\n",
        "  {\n",
        "    'clf__n_estimators': [ 500 , 600 , 700 , 800 , 900 ],\n",
        "    'clf__learning_rate': [0.01, 0.1, 0.2, 0.3],\n",
        "    'clf__max_depth': range(3, 8),\n",
        "    'clf__colsample_bytree': [i/10.0 for i in range(1, 3)],\n",
        "    'clf__gamma': [i/10.0 for i in range(3)],\n",
        "    'fs__k': [10],\n",
        "  }\n",
        "]\n",
        "# Define cross validation\n",
        "kfold = KFold(n_splits=5, random_state=0 , shuffle = False)\n",
        "\n",
        "scoring = 'neg_mean_squared_error'\n",
        "# Define grid search\n",
        "grid = RandomizedSearchCV(\n",
        "  estimator = clf,\n",
        "  param_grid=search_space,\n",
        "  cv=kfold,\n",
        "  scoring='neg_mean_squared_error',\n",
        "  verbose=1,\n",
        "  refit = True,\n",
        "  n_jobs=-1\n",
        ")\n",
        "# Fit grid search\n",
        "model = grid.fit(base.drop('item_cnt_month', axis = 1), base.item_cnt_month)\n",
        "print('Best RMSE Score: {}'.format(model.best_score_))"
      ],
      "execution_count": 0,
      "outputs": []
    },
    {
      "cell_type": "code",
      "metadata": {
        "id": "ljNgKHBRvqfn",
        "colab_type": "code",
        "colab": {}
      },
      "source": [
        "preds = model.predict(test)\n",
        "sub = sample_submission\n",
        "sub.item_cnt_month = preds\n",
        "sub1.to_csv('C:\\\\Users\\\\Mohie eldin\\\\Desktop\\\\sub.csv' , index = False)"
      ],
      "execution_count": 0,
      "outputs": []
    },
    {
      "cell_type": "code",
      "metadata": {
        "id": "0cdpG9pFvqpi",
        "colab_type": "code",
        "colab": {}
      },
      "source": [
        ""
      ],
      "execution_count": 0,
      "outputs": []
    },
    {
      "cell_type": "code",
      "metadata": {
        "id": "oZVNGtD1vqnI",
        "colab_type": "code",
        "colab": {}
      },
      "source": [
        ""
      ],
      "execution_count": 0,
      "outputs": []
    },
    {
      "cell_type": "code",
      "metadata": {
        "id": "b_A6pULjvqlN",
        "colab_type": "code",
        "colab": {}
      },
      "source": [
        ""
      ],
      "execution_count": 0,
      "outputs": []
    },
    {
      "cell_type": "code",
      "metadata": {
        "id": "a5Jr0JQAvqjw",
        "colab_type": "code",
        "colab": {}
      },
      "source": [
        ""
      ],
      "execution_count": 0,
      "outputs": []
    }
  ]
}