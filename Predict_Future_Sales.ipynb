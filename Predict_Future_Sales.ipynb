{
  "nbformat": 4,
  "nbformat_minor": 0,
  "metadata": {
    "colab": {
      "name": "Predict Future Sales.ipynb",
      "provenance": [],
      "collapsed_sections": [
        "BcBJMBMrqZy0"
      ],
      "toc_visible": true,
      "machine_shape": "hm",
      "include_colab_link": true
    },
    "kernelspec": {
      "name": "python3",
      "display_name": "Python 3"
    }
  },
  "cells": [
    {
      "cell_type": "markdown",
      "metadata": {
        "id": "view-in-github",
        "colab_type": "text"
      },
      "source": [
        "<a href=\"https://colab.research.google.com/github/mohiiieldin/Predict-Future-Sales-Competition-on-Kaggle-Python-/blob/master/Predict_Future_Sales.ipynb\" target=\"_parent\"><img src=\"https://colab.research.google.com/assets/colab-badge.svg\" alt=\"Open In Colab\"/></a>"
      ]
    },
    {
      "cell_type": "code",
      "metadata": {
        "id": "E2ucAX5gRe-h",
        "colab_type": "code",
        "outputId": "601d3eb7-7739-4aa5-b730-6287a34b8f20",
        "colab": {
          "base_uri": "https://localhost:8080/",
          "height": 54
        }
      },
      "source": [
        "from google.colab import drive\n",
        "drive.mount('/content/gdrive')"
      ],
      "execution_count": 1,
      "outputs": [
        {
          "output_type": "stream",
          "text": [
            "Drive already mounted at /content/gdrive; to attempt to forcibly remount, call drive.mount(\"/content/gdrive\", force_remount=True).\n"
          ],
          "name": "stdout"
        }
      ]
    },
    {
      "cell_type": "code",
      "metadata": {
        "id": "v8_f_sUPTT60",
        "colab_type": "code",
        "outputId": "cd28690d-27db-4b17-a895-1f1383597592",
        "colab": {
          "base_uri": "https://localhost:8080/",
          "height": 71
        }
      },
      "source": [
        "import pandas as pd\n",
        "import matplotlib.pyplot as plt\n",
        "import numpy as np\n",
        "from numpy import sqrt\n",
        "from datetime import datetime, timedelta,date\n",
        "import seaborn as sns\n",
        "from sklearn.metrics import mean_squared_error\n",
        "#importing machine learning libraries\n",
        "import pickle\n",
        "import gc # to free some space from the memory\n",
        "from sklearn.model_selection import KFold\n",
        "\n",
        "\n",
        "#importing regressors\n",
        "from sklearn.ensemble import RandomForestRegressor\n",
        "from xgboost import XGBRegressor \n",
        "from xgboost import plot_importance\n",
        "from lightgbm import plot_importance\n",
        "from sklearn.linear_model import LinearRegression\n",
        "from sklearn.tree import DecisionTreeRegressor\n",
        "from lightgbm import LGBMRegressor\n",
        "from sklearn.neighbors import KNeighborsRegressor\n",
        "from sklearn.naive_bayes import GaussianNB\n",
        "\n",
        "\n",
        "from sklearn.feature_selection import SelectFromModel\n",
        "\n",
        "#ignoring warnings\n",
        "import warnings\n",
        "warnings.filterwarnings(\"ignore\")\n",
        "from sklearn.model_selection import GridSearchCV\n",
        "\n",
        "# time seires staff\n",
        "import statsmodels.api as sm\n",
        "import itertools\n",
        "from statsmodels.tsa.seasonal import seasonal_decompose\n",
        "from statsmodels.tsa.statespace.sarimax import SARIMAX\n",
        "\n",
        "from pandas.plotting import autocorrelation_plot\n",
        "from statsmodels.tsa.stattools import adfuller, acf, pacf,arma_order_select_ic\n",
        "\n",
        "plt.style.use('ggplot') # plots style\n",
        "# fixing the seed so that the code is reproduceable\n",
        "random_state = 1"
      ],
      "execution_count": 2,
      "outputs": [
        {
          "output_type": "stream",
          "text": [
            "/usr/local/lib/python3.6/dist-packages/statsmodels/tools/_testing.py:19: FutureWarning: pandas.util.testing is deprecated. Use the functions in the public API at pandas.testing instead.\n",
            "  import pandas.util.testing as tm\n"
          ],
          "name": "stderr"
        }
      ]
    },
    {
      "cell_type": "code",
      "metadata": {
        "id": "XXkWHiH_TXcB",
        "colab_type": "code",
        "colab": {}
      },
      "source": [
        "# Reading Data\n",
        "item_categories = pd.read_csv(\"/content/gdrive/My Drive/GP Data/item_categories-translated.csv\") \n",
        "items = pd.read_csv(\"/content/gdrive/My Drive/GP Data/items-translated.csv\")\n",
        "sales = pd.read_csv(\"/content/gdrive/My Drive/GP Data/sales_train_v2.csv\")\n",
        "shops = pd.read_csv(\"/content/gdrive/My Drive/GP Data/shops-translated.csv\")\n",
        "test = pd.read_csv(\"/content/gdrive/My Drive/GP Data/test.csv\")\n",
        "sample_submission = pd.read_csv('/content/gdrive/My Drive/GP Data/sample_submission.csv')"
      ],
      "execution_count": 0,
      "outputs": []
    },
    {
      "cell_type": "markdown",
      "metadata": {
        "id": "JWgvhCY1pFQE",
        "colab_type": "text"
      },
      "source": [
        "Let's take a look on the data"
      ]
    },
    {
      "cell_type": "code",
      "metadata": {
        "id": "LVorXmKcVLpI",
        "colab_type": "code",
        "outputId": "e1e3c327-31d4-41cd-de0f-997bfbfe329d",
        "colab": {
          "base_uri": "https://localhost:8080/",
          "height": 561
        }
      },
      "source": [
        "print(\"----------Shape of Data----------\")\n",
        "print(sales.shape)\n",
        "print(\"----------first 5 rows----------\")\n",
        "print(sales.head(5))\n",
        "print(\"-----------data frame overview-----------\")\n",
        "print(sales.info())\n",
        "print(\"----------Missing value-----------\")\n",
        "print(sales.isnull().sum())"
      ],
      "execution_count": 0,
      "outputs": [
        {
          "output_type": "stream",
          "text": [
            "----------Shape of Data----------\n",
            "(2935849, 6)\n",
            "----------first 5 rows----------\n",
            "         date  date_block_num  shop_id  item_id  item_price  item_cnt_day\n",
            "0  02.01.2013               0       59    22154      999.00           1.0\n",
            "1  03.01.2013               0       25     2552      899.00           1.0\n",
            "2  05.01.2013               0       25     2552      899.00          -1.0\n",
            "3  06.01.2013               0       25     2554     1709.05           1.0\n",
            "4  15.01.2013               0       25     2555     1099.00           1.0\n",
            "-----------data frame overview-----------\n",
            "<class 'pandas.core.frame.DataFrame'>\n",
            "RangeIndex: 2935849 entries, 0 to 2935848\n",
            "Data columns (total 6 columns):\n",
            " #   Column          Dtype  \n",
            "---  ------          -----  \n",
            " 0   date            object \n",
            " 1   date_block_num  int64  \n",
            " 2   shop_id         int64  \n",
            " 3   item_id         int64  \n",
            " 4   item_price      float64\n",
            " 5   item_cnt_day    float64\n",
            "dtypes: float64(2), int64(3), object(1)\n",
            "memory usage: 134.4+ MB\n",
            "None\n",
            "----------Missing value-----------\n",
            "date              0\n",
            "date_block_num    0\n",
            "shop_id           0\n",
            "item_id           0\n",
            "item_price        0\n",
            "item_cnt_day      0\n",
            "dtype: int64\n"
          ],
          "name": "stdout"
        }
      ]
    },
    {
      "cell_type": "markdown",
      "metadata": {
        "id": "s3gIO6_Xpfwb",
        "colab_type": "text"
      },
      "source": [
        "1) Date "
      ]
    },
    {
      "cell_type": "code",
      "metadata": {
        "id": "0909fTXupKTD",
        "colab_type": "code",
        "outputId": "0b01d0f8-9b18-4792-d117-cb8f1543f6c6",
        "colab": {
          "base_uri": "https://localhost:8080/",
          "height": 51
        }
      },
      "source": [
        "# changing the type of the column into date time, this will ease future feature engineering\n",
        "sales.date = pd.to_datetime(sales.date)\n",
        "print(\"First date --> \" , sales.date.min())\n",
        "print(\"Last date --> \" , sales.date.max())"
      ],
      "execution_count": 0,
      "outputs": [
        {
          "output_type": "stream",
          "text": [
            "First date -->  2013-01-01 00:00:00\n",
            "Last date -->  2015-12-10 00:00:00\n"
          ],
          "name": "stdout"
        }
      ]
    },
    {
      "cell_type": "markdown",
      "metadata": {
        "id": "o9YeQ6dxpezn",
        "colab_type": "text"
      },
      "source": [
        "2) date_block_num"
      ]
    },
    {
      "cell_type": "code",
      "metadata": {
        "id": "nE0XMkn5pVWL",
        "colab_type": "code",
        "outputId": "12bbb4ea-03d0-49ef-d810-598d669f5344",
        "colab": {
          "base_uri": "https://localhost:8080/",
          "height": 534
        }
      },
      "source": [
        "#what is the number of items soled at each month ?\n",
        "sales_grouped_by_month =  sales.groupby('date_block_num')['item_cnt_day'].sum()\n",
        "plt.figure(figsize=(15,8))\n",
        "plt.title(\"Number of items sold by each month\")\n",
        "plt.xlabel(\"Date_block_num\")\n",
        "plt.ylabel(\"Items_sum\")\n",
        "sns.lineplot(data = sales_grouped_by_month)"
      ],
      "execution_count": 0,
      "outputs": [
        {
          "output_type": "execute_result",
          "data": {
            "text/plain": [
              "<matplotlib.axes._subplots.AxesSubplot at 0x7f19d89aa588>"
            ]
          },
          "metadata": {
            "tags": []
          },
          "execution_count": 10
        },
        {
          "output_type": "display_data",
          "data": {
            "image/png": "[encoded data removed]",
            "text/plain": [
              "<Figure size 1080x576 with 1 Axes>"
            ]
          },
          "metadata": {
            "tags": []
          }
        }
      ]
    },
    {
      "cell_type": "markdown",
      "metadata": {
        "id": "DDAiJMf8pix7",
        "colab_type": "text"
      },
      "source": [
        "3) shop_id"
      ]
    },
    {
      "cell_type": "code",
      "metadata": {
        "id": "GY3NHfXbprUa",
        "colab_type": "code",
        "outputId": "881f4b55-aa5c-4248-c0c3-3e2f63f2df6e",
        "colab": {
          "base_uri": "https://localhost:8080/",
          "height": 34
        }
      },
      "source": [
        "print(\"Nuumber of shops is : \",sales.shop_id.nunique())"
      ],
      "execution_count": 0,
      "outputs": [
        {
          "output_type": "stream",
          "text": [
            "Nuumber of shops is :  60\n"
          ],
          "name": "stdout"
        }
      ]
    },
    {
      "cell_type": "code",
      "metadata": {
        "id": "-sDVZqYSpuly",
        "colab_type": "code",
        "outputId": "abf8403d-b522-4e7b-8ddd-71285ca8935a",
        "colab": {
          "base_uri": "https://localhost:8080/",
          "height": 430
        }
      },
      "source": [
        "# what is the number of items soled at each shop ?\n",
        "items_ordered_grouped_by_shop =  sales.groupby('shop_id')['item_cnt_day'].sum()\n",
        "plt.figure(figsize=(20,8))\n",
        "plt.title(\"Number of items sold by each shop\")\n",
        "plt.xlabel(\"shop_id\")\n",
        "plt.ylabel(\"Items_mean\")\n",
        "sns.barplot(x = sales.shop_id.unique(),y =  items_ordered_grouped_by_shop )"
      ],
      "execution_count": 0,
      "outputs": [
        {
          "output_type": "execute_result",
          "data": {
            "text/plain": [
              "<matplotlib.axes._subplots.AxesSubplot at 0x7f19d7d96080>"
            ]
          },
          "metadata": {
            "tags": []
          },
          "execution_count": 11
        },
        {
          "output_type": "display_data",
          "data": {
            "image/png": "[encoded data removed]",
            "text/plain": [
              "<Figure size 1440x576 with 1 Axes>"
            ]
          },
          "metadata": {
            "tags": []
          }
        }
      ]
    },
    {
      "cell_type": "markdown",
      "metadata": {
        "id": "NuPOKmx8pyKq",
        "colab_type": "text"
      },
      "source": [
        "There is a significant difference between the shops in terms number of ordered items."
      ]
    },
    {
      "cell_type": "markdown",
      "metadata": {
        "id": "3WYw31Ykp2nv",
        "colab_type": "text"
      },
      "source": [
        "4) item_id"
      ]
    },
    {
      "cell_type": "code",
      "metadata": {
        "id": "uPMoKm4QpzTl",
        "colab_type": "code",
        "outputId": "938908c5-d46e-40fa-e2cd-1d183e473e56",
        "colab": {
          "base_uri": "https://localhost:8080/",
          "height": 221
        }
      },
      "source": [
        "#number of unique items\n",
        "print(sales.item_id.nunique())\n",
        "best_5_items = sales.groupby(\"item_id\")['item_cnt_day'].sum().sort_values(ascending = False ).head(5)\n",
        "items_info = items[items.item_id.isin(best_5_items.index)].sort_values(by = 'item_id')\n",
        "items_info"
      ],
      "execution_count": 0,
      "outputs": [
        {
          "output_type": "stream",
          "text": [
            "21807\n"
          ],
          "name": "stdout"
        },
        {
          "output_type": "execute_result",
          "data": {
            "text/html": [
              "<div>\n",
              "<style scoped>\n",
              "    .dataframe tbody tr th:only-of-type {\n",
              "        vertical-align: middle;\n",
              "    }\n",
              "\n",
              "    .dataframe tbody tr th {\n",
              "        vertical-align: top;\n",
              "    }\n",
              "\n",
              "    .dataframe thead th {\n",
              "        text-align: right;\n",
              "    }\n",
              "</style>\n",
              "<table border=\"1\" class=\"dataframe\">\n",
              "  <thead>\n",
              "    <tr style=\"text-align: right;\">\n",
              "      <th></th>\n",
              "      <th>item_id</th>\n",
              "      <th>item_category_id</th>\n",
              "      <th>item_name_translated</th>\n",
              "    </tr>\n",
              "  </thead>\n",
              "  <tbody>\n",
              "    <tr>\n",
              "      <th>2808</th>\n",
              "      <td>2808</td>\n",
              "      <td>30</td>\n",
              "      <td>Diablo III [PC, Jewel, Russian version]</td>\n",
              "    </tr>\n",
              "    <tr>\n",
              "      <th>3732</th>\n",
              "      <td>3732</td>\n",
              "      <td>19</td>\n",
              "      <td>Grand Theft Auto V [PS3, Russian subtitles]</td>\n",
              "    </tr>\n",
              "    <tr>\n",
              "      <th>5822</th>\n",
              "      <td>5822</td>\n",
              "      <td>35</td>\n",
              "      <td>Playstation Store replenishment of wallet: Pay...</td>\n",
              "    </tr>\n",
              "    <tr>\n",
              "      <th>17717</th>\n",
              "      <td>17717</td>\n",
              "      <td>79</td>\n",
              "      <td>Acceptance of funds for 1C-Online</td>\n",
              "    </tr>\n",
              "    <tr>\n",
              "      <th>20949</th>\n",
              "      <td>20949</td>\n",
              "      <td>71</td>\n",
              "      <td>Corporate package T-shirt 1C Interest white (3...</td>\n",
              "    </tr>\n",
              "  </tbody>\n",
              "</table>\n",
              "</div>"
            ],
            "text/plain": [
              "       item_id  ...                               item_name_translated\n",
              "2808      2808  ...            Diablo III [PC, Jewel, Russian version]\n",
              "3732      3732  ...        Grand Theft Auto V [PS3, Russian subtitles]\n",
              "5822      5822  ...  Playstation Store replenishment of wallet: Pay...\n",
              "17717    17717  ...                  Acceptance of funds for 1C-Online\n",
              "20949    20949  ...  Corporate package T-shirt 1C Interest white (3...\n",
              "\n",
              "[5 rows x 3 columns]"
            ]
          },
          "metadata": {
            "tags": []
          },
          "execution_count": 4
        }
      ]
    },
    {
      "cell_type": "code",
      "metadata": {
        "id": "TAzXgPbFpzb0",
        "colab_type": "code",
        "outputId": "aaf49f16-08fb-40cf-e589-80517a4e6656",
        "colab": {
          "base_uri": "https://localhost:8080/",
          "height": 414
        }
      },
      "source": [
        "plt.figure(figsize = (20,8))\n",
        "plt.title(\"Most 5 items ordered\")\n",
        "plt.xlabel(\"Item Name\")\n",
        "plt.ylabel(\"Number of ordered items\")\n",
        "sns.barplot(x = items_info.item_name_translated.values , y = best_5_items.values)"
      ],
      "execution_count": 0,
      "outputs": [
        {
          "output_type": "execute_result",
          "data": {
            "text/plain": [
              "<matplotlib.axes._subplots.AxesSubplot at 0x7f2bbc00ed30>"
            ]
          },
          "metadata": {
            "tags": []
          },
          "execution_count": 5
        },
        {
          "output_type": "display_data",
          "data": {
            "image/png": "[encoded data removed]",
            "text/plain": [
              "<Figure size 1440x576 with 1 Axes>"
            ]
          },
          "metadata": {
            "tags": []
          }
        }
      ]
    },
    {
      "cell_type": "markdown",
      "metadata": {
        "id": "-IFDxUtRqCz6",
        "colab_type": "text"
      },
      "source": [
        "This is a big number compared to the other !"
      ]
    },
    {
      "cell_type": "markdown",
      "metadata": {
        "id": "JHO6LEgUqMwK",
        "colab_type": "text"
      },
      "source": [
        "5) item_price"
      ]
    },
    {
      "cell_type": "code",
      "metadata": {
        "id": "Mpq9bMyrpzfI",
        "colab_type": "code",
        "outputId": "e017f731-7021-49b3-9692-b89be1539cf9",
        "colab": {
          "base_uri": "https://localhost:8080/",
          "height": 589
        }
      },
      "source": [
        "print(sales.item_price.describe().round(2))\n",
        "plt.figure(figsize = (20 , 8))\n",
        "sns.boxplot(sales.item_price)"
      ],
      "execution_count": 0,
      "outputs": [
        {
          "output_type": "stream",
          "text": [
            "count    2935849.00\n",
            "mean         890.85\n",
            "std         1729.80\n",
            "min           -1.00\n",
            "25%          249.00\n",
            "50%          399.00\n",
            "75%          999.00\n",
            "max       307980.00\n",
            "Name: item_price, dtype: float64\n"
          ],
          "name": "stdout"
        },
        {
          "output_type": "execute_result",
          "data": {
            "text/plain": [
              "<matplotlib.axes._subplots.AxesSubplot at 0x7f07c15ffc18>"
            ]
          },
          "metadata": {
            "tags": []
          },
          "execution_count": 3
        },
        {
          "output_type": "display_data",
          "data": {
            "image/png": "[encoded data removed]",
            "text/plain": [
              "<Figure size 1440x576 with 1 Axes>"
            ]
          },
          "metadata": {
            "tags": [],
            "needs_background": "light"
          }
        }
      ]
    },
    {
      "cell_type": "markdown",
      "metadata": {
        "id": "830ld-2zUk-D",
        "colab_type": "text"
      },
      "source": [
        "removing high and negative prices "
      ]
    },
    {
      "cell_type": "code",
      "metadata": {
        "id": "kK3GJGoFV2ud",
        "colab_type": "code",
        "outputId": "4d8c6e73-054d-42a3-cbd9-c8aad9cfbd3b",
        "colab": {
          "base_uri": "https://localhost:8080/",
          "height": 34
        }
      },
      "source": [
        "len(sales[sales.item_price > 25000] )/len(sales)"
      ],
      "execution_count": 0,
      "outputs": [
        {
          "output_type": "execute_result",
          "data": {
            "text/plain": [
              "0.0007265956490103583"
            ]
          },
          "metadata": {
            "tags": []
          },
          "execution_count": 21
        }
      ]
    },
    {
      "cell_type": "code",
      "metadata": {
        "id": "5_0somsIue48",
        "colab_type": "code",
        "colab": {}
      },
      "source": [
        "sales = sales[(sales.item_price > 0) & (sales.item_price <= 25000)]"
      ],
      "execution_count": 0,
      "outputs": []
    },
    {
      "cell_type": "code",
      "metadata": {
        "id": "qdUge4xBu4eo",
        "colab_type": "code",
        "outputId": "78320ca9-ac81-45da-8749-68628d1ddf0f",
        "colab": {
          "base_uri": "https://localhost:8080/",
          "height": 589
        }
      },
      "source": [
        "print(sales.item_price.describe().round(2))\n",
        "plt.figure(figsize = (20 , 8))\n",
        "sns.boxplot(sales.item_price)"
      ],
      "execution_count": 0,
      "outputs": [
        {
          "output_type": "stream",
          "text": [
            "count    2933475.00\n",
            "mean         868.77\n",
            "std         1536.25\n",
            "min            0.07\n",
            "25%          249.00\n",
            "50%          399.00\n",
            "75%          999.00\n",
            "max        24999.00\n",
            "Name: item_price, dtype: float64\n"
          ],
          "name": "stdout"
        },
        {
          "output_type": "execute_result",
          "data": {
            "text/plain": [
              "<matplotlib.axes._subplots.AxesSubplot at 0x7f4d43e566d8>"
            ]
          },
          "metadata": {
            "tags": []
          },
          "execution_count": 6
        },
        {
          "output_type": "display_data",
          "data": {
            "image/png": "[encoded data removed]",
            "text/plain": [
              "<Figure size 1440x576 with 1 Axes>"
            ]
          },
          "metadata": {
            "tags": []
          }
        }
      ]
    },
    {
      "cell_type": "markdown",
      "metadata": {
        "id": "71tDe5FyqPNj",
        "colab_type": "text"
      },
      "source": [
        "6) item_cnt_day (target variable):"
      ]
    },
    {
      "cell_type": "code",
      "metadata": {
        "id": "OK1CJ-VVpzmW",
        "colab_type": "code",
        "outputId": "1814a89a-8183-4ac0-fce7-8665b584dd0b",
        "colab": {
          "base_uri": "https://localhost:8080/",
          "height": 589
        }
      },
      "source": [
        "print(sales.item_cnt_day.describe().round())\n",
        "plt.figure(figsize = (20 , 8))\n",
        "sns.boxplot(sales.item_cnt_day)"
      ],
      "execution_count": 0,
      "outputs": [
        {
          "output_type": "stream",
          "text": [
            "count    2933475.0\n",
            "mean           1.0\n",
            "std            3.0\n",
            "min          -22.0\n",
            "25%            1.0\n",
            "50%            1.0\n",
            "75%            1.0\n",
            "max         2169.0\n",
            "Name: item_cnt_day, dtype: float64\n"
          ],
          "name": "stdout"
        },
        {
          "output_type": "execute_result",
          "data": {
            "text/plain": [
              "<matplotlib.axes._subplots.AxesSubplot at 0x7f106cb167b8>"
            ]
          },
          "metadata": {
            "tags": []
          },
          "execution_count": 5
        },
        {
          "output_type": "display_data",
          "data": {
            "image/png": "[encoded data removed]",
            "text/plain": [
              "<Figure size 1440x576 with 1 Axes>"
            ]
          },
          "metadata": {
            "tags": []
          }
        }
      ]
    },
    {
      "cell_type": "markdown",
      "metadata": {
        "id": "439Jb6e5qU58",
        "colab_type": "text"
      },
      "source": [
        "# Time series forcasting"
      ]
    },
    {
      "cell_type": "markdown",
      "metadata": {
        "id": "BcBJMBMrqZy0",
        "colab_type": "text"
      },
      "source": [
        "# 1)Arima ( AutoRegressive Integrated Moving Average )"
      ]
    },
    {
      "cell_type": "code",
      "metadata": {
        "id": "2wD3dSsOpzqF",
        "colab_type": "code",
        "colab": {}
      },
      "source": [
        "ts=sales.groupby([\"date_block_num\"])[\"item_cnt_day\"].sum()\n",
        "ts.astype('float')\n",
        "plt.figure(figsize=(16,8))\n",
        "plt.title('Total Sales by month')\n",
        "plt.xlabel('Time')\n",
        "plt.ylabel('Sales')\n",
        "plt.plot(ts);"
      ],
      "execution_count": 0,
      "outputs": []
    },
    {
      "cell_type": "markdown",
      "metadata": {
        "id": "CMk60_U2pwMI",
        "colab_type": "text"
      },
      "source": [
        "There is a clear trend and seasonality in the data let's look in more details by making decomposition. It's an additive model as the frequency and amplitude is not changing over time."
      ]
    },
    {
      "cell_type": "code",
      "metadata": {
        "id": "-gI-RJnApq89",
        "colab_type": "code",
        "colab": {}
      },
      "source": [
        "decomp = sm.tsa.seasonal_decompose(ts.values , freq = 12 ,model = 'additive' )\n",
        "fig = decomp.plot()"
      ],
      "execution_count": 0,
      "outputs": []
    },
    {
      "cell_type": "markdown",
      "metadata": {
        "id": "AyvAhAVIpy25",
        "colab_type": "text"
      },
      "source": [
        "To use Arima the data must be stationary, i will make Augmented dicky fuller test to check stationarity there are other tests but this is the most popular."
      ]
    },
    {
      "cell_type": "code",
      "metadata": {
        "id": "i8Qb9DOdprIQ",
        "colab_type": "code",
        "colab": {}
      },
      "source": [
        "def ADF_test(ts) :\n",
        "    df_test = adfuller(ts , autolag = \"AIC\")\n",
        "    df_output = pd.Series(df_test[0:4] , index = ['Test Statistic','p-value','#Lags Used','Number of Observations Used'])\n",
        "    print(df_output)"
      ],
      "execution_count": 0,
      "outputs": []
    },
    {
      "cell_type": "code",
      "metadata": {
        "id": "L3BQbc5VprNA",
        "colab_type": "code",
        "colab": {}
      },
      "source": [
        "ADF_test(ts)"
      ],
      "execution_count": 0,
      "outputs": []
    },
    {
      "cell_type": "code",
      "metadata": {
        "id": "Xcb8k9zRprFm",
        "colab_type": "code",
        "colab": {}
      },
      "source": [
        "# create a differenced series\n",
        "def difference(dataset, interval=1):\n",
        "    diff = []\n",
        "    for i in range(interval, len(dataset)):\n",
        "        value = dataset[i] - dataset[i - interval]\n",
        "        diff.append(value)\n",
        "    return Series(diff)\n",
        "\n",
        "# invert the series to the original scale\n",
        "def inverse_difference(last_ob, value):\n",
        "    return value + last_ob"
      ],
      "execution_count": 0,
      "outputs": []
    },
    {
      "cell_type": "code",
      "metadata": {
        "id": "5VzqCE1EprEB",
        "colab_type": "code",
        "colab": {}
      },
      "source": [
        "stationary_ts = difference(ts)\n",
        "ADF_test(stationary_ts)"
      ],
      "execution_count": 0,
      "outputs": []
    },
    {
      "cell_type": "markdown",
      "metadata": {
        "id": "Dl34Klbx4Jp-",
        "colab_type": "text"
      },
      "source": [
        "The data is stationary now, only best parameter values left and arima has 3 parameters: (p, d, q). These three parameters account for seasonality, trend, and noise. plus another 3 parameters (P,D,Q) which are the same but for inserting the seasonaloity with us and using SARIMA."
      ]
    },
    {
      "cell_type": "code",
      "metadata": {
        "id": "NrJRhZgTprCE",
        "colab_type": "code",
        "colab": {}
      },
      "source": [
        "p = d = q = range(0, 2) # taking values 0 , 1 , 2 respectively \n",
        "pdq = list(itertools.product(p, d, q)) #combine them in a list\n",
        "seasonal_pdq = [(x[0], x[1], x[2], 12) for x in pdq] #seasonal parameters will take all combinations of (0,1,2) \n",
        "# 12 is the time spane of repeating the seasonal pattern it could be differnt but i just choosed to make it 12 for simplicity"
      ],
      "execution_count": 0,
      "outputs": []
    },
    {
      "cell_type": "code",
      "metadata": {
        "id": "LkAWVTW6pq6r",
        "colab_type": "code",
        "colab": {}
      },
      "source": [
        "# I will use grid search to find the optimal set of parameters\n",
        "aic = []\n",
        "for param in pdq:\n",
        "    for param_seasonal in seasonal_pdq:\n",
        "        try:\n",
        "            mod = sm.tsa.statespace.SARIMAX(stationary_ts,\n",
        "                                            order=param,\n",
        "                                            seasonal_order=param_seasonal,\n",
        "                                            )\n",
        "            results = mod.fit()\n",
        "            aic.append(results.aic)\n",
        "            print('ARIMA{}x{}12 - AIC:{}'.format(param, param_seasonal, results.aic))\n",
        "        except:\n",
        "            continue\n",
        "print(min(aic))"
      ],
      "execution_count": 0,
      "outputs": []
    },
    {
      "cell_type": "markdown",
      "metadata": {
        "id": "f5MUHMvc4QGH",
        "colab_type": "text"
      },
      "source": [
        "(0, 1, 1)x(1, 1, 0, 12)12 are best paramaters with the least aic score 432.9178807849364 Let's do it ..."
      ]
    },
    {
      "cell_type": "code",
      "metadata": {
        "id": "r9thnvHupq4k",
        "colab_type": "code",
        "colab": {}
      },
      "source": [
        "stationary_train = stationary_ts[0:27]\n",
        "stationary_test = stationary_ts[27:33]\n",
        "print('train: \\n', stationary_train , '\\n\\n')\n",
        "print('test: \\n', stationary_test)"
      ],
      "execution_count": 0,
      "outputs": []
    },
    {
      "cell_type": "code",
      "metadata": {
        "id": "Wrcw4OWupq1S",
        "colab_type": "code",
        "colab": {}
      },
      "source": [
        "# Fit the model on the stationary_train set\n",
        "mod = sm.tsa.statespace.SARIMAX(stationary_train,\n",
        "                                order=(1, 1, 1),\n",
        "                                seasonal_order=(1, 1, 0, 12))\n",
        "results = mod.fit()\n"
      ],
      "execution_count": 0,
      "outputs": []
    },
    {
      "cell_type": "markdown",
      "metadata": {
        "id": "paOJYQin4Ufq",
        "colab_type": "text"
      },
      "source": [
        "We should always run model diagnostics to investigate any unusual behavior"
      ]
    },
    {
      "cell_type": "code",
      "metadata": {
        "id": "r3SunQMapqyC",
        "colab_type": "code",
        "colab": {}
      },
      "source": [
        "fig = results.plot_diagnostics(figsize=(15, 12))\n",
        "diagnostigs = fig"
      ],
      "execution_count": 0,
      "outputs": []
    },
    {
      "cell_type": "markdown",
      "metadata": {
        "id": "2AXc6UWs4Y-U",
        "colab_type": "text"
      },
      "source": [
        "diagnostics is not bad so we are good and continue"
      ]
    },
    {
      "cell_type": "code",
      "metadata": {
        "id": "5JDYaR7Jpqvl",
        "colab_type": "code",
        "colab": {}
      },
      "source": [
        "yhat = results.predict(28, 33).tolist() # Predicting based on the stationary data\n",
        "test = ts[28:34].tolist() # cinverting ti list to loop through it\n",
        "yhat = [inverse_difference(test[i], yhat[i]) for i in range(len(yhat))]\n",
        "yhat = pd.Series(yhat , index = ts[28:34].index) # converting it from list to a series to get the index "
      ],
      "execution_count": 0,
      "outputs": []
    },
    {
      "cell_type": "code",
      "metadata": {
        "id": "h1Z2h2wIpqs6",
        "colab_type": "code",
        "colab": {}
      },
      "source": [
        "plt.figure(figsize = (12,6))\n",
        "plt.plot(ts[0:28] , label='Train')\n",
        "plt.plot(ts[28:34] , label='Test')\n",
        "plt.plot(yhat , label='six-months ahead Forecast')\n",
        "plt.xlabel('Date block num')\n",
        "plt.ylabel('number of items sold')\n",
        "plt.legend()\n",
        "plt.show()\n",
        "rmse = sqrt(mean_squared_error(ts[28:34],yhat))\n",
        "print('RMSE: %.1f' % rmse , \"\\n\")\n",
        "print(ts.describe()[1:3].round())"
      ],
      "execution_count": 0,
      "outputs": []
    },
    {
      "cell_type": "markdown",
      "metadata": {
        "id": "XxsZN3IZqiB_",
        "colab_type": "text"
      },
      "source": [
        "# Machine Learning"
      ]
    },
    {
      "cell_type": "markdown",
      "metadata": {
        "id": "f9PNzXqysFVf",
        "colab_type": "text"
      },
      "source": [
        "# Starting with a base model"
      ]
    },
    {
      "cell_type": "code",
      "metadata": {
        "id": "QuUmkd8epzvE",
        "colab_type": "code",
        "outputId": "0c0ba3d0-14ee-4927-a768-115dd2da1dda",
        "colab": {
          "base_uri": "https://localhost:8080/",
          "height": 419
        }
      },
      "source": [
        "# Getting ready for the base model\n",
        "sales.date = pd.to_datetime(sales.date)\n",
        "sales['year'] = sales.date.dt.year\n",
        "\n",
        "base = sales.copy() # leaving the original dataset untouched\n",
        "base = pd.DataFrame(base.groupby(['date_block_num','shop_id','year','item_id'])['item_cnt_day'].sum())\n",
        "base = base.reset_index() \n",
        "base = base.rename(columns = {'item_cnt_day':'item_cnt_month'})\n",
        "base"
      ],
      "execution_count": 5,
      "outputs": [
        {
          "output_type": "execute_result",
          "data": {
            "text/html": [
              "<div>\n",
              "<style scoped>\n",
              "    .dataframe tbody tr th:only-of-type {\n",
              "        vertical-align: middle;\n",
              "    }\n",
              "\n",
              "    .dataframe tbody tr th {\n",
              "        vertical-align: top;\n",
              "    }\n",
              "\n",
              "    .dataframe thead th {\n",
              "        text-align: right;\n",
              "    }\n",
              "</style>\n",
              "<table border=\"1\" class=\"dataframe\">\n",
              "  <thead>\n",
              "    <tr style=\"text-align: right;\">\n",
              "      <th></th>\n",
              "      <th>date_block_num</th>\n",
              "      <th>shop_id</th>\n",
              "      <th>year</th>\n",
              "      <th>item_id</th>\n",
              "      <th>item_cnt_month</th>\n",
              "    </tr>\n",
              "  </thead>\n",
              "  <tbody>\n",
              "    <tr>\n",
              "      <th>0</th>\n",
              "      <td>0</td>\n",
              "      <td>0</td>\n",
              "      <td>2013</td>\n",
              "      <td>32</td>\n",
              "      <td>6.0</td>\n",
              "    </tr>\n",
              "    <tr>\n",
              "      <th>1</th>\n",
              "      <td>0</td>\n",
              "      <td>0</td>\n",
              "      <td>2013</td>\n",
              "      <td>33</td>\n",
              "      <td>3.0</td>\n",
              "    </tr>\n",
              "    <tr>\n",
              "      <th>2</th>\n",
              "      <td>0</td>\n",
              "      <td>0</td>\n",
              "      <td>2013</td>\n",
              "      <td>35</td>\n",
              "      <td>1.0</td>\n",
              "    </tr>\n",
              "    <tr>\n",
              "      <th>3</th>\n",
              "      <td>0</td>\n",
              "      <td>0</td>\n",
              "      <td>2013</td>\n",
              "      <td>43</td>\n",
              "      <td>1.0</td>\n",
              "    </tr>\n",
              "    <tr>\n",
              "      <th>4</th>\n",
              "      <td>0</td>\n",
              "      <td>0</td>\n",
              "      <td>2013</td>\n",
              "      <td>51</td>\n",
              "      <td>2.0</td>\n",
              "    </tr>\n",
              "    <tr>\n",
              "      <th>...</th>\n",
              "      <td>...</td>\n",
              "      <td>...</td>\n",
              "      <td>...</td>\n",
              "      <td>...</td>\n",
              "      <td>...</td>\n",
              "    </tr>\n",
              "    <tr>\n",
              "      <th>1608223</th>\n",
              "      <td>33</td>\n",
              "      <td>59</td>\n",
              "      <td>2015</td>\n",
              "      <td>22087</td>\n",
              "      <td>6.0</td>\n",
              "    </tr>\n",
              "    <tr>\n",
              "      <th>1608224</th>\n",
              "      <td>33</td>\n",
              "      <td>59</td>\n",
              "      <td>2015</td>\n",
              "      <td>22088</td>\n",
              "      <td>2.0</td>\n",
              "    </tr>\n",
              "    <tr>\n",
              "      <th>1608225</th>\n",
              "      <td>33</td>\n",
              "      <td>59</td>\n",
              "      <td>2015</td>\n",
              "      <td>22091</td>\n",
              "      <td>1.0</td>\n",
              "    </tr>\n",
              "    <tr>\n",
              "      <th>1608226</th>\n",
              "      <td>33</td>\n",
              "      <td>59</td>\n",
              "      <td>2015</td>\n",
              "      <td>22100</td>\n",
              "      <td>1.0</td>\n",
              "    </tr>\n",
              "    <tr>\n",
              "      <th>1608227</th>\n",
              "      <td>33</td>\n",
              "      <td>59</td>\n",
              "      <td>2015</td>\n",
              "      <td>22102</td>\n",
              "      <td>1.0</td>\n",
              "    </tr>\n",
              "  </tbody>\n",
              "</table>\n",
              "<p>1608228 rows × 5 columns</p>\n",
              "</div>"
            ],
            "text/plain": [
              "         date_block_num  shop_id  year  item_id  item_cnt_month\n",
              "0                     0        0  2013       32             6.0\n",
              "1                     0        0  2013       33             3.0\n",
              "2                     0        0  2013       35             1.0\n",
              "3                     0        0  2013       43             1.0\n",
              "4                     0        0  2013       51             2.0\n",
              "...                 ...      ...   ...      ...             ...\n",
              "1608223              33       59  2015    22087             6.0\n",
              "1608224              33       59  2015    22088             2.0\n",
              "1608225              33       59  2015    22091             1.0\n",
              "1608226              33       59  2015    22100             1.0\n",
              "1608227              33       59  2015    22102             1.0\n",
              "\n",
              "[1608228 rows x 5 columns]"
            ]
          },
          "metadata": {
            "tags": []
          },
          "execution_count": 5
        }
      ]
    },
    {
      "cell_type": "code",
      "metadata": {
        "id": "Gzkc8-Ltp0Mr",
        "colab_type": "code",
        "colab": {}
      },
      "source": [
        "def get_data_splits(df) :\n",
        "    \"\"\"\n",
        "    Splits a dataframe into 90% train, 10% validation but first order by the date_block_num. \n",
        "    \n",
        "    \"\"\"\n",
        "    df = df.sort_values(by = 'date_block_num') #sort values by the date_clock_num so that the test set is the last period of time\n",
        "    train = df[df.date_block_num < 32]\n",
        "    validation = df[df.date_block_num > 31] # taking the last 2 months to simulate the test set \n",
        "    return train, validation"
      ],
      "execution_count": 0,
      "outputs": []
    },
    {
      "cell_type": "code",
      "metadata": {
        "id": "FE61W5dHp0QF",
        "colab_type": "code",
        "colab": {}
      },
      "source": [
        "train, validation = get_data_splits(base)"
      ],
      "execution_count": 0,
      "outputs": []
    },
    {
      "cell_type": "code",
      "metadata": {
        "id": "QZWzkR4qqckq",
        "colab_type": "code",
        "outputId": "3f75eaab-1d23-4474-b834-a9815b3343db",
        "colab": {
          "base_uri": "https://localhost:8080/",
          "height": 419
        }
      },
      "source": [
        "validation"
      ],
      "execution_count": 0,
      "outputs": [
        {
          "output_type": "execute_result",
          "data": {
            "text/html": [
              "<div>\n",
              "<style scoped>\n",
              "    .dataframe tbody tr th:only-of-type {\n",
              "        vertical-align: middle;\n",
              "    }\n",
              "\n",
              "    .dataframe tbody tr th {\n",
              "        vertical-align: top;\n",
              "    }\n",
              "\n",
              "    .dataframe thead th {\n",
              "        text-align: right;\n",
              "    }\n",
              "</style>\n",
              "<table border=\"1\" class=\"dataframe\">\n",
              "  <thead>\n",
              "    <tr style=\"text-align: right;\">\n",
              "      <th></th>\n",
              "      <th>date_block_num</th>\n",
              "      <th>shop_id</th>\n",
              "      <th>year</th>\n",
              "      <th>item_id</th>\n",
              "      <th>item_cnt_month</th>\n",
              "    </tr>\n",
              "  </thead>\n",
              "  <tbody>\n",
              "    <tr>\n",
              "      <th>1566944</th>\n",
              "      <td>32</td>\n",
              "      <td>42</td>\n",
              "      <td>2015</td>\n",
              "      <td>15011</td>\n",
              "      <td>1.0</td>\n",
              "    </tr>\n",
              "    <tr>\n",
              "      <th>1566963</th>\n",
              "      <td>32</td>\n",
              "      <td>42</td>\n",
              "      <td>2015</td>\n",
              "      <td>15115</td>\n",
              "      <td>1.0</td>\n",
              "    </tr>\n",
              "    <tr>\n",
              "      <th>1566962</th>\n",
              "      <td>32</td>\n",
              "      <td>42</td>\n",
              "      <td>2015</td>\n",
              "      <td>15112</td>\n",
              "      <td>7.0</td>\n",
              "    </tr>\n",
              "    <tr>\n",
              "      <th>1566961</th>\n",
              "      <td>32</td>\n",
              "      <td>42</td>\n",
              "      <td>2015</td>\n",
              "      <td>15096</td>\n",
              "      <td>2.0</td>\n",
              "    </tr>\n",
              "    <tr>\n",
              "      <th>1566960</th>\n",
              "      <td>32</td>\n",
              "      <td>42</td>\n",
              "      <td>2015</td>\n",
              "      <td>15087</td>\n",
              "      <td>2.0</td>\n",
              "    </tr>\n",
              "    <tr>\n",
              "      <th>...</th>\n",
              "      <td>...</td>\n",
              "      <td>...</td>\n",
              "      <td>...</td>\n",
              "      <td>...</td>\n",
              "      <td>...</td>\n",
              "    </tr>\n",
              "    <tr>\n",
              "      <th>1587279</th>\n",
              "      <td>33</td>\n",
              "      <td>24</td>\n",
              "      <td>2015</td>\n",
              "      <td>9870</td>\n",
              "      <td>1.0</td>\n",
              "    </tr>\n",
              "    <tr>\n",
              "      <th>1587278</th>\n",
              "      <td>33</td>\n",
              "      <td>24</td>\n",
              "      <td>2015</td>\n",
              "      <td>9795</td>\n",
              "      <td>1.0</td>\n",
              "    </tr>\n",
              "    <tr>\n",
              "      <th>1587277</th>\n",
              "      <td>33</td>\n",
              "      <td>24</td>\n",
              "      <td>2015</td>\n",
              "      <td>9784</td>\n",
              "      <td>1.0</td>\n",
              "    </tr>\n",
              "    <tr>\n",
              "      <th>1587275</th>\n",
              "      <td>33</td>\n",
              "      <td>24</td>\n",
              "      <td>2015</td>\n",
              "      <td>9532</td>\n",
              "      <td>1.0</td>\n",
              "    </tr>\n",
              "    <tr>\n",
              "      <th>1608227</th>\n",
              "      <td>33</td>\n",
              "      <td>59</td>\n",
              "      <td>2015</td>\n",
              "      <td>22102</td>\n",
              "      <td>1.0</td>\n",
              "    </tr>\n",
              "  </tbody>\n",
              "</table>\n",
              "<p>60992 rows × 5 columns</p>\n",
              "</div>"
            ],
            "text/plain": [
              "         date_block_num  shop_id  year  item_id  item_cnt_month\n",
              "1566944              32       42  2015    15011             1.0\n",
              "1566963              32       42  2015    15115             1.0\n",
              "1566962              32       42  2015    15112             7.0\n",
              "1566961              32       42  2015    15096             2.0\n",
              "1566960              32       42  2015    15087             2.0\n",
              "...                 ...      ...   ...      ...             ...\n",
              "1587279              33       24  2015     9870             1.0\n",
              "1587278              33       24  2015     9795             1.0\n",
              "1587277              33       24  2015     9784             1.0\n",
              "1587275              33       24  2015     9532             1.0\n",
              "1608227              33       59  2015    22102             1.0\n",
              "\n",
              "[60992 rows x 5 columns]"
            ]
          },
          "metadata": {
            "tags": []
          },
          "execution_count": 13
        }
      ]
    },
    {
      "cell_type": "code",
      "metadata": {
        "id": "AFhrAm7Fp0S0",
        "colab_type": "code",
        "colab": {}
      },
      "source": [
        "\n",
        "X_train = train.drop('item_cnt_month' , axis = 1)\n",
        "y_train = train.item_cnt_month\n",
        "\n",
        "X_val = validation.drop('item_cnt_month' , axis = 1)\n",
        "y_val = validation.item_cnt_month\n",
        "\n",
        "\n",
        "models = []\n",
        "models.append(('LGBM',LGBMRegressor(n_jobs = -1 , random_state = random_state)))\n",
        "models.append(('XGB' , XGBRegressor(n_jobs= -1 ,random_state = random_state)) )\n",
        "models.append(('RF' ,RandomForestRegressor(verbose = False ,random_state = random_state) ))\n",
        "models.append(('LR' ,LinearRegression() ))\n",
        "for name, model in models :\n",
        "    model.fit(X_train, y_train)\n",
        "    rmse = sqrt( mean_squared_error(model.predict(X_val), y_val ) ) \n",
        "    print(name ,\": \",rmse )\n"
      ],
      "execution_count": 0,
      "outputs": []
    },
    {
      "cell_type": "markdown",
      "metadata": {
        "id": "jU3Pd7KGtJYB",
        "colab_type": "text"
      },
      "source": [
        "These are the values of the base model and will be improved after every part in the notebook\n",
        "\n",
        "LGBM :  16.25462807143281\n",
        "\n",
        "XGB :  16.135782269473\n",
        "\n",
        "RF :  14.926916180602934\n",
        "\n",
        "LR :  16.547247380574465"
      ]
    },
    {
      "cell_type": "code",
      "metadata": {
        "id": "bbUcLCTAp0Yv",
        "colab_type": "code",
        "outputId": "dd511919-febb-4238-8d2c-4be3724a04a0",
        "colab": {
          "base_uri": "https://localhost:8080/",
          "height": 419
        }
      },
      "source": [
        "# i want to insert in the first position the date_block_num to match the test with the train\n",
        "test.insert(0 , 'date_block_num' , [34 for i in range(0, len(test) )])\n",
        "test = test.drop('ID' , axis= 1)\n",
        "test['year'] = 2015\n",
        "test"
      ],
      "execution_count": 7,
      "outputs": [
        {
          "output_type": "execute_result",
          "data": {
            "text/html": [
              "<div>\n",
              "<style scoped>\n",
              "    .dataframe tbody tr th:only-of-type {\n",
              "        vertical-align: middle;\n",
              "    }\n",
              "\n",
              "    .dataframe tbody tr th {\n",
              "        vertical-align: top;\n",
              "    }\n",
              "\n",
              "    .dataframe thead th {\n",
              "        text-align: right;\n",
              "    }\n",
              "</style>\n",
              "<table border=\"1\" class=\"dataframe\">\n",
              "  <thead>\n",
              "    <tr style=\"text-align: right;\">\n",
              "      <th></th>\n",
              "      <th>date_block_num</th>\n",
              "      <th>shop_id</th>\n",
              "      <th>item_id</th>\n",
              "      <th>year</th>\n",
              "    </tr>\n",
              "  </thead>\n",
              "  <tbody>\n",
              "    <tr>\n",
              "      <th>0</th>\n",
              "      <td>34</td>\n",
              "      <td>5</td>\n",
              "      <td>5037</td>\n",
              "      <td>2015</td>\n",
              "    </tr>\n",
              "    <tr>\n",
              "      <th>1</th>\n",
              "      <td>34</td>\n",
              "      <td>5</td>\n",
              "      <td>5320</td>\n",
              "      <td>2015</td>\n",
              "    </tr>\n",
              "    <tr>\n",
              "      <th>2</th>\n",
              "      <td>34</td>\n",
              "      <td>5</td>\n",
              "      <td>5233</td>\n",
              "      <td>2015</td>\n",
              "    </tr>\n",
              "    <tr>\n",
              "      <th>3</th>\n",
              "      <td>34</td>\n",
              "      <td>5</td>\n",
              "      <td>5232</td>\n",
              "      <td>2015</td>\n",
              "    </tr>\n",
              "    <tr>\n",
              "      <th>4</th>\n",
              "      <td>34</td>\n",
              "      <td>5</td>\n",
              "      <td>5268</td>\n",
              "      <td>2015</td>\n",
              "    </tr>\n",
              "    <tr>\n",
              "      <th>...</th>\n",
              "      <td>...</td>\n",
              "      <td>...</td>\n",
              "      <td>...</td>\n",
              "      <td>...</td>\n",
              "    </tr>\n",
              "    <tr>\n",
              "      <th>214195</th>\n",
              "      <td>34</td>\n",
              "      <td>45</td>\n",
              "      <td>18454</td>\n",
              "      <td>2015</td>\n",
              "    </tr>\n",
              "    <tr>\n",
              "      <th>214196</th>\n",
              "      <td>34</td>\n",
              "      <td>45</td>\n",
              "      <td>16188</td>\n",
              "      <td>2015</td>\n",
              "    </tr>\n",
              "    <tr>\n",
              "      <th>214197</th>\n",
              "      <td>34</td>\n",
              "      <td>45</td>\n",
              "      <td>15757</td>\n",
              "      <td>2015</td>\n",
              "    </tr>\n",
              "    <tr>\n",
              "      <th>214198</th>\n",
              "      <td>34</td>\n",
              "      <td>45</td>\n",
              "      <td>19648</td>\n",
              "      <td>2015</td>\n",
              "    </tr>\n",
              "    <tr>\n",
              "      <th>214199</th>\n",
              "      <td>34</td>\n",
              "      <td>45</td>\n",
              "      <td>969</td>\n",
              "      <td>2015</td>\n",
              "    </tr>\n",
              "  </tbody>\n",
              "</table>\n",
              "<p>214200 rows × 4 columns</p>\n",
              "</div>"
            ],
            "text/plain": [
              "        date_block_num  shop_id  item_id  year\n",
              "0                   34        5     5037  2015\n",
              "1                   34        5     5320  2015\n",
              "2                   34        5     5233  2015\n",
              "3                   34        5     5232  2015\n",
              "4                   34        5     5268  2015\n",
              "...                ...      ...      ...   ...\n",
              "214195              34       45    18454  2015\n",
              "214196              34       45    16188  2015\n",
              "214197              34       45    15757  2015\n",
              "214198              34       45    19648  2015\n",
              "214199              34       45      969  2015\n",
              "\n",
              "[214200 rows x 4 columns]"
            ]
          },
          "metadata": {
            "tags": []
          },
          "execution_count": 7
        }
      ]
    },
    {
      "cell_type": "code",
      "metadata": {
        "id": "xweIO0lop0di",
        "colab_type": "code",
        "colab": {}
      },
      "source": [
        "# submitting to the leaderboard\n",
        "xgb = XGBRegressor(verbose = False , ,random_state = random_state)\n",
        "xgb.fit(base.drop('item_cnt_month',axis = 1), base.item_cnt_month)\n",
        "preds_xgb = xgb.predict(test)\n",
        "sub = sample_submission\n",
        "sub.item_cnt_month = preds_xgb\n",
        "sub.to_csv('sub.csv' , index = False)"
      ],
      "execution_count": 0,
      "outputs": []
    },
    {
      "cell_type": "markdown",
      "metadata": {
        "id": "KeQ5ukf3rBbn",
        "colab_type": "text"
      },
      "source": [
        "I got about 6 RMSE with the base model"
      ]
    },
    {
      "cell_type": "markdown",
      "metadata": {
        "id": "q2BtWNBTrH7r",
        "colab_type": "text"
      },
      "source": [
        "# Feature Engineering"
      ]
    },
    {
      "cell_type": "code",
      "metadata": {
        "id": "yI96BZVerFk1",
        "colab_type": "code",
        "colab": {}
      },
      "source": [
        "sales1 = base.copy() # Continue on the base model"
      ],
      "execution_count": 0,
      "outputs": []
    },
    {
      "cell_type": "code",
      "metadata": {
        "id": "MfjLEH0Br29r",
        "colab_type": "code",
        "colab": {}
      },
      "source": [
        "# removing duplicate rows \n",
        "sales1.drop_duplicates(inplace = True , keep = 'first')"
      ],
      "execution_count": 0,
      "outputs": []
    },
    {
      "cell_type": "code",
      "metadata": {
        "id": "CI4q45NNrFzz",
        "colab_type": "code",
        "outputId": "8173880b-7519-4035-9d39-30536cd75d65",
        "colab": {
          "base_uri": "https://localhost:8080/",
          "height": 34
        }
      },
      "source": [
        "# what is the portion of data that has target variable value with more than 20\n",
        "round((len(sales1[sales1.item_cnt_month > 20]) / len(sales1)),3)\n"
      ],
      "execution_count": 0,
      "outputs": [
        {
          "output_type": "execute_result",
          "data": {
            "text/plain": [
              "0.007"
            ]
          },
          "metadata": {
            "tags": []
          },
          "execution_count": 12
        }
      ]
    },
    {
      "cell_type": "markdown",
      "metadata": {
        "id": "SF1nqCURrTVg",
        "colab_type": "text"
      },
      "source": [
        "item_cnt_day has natural ouliers with values more than 20 and although they represent the real life but they are not a lot and make a lot of niose to the model so i will trim any value more than 20 and we will lose a small fraction of the data anyways\n",
        "\n"
      ]
    },
    {
      "cell_type": "code",
      "metadata": {
        "id": "sXaSi_dArF9y",
        "colab_type": "code",
        "outputId": "f5d66f6f-8709-4577-912d-d1fa757fb987",
        "colab": {
          "base_uri": "https://localhost:8080/",
          "height": 572
        }
      },
      "source": [
        "sales1 = sales1[sales1.item_cnt_month <= 20]\n",
        "print(sales1.item_cnt_month.describe().round())\n",
        "plt.figure(figsize = (20 , 8))\n",
        "sns.boxplot(sales1.item_cnt_month)\n",
        "plt.show()"
      ],
      "execution_count": 10,
      "outputs": [
        {
          "output_type": "stream",
          "text": [
            "count    1596797.0\n",
            "mean           2.0\n",
            "std            2.0\n",
            "min          -22.0\n",
            "25%            1.0\n",
            "50%            1.0\n",
            "75%            2.0\n",
            "max           20.0\n",
            "Name: item_cnt_month, dtype: float64\n"
          ],
          "name": "stdout"
        },
        {
          "output_type": "display_data",
          "data": {
            "image/png": "[encoded data removed]",
            "text/plain": [
              "<Figure size 1440x576 with 1 Axes>"
            ]
          },
          "metadata": {
            "tags": []
          }
        }
      ]
    },
    {
      "cell_type": "code",
      "metadata": {
        "id": "7zq3IXAdrLMg",
        "colab_type": "code",
        "outputId": "ff4ec087-b0be-4447-c46a-47ad80a79dfa",
        "colab": {
          "base_uri": "https://localhost:8080/",
          "height": 51
        }
      },
      "source": [
        "# how many value in the target variable less than zero\n",
        "print(len(sales1[sales1.item_cnt_month < 0 ]))\n",
        "print(len(sales1[sales1.item_cnt_month < 0 ]) / len(sales1))"
      ],
      "execution_count": 0,
      "outputs": [
        {
          "output_type": "stream",
          "text": [
            "912\n",
            "0.0005711433576090136\n"
          ],
          "name": "stdout"
        }
      ]
    },
    {
      "cell_type": "markdown",
      "metadata": {
        "id": "nQxXw2JzrUCs",
        "colab_type": "text"
      },
      "source": [
        "I will remove the negative values as they will cause noise on the data"
      ]
    },
    {
      "cell_type": "code",
      "metadata": {
        "id": "hFnPFz_ArXVn",
        "colab_type": "code",
        "colab": {}
      },
      "source": [
        "sales1 = sales1[sales1.item_cnt_month > 0]"
      ],
      "execution_count": 0,
      "outputs": []
    },
    {
      "cell_type": "markdown",
      "metadata": {
        "id": "aA4tjnZ8rjXP",
        "colab_type": "text"
      },
      "source": [
        "Testing the model performance after trimming all values greater than 20 and less than 0"
      ]
    },
    {
      "cell_type": "code",
      "metadata": {
        "id": "gPIqVMSgrF2x",
        "colab_type": "code",
        "outputId": "eaaa18ce-aeea-480b-eee2-cd2103586d37",
        "colab": {
          "base_uri": "https://localhost:8080/",
          "height": 88
        }
      },
      "source": [
        "# Validating after trimming the target variabel\n",
        "train, validation = get_data_splits(sales1)\n",
        "X_train = train.drop('item_cnt_month' , axis = 1)\n",
        "y_train = train.item_cnt_month\n",
        "\n",
        "X_val = validation.drop('item_cnt_month' , axis = 1)\n",
        "y_val = validation.item_cnt_month\n",
        "\n",
        "\n",
        "models = []\n",
        "models.append(('XGB' , XGBRegressor(n_jobs= -1 , random_state = random_state)) )\n",
        "models.append(('LGBM' ,LGBMRegressor( random_state = random_state) ))\n",
        "for name, model in models :\n",
        "    model.fit(X_train, y_train)\n",
        "    rmse = sqrt( mean_squared_error(model.predict(X_val), y_val ) ) \n",
        "    print(name ,\": \",rmse )"
      ],
      "execution_count": 0,
      "outputs": [
        {
          "output_type": "stream",
          "text": [
            "[01:21:40] WARNING: /workspace/src/objective/regression_obj.cu:152: reg:linear is now deprecated in favor of reg:squarederror.\n",
            "XGB :  1.9342492384768628\n",
            "LGBM :  1.879913731658594\n"
          ],
          "name": "stdout"
        }
      ]
    },
    {
      "cell_type": "markdown",
      "metadata": {
        "id": "Vk6dgVi3tDzs",
        "colab_type": "text"
      },
      "source": [
        "XGB :  1.9368071858443434\n",
        "\n",
        "LGBM :  1.8915577818949325"
      ]
    },
    {
      "cell_type": "markdown",
      "metadata": {
        "id": "HAZXlpr6rlVY",
        "colab_type": "text"
      },
      "source": [
        "Trimming the target variable improved the performance a lot on the validation data"
      ]
    },
    {
      "cell_type": "markdown",
      "metadata": {
        "id": "avaqMNP1qKy6",
        "colab_type": "text"
      },
      "source": [
        "Since the results of lightGBM and XGB are very similar but light gbm is much much faster i will continue using lightgbm"
      ]
    },
    {
      "cell_type": "code",
      "metadata": {
        "id": "qhYLSXu8Qa1t",
        "colab_type": "code",
        "colab": {}
      },
      "source": [
        "# refitting on the full data and see the impact\n",
        "lgbm = LGBMRegressor( n_jobs = -1 , random_state = random_state)\n",
        "lgbm.fit(sales1.drop(['item_cnt_month'],axis = 1), sales1.item_cnt_month)\n",
        "\n",
        "# saving the model in order to run it again witout taking so much time\n",
        "file_name = 'lgbm_after_trimming.sav'\n",
        "pickle.dump(lgbm , open(file_name, 'wb'))\n"
      ],
      "execution_count": 0,
      "outputs": []
    },
    {
      "cell_type": "code",
      "metadata": {
        "id": "Iggjt4HMQ3t2",
        "colab_type": "code",
        "colab": {}
      },
      "source": [
        "# submitting in the leaderboard\n",
        "# load the file from the disk\n",
        "lgbm = pickle.load(open('/content/lgbm_after_trimming (1).sav', 'rb'))\n",
        "test = test[sales1.drop('item_cnt_month',axis = 1).columns] # sorting column names in the same order\n",
        "preds = lgbm.predict(test)\n",
        "sub = sample_submission\n",
        "sub.item_cnt_month = preds\n",
        "sub.to_csv('lgbm_after_trimming.csv' , index = False)"
      ],
      "execution_count": 0,
      "outputs": []
    },
    {
      "cell_type": "code",
      "metadata": {
        "id": "7i6LHSpAxZtO",
        "colab_type": "code",
        "outputId": "334c1bc9-ccbe-4d20-aeee-824ac40d91a1",
        "colab": {
          "base_uri": "https://localhost:8080/",
          "height": 316
        }
      },
      "source": [
        "lgbm = pickle.load(open('/content/lgbm_after_trimming (1).sav', 'rb'))\n",
        "# ploting the importance\n",
        "plot_importance(lgbm)"
      ],
      "execution_count": 0,
      "outputs": [
        {
          "output_type": "execute_result",
          "data": {
            "text/plain": [
              "<matplotlib.axes._subplots.AxesSubplot at 0x7f2bbbfe6ef0>"
            ]
          },
          "metadata": {
            "tags": []
          },
          "execution_count": 25
        },
        {
          "output_type": "display_data",
          "data": {
            "image/png": "[encoded data removed]",
            "text/plain": [
              "<Figure size 432x288 with 1 Axes>"
            ]
          },
          "metadata": {
            "tags": []
          }
        }
      ]
    },
    {
      "cell_type": "markdown",
      "metadata": {
        "id": "JhzRy-WXrnxg",
        "colab_type": "text"
      },
      "source": [
        "# Mean Encoding"
      ]
    },
    {
      "cell_type": "markdown",
      "metadata": {
        "id": "rg2gcwjlrrW_",
        "colab_type": "text"
      },
      "source": [
        "`Motivation` : the item_id is not ordinal and if we one hot encoded it we will fall in the curse of dimensionality hence mean encoding is needed to solve this trap."
      ]
    },
    {
      "cell_type": "code",
      "metadata": {
        "id": "gCA5tsltrgQo",
        "colab_type": "code",
        "outputId": "919e9f5e-1782-4ddd-abc0-0c9ef1ecff07",
        "colab": {
          "base_uri": "https://localhost:8080/",
          "height": 419
        }
      },
      "source": [
        "from itertools import product # to make cartisien product\n",
        "index_cols = ['shop_id' , 'item_id' , 'date_block_num']\n",
        "grid = []\n",
        "for block_num in sales.date_block_num.unique() : # iterating over the 34 month\n",
        "    curr_shops = sales[sales.date_block_num == block_num]['shop_id'].unique() # get the unique shops in this month\n",
        "    curr_items = sales[sales.date_block_num == block_num]['item_id'].unique() # get the unique items in this month\n",
        "    grid.append(np.array(list(product (*[ curr_shops, curr_items, [block_num]]))))\n",
        "grid = pd.DataFrame(np.vstack(grid) , columns = index_cols ) \n",
        "all_data = grid.merge(sales1[['shop_id' , 'item_id' , 'date_block_num','item_cnt_month']] , how = 'left' , on = index_cols).sort_values(index_cols).fillna(0) #to add the item_cnt_month\n",
        "all_data"
      ],
      "execution_count": 12,
      "outputs": [
        {
          "output_type": "execute_result",
          "data": {
            "text/html": [
              "<div>\n",
              "<style scoped>\n",
              "    .dataframe tbody tr th:only-of-type {\n",
              "        vertical-align: middle;\n",
              "    }\n",
              "\n",
              "    .dataframe tbody tr th {\n",
              "        vertical-align: top;\n",
              "    }\n",
              "\n",
              "    .dataframe thead th {\n",
              "        text-align: right;\n",
              "    }\n",
              "</style>\n",
              "<table border=\"1\" class=\"dataframe\">\n",
              "  <thead>\n",
              "    <tr style=\"text-align: right;\">\n",
              "      <th></th>\n",
              "      <th>shop_id</th>\n",
              "      <th>item_id</th>\n",
              "      <th>date_block_num</th>\n",
              "      <th>item_cnt_month</th>\n",
              "    </tr>\n",
              "  </thead>\n",
              "  <tbody>\n",
              "    <tr>\n",
              "      <th>606783</th>\n",
              "      <td>0</td>\n",
              "      <td>12</td>\n",
              "      <td>1</td>\n",
              "      <td>0.0</td>\n",
              "    </tr>\n",
              "    <tr>\n",
              "      <th>139237</th>\n",
              "      <td>0</td>\n",
              "      <td>19</td>\n",
              "      <td>0</td>\n",
              "      <td>0.0</td>\n",
              "    </tr>\n",
              "    <tr>\n",
              "      <th>141477</th>\n",
              "      <td>0</td>\n",
              "      <td>27</td>\n",
              "      <td>0</td>\n",
              "      <td>0.0</td>\n",
              "    </tr>\n",
              "    <tr>\n",
              "      <th>605937</th>\n",
              "      <td>0</td>\n",
              "      <td>27</td>\n",
              "      <td>1</td>\n",
              "      <td>0.0</td>\n",
              "    </tr>\n",
              "    <tr>\n",
              "      <th>144950</th>\n",
              "      <td>0</td>\n",
              "      <td>28</td>\n",
              "      <td>0</td>\n",
              "      <td>0.0</td>\n",
              "    </tr>\n",
              "    <tr>\n",
              "      <th>...</th>\n",
              "      <td>...</td>\n",
              "      <td>...</td>\n",
              "      <td>...</td>\n",
              "      <td>...</td>\n",
              "    </tr>\n",
              "    <tr>\n",
              "      <th>5953</th>\n",
              "      <td>59</td>\n",
              "      <td>22168</td>\n",
              "      <td>0</td>\n",
              "      <td>0.0</td>\n",
              "    </tr>\n",
              "    <tr>\n",
              "      <th>442284</th>\n",
              "      <td>59</td>\n",
              "      <td>22168</td>\n",
              "      <td>1</td>\n",
              "      <td>0.0</td>\n",
              "    </tr>\n",
              "    <tr>\n",
              "      <th>1104210</th>\n",
              "      <td>59</td>\n",
              "      <td>22168</td>\n",
              "      <td>2</td>\n",
              "      <td>0.0</td>\n",
              "    </tr>\n",
              "    <tr>\n",
              "      <th>3339045</th>\n",
              "      <td>59</td>\n",
              "      <td>22168</td>\n",
              "      <td>8</td>\n",
              "      <td>0.0</td>\n",
              "    </tr>\n",
              "    <tr>\n",
              "      <th>5254803</th>\n",
              "      <td>59</td>\n",
              "      <td>22169</td>\n",
              "      <td>14</td>\n",
              "      <td>0.0</td>\n",
              "    </tr>\n",
              "  </tbody>\n",
              "</table>\n",
              "<p>10909361 rows × 4 columns</p>\n",
              "</div>"
            ],
            "text/plain": [
              "         shop_id  item_id  date_block_num  item_cnt_month\n",
              "606783         0       12               1             0.0\n",
              "139237         0       19               0             0.0\n",
              "141477         0       27               0             0.0\n",
              "605937         0       27               1             0.0\n",
              "144950         0       28               0             0.0\n",
              "...          ...      ...             ...             ...\n",
              "5953          59    22168               0             0.0\n",
              "442284        59    22168               1             0.0\n",
              "1104210       59    22168               2             0.0\n",
              "3339045       59    22168               8             0.0\n",
              "5254803       59    22169              14             0.0\n",
              "\n",
              "[10909361 rows x 4 columns]"
            ]
          },
          "metadata": {
            "tags": []
          },
          "execution_count": 12
        }
      ]
    },
    {
      "cell_type": "code",
      "metadata": {
        "id": "8BbWaGjDrgTl",
        "colab_type": "code",
        "colab": {}
      },
      "source": [
        "def downcasting(df) :\n",
        "    \"\"\"\n",
        "    make 2 lists onc contains index of float64 columns and the other int64 or int32,\n",
        "    then change the dtype of these column into less memory consumer data type\n",
        "    \"\"\"\n",
        "    float_cols = [ col for col in df if df[col].dtype == \"float64\" ]\n",
        "    int_cols = [col for col in df if df[col].dtype in ['int64','int32']]\n",
        "    df[float_cols] = df[float_cols].astype(np.float32)\n",
        "    df[int_cols] = df[int_cols].astype(np.int16)\n",
        "    return df"
      ],
      "execution_count": 0,
      "outputs": []
    },
    {
      "cell_type": "code",
      "metadata": {
        "id": "35_88BoOrgYM",
        "colab_type": "code",
        "outputId": "b1c3877a-530b-4500-8c60-1c590829867b",
        "colab": {
          "base_uri": "https://localhost:8080/",
          "height": 204
        }
      },
      "source": [
        "# reducing memory usage\n",
        "all_data = downcasting(all_data)\n",
        "all_data.item_cnt_month = all_data.item_cnt_month.astype('int16')\n",
        "all_data.info()"
      ],
      "execution_count": 14,
      "outputs": [
        {
          "output_type": "stream",
          "text": [
            "<class 'pandas.core.frame.DataFrame'>\n",
            "Int64Index: 10909361 entries, 606783 to 5254803\n",
            "Data columns (total 4 columns):\n",
            " #   Column          Dtype\n",
            "---  ------          -----\n",
            " 0   shop_id         int16\n",
            " 1   item_id         int16\n",
            " 2   date_block_num  int16\n",
            " 3   item_cnt_month  int16\n",
            "dtypes: int16(4)\n",
            "memory usage: 166.5 MB\n"
          ],
          "name": "stdout"
        }
      ]
    },
    {
      "cell_type": "markdown",
      "metadata": {
        "id": "kyQcktod1WEy",
        "colab_type": "text"
      },
      "source": [
        "adding category_id to mean encode it"
      ]
    },
    {
      "cell_type": "code",
      "metadata": {
        "id": "CCkrE0lJ4lLm",
        "colab_type": "code",
        "outputId": "ed0f2793-0c3f-433a-8247-2dc9ecbc22dd",
        "colab": {
          "base_uri": "https://localhost:8080/",
          "height": 419
        }
      },
      "source": [
        "# for each item_id put the item_category_id\n",
        "all_data = all_data.merge(items[['item_id','item_category_id']] ) \n",
        "test = test.merge(items[['item_id','item_category_id']])\n",
        "all_data"
      ],
      "execution_count": 15,
      "outputs": [
        {
          "output_type": "execute_result",
          "data": {
            "text/html": [
              "<div>\n",
              "<style scoped>\n",
              "    .dataframe tbody tr th:only-of-type {\n",
              "        vertical-align: middle;\n",
              "    }\n",
              "\n",
              "    .dataframe tbody tr th {\n",
              "        vertical-align: top;\n",
              "    }\n",
              "\n",
              "    .dataframe thead th {\n",
              "        text-align: right;\n",
              "    }\n",
              "</style>\n",
              "<table border=\"1\" class=\"dataframe\">\n",
              "  <thead>\n",
              "    <tr style=\"text-align: right;\">\n",
              "      <th></th>\n",
              "      <th>shop_id</th>\n",
              "      <th>item_id</th>\n",
              "      <th>date_block_num</th>\n",
              "      <th>item_cnt_month</th>\n",
              "      <th>item_category_id</th>\n",
              "    </tr>\n",
              "  </thead>\n",
              "  <tbody>\n",
              "    <tr>\n",
              "      <th>0</th>\n",
              "      <td>0</td>\n",
              "      <td>12</td>\n",
              "      <td>1</td>\n",
              "      <td>0</td>\n",
              "      <td>55</td>\n",
              "    </tr>\n",
              "    <tr>\n",
              "      <th>1</th>\n",
              "      <td>1</td>\n",
              "      <td>12</td>\n",
              "      <td>1</td>\n",
              "      <td>0</td>\n",
              "      <td>55</td>\n",
              "    </tr>\n",
              "    <tr>\n",
              "      <th>2</th>\n",
              "      <td>2</td>\n",
              "      <td>12</td>\n",
              "      <td>1</td>\n",
              "      <td>0</td>\n",
              "      <td>55</td>\n",
              "    </tr>\n",
              "    <tr>\n",
              "      <th>3</th>\n",
              "      <td>3</td>\n",
              "      <td>12</td>\n",
              "      <td>1</td>\n",
              "      <td>0</td>\n",
              "      <td>55</td>\n",
              "    </tr>\n",
              "    <tr>\n",
              "      <th>4</th>\n",
              "      <td>4</td>\n",
              "      <td>12</td>\n",
              "      <td>1</td>\n",
              "      <td>0</td>\n",
              "      <td>55</td>\n",
              "    </tr>\n",
              "    <tr>\n",
              "      <th>...</th>\n",
              "      <td>...</td>\n",
              "      <td>...</td>\n",
              "      <td>...</td>\n",
              "      <td>...</td>\n",
              "      <td>...</td>\n",
              "    </tr>\n",
              "    <tr>\n",
              "      <th>10909356</th>\n",
              "      <td>55</td>\n",
              "      <td>22169</td>\n",
              "      <td>14</td>\n",
              "      <td>0</td>\n",
              "      <td>69</td>\n",
              "    </tr>\n",
              "    <tr>\n",
              "      <th>10909357</th>\n",
              "      <td>56</td>\n",
              "      <td>22169</td>\n",
              "      <td>14</td>\n",
              "      <td>0</td>\n",
              "      <td>69</td>\n",
              "    </tr>\n",
              "    <tr>\n",
              "      <th>10909358</th>\n",
              "      <td>57</td>\n",
              "      <td>22169</td>\n",
              "      <td>14</td>\n",
              "      <td>0</td>\n",
              "      <td>69</td>\n",
              "    </tr>\n",
              "    <tr>\n",
              "      <th>10909359</th>\n",
              "      <td>58</td>\n",
              "      <td>22169</td>\n",
              "      <td>14</td>\n",
              "      <td>0</td>\n",
              "      <td>69</td>\n",
              "    </tr>\n",
              "    <tr>\n",
              "      <th>10909360</th>\n",
              "      <td>59</td>\n",
              "      <td>22169</td>\n",
              "      <td>14</td>\n",
              "      <td>0</td>\n",
              "      <td>69</td>\n",
              "    </tr>\n",
              "  </tbody>\n",
              "</table>\n",
              "<p>10909361 rows × 5 columns</p>\n",
              "</div>"
            ],
            "text/plain": [
              "          shop_id  item_id  date_block_num  item_cnt_month  item_category_id\n",
              "0               0       12               1               0                55\n",
              "1               1       12               1               0                55\n",
              "2               2       12               1               0                55\n",
              "3               3       12               1               0                55\n",
              "4               4       12               1               0                55\n",
              "...           ...      ...             ...             ...               ...\n",
              "10909356       55    22169              14               0                69\n",
              "10909357       56    22169              14               0                69\n",
              "10909358       57    22169              14               0                69\n",
              "10909359       58    22169              14               0                69\n",
              "10909360       59    22169              14               0                69\n",
              "\n",
              "[10909361 rows x 5 columns]"
            ]
          },
          "metadata": {
            "tags": []
          },
          "execution_count": 15
        }
      ]
    },
    {
      "cell_type": "code",
      "metadata": {
        "id": "UP5qIuSjyck2",
        "colab_type": "code",
        "outputId": "d00b7006-8a08-48e7-a7d0-16fe57c9970b",
        "colab": {
          "base_uri": "https://localhost:8080/",
          "height": 119
        }
      },
      "source": [
        "all_data.isna().sum() # no nulls and every thing is right"
      ],
      "execution_count": 0,
      "outputs": [
        {
          "output_type": "execute_result",
          "data": {
            "text/plain": [
              "shop_id             0\n",
              "item_id             0\n",
              "date_block_num      0\n",
              "item_cnt_month      0\n",
              "item_category_id    0\n",
              "dtype: int64"
            ]
          },
          "metadata": {
            "tags": []
          },
          "execution_count": 30
        }
      ]
    },
    {
      "cell_type": "markdown",
      "metadata": {
        "id": "rPk37XecmUFL",
        "colab_type": "text"
      },
      "source": [
        "working with item category"
      ]
    },
    {
      "cell_type": "code",
      "metadata": {
        "id": "s2baAGA1mjJS",
        "colab_type": "code",
        "outputId": "967238be-f759-481b-8c0f-4c789260c3e8",
        "colab": {
          "base_uri": "https://localhost:8080/",
          "height": 419
        }
      },
      "source": [
        "item_categories"
      ],
      "execution_count": 0,
      "outputs": [
        {
          "output_type": "execute_result",
          "data": {
            "text/html": [
              "<div>\n",
              "<style scoped>\n",
              "    .dataframe tbody tr th:only-of-type {\n",
              "        vertical-align: middle;\n",
              "    }\n",
              "\n",
              "    .dataframe tbody tr th {\n",
              "        vertical-align: top;\n",
              "    }\n",
              "\n",
              "    .dataframe thead th {\n",
              "        text-align: right;\n",
              "    }\n",
              "</style>\n",
              "<table border=\"1\" class=\"dataframe\">\n",
              "  <thead>\n",
              "    <tr style=\"text-align: right;\">\n",
              "      <th></th>\n",
              "      <th>item_category_id</th>\n",
              "      <th>item_category_name_translated</th>\n",
              "    </tr>\n",
              "  </thead>\n",
              "  <tbody>\n",
              "    <tr>\n",
              "      <th>0</th>\n",
              "      <td>0</td>\n",
              "      <td>PC - Headsets / Headphones</td>\n",
              "    </tr>\n",
              "    <tr>\n",
              "      <th>1</th>\n",
              "      <td>1</td>\n",
              "      <td>Accessories - PS2</td>\n",
              "    </tr>\n",
              "    <tr>\n",
              "      <th>2</th>\n",
              "      <td>2</td>\n",
              "      <td>Accessories - PS3</td>\n",
              "    </tr>\n",
              "    <tr>\n",
              "      <th>3</th>\n",
              "      <td>3</td>\n",
              "      <td>Accessories - PS4</td>\n",
              "    </tr>\n",
              "    <tr>\n",
              "      <th>4</th>\n",
              "      <td>4</td>\n",
              "      <td>Accessories - PSP</td>\n",
              "    </tr>\n",
              "    <tr>\n",
              "      <th>...</th>\n",
              "      <td>...</td>\n",
              "      <td>...</td>\n",
              "    </tr>\n",
              "    <tr>\n",
              "      <th>79</th>\n",
              "      <td>79</td>\n",
              "      <td>Office</td>\n",
              "    </tr>\n",
              "    <tr>\n",
              "      <th>80</th>\n",
              "      <td>80</td>\n",
              "      <td>Official - Tickets</td>\n",
              "    </tr>\n",
              "    <tr>\n",
              "      <th>81</th>\n",
              "      <td>81</td>\n",
              "      <td>Clean carriers (spire)</td>\n",
              "    </tr>\n",
              "    <tr>\n",
              "      <th>82</th>\n",
              "      <td>82</td>\n",
              "      <td>Clean media (piece)</td>\n",
              "    </tr>\n",
              "    <tr>\n",
              "      <th>83</th>\n",
              "      <td>83</td>\n",
              "      <td>Elements of a food</td>\n",
              "    </tr>\n",
              "  </tbody>\n",
              "</table>\n",
              "<p>84 rows × 2 columns</p>\n",
              "</div>"
            ],
            "text/plain": [
              "    item_category_id item_category_name_translated\n",
              "0                  0    PC - Headsets / Headphones\n",
              "1                  1             Accessories - PS2\n",
              "2                  2             Accessories - PS3\n",
              "3                  3             Accessories - PS4\n",
              "4                  4             Accessories - PSP\n",
              "..               ...                           ...\n",
              "79                79                        Office\n",
              "80                80            Official - Tickets\n",
              "81                81        Clean carriers (spire)\n",
              "82                82           Clean media (piece)\n",
              "83                83            Elements of a food\n",
              "\n",
              "[84 rows x 2 columns]"
            ]
          },
          "metadata": {
            "tags": []
          },
          "execution_count": 53
        }
      ]
    },
    {
      "cell_type": "code",
      "metadata": {
        "id": "_DN9K1GAmpmy",
        "colab_type": "code",
        "colab": {}
      },
      "source": [
        "all_data = all_data.merge(item_categories) # getting the item_category_name\n",
        "test = test.merge(item_categories) # getting the item_category_name \n",
        "\n",
        "#extracting the main_category and sub_category\n",
        "all_data['main_category'] = all_data.item_category_name_translated.str.split('-').map(lambda x: x[0].strip()) \n",
        "all_data['sub_category'] = all_data.item_category_name_translated.str.split('-').map(lambda x: x[1].strip() if len(x) > 1 else x[0].strip())\n",
        "\n",
        "test['main_category'] = test.item_category_name_translated.str.split('-').map(lambda x: x[0].strip()) \n",
        "test['sub_category'] = test.item_category_name_translated.str.split('-').map(lambda x: x[1].strip() if len(x) > 1 else x[0].strip())\n"
      ],
      "execution_count": 0,
      "outputs": []
    },
    {
      "cell_type": "markdown",
      "metadata": {
        "id": "9jpaBWa5m2zL",
        "colab_type": "text"
      },
      "source": [
        "working with shop name"
      ]
    },
    {
      "cell_type": "code",
      "metadata": {
        "id": "7mUb-VA4mRt3",
        "colab_type": "code",
        "outputId": "6ac21403-b15d-4609-d4f3-8e6f8f939779",
        "colab": {
          "base_uri": "https://localhost:8080/",
          "height": 136
        }
      },
      "source": [
        "shops.shop_name_translated.unique()[:10]"
      ],
      "execution_count": 0,
      "outputs": [
        {
          "output_type": "execute_result",
          "data": {
            "text/plain": [
              "array(['Yakutsk Ordzhonikidze, 56 francs', 'Yakutsk TC \"Central\" franc',\n",
              "       'Adygea Shopping Center \"Mega\"',\n",
              "       'Balashikha TRK \"October-Kinomir\"',\n",
              "       'Volzhsky shopping center \"Volga Mall\"',\n",
              "       'Vologda Shopping and Entertainment Center \"Marmalade\"',\n",
              "       'Voronezh (Plekhanovskaya, 13)', 'Voronezh TRC \"Maksimir\"',\n",
              "       'Voronezh TRC City-Park \"Grad\"', 'Outbound Trade'], dtype=object)"
            ]
          },
          "metadata": {
            "tags": []
          },
          "execution_count": 54
        }
      ]
    },
    {
      "cell_type": "markdown",
      "metadata": {
        "id": "VQ-P-XaEnbdU",
        "colab_type": "text"
      },
      "source": [
        "the shop name starts with a city name"
      ]
    },
    {
      "cell_type": "code",
      "metadata": {
        "id": "Kx0T4nAOm0D8",
        "colab_type": "code",
        "colab": {}
      },
      "source": [
        "all_data = all_data.merge(shops) #adding shop_name\n",
        "all_data['city'] = all_data.shop_name_translated.str.split(' ').map(lambda x : x[0]) #the first word is a city name\n",
        "\n",
        "test = test.merge(shops) #adding shop_name\n",
        "test['city'] = test.shop_name_translated.str.split(' ').map(lambda x : x[0]) #the first word is a city name"
      ],
      "execution_count": 0,
      "outputs": []
    },
    {
      "cell_type": "markdown",
      "metadata": {
        "id": "mjGeMkBQm8p2",
        "colab_type": "text"
      },
      "source": [
        "adding the year and month"
      ]
    },
    {
      "cell_type": "code",
      "metadata": {
        "id": "34d3N1dgnJK_",
        "colab_type": "code",
        "colab": {}
      },
      "source": [
        "all_data['year'] = all_data['date_block_num'].map(lambda x : 2013 if x < 12 else 2014 if x < 24 else 2015)\n",
        "test['year'] = 2015"
      ],
      "execution_count": 0,
      "outputs": []
    },
    {
      "cell_type": "code",
      "metadata": {
        "id": "l9GqQ7dvnLNG",
        "colab_type": "code",
        "colab": {}
      },
      "source": [
        "all_data['month'] = all_data['date_block_num'] % 12\n",
        "test['month'] = test['date_block_num'] % 12"
      ],
      "execution_count": 0,
      "outputs": []
    },
    {
      "cell_type": "markdown",
      "metadata": {
        "id": "KSmwRUQVsNkF",
        "colab_type": "text"
      },
      "source": [
        "Working with regularized mean encoding in order to decrease the leakage"
      ]
    },
    {
      "cell_type": "code",
      "metadata": {
        "id": "oom77WQurgwB",
        "colab_type": "code",
        "colab": {}
      },
      "source": [
        "# encoding item_id, category_id, shop_id\n",
        "kf = KFold(n_splits = 5 , shuffle = False)\n",
        "for train_ind, val_ind in kf.split(all_data) :\n",
        "    train_data , val_data = all_data.iloc[train_ind], all_data.iloc[val_ind]\n",
        "    all_data.loc[all_data.index[val_ind] , 'item_target_enc'] = val_data['item_id'].map(train_data.groupby('item_id')['item_cnt_month'].mean())\n",
        "    all_data.loc[all_data.index[val_ind] , 'category_target_enc'] = val_data['item_category_id'].map(train_data.groupby('item_category_id')['item_cnt_month'].mean())\n",
        "    all_data.loc[all_data.index[val_ind] , 'shop_target_enc'] = val_data['shop_id'].map(train_data.groupby('shop_id')['item_cnt_month'].mean())\n",
        "    all_data.loc[all_data.index[val_ind] , 'city_target_enc'] = val_data['city'].map(train_data.groupby('city')['item_cnt_month'].mean())\n",
        "    all_data.loc[all_data.index[val_ind] , 'main_category_target_enc'] = val_data['main_category'].map(train_data.groupby('main_category')['item_cnt_month'].mean())\n",
        "    all_data.loc[all_data.index[val_ind] , 'sub_category_target_enc'] = val_data['sub_category'].map(train_data.groupby('sub_category')['item_cnt_month'].mean())\n",
        "    all_data.loc[all_data.index[val_ind] , 'year_target_enc'] = val_data['year'].map(train_data.groupby('year')['item_cnt_month'].mean())\n",
        "    all_data.loc[all_data.index[val_ind] , 'month_target_enc'] = val_data['month'].map(train_data.groupby('month')['item_cnt_month'].mean())\n",
        "\n",
        "all_data.fillna(all_data.item_cnt_month.mean(), inplace=True) # fill na that happend from values in validation not in the train with the global mean    "
      ],
      "execution_count": 0,
      "outputs": []
    },
    {
      "cell_type": "code",
      "metadata": {
        "id": "Vwy8iREZrgtr",
        "colab_type": "code",
        "colab": {}
      },
      "source": [
        "# making a column to map item_target_enc to the test set\n",
        "item_mean_enc = all_data.groupby('item_id')['item_target_enc'].unique()\n",
        "item_mean_enc = item_mean_enc.apply(lambda x: x.mean())\n",
        "test['item_target_enc'] = test['item_id'].map(item_mean_enc) # mapping the variable in the test \n",
        "\n",
        "# making a column to map item_category_id to the test set\n",
        "category_mean_enc = all_data.groupby('item_category_id')['category_target_enc'].unique()\n",
        "category_mean_enc = category_mean_enc.apply(lambda x: x.mean())\n",
        "test['category_target_enc'] = test['item_category_id'].map(category_mean_enc) # mapping the variable in the test \n",
        "\n",
        "# making a column to map the shop_target_enc to the test set\n",
        "shop_mean_enc = all_data.groupby('shop_id')['shop_target_enc'].unique()\n",
        "shop_mean_enc = shop_mean_enc.apply(lambda x: x.mean())\n",
        "test['shop_target_enc'] = test['shop_id'].map(shop_mean_enc) # mapping the variable in the test \n"
      ],
      "execution_count": 0,
      "outputs": []
    },
    {
      "cell_type": "code",
      "metadata": {
        "id": "6TeRWGvEoAOU",
        "colab_type": "code",
        "colab": {}
      },
      "source": [
        "# mapping city\n",
        "city_mean_enc = all_data.groupby('city')['city_target_enc'].unique()\n",
        "city_mean_enc = city_mean_enc.apply(lambda x: x.mean())\n",
        "test['city_target_enc'] = test['city'].map(city_mean_enc) # mapping the variable in the test \n",
        "\n",
        "# mapping sub_category\n",
        "sub_category_mean_enc = all_data.groupby('sub_category')['sub_category_target_enc'].unique()\n",
        "sub_category_mean_enc = sub_category_mean_enc.apply(lambda x: x.mean())\n",
        "test['sub_category_target_enc'] = test['sub_category'].map(sub_category_mean_enc) # mapping the variable in the test \n",
        "\n",
        "# mapping main_category\n",
        "main_category_mean_enc = all_data.groupby('main_category')['main_category_target_enc'].unique()\n",
        "main_category_mean_enc = main_category_mean_enc.apply(lambda x: x.mean())\n",
        "test['main_category_target_enc'] = test['main_category'].map(main_category_mean_enc) # mapping the variable in the test "
      ],
      "execution_count": 0,
      "outputs": []
    },
    {
      "cell_type": "code",
      "metadata": {
        "id": "tdH6ejPSwwco",
        "colab_type": "code",
        "colab": {}
      },
      "source": [
        "# mapping year\n",
        "year_mean_enc = all_data.groupby('year')['year_target_enc'].unique()\n",
        "year_mean_enc = year_mean_enc.apply(lambda x: x.mean())\n",
        "test['year_target_enc'] = test['year'].map(year_mean_enc) # mapping the variable in the test \n",
        "\n",
        "# mapping month\n",
        "month_mean_enc = all_data.groupby('month')['month_target_enc'].unique()\n",
        "month_mean_enc = month_mean_enc.apply(lambda x: x.mean())\n",
        "test['month_target_enc'] = test['month'].map(month_mean_enc) # mapping the variable in the test \n",
        "\n",
        "test.fillna(all_data.item_cnt_month.mean() , inplace = True)\n"
      ],
      "execution_count": 0,
      "outputs": []
    },
    {
      "cell_type": "markdown",
      "metadata": {
        "id": "4aEI3dlapZ3N",
        "colab_type": "text"
      },
      "source": [
        "droping the category name and shop name"
      ]
    },
    {
      "cell_type": "code",
      "metadata": {
        "id": "PuHm-MMtpcH9",
        "colab_type": "code",
        "colab": {}
      },
      "source": [
        "all_data.drop(['item_category_name_translated','shop_name_translated'],axis = 1, inplace = True)\n",
        "test.drop(['item_category_name_translated','shop_name_translated'],axis = 1, inplace = True)"
      ],
      "execution_count": 0,
      "outputs": []
    },
    {
      "cell_type": "code",
      "metadata": {
        "id": "ZK8jfUuZqJVK",
        "colab_type": "code",
        "outputId": "c201e4ac-0416-43c2-c982-d1fa052fb053",
        "colab": {
          "base_uri": "https://localhost:8080/",
          "height": 309
        }
      },
      "source": [
        "all_data.head()"
      ],
      "execution_count": 0,
      "outputs": [
        {
          "output_type": "execute_result",
          "data": {
            "text/html": [
              "<div>\n",
              "<style scoped>\n",
              "    .dataframe tbody tr th:only-of-type {\n",
              "        vertical-align: middle;\n",
              "    }\n",
              "\n",
              "    .dataframe tbody tr th {\n",
              "        vertical-align: top;\n",
              "    }\n",
              "\n",
              "    .dataframe thead th {\n",
              "        text-align: right;\n",
              "    }\n",
              "</style>\n",
              "<table border=\"1\" class=\"dataframe\">\n",
              "  <thead>\n",
              "    <tr style=\"text-align: right;\">\n",
              "      <th></th>\n",
              "      <th>shop_id</th>\n",
              "      <th>item_id</th>\n",
              "      <th>date_block_num</th>\n",
              "      <th>item_cnt_month</th>\n",
              "      <th>item_category_id</th>\n",
              "      <th>main_category</th>\n",
              "      <th>sub_category</th>\n",
              "      <th>city</th>\n",
              "      <th>year</th>\n",
              "      <th>month</th>\n",
              "      <th>item_target_enc</th>\n",
              "      <th>category_target_enc</th>\n",
              "      <th>shop_target_enc</th>\n",
              "      <th>city_target_enc</th>\n",
              "      <th>main_category_target_enc</th>\n",
              "      <th>sub_category_target_enc</th>\n",
              "      <th>year_target_enc</th>\n",
              "      <th>month_target_enc</th>\n",
              "    </tr>\n",
              "  </thead>\n",
              "  <tbody>\n",
              "    <tr>\n",
              "      <th>0</th>\n",
              "      <td>0</td>\n",
              "      <td>12</td>\n",
              "      <td>1</td>\n",
              "      <td>0</td>\n",
              "      <td>55</td>\n",
              "      <td>Music</td>\n",
              "      <td>CD of local production</td>\n",
              "      <td>Yakutsk</td>\n",
              "      <td>2013</td>\n",
              "      <td>1</td>\n",
              "      <td>0.030303</td>\n",
              "      <td>0.244721</td>\n",
              "      <td>0.277182</td>\n",
              "      <td>0.450697</td>\n",
              "      <td>0.188173</td>\n",
              "      <td>0.244721</td>\n",
              "      <td>0.320824</td>\n",
              "      <td>0.309346</td>\n",
              "    </tr>\n",
              "    <tr>\n",
              "      <th>1</th>\n",
              "      <td>0</td>\n",
              "      <td>970</td>\n",
              "      <td>0</td>\n",
              "      <td>0</td>\n",
              "      <td>55</td>\n",
              "      <td>Music</td>\n",
              "      <td>CD of local production</td>\n",
              "      <td>Yakutsk</td>\n",
              "      <td>2013</td>\n",
              "      <td>0</td>\n",
              "      <td>0.428073</td>\n",
              "      <td>0.244721</td>\n",
              "      <td>0.277182</td>\n",
              "      <td>0.450697</td>\n",
              "      <td>0.188173</td>\n",
              "      <td>0.244721</td>\n",
              "      <td>0.320824</td>\n",
              "      <td>0.333597</td>\n",
              "    </tr>\n",
              "    <tr>\n",
              "      <th>2</th>\n",
              "      <td>0</td>\n",
              "      <td>970</td>\n",
              "      <td>1</td>\n",
              "      <td>1</td>\n",
              "      <td>55</td>\n",
              "      <td>Music</td>\n",
              "      <td>CD of local production</td>\n",
              "      <td>Yakutsk</td>\n",
              "      <td>2013</td>\n",
              "      <td>1</td>\n",
              "      <td>0.428073</td>\n",
              "      <td>0.244721</td>\n",
              "      <td>0.277182</td>\n",
              "      <td>0.450697</td>\n",
              "      <td>0.188173</td>\n",
              "      <td>0.244721</td>\n",
              "      <td>0.320824</td>\n",
              "      <td>0.309346</td>\n",
              "    </tr>\n",
              "    <tr>\n",
              "      <th>3</th>\n",
              "      <td>0</td>\n",
              "      <td>971</td>\n",
              "      <td>0</td>\n",
              "      <td>0</td>\n",
              "      <td>55</td>\n",
              "      <td>Music</td>\n",
              "      <td>CD of local production</td>\n",
              "      <td>Yakutsk</td>\n",
              "      <td>2013</td>\n",
              "      <td>0</td>\n",
              "      <td>0.519820</td>\n",
              "      <td>0.244721</td>\n",
              "      <td>0.277182</td>\n",
              "      <td>0.450697</td>\n",
              "      <td>0.188173</td>\n",
              "      <td>0.244721</td>\n",
              "      <td>0.320824</td>\n",
              "      <td>0.333597</td>\n",
              "    </tr>\n",
              "    <tr>\n",
              "      <th>4</th>\n",
              "      <td>0</td>\n",
              "      <td>971</td>\n",
              "      <td>1</td>\n",
              "      <td>1</td>\n",
              "      <td>55</td>\n",
              "      <td>Music</td>\n",
              "      <td>CD of local production</td>\n",
              "      <td>Yakutsk</td>\n",
              "      <td>2013</td>\n",
              "      <td>1</td>\n",
              "      <td>0.519820</td>\n",
              "      <td>0.244721</td>\n",
              "      <td>0.277182</td>\n",
              "      <td>0.450697</td>\n",
              "      <td>0.188173</td>\n",
              "      <td>0.244721</td>\n",
              "      <td>0.320824</td>\n",
              "      <td>0.309346</td>\n",
              "    </tr>\n",
              "  </tbody>\n",
              "</table>\n",
              "</div>"
            ],
            "text/plain": [
              "   shop_id  item_id  ...  year_target_enc  month_target_enc\n",
              "0        0       12  ...         0.320824          0.309346\n",
              "1        0      970  ...         0.320824          0.333597\n",
              "2        0      970  ...         0.320824          0.309346\n",
              "3        0      971  ...         0.320824          0.333597\n",
              "4        0      971  ...         0.320824          0.309346\n",
              "\n",
              "[5 rows x 18 columns]"
            ]
          },
          "metadata": {
            "tags": []
          },
          "execution_count": 25
        }
      ]
    },
    {
      "cell_type": "markdown",
      "metadata": {
        "id": "aHTC0YYdeoPV",
        "colab_type": "text"
      },
      "source": [
        "seeing the importance of the added features"
      ]
    },
    {
      "cell_type": "code",
      "metadata": {
        "id": "-LlspW7RomQn",
        "colab_type": "code",
        "colab": {}
      },
      "source": [
        "# submitting in the leaderboard\n",
        "lgbm = pickle.load(open('/content/lgbm_mean_encoding.sav', 'rb'))\n",
        "test = test[all_data.drop('item_cnt_month',axis = 1).columns] # sorting the columns\n",
        "preds_lgbm = lgbm.predict(test.drop(['city','main_category','sub_category'],axis = 1))\n",
        "sub = sample_submission\n",
        "sub.item_cnt_month = preds_lgbm\n",
        "sub.to_csv('lgbm_mean_encoding2.csv' , index = False)"
      ],
      "execution_count": 0,
      "outputs": []
    },
    {
      "cell_type": "code",
      "metadata": {
        "id": "gewOiyk0vaEV",
        "colab_type": "code",
        "outputId": "b329c0cd-5fe2-4ce5-ca93-5cabd13ef5c6",
        "colab": {
          "base_uri": "https://localhost:8080/",
          "height": 789
        }
      },
      "source": [
        "# ploting the importance\n",
        "lgbm = pickle.load(open('/content/lgbm_mean_encoding.sav', 'rb'))\n",
        "plt.style.use('ggplot')\n",
        "ax = plot_importance(lgbm)\n",
        "fig = ax.figure\n",
        "fig.set_size_inches(9, 13)\n"
      ],
      "execution_count": 0,
      "outputs": [
        {
          "output_type": "display_data",
          "data": {
            "image/png": "[encoded data removed]",
            "text/plain": [
              "<Figure size 648x936 with 1 Axes>"
            ]
          },
          "metadata": {
            "tags": []
          }
        }
      ]
    },
    {
      "cell_type": "markdown",
      "metadata": {
        "id": "fGZMGQok_oUT",
        "colab_type": "text"
      },
      "source": [
        "Mean encodnig improved the model performance the RMSE is about `1.25`"
      ]
    },
    {
      "cell_type": "markdown",
      "metadata": {
        "id": "Yb1yhw5lsZe0",
        "colab_type": "text"
      },
      "source": [
        "working with the price "
      ]
    },
    {
      "cell_type": "code",
      "metadata": {
        "id": "nDHWJEK6tGfI",
        "colab_type": "code",
        "outputId": "98043643-201b-4c8e-aa3e-dfe99d333eec",
        "colab": {
          "base_uri": "https://localhost:8080/",
          "height": 419
        }
      },
      "source": [
        "item_prices = pd.DataFrame(sales.groupby('item_id')['item_price'].unique()).reset_index()\n",
        "item_prices"
      ],
      "execution_count": 28,
      "outputs": [
        {
          "output_type": "execute_result",
          "data": {
            "text/html": [
              "<div>\n",
              "<style scoped>\n",
              "    .dataframe tbody tr th:only-of-type {\n",
              "        vertical-align: middle;\n",
              "    }\n",
              "\n",
              "    .dataframe tbody tr th {\n",
              "        vertical-align: top;\n",
              "    }\n",
              "\n",
              "    .dataframe thead th {\n",
              "        text-align: right;\n",
              "    }\n",
              "</style>\n",
              "<table border=\"1\" class=\"dataframe\">\n",
              "  <thead>\n",
              "    <tr style=\"text-align: right;\">\n",
              "      <th></th>\n",
              "      <th>item_id</th>\n",
              "      <th>item_price</th>\n",
              "    </tr>\n",
              "  </thead>\n",
              "  <tbody>\n",
              "    <tr>\n",
              "      <th>0</th>\n",
              "      <td>0</td>\n",
              "      <td>[58.0]</td>\n",
              "    </tr>\n",
              "    <tr>\n",
              "      <th>1</th>\n",
              "      <td>1</td>\n",
              "      <td>[4490.0]</td>\n",
              "    </tr>\n",
              "    <tr>\n",
              "      <th>2</th>\n",
              "      <td>2</td>\n",
              "      <td>[58.0]</td>\n",
              "    </tr>\n",
              "    <tr>\n",
              "      <th>3</th>\n",
              "      <td>3</td>\n",
              "      <td>[100.0, 58.0]</td>\n",
              "    </tr>\n",
              "    <tr>\n",
              "      <th>4</th>\n",
              "      <td>4</td>\n",
              "      <td>[58.0]</td>\n",
              "    </tr>\n",
              "    <tr>\n",
              "      <th>...</th>\n",
              "      <td>...</td>\n",
              "      <td>...</td>\n",
              "    </tr>\n",
              "    <tr>\n",
              "      <th>21777</th>\n",
              "      <td>22165</td>\n",
              "      <td>[59.0]</td>\n",
              "    </tr>\n",
              "    <tr>\n",
              "      <th>21778</th>\n",
              "      <td>22166</td>\n",
              "      <td>[150.0]</td>\n",
              "    </tr>\n",
              "    <tr>\n",
              "      <th>21779</th>\n",
              "      <td>22167</td>\n",
              "      <td>[299.0, 287.0, 155.0, 239.2, 284.0, 268.9, 269...</td>\n",
              "    </tr>\n",
              "    <tr>\n",
              "      <th>21780</th>\n",
              "      <td>22168</td>\n",
              "      <td>[799.0, 798.5]</td>\n",
              "    </tr>\n",
              "    <tr>\n",
              "      <th>21781</th>\n",
              "      <td>22169</td>\n",
              "      <td>[4349.0]</td>\n",
              "    </tr>\n",
              "  </tbody>\n",
              "</table>\n",
              "<p>21782 rows × 2 columns</p>\n",
              "</div>"
            ],
            "text/plain": [
              "       item_id                                         item_price\n",
              "0            0                                             [58.0]\n",
              "1            1                                           [4490.0]\n",
              "2            2                                             [58.0]\n",
              "3            3                                      [100.0, 58.0]\n",
              "4            4                                             [58.0]\n",
              "...        ...                                                ...\n",
              "21777    22165                                             [59.0]\n",
              "21778    22166                                            [150.0]\n",
              "21779    22167  [299.0, 287.0, 155.0, 239.2, 284.0, 268.9, 269...\n",
              "21780    22168                                     [799.0, 798.5]\n",
              "21781    22169                                           [4349.0]\n",
              "\n",
              "[21782 rows x 2 columns]"
            ]
          },
          "metadata": {
            "tags": []
          },
          "execution_count": 28
        }
      ]
    },
    {
      "cell_type": "code",
      "metadata": {
        "id": "CPStOUTY3RDt",
        "colab_type": "code",
        "colab": {}
      },
      "source": [
        "# taking different statictical measurements of the price\n",
        "item_prices['mean_price'] = item_prices.item_price.apply(lambda p : np.mean(p))"
      ],
      "execution_count": 0,
      "outputs": []
    },
    {
      "cell_type": "code",
      "metadata": {
        "id": "B48ib3y36Dxg",
        "colab_type": "code",
        "outputId": "65889115-4972-4f43-b38e-3a61551b5048",
        "colab": {
          "base_uri": "https://localhost:8080/",
          "height": 419
        }
      },
      "source": [
        "item_prices"
      ],
      "execution_count": 0,
      "outputs": [
        {
          "output_type": "execute_result",
          "data": {
            "text/html": [
              "<div>\n",
              "<style scoped>\n",
              "    .dataframe tbody tr th:only-of-type {\n",
              "        vertical-align: middle;\n",
              "    }\n",
              "\n",
              "    .dataframe tbody tr th {\n",
              "        vertical-align: top;\n",
              "    }\n",
              "\n",
              "    .dataframe thead th {\n",
              "        text-align: right;\n",
              "    }\n",
              "</style>\n",
              "<table border=\"1\" class=\"dataframe\">\n",
              "  <thead>\n",
              "    <tr style=\"text-align: right;\">\n",
              "      <th></th>\n",
              "      <th>item_id</th>\n",
              "      <th>item_price</th>\n",
              "      <th>mean_price</th>\n",
              "    </tr>\n",
              "  </thead>\n",
              "  <tbody>\n",
              "    <tr>\n",
              "      <th>0</th>\n",
              "      <td>0</td>\n",
              "      <td>[58.0]</td>\n",
              "      <td>58.00000</td>\n",
              "    </tr>\n",
              "    <tr>\n",
              "      <th>1</th>\n",
              "      <td>1</td>\n",
              "      <td>[4490.0]</td>\n",
              "      <td>4490.00000</td>\n",
              "    </tr>\n",
              "    <tr>\n",
              "      <th>2</th>\n",
              "      <td>2</td>\n",
              "      <td>[58.0]</td>\n",
              "      <td>58.00000</td>\n",
              "    </tr>\n",
              "    <tr>\n",
              "      <th>3</th>\n",
              "      <td>3</td>\n",
              "      <td>[100.0, 58.0]</td>\n",
              "      <td>79.00000</td>\n",
              "    </tr>\n",
              "    <tr>\n",
              "      <th>4</th>\n",
              "      <td>4</td>\n",
              "      <td>[58.0]</td>\n",
              "      <td>58.00000</td>\n",
              "    </tr>\n",
              "    <tr>\n",
              "      <th>...</th>\n",
              "      <td>...</td>\n",
              "      <td>...</td>\n",
              "      <td>...</td>\n",
              "    </tr>\n",
              "    <tr>\n",
              "      <th>21777</th>\n",
              "      <td>22165</td>\n",
              "      <td>[59.0]</td>\n",
              "      <td>59.00000</td>\n",
              "    </tr>\n",
              "    <tr>\n",
              "      <th>21778</th>\n",
              "      <td>22166</td>\n",
              "      <td>[150.0]</td>\n",
              "      <td>150.00000</td>\n",
              "    </tr>\n",
              "    <tr>\n",
              "      <th>21779</th>\n",
              "      <td>22167</td>\n",
              "      <td>[299.0, 287.0, 155.0, 239.2, 284.0, 268.9, 269...</td>\n",
              "      <td>257.04375</td>\n",
              "    </tr>\n",
              "    <tr>\n",
              "      <th>21780</th>\n",
              "      <td>22168</td>\n",
              "      <td>[799.0, 798.5]</td>\n",
              "      <td>798.75000</td>\n",
              "    </tr>\n",
              "    <tr>\n",
              "      <th>21781</th>\n",
              "      <td>22169</td>\n",
              "      <td>[4349.0]</td>\n",
              "      <td>4349.00000</td>\n",
              "    </tr>\n",
              "  </tbody>\n",
              "</table>\n",
              "<p>21782 rows × 3 columns</p>\n",
              "</div>"
            ],
            "text/plain": [
              "       item_id                                         item_price  mean_price\n",
              "0            0                                             [58.0]    58.00000\n",
              "1            1                                           [4490.0]  4490.00000\n",
              "2            2                                             [58.0]    58.00000\n",
              "3            3                                      [100.0, 58.0]    79.00000\n",
              "4            4                                             [58.0]    58.00000\n",
              "...        ...                                                ...         ...\n",
              "21777    22165                                             [59.0]    59.00000\n",
              "21778    22166                                            [150.0]   150.00000\n",
              "21779    22167  [299.0, 287.0, 155.0, 239.2, 284.0, 268.9, 269...   257.04375\n",
              "21780    22168                                     [799.0, 798.5]   798.75000\n",
              "21781    22169                                           [4349.0]  4349.00000\n",
              "\n",
              "[21782 rows x 3 columns]"
            ]
          },
          "metadata": {
            "tags": []
          },
          "execution_count": 34
        }
      ]
    },
    {
      "cell_type": "markdown",
      "metadata": {
        "id": "ADZKVAIcSrXM",
        "colab_type": "text"
      },
      "source": [
        "adding mean_price and removing item_price"
      ]
    },
    {
      "cell_type": "code",
      "metadata": {
        "id": "oqLQsxqp9RPq",
        "colab_type": "code",
        "outputId": "1249d440-c24c-4fa1-99bb-2649ff19059b",
        "colab": {
          "base_uri": "https://localhost:8080/",
          "height": 309
        }
      },
      "source": [
        "all_data = all_data.merge(item_prices.drop('item_price',axis = 1) , how = 'left' , on = 'item_id')\n",
        "test = test.merge(item_prices.drop('item_price',axis = 1) , how = 'left' , on = 'item_id')\n",
        "all_data.head()"
      ],
      "execution_count": 30,
      "outputs": [
        {
          "output_type": "execute_result",
          "data": {
            "text/html": [
              "<div>\n",
              "<style scoped>\n",
              "    .dataframe tbody tr th:only-of-type {\n",
              "        vertical-align: middle;\n",
              "    }\n",
              "\n",
              "    .dataframe tbody tr th {\n",
              "        vertical-align: top;\n",
              "    }\n",
              "\n",
              "    .dataframe thead th {\n",
              "        text-align: right;\n",
              "    }\n",
              "</style>\n",
              "<table border=\"1\" class=\"dataframe\">\n",
              "  <thead>\n",
              "    <tr style=\"text-align: right;\">\n",
              "      <th></th>\n",
              "      <th>shop_id</th>\n",
              "      <th>item_id</th>\n",
              "      <th>date_block_num</th>\n",
              "      <th>item_cnt_month</th>\n",
              "      <th>item_category_id</th>\n",
              "      <th>main_category</th>\n",
              "      <th>sub_category</th>\n",
              "      <th>city</th>\n",
              "      <th>year</th>\n",
              "      <th>month</th>\n",
              "      <th>item_target_enc</th>\n",
              "      <th>category_target_enc</th>\n",
              "      <th>shop_target_enc</th>\n",
              "      <th>city_target_enc</th>\n",
              "      <th>main_category_target_enc</th>\n",
              "      <th>sub_category_target_enc</th>\n",
              "      <th>year_target_enc</th>\n",
              "      <th>month_target_enc</th>\n",
              "      <th>mean_price</th>\n",
              "    </tr>\n",
              "  </thead>\n",
              "  <tbody>\n",
              "    <tr>\n",
              "      <th>0</th>\n",
              "      <td>0</td>\n",
              "      <td>12</td>\n",
              "      <td>1</td>\n",
              "      <td>0</td>\n",
              "      <td>55</td>\n",
              "      <td>Music</td>\n",
              "      <td>CD of local production</td>\n",
              "      <td>Yakutsk</td>\n",
              "      <td>2013</td>\n",
              "      <td>1</td>\n",
              "      <td>0.030303</td>\n",
              "      <td>0.244721</td>\n",
              "      <td>0.277182</td>\n",
              "      <td>0.450697</td>\n",
              "      <td>0.188173</td>\n",
              "      <td>0.244721</td>\n",
              "      <td>0.320824</td>\n",
              "      <td>0.309346</td>\n",
              "      <td>189.000000</td>\n",
              "    </tr>\n",
              "    <tr>\n",
              "      <th>1</th>\n",
              "      <td>0</td>\n",
              "      <td>970</td>\n",
              "      <td>0</td>\n",
              "      <td>0</td>\n",
              "      <td>55</td>\n",
              "      <td>Music</td>\n",
              "      <td>CD of local production</td>\n",
              "      <td>Yakutsk</td>\n",
              "      <td>2013</td>\n",
              "      <td>0</td>\n",
              "      <td>0.428073</td>\n",
              "      <td>0.244721</td>\n",
              "      <td>0.277182</td>\n",
              "      <td>0.450697</td>\n",
              "      <td>0.188173</td>\n",
              "      <td>0.244721</td>\n",
              "      <td>0.320824</td>\n",
              "      <td>0.333597</td>\n",
              "      <td>270.705000</td>\n",
              "    </tr>\n",
              "    <tr>\n",
              "      <th>2</th>\n",
              "      <td>0</td>\n",
              "      <td>970</td>\n",
              "      <td>1</td>\n",
              "      <td>1</td>\n",
              "      <td>55</td>\n",
              "      <td>Music</td>\n",
              "      <td>CD of local production</td>\n",
              "      <td>Yakutsk</td>\n",
              "      <td>2013</td>\n",
              "      <td>1</td>\n",
              "      <td>0.428073</td>\n",
              "      <td>0.244721</td>\n",
              "      <td>0.277182</td>\n",
              "      <td>0.450697</td>\n",
              "      <td>0.188173</td>\n",
              "      <td>0.244721</td>\n",
              "      <td>0.320824</td>\n",
              "      <td>0.309346</td>\n",
              "      <td>270.705000</td>\n",
              "    </tr>\n",
              "    <tr>\n",
              "      <th>3</th>\n",
              "      <td>0</td>\n",
              "      <td>971</td>\n",
              "      <td>0</td>\n",
              "      <td>0</td>\n",
              "      <td>55</td>\n",
              "      <td>Music</td>\n",
              "      <td>CD of local production</td>\n",
              "      <td>Yakutsk</td>\n",
              "      <td>2013</td>\n",
              "      <td>0</td>\n",
              "      <td>0.519820</td>\n",
              "      <td>0.244721</td>\n",
              "      <td>0.277182</td>\n",
              "      <td>0.450697</td>\n",
              "      <td>0.188173</td>\n",
              "      <td>0.244721</td>\n",
              "      <td>0.320824</td>\n",
              "      <td>0.333597</td>\n",
              "      <td>266.845455</td>\n",
              "    </tr>\n",
              "    <tr>\n",
              "      <th>4</th>\n",
              "      <td>0</td>\n",
              "      <td>971</td>\n",
              "      <td>1</td>\n",
              "      <td>1</td>\n",
              "      <td>55</td>\n",
              "      <td>Music</td>\n",
              "      <td>CD of local production</td>\n",
              "      <td>Yakutsk</td>\n",
              "      <td>2013</td>\n",
              "      <td>1</td>\n",
              "      <td>0.519820</td>\n",
              "      <td>0.244721</td>\n",
              "      <td>0.277182</td>\n",
              "      <td>0.450697</td>\n",
              "      <td>0.188173</td>\n",
              "      <td>0.244721</td>\n",
              "      <td>0.320824</td>\n",
              "      <td>0.309346</td>\n",
              "      <td>266.845455</td>\n",
              "    </tr>\n",
              "  </tbody>\n",
              "</table>\n",
              "</div>"
            ],
            "text/plain": [
              "   shop_id  item_id  ...  month_target_enc  mean_price\n",
              "0        0       12  ...          0.309346  189.000000\n",
              "1        0      970  ...          0.333597  270.705000\n",
              "2        0      970  ...          0.309346  270.705000\n",
              "3        0      971  ...          0.333597  266.845455\n",
              "4        0      971  ...          0.309346  266.845455\n",
              "\n",
              "[5 rows x 19 columns]"
            ]
          },
          "metadata": {
            "tags": []
          },
          "execution_count": 30
        }
      ]
    },
    {
      "cell_type": "code",
      "metadata": {
        "id": "N-bBfCz7HeRN",
        "colab_type": "code",
        "outputId": "9a5d12b9-956d-456b-99e7-f850d2e7c886",
        "colab": {
          "base_uri": "https://localhost:8080/",
          "height": 340
        }
      },
      "source": [
        "test.isna().sum() # let's see if there are any nulls"
      ],
      "execution_count": 0,
      "outputs": [
        {
          "output_type": "execute_result",
          "data": {
            "text/plain": [
              "date_block_num                  0\n",
              "shop_id                         0\n",
              "item_id                         0\n",
              "year                            0\n",
              "item_category_id                0\n",
              "main_category                   0\n",
              "sub_category                    0\n",
              "city                            0\n",
              "month                           0\n",
              "item_target_enc                 0\n",
              "category_target_enc             0\n",
              "shop_target_enc                 0\n",
              "city_target_enc                 0\n",
              "sub_category_target_enc         0\n",
              "main_category_target_enc        0\n",
              "year_target_enc                 0\n",
              "month_target_enc                0\n",
              "mean_price                  15582\n",
              "dtype: int64"
            ]
          },
          "metadata": {
            "tags": []
          },
          "execution_count": 30
        }
      ]
    },
    {
      "cell_type": "code",
      "metadata": {
        "id": "5NIet0WtHiBH",
        "colab_type": "code",
        "outputId": "30c2cd23-875d-46c2-fe9e-5e05f911a952",
        "colab": {
          "base_uri": "https://localhost:8080/",
          "height": 34
        }
      },
      "source": [
        "len([i for i in test.item_id.unique() if i not in sales.item_id.unique()]) # how many item_id is in the test and not in the train"
      ],
      "execution_count": 0,
      "outputs": [
        {
          "output_type": "execute_result",
          "data": {
            "text/plain": [
              "366"
            ]
          },
          "metadata": {
            "tags": []
          },
          "execution_count": 79
        }
      ]
    },
    {
      "cell_type": "code",
      "metadata": {
        "id": "heD4XNEpLagg",
        "colab_type": "code",
        "outputId": "de8b3206-4980-4f28-82d1-546a5a62af1d",
        "colab": {
          "base_uri": "https://localhost:8080/",
          "height": 34
        }
      },
      "source": [
        "test.item_id.nunique()"
      ],
      "execution_count": 0,
      "outputs": [
        {
          "output_type": "execute_result",
          "data": {
            "text/plain": [
              "5100"
            ]
          },
          "metadata": {
            "tags": []
          },
          "execution_count": 81
        }
      ]
    },
    {
      "cell_type": "markdown",
      "metadata": {
        "id": "DbYsVEXGHdZS",
        "colab_type": "text"
      },
      "source": [
        "there are `366` out of `5100` unique test item_id not in the train data so i will impute them with the category_id_mean_price"
      ]
    },
    {
      "cell_type": "markdown",
      "metadata": {
        "id": "sWRTURWnTu_y",
        "colab_type": "text"
      },
      "source": [
        "I will impute the missing prices with the mean price of the category of that item"
      ]
    },
    {
      "cell_type": "code",
      "metadata": {
        "id": "ZGR7uJZoIEST",
        "colab_type": "code",
        "outputId": "841963c0-dfb0-492a-a675-d4f44691f164",
        "colab": {
          "base_uri": "https://localhost:8080/",
          "height": 419
        }
      },
      "source": [
        "# for each category get its mean price\n",
        "category_mean_prices = pd.DataFrame(all_data.groupby('item_category_id')['mean_price'].mean()).reset_index()\n",
        "category_mean_prices"
      ],
      "execution_count": 31,
      "outputs": [
        {
          "output_type": "execute_result",
          "data": {
            "text/html": [
              "<div>\n",
              "<style scoped>\n",
              "    .dataframe tbody tr th:only-of-type {\n",
              "        vertical-align: middle;\n",
              "    }\n",
              "\n",
              "    .dataframe tbody tr th {\n",
              "        vertical-align: top;\n",
              "    }\n",
              "\n",
              "    .dataframe thead th {\n",
              "        text-align: right;\n",
              "    }\n",
              "</style>\n",
              "<table border=\"1\" class=\"dataframe\">\n",
              "  <thead>\n",
              "    <tr style=\"text-align: right;\">\n",
              "      <th></th>\n",
              "      <th>item_category_id</th>\n",
              "      <th>mean_price</th>\n",
              "    </tr>\n",
              "  </thead>\n",
              "  <tbody>\n",
              "    <tr>\n",
              "      <th>0</th>\n",
              "      <td>0</td>\n",
              "      <td>87.360584</td>\n",
              "    </tr>\n",
              "    <tr>\n",
              "      <th>1</th>\n",
              "      <td>1</td>\n",
              "      <td>216.241758</td>\n",
              "    </tr>\n",
              "    <tr>\n",
              "      <th>2</th>\n",
              "      <td>2</td>\n",
              "      <td>2191.908138</td>\n",
              "    </tr>\n",
              "    <tr>\n",
              "      <th>3</th>\n",
              "      <td>3</td>\n",
              "      <td>1596.001428</td>\n",
              "    </tr>\n",
              "    <tr>\n",
              "      <th>4</th>\n",
              "      <td>4</td>\n",
              "      <td>456.361383</td>\n",
              "    </tr>\n",
              "    <tr>\n",
              "      <th>...</th>\n",
              "      <td>...</td>\n",
              "      <td>...</td>\n",
              "    </tr>\n",
              "    <tr>\n",
              "      <th>79</th>\n",
              "      <td>79</td>\n",
              "      <td>1242.963256</td>\n",
              "    </tr>\n",
              "    <tr>\n",
              "      <th>80</th>\n",
              "      <td>80</td>\n",
              "      <td>1305.192888</td>\n",
              "    </tr>\n",
              "    <tr>\n",
              "      <th>81</th>\n",
              "      <td>81</td>\n",
              "      <td>206.955551</td>\n",
              "    </tr>\n",
              "    <tr>\n",
              "      <th>82</th>\n",
              "      <td>82</td>\n",
              "      <td>28.558070</td>\n",
              "    </tr>\n",
              "    <tr>\n",
              "      <th>83</th>\n",
              "      <td>83</td>\n",
              "      <td>93.479666</td>\n",
              "    </tr>\n",
              "  </tbody>\n",
              "</table>\n",
              "<p>84 rows × 2 columns</p>\n",
              "</div>"
            ],
            "text/plain": [
              "    item_category_id   mean_price\n",
              "0                  0    87.360584\n",
              "1                  1   216.241758\n",
              "2                  2  2191.908138\n",
              "3                  3  1596.001428\n",
              "4                  4   456.361383\n",
              "..               ...          ...\n",
              "79                79  1242.963256\n",
              "80                80  1305.192888\n",
              "81                81   206.955551\n",
              "82                82    28.558070\n",
              "83                83    93.479666\n",
              "\n",
              "[84 rows x 2 columns]"
            ]
          },
          "metadata": {
            "tags": []
          },
          "execution_count": 31
        }
      ]
    },
    {
      "cell_type": "code",
      "metadata": {
        "id": "rbo3PHwMVCDY",
        "colab_type": "code",
        "outputId": "a94cc14d-1964-4db1-b51f-adaf6d065bd7",
        "colab": {
          "base_uri": "https://localhost:8080/",
          "height": 1000
        }
      },
      "source": [
        "dic = {} # making a dictionary wehere each item_category correspond to mean value of that category\n",
        "for i in category_mean_prices.item_category_id.unique() :\n",
        "  dic[i] =category_mean_prices[category_mean_prices.item_category_id == i]['mean_price'].values[0]\n",
        "dic"
      ],
      "execution_count": 32,
      "outputs": [
        {
          "output_type": "execute_result",
          "data": {
            "text/plain": [
              "{0: 87.36058394160575,\n",
              " 1: 216.24175824175825,\n",
              " 2: 2191.908137974083,\n",
              " 3: 1596.0014277515747,\n",
              " 4: 456.3613826639981,\n",
              " 5: 664.2057309939919,\n",
              " 6: 1966.836552355158,\n",
              " 7: 2377.179919595368,\n",
              " 8: 1450.7297403993405,\n",
              " 9: 863.6170260511757,\n",
              " 10: 1998.0,\n",
              " 11: 11712.384644247113,\n",
              " 12: 21015.63339803605,\n",
              " 13: 4369.36928128075,\n",
              " 14: 8937.318848435265,\n",
              " 15: 10598.926745805993,\n",
              " 16: 16006.375120761595,\n",
              " 17: 2103.2018455939897,\n",
              " 18: 327.26612466124635,\n",
              " 19: 1300.2550076112263,\n",
              " 20: 2444.3782508740237,\n",
              " 21: 511.2208993692874,\n",
              " 22: 1153.8377662972225,\n",
              " 23: 1350.7328568168036,\n",
              " 24: 2099.5350973746226,\n",
              " 25: 683.6595801614263,\n",
              " 26: 170.76559974135387,\n",
              " 27: 671.3684210526316,\n",
              " 28: 507.4964676269129,\n",
              " 29: 2170.79051368398,\n",
              " 30: 318.7428358925472,\n",
              " 31: 346.47095018252634,\n",
              " 32: 908.3333333333334,\n",
              " 33: 1306.7673558416939,\n",
              " 34: 1279.5702004527375,\n",
              " 35: 1607.7932896795787,\n",
              " 36: 864.0463917525773,\n",
              " 37: 325.98571515381724,\n",
              " 38: 629.9207043548205,\n",
              " 39: 609.5874494195796,\n",
              " 40: 165.23027390275197,\n",
              " 41: 899.2285598609766,\n",
              " 42: 1077.6413494608712,\n",
              " 43: 256.2367919900757,\n",
              " 44: 151.61150541651102,\n",
              " 45: 209.67678267992477,\n",
              " 46: 299.7831241283124,\n",
              " 47: 524.1972754311123,\n",
              " 48: 275.4963503649635,\n",
              " 49: 390.261821562782,\n",
              " 50: 20.5,\n",
              " 51: 129.0,\n",
              " 52: 100.0,\n",
              " 53: 282.3333333333333,\n",
              " 54: 149.45482998830911,\n",
              " 55: 231.61877215395242,\n",
              " 56: 870.8038193204549,\n",
              " 57: 219.9208668925473,\n",
              " 58: 1664.210815682331,\n",
              " 59: 385.6175132053125,\n",
              " 60: 3585.2266299761427,\n",
              " 61: 1387.0627910205487,\n",
              " 62: 1293.503089461422,\n",
              " 63: 679.0238534069725,\n",
              " 64: 1109.4656783570847,\n",
              " 65: 375.08627372749146,\n",
              " 66: 60.01665349031818,\n",
              " 67: 642.2851551264806,\n",
              " 68: 2542.096959771564,\n",
              " 69: 912.6909136922471,\n",
              " 70: 363.6336753081737,\n",
              " 71: 8.415375885483991,\n",
              " 72: 1374.4234719391877,\n",
              " 73: 2693.5263428183443,\n",
              " 74: 3712.258847320526,\n",
              " 75: 2126.7490660191243,\n",
              " 76: 1827.2288206618466,\n",
              " 77: 199.39922018016966,\n",
              " 78: 253.0131946059056,\n",
              " 79: 1242.9632556878341,\n",
              " 80: 1305.1928880847877,\n",
              " 81: 206.95555124224185,\n",
              " 82: 28.558069620252333,\n",
              " 83: 93.4796655383369}"
            ]
          },
          "metadata": {
            "tags": []
          },
          "execution_count": 32
        }
      ]
    },
    {
      "cell_type": "code",
      "metadata": {
        "id": "ugLgAKWNVc-h",
        "colab_type": "code",
        "colab": {}
      },
      "source": [
        "# now get the index of the items that do not have prices and impute with the made dictionary\n",
        "ind = test[test.mean_price.isna()].index\n",
        "for i in ind :\n",
        "  test.loc[i , 'mean_price'] = dic[test.loc[i , 'item_category_id']]\n",
        "  \n",
        "# there are no nulls now"
      ],
      "execution_count": 0,
      "outputs": []
    },
    {
      "cell_type": "markdown",
      "metadata": {
        "id": "855rYcG6uwku",
        "colab_type": "text"
      },
      "source": [
        "# Adding lags"
      ]
    },
    {
      "cell_type": "code",
      "metadata": {
        "id": "rMx80OpUu6UC",
        "colab_type": "code",
        "colab": {}
      },
      "source": [
        "# train lags for shop_id and item_id\n",
        "lag_list = [1, 2, 3,4,5,12 ]\n",
        "\n",
        "for lag in lag_list:\n",
        "    ft_name = ('item_shop_lag_%s' % lag)\n",
        "    all_data[ft_name] = all_data.sort_values('date_block_num').groupby(['shop_id','item_id'])['item_cnt_month'].shift(lag)\n",
        "    # Fill the empty shifted features with 0\n",
        "    all_data[ft_name].fillna(0, inplace=True)"
      ],
      "execution_count": 0,
      "outputs": []
    },
    {
      "cell_type": "markdown",
      "metadata": {
        "id": "f-9-avpU-gO4",
        "colab_type": "text"
      },
      "source": [
        "adding the lags to the test data"
      ]
    },
    {
      "cell_type": "code",
      "metadata": {
        "id": "TCNDdwIJOZ14",
        "colab_type": "code",
        "colab": {}
      },
      "source": [
        "# for the shop_id - item_id lags\n",
        "def get_test_lags_shop(all_data , test, lag) :\n",
        "    \n",
        "    shifted = all_data[['date_block_num','shop_id','item_id', 'item_cnt_month']]\n",
        "    shifted.columns = ['date_block_num','shop_id','item_id', 'item_shop_lag_'+ str(lag)]\n",
        "    shifted['date_block_num'] -= lag\n",
        "    test_lag = pd.merge(test, shifted, on=['date_block_num','shop_id','item_id'] , how = 'left')\n",
        "    return test_lag['item_shop_lag_'+ str(lag)] #return the last column (the lags) "
      ],
      "execution_count": 0,
      "outputs": []
    },
    {
      "cell_type": "code",
      "metadata": {
        "id": "Bg8_TAZDP3f4",
        "colab_type": "code",
        "colab": {}
      },
      "source": [
        "test_lags = test.copy() # taking a copy to experemint with\n",
        "for lag in [1,2,3,4,5,12] :\n",
        "    lag_values = get_test_lags_shop(all_data ,test_lags, lag)\n",
        "    test_lags['item_shop_lag_'+ str(lag)] = lag_values\n",
        "test_lags.fillna(0 , inplace = True) "
      ],
      "execution_count": 0,
      "outputs": []
    },
    {
      "cell_type": "markdown",
      "metadata": {
        "id": "ynVxQLL6oeCD",
        "colab_type": "text"
      },
      "source": [
        "testing the lags impact"
      ]
    },
    {
      "cell_type": "code",
      "metadata": {
        "id": "p4B4gMG61ZHQ",
        "colab_type": "code",
        "colab": {}
      },
      "source": [
        "lgbm = LGBMRegressor(verbose = 0 , n_jobs = -1,random_state = random_state)\n",
        "lgbm.fit(all_data.drop(['item_cnt_month','city','main_category','sub_category'],axis = 1), all_data.item_cnt_month)\n",
        "\n",
        "# saving the model in order to run it again witout taking so much time\n",
        "file_name = 'lgbm_adding_lags.sav'\n",
        "pickle.dump(lgbm , open(file_name, 'wb'))\n"
      ],
      "execution_count": 0,
      "outputs": []
    },
    {
      "cell_type": "code",
      "metadata": {
        "id": "lD8BRuRHr0G-",
        "colab_type": "code",
        "colab": {}
      },
      "source": [
        "# submitting in the leaderboard\n",
        "lgbm = pickle.load(open('/content/lgbm_adding_lags.sav', 'rb'))\n",
        "preds_lgbm = lgbm.predict(test_lags.drop(['city','main_category','sub_category'],axis = 1))\n",
        "sub = sample_submission\n",
        "sub.item_cnt_month = preds_lgbm\n",
        "sub.to_csv('lgbm_adding_lags.csv' , index = False)"
      ],
      "execution_count": 0,
      "outputs": []
    },
    {
      "cell_type": "code",
      "metadata": {
        "id": "6n6MYLiyFtw1",
        "colab_type": "code",
        "outputId": "95e3dc8b-7d47-494a-f924-42a05428f756",
        "colab": {
          "base_uri": "https://localhost:8080/",
          "height": 789
        }
      },
      "source": [
        "# plot importance\n",
        "plt.style.use('ggplot')\n",
        "ax = plot_importance(lgbm)\n",
        "fig = ax.figure\n",
        "fig.set_size_inches(9, 13)\n"
      ],
      "execution_count": 0,
      "outputs": [
        {
          "output_type": "display_data",
          "data": {
            "image/png": "[encoded data removed]",
            "text/plain": [
              "<Figure size 648x936 with 1 Axes>"
            ]
          },
          "metadata": {
            "tags": []
          }
        }
      ]
    },
    {
      "cell_type": "markdown",
      "metadata": {
        "id": "loFjcHx0XeoF",
        "colab_type": "text"
      },
      "source": [
        "RMSE : `1.25644`"
      ]
    },
    {
      "cell_type": "code",
      "metadata": {
        "id": "FdNqqCnwenAL",
        "colab_type": "code",
        "colab": {}
      },
      "source": [
        "all_data.shop_id = all_data.shop_id.astype('int8')\n",
        "all_data.date_block_num = all_data.date_block_num.astype('int8')\n",
        "all_data.item_cnt_month = all_data.item_cnt_month.astype('int8')\n",
        "all_data.item_category_id = all_data.item_category_id.astype('int8')"
      ],
      "execution_count": 0,
      "outputs": []
    },
    {
      "cell_type": "markdown",
      "metadata": {
        "id": "gp7eA4NdWd1m",
        "colab_type": "text"
      },
      "source": [
        "adding interaction features with label encoding"
      ]
    },
    {
      "cell_type": "code",
      "metadata": {
        "id": "8PIQQPswqz_v",
        "colab_type": "code",
        "outputId": "86811770-492d-47f8-aadf-69c9aecacce2",
        "colab": {
          "base_uri": "https://localhost:8080/",
          "height": 34
        }
      },
      "source": [
        "pd.factorize(['A','b','c','A'])[0]"
      ],
      "execution_count": 0,
      "outputs": [
        {
          "output_type": "execute_result",
          "data": {
            "text/plain": [
              "array([0, 1, 2, 0])"
            ]
          },
          "metadata": {
            "tags": []
          },
          "execution_count": 41
        }
      ]
    },
    {
      "cell_type": "code",
      "metadata": {
        "id": "VMFS1P6EYD-D",
        "colab_type": "code",
        "colab": {}
      },
      "source": [
        "import itertools\n",
        "cat_features= ['shop_id','item_id','mean_price','month']\n",
        "# Iterate through each pair of 2 features, combine them into interaction features\n",
        "all_combinations = list(itertools.combinations(cat_features, 2))\n",
        "for combination in all_combinations: #for each pair of columns convert them to strings then join them with the + operator.\n",
        "  interaction = all_data[combination[0]].map(str) + '_' + all_data[combination[1]].map(str)\n",
        "  interaction_name = combination[0] + '_' + combination[1]\n",
        "\n",
        "  all_data[interaction_name] = pd.factorize(interaction)[0] # return the interaction column label encoded directly\n"
      ],
      "execution_count": 0,
      "outputs": []
    },
    {
      "cell_type": "code",
      "metadata": {
        "id": "-GhYm0YhYQu5",
        "colab_type": "code",
        "outputId": "fac166dc-f2a4-46d6-bda7-e11a930770d7",
        "colab": {
          "base_uri": "https://localhost:8080/",
          "height": 34
        }
      },
      "source": [
        "# let's go back to test again\n",
        "import gc\n",
        "test = test_lags.copy()\n",
        "del test_lags\n",
        "gc.collect()"
      ],
      "execution_count": 39,
      "outputs": [
        {
          "output_type": "execute_result",
          "data": {
            "text/plain": [
              "408"
            ]
          },
          "metadata": {
            "tags": []
          },
          "execution_count": 39
        }
      ]
    },
    {
      "cell_type": "code",
      "metadata": {
        "id": "oDPiSU0XY-Hk",
        "colab_type": "code",
        "colab": {}
      },
      "source": [
        "for combination in all_combinations: #for each pair of columns convert them to strings then join them with the + operator.\n",
        "  interaction = test[combination[0]].map(str) + '_' + test[combination[1]].map(str)\n",
        "  interaction_name = combination[0] + '_' + combination[1]\n",
        "  test[interaction_name] = pd.factorize(interaction)[0] # return the interaction column label encoded directly\n"
      ],
      "execution_count": 0,
      "outputs": []
    },
    {
      "cell_type": "code",
      "metadata": {
        "id": "MF6yWS21AMfQ",
        "colab_type": "code",
        "colab": {}
      },
      "source": [
        "# we don't need them any more\n",
        "all_data.drop(['city','main_category','sub_category'],axis = 1 , inplace = True)\n",
        "test.drop(['city','main_category','sub_category'],axis = 1 , inplace = True)"
      ],
      "execution_count": 0,
      "outputs": []
    },
    {
      "cell_type": "code",
      "metadata": {
        "id": "nIgQfWKx18-U",
        "colab_type": "code",
        "colab": {}
      },
      "source": [
        "lgbm = LGBMRegressor(verbose = 0 , n_jobs = -1,random_state = random_state)\n",
        "lgbm.fit(all_data.drop(['item_cnt_month'],axis = 1), all_data.item_cnt_month)\n",
        "\n",
        "# saving the model in order to run it again witout taking so much time\n",
        "file_name = 'lgbm_after_interactions.sav'\n",
        "pickle.dump(lgbm , open(file_name, 'wb'))"
      ],
      "execution_count": 0,
      "outputs": []
    },
    {
      "cell_type": "code",
      "metadata": {
        "id": "1nbOo4e52EHK",
        "colab_type": "code",
        "colab": {}
      },
      "source": [
        "# submitting in the leaderboard\n",
        "lgbm = pickle.load(open('/content/lgbm_after_interactions.sav', 'rb'))\n",
        "test = test[all_data.drop('item_cnt_month' , axis = 1).columns] # sorting columns in the same order\n",
        "preds_gbm = lgbm.predict(test)\n",
        "sub = sample_submission\n",
        "sub.item_cnt_month = preds_gbm\n",
        "sub.to_csv('lgbm_all_features_updated.csv' , index = False)"
      ],
      "execution_count": 0,
      "outputs": []
    },
    {
      "cell_type": "markdown",
      "metadata": {
        "id": "o33lOSZDa2Jd",
        "colab_type": "text"
      },
      "source": [
        "RMSE `1.23940`"
      ]
    },
    {
      "cell_type": "markdown",
      "metadata": {
        "id": "nmTrYmTr015x",
        "colab_type": "text"
      },
      "source": [
        "working on the lags"
      ]
    },
    {
      "cell_type": "code",
      "metadata": {
        "id": "mdJdFDGD03sm",
        "colab_type": "code",
        "colab": {}
      },
      "source": [
        "all_data['sum_lags'] = all_data.item_shop_lag_1 + all_data.item_shop_lag_2 + all_data.item_shop_lag_3 + all_data.item_shop_lag_4 + all_data.item_shop_lag_5\n",
        "all_data['mean_lags'] = (all_data.sum_lags/5)\n",
        "\n",
        "test['sum_lags'] = test.item_shop_lag_1 + test.item_shop_lag_2 + test.item_shop_lag_3 + test.item_shop_lag_4 + test.item_shop_lag_5\n",
        "test['mean_lags'] = (test.sum_lags/5)"
      ],
      "execution_count": 0,
      "outputs": []
    },
    {
      "cell_type": "code",
      "metadata": {
        "id": "2qSeMJaxbS9m",
        "colab_type": "code",
        "outputId": "126df6f2-ca4e-4334-a32a-d06b77ca8db7",
        "colab": {
          "base_uri": "https://localhost:8080/",
          "height": 439
        }
      },
      "source": [
        "# validating that the calculation is right\n",
        "all_data[all_data.item_cnt_month > 5][['item_cnt_month','item_shop_lag_1','item_shop_lag_2','item_shop_lag_3','item_shop_lag_4','item_shop_lag_5','sum_lags','mean_lags']]"
      ],
      "execution_count": 0,
      "outputs": [
        {
          "output_type": "execute_result",
          "data": {
            "text/html": [
              "<div>\n",
              "<style scoped>\n",
              "    .dataframe tbody tr th:only-of-type {\n",
              "        vertical-align: middle;\n",
              "    }\n",
              "\n",
              "    .dataframe tbody tr th {\n",
              "        vertical-align: top;\n",
              "    }\n",
              "\n",
              "    .dataframe thead th {\n",
              "        text-align: right;\n",
              "    }\n",
              "</style>\n",
              "<table border=\"1\" class=\"dataframe\">\n",
              "  <thead>\n",
              "    <tr style=\"text-align: right;\">\n",
              "      <th></th>\n",
              "      <th>item_cnt_month</th>\n",
              "      <th>item_shop_lag_1</th>\n",
              "      <th>item_shop_lag_2</th>\n",
              "      <th>item_shop_lag_3</th>\n",
              "      <th>item_shop_lag_4</th>\n",
              "      <th>item_shop_lag_5</th>\n",
              "      <th>sum_lags</th>\n",
              "      <th>mean_lags</th>\n",
              "    </tr>\n",
              "  </thead>\n",
              "  <tbody>\n",
              "    <tr>\n",
              "      <th>54</th>\n",
              "      <td>6</td>\n",
              "      <td>4.0</td>\n",
              "      <td>0.0</td>\n",
              "      <td>0.0</td>\n",
              "      <td>0.0</td>\n",
              "      <td>0.0</td>\n",
              "      <td>4.0</td>\n",
              "      <td>0.8</td>\n",
              "    </tr>\n",
              "    <tr>\n",
              "      <th>480</th>\n",
              "      <td>6</td>\n",
              "      <td>0.0</td>\n",
              "      <td>0.0</td>\n",
              "      <td>0.0</td>\n",
              "      <td>0.0</td>\n",
              "      <td>0.0</td>\n",
              "      <td>0.0</td>\n",
              "      <td>0.0</td>\n",
              "    </tr>\n",
              "    <tr>\n",
              "      <th>940</th>\n",
              "      <td>8</td>\n",
              "      <td>0.0</td>\n",
              "      <td>0.0</td>\n",
              "      <td>0.0</td>\n",
              "      <td>0.0</td>\n",
              "      <td>0.0</td>\n",
              "      <td>0.0</td>\n",
              "      <td>0.0</td>\n",
              "    </tr>\n",
              "    <tr>\n",
              "      <th>1972</th>\n",
              "      <td>7</td>\n",
              "      <td>4.0</td>\n",
              "      <td>0.0</td>\n",
              "      <td>0.0</td>\n",
              "      <td>0.0</td>\n",
              "      <td>0.0</td>\n",
              "      <td>4.0</td>\n",
              "      <td>0.8</td>\n",
              "    </tr>\n",
              "    <tr>\n",
              "      <th>1977</th>\n",
              "      <td>7</td>\n",
              "      <td>0.0</td>\n",
              "      <td>0.0</td>\n",
              "      <td>0.0</td>\n",
              "      <td>0.0</td>\n",
              "      <td>0.0</td>\n",
              "      <td>0.0</td>\n",
              "      <td>0.0</td>\n",
              "    </tr>\n",
              "    <tr>\n",
              "      <th>...</th>\n",
              "      <td>...</td>\n",
              "      <td>...</td>\n",
              "      <td>...</td>\n",
              "      <td>...</td>\n",
              "      <td>...</td>\n",
              "      <td>...</td>\n",
              "      <td>...</td>\n",
              "      <td>...</td>\n",
              "    </tr>\n",
              "    <tr>\n",
              "      <th>10908409</th>\n",
              "      <td>16</td>\n",
              "      <td>1.0</td>\n",
              "      <td>3.0</td>\n",
              "      <td>0.0</td>\n",
              "      <td>0.0</td>\n",
              "      <td>0.0</td>\n",
              "      <td>4.0</td>\n",
              "      <td>0.8</td>\n",
              "    </tr>\n",
              "    <tr>\n",
              "      <th>10908410</th>\n",
              "      <td>8</td>\n",
              "      <td>16.0</td>\n",
              "      <td>1.0</td>\n",
              "      <td>3.0</td>\n",
              "      <td>0.0</td>\n",
              "      <td>0.0</td>\n",
              "      <td>20.0</td>\n",
              "      <td>4.0</td>\n",
              "    </tr>\n",
              "    <tr>\n",
              "      <th>10908418</th>\n",
              "      <td>8</td>\n",
              "      <td>1.0</td>\n",
              "      <td>1.0</td>\n",
              "      <td>0.0</td>\n",
              "      <td>1.0</td>\n",
              "      <td>0.0</td>\n",
              "      <td>3.0</td>\n",
              "      <td>0.6</td>\n",
              "    </tr>\n",
              "    <tr>\n",
              "      <th>10908584</th>\n",
              "      <td>11</td>\n",
              "      <td>1.0</td>\n",
              "      <td>1.0</td>\n",
              "      <td>1.0</td>\n",
              "      <td>0.0</td>\n",
              "      <td>0.0</td>\n",
              "      <td>3.0</td>\n",
              "      <td>0.6</td>\n",
              "    </tr>\n",
              "    <tr>\n",
              "      <th>10908750</th>\n",
              "      <td>7</td>\n",
              "      <td>5.0</td>\n",
              "      <td>4.0</td>\n",
              "      <td>0.0</td>\n",
              "      <td>0.0</td>\n",
              "      <td>0.0</td>\n",
              "      <td>9.0</td>\n",
              "      <td>1.8</td>\n",
              "    </tr>\n",
              "  </tbody>\n",
              "</table>\n",
              "<p>81255 rows × 8 columns</p>\n",
              "</div>"
            ],
            "text/plain": [
              "          item_cnt_month  item_shop_lag_1  ...  sum_lags  mean_lags\n",
              "54                     6              4.0  ...       4.0        0.8\n",
              "480                    6              0.0  ...       0.0        0.0\n",
              "940                    8              0.0  ...       0.0        0.0\n",
              "1972                   7              4.0  ...       4.0        0.8\n",
              "1977                   7              0.0  ...       0.0        0.0\n",
              "...                  ...              ...  ...       ...        ...\n",
              "10908409              16              1.0  ...       4.0        0.8\n",
              "10908410               8             16.0  ...      20.0        4.0\n",
              "10908418               8              1.0  ...       3.0        0.6\n",
              "10908584              11              1.0  ...       3.0        0.6\n",
              "10908750               7              5.0  ...       9.0        1.8\n",
              "\n",
              "[81255 rows x 8 columns]"
            ]
          },
          "metadata": {
            "tags": []
          },
          "execution_count": 43
        }
      ]
    },
    {
      "cell_type": "code",
      "metadata": {
        "id": "3lqiVGD34zrT",
        "colab_type": "code",
        "colab": {}
      },
      "source": [
        "lgbm = LGBMRegressor(verbose = 0 , n_jobs = -1,random_state = random_state)\n",
        "lgbm.fit(all_data.drop(['item_cnt_month'],axis = 1), all_data.item_cnt_month)\n",
        "# saving the model in order to run it again witout taking so much time\n",
        "file_name = 'working_with_lags.sav'\n",
        "pickle.dump(lgbm , open(file_name, 'wb'))\n"
      ],
      "execution_count": 0,
      "outputs": []
    },
    {
      "cell_type": "code",
      "metadata": {
        "id": "zdSJb4gZcx53",
        "colab_type": "code",
        "colab": {}
      },
      "source": [
        "lgbm = pickle.load(open('/content/working_with_lags.sav', 'rb'))\n",
        "preds_gbm = lgbm.predict(test)\n",
        "sub = sample_submission\n",
        "sub.item_cnt_month = preds_gbm\n",
        "sub.to_csv('working_with_lags.csv' , index = False)"
      ],
      "execution_count": 0,
      "outputs": []
    },
    {
      "cell_type": "markdown",
      "metadata": {
        "id": "peebkZ4_eVwN",
        "colab_type": "text"
      },
      "source": [
        "RMSE `1.25988`"
      ]
    },
    {
      "cell_type": "code",
      "metadata": {
        "id": "oZ5UJxi_2Wkb",
        "colab_type": "code",
        "outputId": "0b45f8f5-ad5c-4e45-cc83-ef062e696b98",
        "colab": {
          "base_uri": "https://localhost:8080/",
          "height": 486
        }
      },
      "source": [
        "feature_imp = pd.DataFrame(sorted(zip(lgbm.feature_importances_,test.columns) , reverse= True), columns=['Value','Feature'])\n",
        "plt.figure(figsize=(20, 10))\n",
        "sns.barplot(x=\"Value\", y=\"Feature\", data=feature_imp)\n",
        "plt.title('LightGBM Features importance based on gain ')\n",
        "plt.tight_layout()\n",
        "plt.show()"
      ],
      "execution_count": 0,
      "outputs": [
        {
          "output_type": "display_data",
          "data": {
            "image/png": "[encoded data removed]",
            "text/plain": [
              "<Figure size 1440x720 with 1 Axes>"
            ]
          },
          "metadata": {
            "tags": []
          }
        }
      ]
    },
    {
      "cell_type": "markdown",
      "metadata": {
        "id": "e2sQcuUQenRg",
        "colab_type": "text"
      },
      "source": [
        "the RMSE is worst and the mean lags is not important at  all, but it will be handled in the feature selection"
      ]
    },
    {
      "cell_type": "markdown",
      "metadata": {
        "id": "cJTLhGcvTvuq",
        "colab_type": "text"
      },
      "source": [
        "# Feature selection"
      ]
    },
    {
      "cell_type": "code",
      "metadata": {
        "id": "Nb88MinaQAst",
        "colab_type": "code",
        "colab": {}
      },
      "source": [
        "train = all_data[all_data.date_block_num < 31]\n",
        "val = all_data[all_data.date_block_num >= 32]\n",
        "train_X = train.drop('item_cnt_month' , axis = 1)\n",
        "train_y = train.item_cnt_month\n",
        "val_X = val.drop('item_cnt_month' , axis = 1)\n",
        "val_y = val.item_cnt_month"
      ],
      "execution_count": 0,
      "outputs": []
    },
    {
      "cell_type": "code",
      "metadata": {
        "id": "M1o6nxTNaAc1",
        "colab_type": "code",
        "colab": {}
      },
      "source": [
        "lgbm = LGBMRegressor(verbose = 0 , n_jobs = -1,random_state = random_state)\n",
        "lgbm.fit(train_X,train_y)\n",
        "# saving the model in order to run it again witout taking so much time\n",
        "file_name = 'feature_selection.sav'\n",
        "pickle.dump(lgbm , open(file_name, 'wb'))"
      ],
      "execution_count": 0,
      "outputs": []
    },
    {
      "cell_type": "markdown",
      "metadata": {
        "id": "HhbdxM3NdYMC",
        "colab_type": "text"
      },
      "source": [
        "I will use backawrd elimination method to select the features based on their gain importance "
      ]
    },
    {
      "cell_type": "markdown",
      "metadata": {
        "id": "VEZ7WMdipFgY",
        "colab_type": "text"
      },
      "source": [
        "the next cell will take a lot of time you can skip it and run the one after it"
      ]
    },
    {
      "cell_type": "code",
      "metadata": {
        "id": "vvjA9KeHkaJn",
        "colab_type": "code",
        "colab": {}
      },
      "source": [
        "lgbm_FS = pickle.load(open('/content/feature_selection.sav', 'rb')) # FS stands for feature selection and it will be used for selection\n",
        "\n",
        "thresholds = sorted(lgbm_FS.feature_importances_ )[:20] # check the least 20 importance score  \n",
        "for thresh in thresholds:\n",
        "\t# select features using threshold\n",
        "\tselection = SelectFromModel(lgbm_FS, threshold=thresh, prefit=True)\n",
        "\tselect_train = selection.transform(train_X)\n",
        "\t# train model\n",
        "\tselection_model = LGBMRegressor(n_jobs = -1 , random_state = random_state)\n",
        "\tselection_model.fit(select_train, train_y )\n",
        "\t# eval model\n",
        "\tselect_val = selection.transform(val_X)\n",
        "\tpredictions = selection_model.predict(select_val)\n",
        "\tRMSE = sqrt(mean_squared_error(val_y, predictions))\n",
        "\tprint(\"Thresh=%.3f, n=%d, RMSE: %.2f\" % (thresh, select_train.shape[1], RMSE))\n"
      ],
      "execution_count": 0,
      "outputs": []
    },
    {
      "cell_type": "markdown",
      "metadata": {
        "id": "23IxkG0kpQmW",
        "colab_type": "text"
      },
      "source": [
        "Thresh=0.000, n=29, RMSE: 0.76\n",
        "Thresh=1.000, n=28, RMSE: 0.76\n",
        "Thresh=12.000, n=27, RMSE: 0.76\n",
        "Thresh=29.000, n=26, RMSE: 0.76\n",
        "Thresh=32.000, n=25, RMSE: 0.77\n",
        "Thresh=34.000, n=24, RMSE: 0.76\n",
        "Thresh=42.000, n=23, RMSE: 0.76\n",
        "Thresh=43.000, n=22, RMSE: 0.76\n",
        "Thresh=43.000, n=22, RMSE: 0.76\n",
        "Thresh=44.000, n=20, RMSE: 0.76\n",
        "Thresh=48.000, n=19, RMSE: 0.76\n",
        "Thresh=49.000, n=18, RMSE: 0.76\n",
        "Thresh=54.000, n=17, RMSE: 0.77\n",
        "Thresh=60.000, n=16, RMSE: 0.76\n",
        "Thresh=68.000, n=15, RMSE: 0.77\n",
        "Thresh=83.000, n=14, RMSE: 0.77\n",
        "Thresh=101.000, n=13, RMSE: 0.77\n",
        "Thresh=102.000, n=12, RMSE: 0.77\n",
        "Thresh=112.000, n=11, RMSE: 0.77\n",
        "Thresh=112.000, n=11, RMSE: 0.77"
      ]
    },
    {
      "cell_type": "markdown",
      "metadata": {
        "id": "aE000U_rjzqe",
        "colab_type": "text"
      },
      "source": [
        "`Thresh=60.000, n=16, RMSE: 0.76` so i will use this thresh and select the best 16 feature"
      ]
    },
    {
      "cell_type": "code",
      "metadata": {
        "id": "IuPPhzJ2V33Z",
        "colab_type": "code",
        "colab": {}
      },
      "source": [
        "lgbm_FS = pickle.load(open('/content/feature_selection.sav', 'rb')) # FS stands for feature selection and it will be used for selection\n",
        "feature_imp = pd.DataFrame(sorted(zip(lgbm_FS.feature_importances_,test.columns) , reverse= True), columns=['Value','Feature'])\n",
        "\n",
        "feature_imp = feature_imp[feature_imp.Value >= 60.000]\n",
        "selected_cols = list(feature_imp['Feature'].values)\n",
        "Final_train = all_data[selected_cols]\n",
        "Final_test = test[selected_cols]\n",
        "# adding item_cnt_month\n",
        "Final_train['item_cnt_month'] = all_data['item_cnt_month']\n"
      ],
      "execution_count": 0,
      "outputs": []
    },
    {
      "cell_type": "markdown",
      "metadata": {
        "id": "Z1TpTrnKlmyi",
        "colab_type": "text"
      },
      "source": [
        "testing the impact"
      ]
    },
    {
      "cell_type": "code",
      "metadata": {
        "id": "3UvuiyOwlvj-",
        "colab_type": "code",
        "colab": {}
      },
      "source": [
        "lgbm_after_selection = LGBMRegressor(verbose = 0 , n_jobs = -1,random_state = random_state)\n",
        "lgbm_after_selection.fit(all_data.drop(['item_cnt_month'],axis = 1), all_data.item_cnt_month)\n",
        "\n",
        "# saving the model in order to run it again witout taking so much time\n",
        "file_name = 'after_selection.sav'\n",
        "pickle.dump(lgbm_after_selection , open(file_name, 'wb'))"
      ],
      "execution_count": 0,
      "outputs": []
    },
    {
      "cell_type": "code",
      "metadata": {
        "id": "nKjkObXRl2H1",
        "colab_type": "code",
        "colab": {}
      },
      "source": [
        "lgbm_after_selection = pickle.load(open('/content/after_selection.sav', 'rb'))\n",
        "preds_gbm = lgbm_after_selection.predict(test)\n",
        "sub = sample_submission\n",
        "sub.item_cnt_month = preds_gbm\n",
        "sub.to_csv('after_selection.csv' , index = False)"
      ],
      "execution_count": 0,
      "outputs": []
    },
    {
      "cell_type": "markdown",
      "metadata": {
        "id": "tfpi3qg5rpRn",
        "colab_type": "text"
      },
      "source": [
        "RMSE `1.24497`"
      ]
    },
    {
      "cell_type": "markdown",
      "metadata": {
        "id": "XSkmsQMdvdUC",
        "colab_type": "text"
      },
      "source": [
        "# hyper paramter tuning"
      ]
    },
    {
      "cell_type": "markdown",
      "metadata": {
        "id": "Grpf7uLjpsCz",
        "colab_type": "text"
      },
      "source": [
        "i will use a single validation set to keep it simple and fast"
      ]
    },
    {
      "cell_type": "code",
      "metadata": {
        "id": "M0AIyiRD5H38",
        "colab_type": "code",
        "colab": {}
      },
      "source": [
        "train = Final_train[Final_train.date_block_num < 33]\n",
        "val = Final_train[Final_train.date_block_num == 33] # taking the last month to simulate the test set\n",
        "X_train = train.drop('item_cnt_month',axis = 1)\n",
        "y_train = train.item_cnt_month\n",
        "X_val = val.drop('item_cnt_month',axis = 1)\n",
        "y_val = val.item_cnt_month"
      ],
      "execution_count": 0,
      "outputs": []
    },
    {
      "cell_type": "markdown",
      "metadata": {
        "id": "HooZT-058_XH",
        "colab_type": "text"
      },
      "source": [
        "1) Tuning number of leafs"
      ]
    },
    {
      "cell_type": "code",
      "metadata": {
        "id": "oZVNGtD1vqnI",
        "colab_type": "code",
        "outputId": "e7a2256d-ee0f-49d1-ba2d-e575c4ecd618",
        "colab": {
          "base_uri": "https://localhost:8080/",
          "height": 289
        }
      },
      "source": [
        "for num_leaves in [10,15,20,25,30,35,40,50] :\n",
        "\n",
        "    lgbm = LGBMRegressor(random_state=random_state ,num_leaves= num_leaves)\n",
        "    lgbm.fit(X_train,y_train)\n",
        "    print(\"num_leaves : \" , num_leaves, \" RMSE : \", sqrt(mean_squared_error(lgbm.predict(X_val) , y_val)) ,'\\n')"
      ],
      "execution_count": 0,
      "outputs": [
        {
          "output_type": "stream",
          "text": [
            "num_leaves :  10  RMSE :  0.7945175941771078 \n",
            "\n",
            "num_leaves :  15  RMSE :  0.7887964740853657 \n",
            "\n",
            "num_leaves :  20  RMSE :  0.7840995533817144 \n",
            "\n",
            "num_leaves :  25  RMSE :  0.7841676089383206 \n",
            "\n",
            "num_leaves :  30  RMSE :  0.781152017690727 \n",
            "\n",
            "num_leaves :  35  RMSE :  0.7788291650375322 \n",
            "\n",
            "num_leaves :  40  RMSE :  0.777387060566443 \n",
            "\n",
            "num_leaves :  50  RMSE :  0.7731009500323047 \n",
            "\n"
          ],
          "name": "stdout"
        }
      ]
    },
    {
      "cell_type": "markdown",
      "metadata": {
        "id": "MKIM_dpF1Pke",
        "colab_type": "text"
      },
      "source": [
        "`num_leaves :  50  RMSE :  0.7731009500323047 ` is the best\n"
      ]
    },
    {
      "cell_type": "markdown",
      "metadata": {
        "id": "Mn7yHWWhAIjX",
        "colab_type": "text"
      },
      "source": [
        "2) Tuning bagging_fraction"
      ]
    },
    {
      "cell_type": "code",
      "metadata": {
        "id": "lUw3RnAWAHO7",
        "colab_type": "code",
        "outputId": "0de083a3-d8e6-479d-ecd9-da2cd3c98d14",
        "colab": {
          "base_uri": "https://localhost:8080/",
          "height": 119
        }
      },
      "source": [
        "for fraction in [0.7,0.8,0.9] :\n",
        "\n",
        "    lgbm = LGBMRegressor(random_state=random_state , num_leaves=50 , bagging_fraction = fraction)\n",
        "    lgbm.fit(X_train,y_train)\n",
        "    print(\"bagging_fraction : \" , fraction, \" RMSE : \", sqrt(mean_squared_error(lgbm.predict(X_val) , y_val)) ,'\\n')"
      ],
      "execution_count": 0,
      "outputs": [
        {
          "output_type": "stream",
          "text": [
            "bagging_fraction :  0.7  RMSE :  0.7731009500323047 \n",
            "\n",
            "bagging_fraction :  0.8  RMSE :  0.7731009500323047 \n",
            "\n",
            "bagging_fraction :  0.9  RMSE :  0.7731009500323047 \n",
            "\n"
          ],
          "name": "stdout"
        }
      ]
    },
    {
      "cell_type": "markdown",
      "metadata": {
        "id": "TlGA0p3f1_4r",
        "colab_type": "text"
      },
      "source": [
        "bagging_fraction :  0.7  RMSE :  0.7731009500323047 \n",
        "\n",
        "bagging_fraction :  0.8  RMSE :  0.7731009500323047 \n",
        "\n",
        "bagging_fraction :  0.9  RMSE :  0.7731009500323047 \n",
        "\n",
        "\n",
        "`No difference`"
      ]
    },
    {
      "cell_type": "markdown",
      "metadata": {
        "id": "8aUmkHQAAMbM",
        "colab_type": "text"
      },
      "source": [
        "4) Tuning feature_fraction"
      ]
    },
    {
      "cell_type": "code",
      "metadata": {
        "id": "V_kaJW1RAN3n",
        "colab_type": "code",
        "outputId": "f190c2bc-4e13-4aad-a325-1cec76c74c4c",
        "colab": {
          "base_uri": "https://localhost:8080/",
          "height": 119
        }
      },
      "source": [
        "for fraction in [0.7,0.8,0.9] :\n",
        "\n",
        "    lgbm = LGBMRegressor(random_state=random_state ,num_leaves=50 , feature_fraction = fraction)\n",
        "    lgbm.fit(X_train,y_train)\n",
        "    print(\"feature_fraction : \" , fraction, \" RMSE : \", sqrt(mean_squared_error(lgbm.predict(X_val) , y_val)) ,'\\n')"
      ],
      "execution_count": 0,
      "outputs": [
        {
          "output_type": "stream",
          "text": [
            "feature_fraction :  0.7  RMSE :  0.7770880406695889 \n",
            "\n",
            "feature_fraction :  0.8  RMSE :  0.774410945631774 \n",
            "\n",
            "feature_fraction :  0.9  RMSE :  0.7710114141411256 \n",
            "\n"
          ],
          "name": "stdout"
        }
      ]
    },
    {
      "cell_type": "markdown",
      "metadata": {
        "id": "kqD62uWG2veP",
        "colab_type": "text"
      },
      "source": [
        "`feature_fraction :  0.9  RMSE :  0.7710114141411256 ` is the best\n",
        "\n"
      ]
    },
    {
      "cell_type": "markdown",
      "metadata": {
        "id": "wVviosF4AUbf",
        "colab_type": "text"
      },
      "source": [
        "5) Tuning min_data_in_leaf"
      ]
    },
    {
      "cell_type": "code",
      "metadata": {
        "id": "dcXts8HKARBc",
        "colab_type": "code",
        "outputId": "78333b57-2de4-4440-a3b3-1ec5ba14984b",
        "colab": {
          "base_uri": "https://localhost:8080/",
          "height": 357
        }
      },
      "source": [
        "# trying wide range first and then narrow the range\n",
        "for value in [0,1,5,10,15,20,25,30,50,60] :\n",
        "\n",
        "    lgbm = LGBMRegressor(random_state=random_state , num_leaves=50, feature_fraction = 0.9, min_data_in_leaf = value)\n",
        "    lgbm.fit(X_train,y_train)\n",
        "    print(\"min_data_in_leaf : \" , value, \" RMSE : \", sqrt(mean_squared_error(lgbm.predict(X_val) , y_val)) ,'\\n')"
      ],
      "execution_count": 0,
      "outputs": [
        {
          "output_type": "stream",
          "text": [
            "min_data_in_leaf :  0  RMSE :  0.7728101657991893 \n",
            "\n",
            "min_data_in_leaf :  1  RMSE :  0.7728101657991893 \n",
            "\n",
            "min_data_in_leaf :  5  RMSE :  0.774510599771335 \n",
            "\n",
            "min_data_in_leaf :  10  RMSE :  0.7730462674992437 \n",
            "\n",
            "min_data_in_leaf :  15  RMSE :  0.772247525170971 \n",
            "\n",
            "min_data_in_leaf :  20  RMSE :  0.7710114141411256 \n",
            "\n",
            "min_data_in_leaf :  25  RMSE :  0.7736732836971267 \n",
            "\n",
            "min_data_in_leaf :  30  RMSE :  0.7713672925811031 \n",
            "\n",
            "min_data_in_leaf :  50  RMSE :  0.7720393529424586 \n",
            "\n",
            "min_data_in_leaf :  60  RMSE :  0.7737080180551935 \n",
            "\n"
          ],
          "name": "stdout"
        }
      ]
    },
    {
      "cell_type": "markdown",
      "metadata": {
        "id": "ZlJ6GzRW4wrK",
        "colab_type": "text"
      },
      "source": [
        "` no improvments`"
      ]
    },
    {
      "cell_type": "markdown",
      "metadata": {
        "id": "EdOC5wQ2xNXO",
        "colab_type": "text"
      },
      "source": [
        "6) Tuning n_estimators based on small learning rate"
      ]
    },
    {
      "cell_type": "code",
      "metadata": {
        "id": "BhAUPVPVxT1X",
        "colab_type": "code",
        "outputId": "e7245ef7-4669-42ae-93c6-e1b0aaa81195",
        "colab": {
          "base_uri": "https://localhost:8080/",
          "height": 1000
        }
      },
      "source": [
        "eval_set = [(X_val , y_val),(X_train,y_train)]\n",
        "lgbm = LGBMRegressor(n_jobs= -1 , random_state= random_state ,n_estimators= 1000 , learning_rate= 0.02 , num_leaves=50,feature_fraction = 0.9)\n",
        "lgbm.fit(X_train, y_train ,eval_set =eval_set, early_stopping_rounds=30 ) "
      ],
      "execution_count": 0,
      "outputs": [
        {
          "output_type": "stream",
          "text": [
            "[1]\ttraining's l2: 1.07609\tvalid_0's l2: 0.890471\n",
            "Training until validation scores don't improve for 30 rounds.\n",
            "[2]\ttraining's l2: 1.06249\tvalid_0's l2: 0.880798\n",
            "[3]\ttraining's l2: 1.04914\tvalid_0's l2: 0.870023\n",
            "[4]\ttraining's l2: 1.03806\tvalid_0's l2: 0.862202\n",
            "[5]\ttraining's l2: 1.02582\tvalid_0's l2: 0.852589\n",
            "[6]\ttraining's l2: 1.01385\tvalid_0's l2: 0.843818\n",
            "[7]\ttraining's l2: 1.00277\tvalid_0's l2: 0.836045\n",
            "[8]\ttraining's l2: 0.991771\tvalid_0's l2: 0.827302\n",
            "[9]\ttraining's l2: 0.981132\tvalid_0's l2: 0.819524\n",
            "[10]\ttraining's l2: 0.971237\tvalid_0's l2: 0.812558\n",
            "[11]\ttraining's l2: 0.961347\tvalid_0's l2: 0.805494\n",
            "[12]\ttraining's l2: 0.952183\tvalid_0's l2: 0.799089\n",
            "[13]\ttraining's l2: 0.943834\tvalid_0's l2: 0.792732\n",
            "[14]\ttraining's l2: 0.934887\tvalid_0's l2: 0.786557\n",
            "[15]\ttraining's l2: 0.926463\tvalid_0's l2: 0.780443\n",
            "[16]\ttraining's l2: 0.918085\tvalid_0's l2: 0.773945\n",
            "[17]\ttraining's l2: 0.910278\tvalid_0's l2: 0.768401\n",
            "[18]\ttraining's l2: 0.902488\tvalid_0's l2: 0.762313\n",
            "[19]\ttraining's l2: 0.89507\tvalid_0's l2: 0.756636\n",
            "[20]\ttraining's l2: 0.887864\tvalid_0's l2: 0.751463\n",
            "[21]\ttraining's l2: 0.880926\tvalid_0's l2: 0.746194\n",
            "[22]\ttraining's l2: 0.874259\tvalid_0's l2: 0.741372\n",
            "[23]\ttraining's l2: 0.868266\tvalid_0's l2: 0.736887\n",
            "[24]\ttraining's l2: 0.861913\tvalid_0's l2: 0.732362\n",
            "[25]\ttraining's l2: 0.856088\tvalid_0's l2: 0.728921\n",
            "[26]\ttraining's l2: 0.850161\tvalid_0's l2: 0.724482\n",
            "[27]\ttraining's l2: 0.844688\tvalid_0's l2: 0.720751\n",
            "[28]\ttraining's l2: 0.839486\tvalid_0's l2: 0.717712\n",
            "[29]\ttraining's l2: 0.834432\tvalid_0's l2: 0.714325\n",
            "[30]\ttraining's l2: 0.830423\tvalid_0's l2: 0.711968\n",
            "[31]\ttraining's l2: 0.82539\tvalid_0's l2: 0.708287\n",
            "[32]\ttraining's l2: 0.820637\tvalid_0's l2: 0.705085\n",
            "[33]\ttraining's l2: 0.815916\tvalid_0's l2: 0.701684\n",
            "[34]\ttraining's l2: 0.811934\tvalid_0's l2: 0.699245\n",
            "[35]\ttraining's l2: 0.807479\tvalid_0's l2: 0.696199\n",
            "[36]\ttraining's l2: 0.803216\tvalid_0's l2: 0.693337\n",
            "[37]\ttraining's l2: 0.799616\tvalid_0's l2: 0.691205\n",
            "[38]\ttraining's l2: 0.795674\tvalid_0's l2: 0.688414\n",
            "[39]\ttraining's l2: 0.792096\tvalid_0's l2: 0.68649\n",
            "[40]\ttraining's l2: 0.788576\tvalid_0's l2: 0.684556\n",
            "[41]\ttraining's l2: 0.785112\tvalid_0's l2: 0.682412\n",
            "[42]\ttraining's l2: 0.781446\tvalid_0's l2: 0.680157\n",
            "[43]\ttraining's l2: 0.778148\tvalid_0's l2: 0.677993\n",
            "[44]\ttraining's l2: 0.774818\tvalid_0's l2: 0.675856\n",
            "[45]\ttraining's l2: 0.772105\tvalid_0's l2: 0.674431\n",
            "[46]\ttraining's l2: 0.768856\tvalid_0's l2: 0.672566\n",
            "[47]\ttraining's l2: 0.765827\tvalid_0's l2: 0.670463\n",
            "[48]\ttraining's l2: 0.762961\tvalid_0's l2: 0.669253\n",
            "[49]\ttraining's l2: 0.760418\tvalid_0's l2: 0.667527\n",
            "[50]\ttraining's l2: 0.758179\tvalid_0's l2: 0.666381\n",
            "[51]\ttraining's l2: 0.755614\tvalid_0's l2: 0.664908\n",
            "[52]\ttraining's l2: 0.752943\tvalid_0's l2: 0.663254\n",
            "[53]\ttraining's l2: 0.750487\tvalid_0's l2: 0.66162\n",
            "[54]\ttraining's l2: 0.748087\tvalid_0's l2: 0.660741\n",
            "[55]\ttraining's l2: 0.745735\tvalid_0's l2: 0.659124\n",
            "[56]\ttraining's l2: 0.743674\tvalid_0's l2: 0.658027\n",
            "[57]\ttraining's l2: 0.741531\tvalid_0's l2: 0.656942\n",
            "[58]\ttraining's l2: 0.739401\tvalid_0's l2: 0.655717\n",
            "[59]\ttraining's l2: 0.737381\tvalid_0's l2: 0.654742\n",
            "[60]\ttraining's l2: 0.735322\tvalid_0's l2: 0.653482\n",
            "[61]\ttraining's l2: 0.733371\tvalid_0's l2: 0.652468\n",
            "[62]\ttraining's l2: 0.731454\tvalid_0's l2: 0.651696\n",
            "[63]\ttraining's l2: 0.729522\tvalid_0's l2: 0.650462\n",
            "[64]\ttraining's l2: 0.727614\tvalid_0's l2: 0.649374\n",
            "[65]\ttraining's l2: 0.725938\tvalid_0's l2: 0.648921\n",
            "[66]\ttraining's l2: 0.724149\tvalid_0's l2: 0.647928\n",
            "[67]\ttraining's l2: 0.72249\tvalid_0's l2: 0.647031\n",
            "[68]\ttraining's l2: 0.720828\tvalid_0's l2: 0.645874\n",
            "[69]\ttraining's l2: 0.71926\tvalid_0's l2: 0.645042\n",
            "[70]\ttraining's l2: 0.717709\tvalid_0's l2: 0.644316\n",
            "[71]\ttraining's l2: 0.716211\tvalid_0's l2: 0.643179\n",
            "[72]\ttraining's l2: 0.714836\tvalid_0's l2: 0.64256\n",
            "[73]\ttraining's l2: 0.713433\tvalid_0's l2: 0.641932\n",
            "[74]\ttraining's l2: 0.712213\tvalid_0's l2: 0.641558\n",
            "[75]\ttraining's l2: 0.711017\tvalid_0's l2: 0.641092\n",
            "[76]\ttraining's l2: 0.709867\tvalid_0's l2: 0.640798\n",
            "[77]\ttraining's l2: 0.708669\tvalid_0's l2: 0.640299\n",
            "[78]\ttraining's l2: 0.7074\tvalid_0's l2: 0.63961\n",
            "[79]\ttraining's l2: 0.706189\tvalid_0's l2: 0.639015\n",
            "[80]\ttraining's l2: 0.704913\tvalid_0's l2: 0.638661\n",
            "[81]\ttraining's l2: 0.703747\tvalid_0's l2: 0.638226\n",
            "[82]\ttraining's l2: 0.702608\tvalid_0's l2: 0.63768\n",
            "[83]\ttraining's l2: 0.701659\tvalid_0's l2: 0.637165\n",
            "[84]\ttraining's l2: 0.700633\tvalid_0's l2: 0.636863\n",
            "[85]\ttraining's l2: 0.699491\tvalid_0's l2: 0.636383\n",
            "[86]\ttraining's l2: 0.698397\tvalid_0's l2: 0.635705\n",
            "[87]\ttraining's l2: 0.697421\tvalid_0's l2: 0.635391\n",
            "[88]\ttraining's l2: 0.696298\tvalid_0's l2: 0.635014\n",
            "[89]\ttraining's l2: 0.69543\tvalid_0's l2: 0.634809\n",
            "[90]\ttraining's l2: 0.694493\tvalid_0's l2: 0.634255\n",
            "[91]\ttraining's l2: 0.693616\tvalid_0's l2: 0.633761\n",
            "[92]\ttraining's l2: 0.692854\tvalid_0's l2: 0.63344\n",
            "[93]\ttraining's l2: 0.692109\tvalid_0's l2: 0.633318\n",
            "[94]\ttraining's l2: 0.691161\tvalid_0's l2: 0.632875\n",
            "[95]\ttraining's l2: 0.690138\tvalid_0's l2: 0.632397\n",
            "[96]\ttraining's l2: 0.689436\tvalid_0's l2: 0.632037\n",
            "[97]\ttraining's l2: 0.688501\tvalid_0's l2: 0.631698\n",
            "[98]\ttraining's l2: 0.68787\tvalid_0's l2: 0.631444\n",
            "[99]\ttraining's l2: 0.687136\tvalid_0's l2: 0.631132\n",
            "[100]\ttraining's l2: 0.68647\tvalid_0's l2: 0.630858\n",
            "[101]\ttraining's l2: 0.685775\tvalid_0's l2: 0.630526\n",
            "[102]\ttraining's l2: 0.685088\tvalid_0's l2: 0.630034\n",
            "[103]\ttraining's l2: 0.684333\tvalid_0's l2: 0.629624\n",
            "[104]\ttraining's l2: 0.683563\tvalid_0's l2: 0.62923\n",
            "[105]\ttraining's l2: 0.682878\tvalid_0's l2: 0.629101\n",
            "[106]\ttraining's l2: 0.682179\tvalid_0's l2: 0.628716\n",
            "[107]\ttraining's l2: 0.681586\tvalid_0's l2: 0.628487\n",
            "[108]\ttraining's l2: 0.681028\tvalid_0's l2: 0.628393\n",
            "[109]\ttraining's l2: 0.680482\tvalid_0's l2: 0.627944\n",
            "[110]\ttraining's l2: 0.679804\tvalid_0's l2: 0.627753\n",
            "[111]\ttraining's l2: 0.679079\tvalid_0's l2: 0.627613\n",
            "[112]\ttraining's l2: 0.678429\tvalid_0's l2: 0.627252\n",
            "[113]\ttraining's l2: 0.67789\tvalid_0's l2: 0.627121\n",
            "[114]\ttraining's l2: 0.677334\tvalid_0's l2: 0.627081\n",
            "[115]\ttraining's l2: 0.676734\tvalid_0's l2: 0.626814\n",
            "[116]\ttraining's l2: 0.676195\tvalid_0's l2: 0.62653\n",
            "[117]\ttraining's l2: 0.675594\tvalid_0's l2: 0.62616\n",
            "[118]\ttraining's l2: 0.675053\tvalid_0's l2: 0.625941\n",
            "[119]\ttraining's l2: 0.674584\tvalid_0's l2: 0.625668\n",
            "[120]\ttraining's l2: 0.674061\tvalid_0's l2: 0.625358\n",
            "[121]\ttraining's l2: 0.673496\tvalid_0's l2: 0.625043\n",
            "[122]\ttraining's l2: 0.672907\tvalid_0's l2: 0.62499\n",
            "[123]\ttraining's l2: 0.67241\tvalid_0's l2: 0.624699\n",
            "[124]\ttraining's l2: 0.671944\tvalid_0's l2: 0.624652\n",
            "[125]\ttraining's l2: 0.671431\tvalid_0's l2: 0.624485\n",
            "[126]\ttraining's l2: 0.670986\tvalid_0's l2: 0.624349\n",
            "[127]\ttraining's l2: 0.670525\tvalid_0's l2: 0.624221\n",
            "[128]\ttraining's l2: 0.670021\tvalid_0's l2: 0.624209\n",
            "[129]\ttraining's l2: 0.669443\tvalid_0's l2: 0.623836\n",
            "[130]\ttraining's l2: 0.668888\tvalid_0's l2: 0.623415\n",
            "[131]\ttraining's l2: 0.668374\tvalid_0's l2: 0.62336\n",
            "[132]\ttraining's l2: 0.668014\tvalid_0's l2: 0.623206\n",
            "[133]\ttraining's l2: 0.667643\tvalid_0's l2: 0.622928\n",
            "[134]\ttraining's l2: 0.667266\tvalid_0's l2: 0.62263\n",
            "[135]\ttraining's l2: 0.666922\tvalid_0's l2: 0.622507\n",
            "[136]\ttraining's l2: 0.666474\tvalid_0's l2: 0.622426\n",
            "[137]\ttraining's l2: 0.666108\tvalid_0's l2: 0.622251\n",
            "[138]\ttraining's l2: 0.665775\tvalid_0's l2: 0.622074\n",
            "[139]\ttraining's l2: 0.665443\tvalid_0's l2: 0.621883\n",
            "[140]\ttraining's l2: 0.665132\tvalid_0's l2: 0.62161\n",
            "[141]\ttraining's l2: 0.664814\tvalid_0's l2: 0.621473\n",
            "[142]\ttraining's l2: 0.66444\tvalid_0's l2: 0.621376\n",
            "[143]\ttraining's l2: 0.664057\tvalid_0's l2: 0.621231\n",
            "[144]\ttraining's l2: 0.663732\tvalid_0's l2: 0.62104\n",
            "[145]\ttraining's l2: 0.663347\tvalid_0's l2: 0.620792\n",
            "[146]\ttraining's l2: 0.663038\tvalid_0's l2: 0.620697\n",
            "[147]\ttraining's l2: 0.662534\tvalid_0's l2: 0.620384\n",
            "[148]\ttraining's l2: 0.662165\tvalid_0's l2: 0.620333\n",
            "[149]\ttraining's l2: 0.661733\tvalid_0's l2: 0.620012\n",
            "[150]\ttraining's l2: 0.661309\tvalid_0's l2: 0.61991\n",
            "[151]\ttraining's l2: 0.660888\tvalid_0's l2: 0.619659\n",
            "[152]\ttraining's l2: 0.660602\tvalid_0's l2: 0.619518\n",
            "[153]\ttraining's l2: 0.660342\tvalid_0's l2: 0.619455\n",
            "[154]\ttraining's l2: 0.659943\tvalid_0's l2: 0.619198\n",
            "[155]\ttraining's l2: 0.659678\tvalid_0's l2: 0.61904\n",
            "[156]\ttraining's l2: 0.659438\tvalid_0's l2: 0.618927\n",
            "[157]\ttraining's l2: 0.65914\tvalid_0's l2: 0.618769\n",
            "[158]\ttraining's l2: 0.658747\tvalid_0's l2: 0.618642\n",
            "[159]\ttraining's l2: 0.658492\tvalid_0's l2: 0.618606\n",
            "[160]\ttraining's l2: 0.658044\tvalid_0's l2: 0.618399\n",
            "[161]\ttraining's l2: 0.657679\tvalid_0's l2: 0.618338\n",
            "[162]\ttraining's l2: 0.657281\tvalid_0's l2: 0.618113\n",
            "[163]\ttraining's l2: 0.657048\tvalid_0's l2: 0.617919\n",
            "[164]\ttraining's l2: 0.656699\tvalid_0's l2: 0.617872\n",
            "[165]\ttraining's l2: 0.656436\tvalid_0's l2: 0.617769\n",
            "[166]\ttraining's l2: 0.656118\tvalid_0's l2: 0.617674\n",
            "[167]\ttraining's l2: 0.655808\tvalid_0's l2: 0.61751\n",
            "[168]\ttraining's l2: 0.655522\tvalid_0's l2: 0.617295\n",
            "[169]\ttraining's l2: 0.655116\tvalid_0's l2: 0.617014\n",
            "[170]\ttraining's l2: 0.654747\tvalid_0's l2: 0.616811\n",
            "[171]\ttraining's l2: 0.654449\tvalid_0's l2: 0.616591\n",
            "[172]\ttraining's l2: 0.654271\tvalid_0's l2: 0.616482\n",
            "[173]\ttraining's l2: 0.653924\tvalid_0's l2: 0.616351\n",
            "[174]\ttraining's l2: 0.653679\tvalid_0's l2: 0.616235\n",
            "[175]\ttraining's l2: 0.653298\tvalid_0's l2: 0.616186\n",
            "[176]\ttraining's l2: 0.653034\tvalid_0's l2: 0.616028\n",
            "[177]\ttraining's l2: 0.652745\tvalid_0's l2: 0.615873\n",
            "[178]\ttraining's l2: 0.652453\tvalid_0's l2: 0.615712\n",
            "[179]\ttraining's l2: 0.652162\tvalid_0's l2: 0.61551\n",
            "[180]\ttraining's l2: 0.651826\tvalid_0's l2: 0.615277\n",
            "[181]\ttraining's l2: 0.651583\tvalid_0's l2: 0.615186\n",
            "[182]\ttraining's l2: 0.651349\tvalid_0's l2: 0.615072\n",
            "[183]\ttraining's l2: 0.651025\tvalid_0's l2: 0.61502\n",
            "[184]\ttraining's l2: 0.650797\tvalid_0's l2: 0.614921\n",
            "[185]\ttraining's l2: 0.650574\tvalid_0's l2: 0.614885\n",
            "[186]\ttraining's l2: 0.65032\tvalid_0's l2: 0.614726\n",
            "[187]\ttraining's l2: 0.650024\tvalid_0's l2: 0.614724\n",
            "[188]\ttraining's l2: 0.649746\tvalid_0's l2: 0.614718\n",
            "[189]\ttraining's l2: 0.649448\tvalid_0's l2: 0.614688\n",
            "[190]\ttraining's l2: 0.649255\tvalid_0's l2: 0.614664\n",
            "[191]\ttraining's l2: 0.648997\tvalid_0's l2: 0.614411\n",
            "[192]\ttraining's l2: 0.648705\tvalid_0's l2: 0.614257\n",
            "[193]\ttraining's l2: 0.648509\tvalid_0's l2: 0.614145\n",
            "[194]\ttraining's l2: 0.648342\tvalid_0's l2: 0.614053\n",
            "[195]\ttraining's l2: 0.648148\tvalid_0's l2: 0.613999\n",
            "[196]\ttraining's l2: 0.647885\tvalid_0's l2: 0.613793\n",
            "[197]\ttraining's l2: 0.647619\tvalid_0's l2: 0.613695\n",
            "[198]\ttraining's l2: 0.647436\tvalid_0's l2: 0.613686\n",
            "[199]\ttraining's l2: 0.647248\tvalid_0's l2: 0.613672\n",
            "[200]\ttraining's l2: 0.647111\tvalid_0's l2: 0.613616\n",
            "[201]\ttraining's l2: 0.646949\tvalid_0's l2: 0.613557\n",
            "[202]\ttraining's l2: 0.646711\tvalid_0's l2: 0.613256\n",
            "[203]\ttraining's l2: 0.646539\tvalid_0's l2: 0.613175\n",
            "[204]\ttraining's l2: 0.646344\tvalid_0's l2: 0.613181\n",
            "[205]\ttraining's l2: 0.646116\tvalid_0's l2: 0.613008\n",
            "[206]\ttraining's l2: 0.645957\tvalid_0's l2: 0.613033\n",
            "[207]\ttraining's l2: 0.645709\tvalid_0's l2: 0.613039\n",
            "[208]\ttraining's l2: 0.645551\tvalid_0's l2: 0.61293\n",
            "[209]\ttraining's l2: 0.645332\tvalid_0's l2: 0.612937\n",
            "[210]\ttraining's l2: 0.645167\tvalid_0's l2: 0.612873\n",
            "[211]\ttraining's l2: 0.645011\tvalid_0's l2: 0.61294\n",
            "[212]\ttraining's l2: 0.644793\tvalid_0's l2: 0.612818\n",
            "[213]\ttraining's l2: 0.644571\tvalid_0's l2: 0.612627\n",
            "[214]\ttraining's l2: 0.644395\tvalid_0's l2: 0.612602\n",
            "[215]\ttraining's l2: 0.644258\tvalid_0's l2: 0.612529\n",
            "[216]\ttraining's l2: 0.644102\tvalid_0's l2: 0.612396\n",
            "[217]\ttraining's l2: 0.643968\tvalid_0's l2: 0.612357\n",
            "[218]\ttraining's l2: 0.643811\tvalid_0's l2: 0.612243\n",
            "[219]\ttraining's l2: 0.643624\tvalid_0's l2: 0.612265\n",
            "[220]\ttraining's l2: 0.643441\tvalid_0's l2: 0.61209\n",
            "[221]\ttraining's l2: 0.643299\tvalid_0's l2: 0.61203\n",
            "[222]\ttraining's l2: 0.64314\tvalid_0's l2: 0.6118\n",
            "[223]\ttraining's l2: 0.642939\tvalid_0's l2: 0.611808\n",
            "[224]\ttraining's l2: 0.642766\tvalid_0's l2: 0.611755\n",
            "[225]\ttraining's l2: 0.642562\tvalid_0's l2: 0.611688\n",
            "[226]\ttraining's l2: 0.642406\tvalid_0's l2: 0.611669\n",
            "[227]\ttraining's l2: 0.642129\tvalid_0's l2: 0.611678\n",
            "[228]\ttraining's l2: 0.641954\tvalid_0's l2: 0.611523\n",
            "[229]\ttraining's l2: 0.641772\tvalid_0's l2: 0.611465\n",
            "[230]\ttraining's l2: 0.641583\tvalid_0's l2: 0.611335\n",
            "[231]\ttraining's l2: 0.641451\tvalid_0's l2: 0.611307\n",
            "[232]\ttraining's l2: 0.641314\tvalid_0's l2: 0.611202\n",
            "[233]\ttraining's l2: 0.641165\tvalid_0's l2: 0.611186\n",
            "[234]\ttraining's l2: 0.640954\tvalid_0's l2: 0.611016\n",
            "[235]\ttraining's l2: 0.640776\tvalid_0's l2: 0.610855\n",
            "[236]\ttraining's l2: 0.640584\tvalid_0's l2: 0.610801\n",
            "[237]\ttraining's l2: 0.640448\tvalid_0's l2: 0.610678\n",
            "[238]\ttraining's l2: 0.640313\tvalid_0's l2: 0.610496\n",
            "[239]\ttraining's l2: 0.640166\tvalid_0's l2: 0.610486\n",
            "[240]\ttraining's l2: 0.639939\tvalid_0's l2: 0.610409\n",
            "[241]\ttraining's l2: 0.639821\tvalid_0's l2: 0.610337\n",
            "[242]\ttraining's l2: 0.639675\tvalid_0's l2: 0.610308\n",
            "[243]\ttraining's l2: 0.639558\tvalid_0's l2: 0.610384\n",
            "[244]\ttraining's l2: 0.639382\tvalid_0's l2: 0.610281\n",
            "[245]\ttraining's l2: 0.639249\tvalid_0's l2: 0.610204\n",
            "[246]\ttraining's l2: 0.639037\tvalid_0's l2: 0.610051\n",
            "[247]\ttraining's l2: 0.638828\tvalid_0's l2: 0.610044\n",
            "[248]\ttraining's l2: 0.638716\tvalid_0's l2: 0.609997\n",
            "[249]\ttraining's l2: 0.638582\tvalid_0's l2: 0.609861\n",
            "[250]\ttraining's l2: 0.638441\tvalid_0's l2: 0.609818\n",
            "[251]\ttraining's l2: 0.638279\tvalid_0's l2: 0.609694\n",
            "[252]\ttraining's l2: 0.638157\tvalid_0's l2: 0.609656\n",
            "[253]\ttraining's l2: 0.638056\tvalid_0's l2: 0.609571\n",
            "[254]\ttraining's l2: 0.637934\tvalid_0's l2: 0.609355\n",
            "[255]\ttraining's l2: 0.637764\tvalid_0's l2: 0.609262\n",
            "[256]\ttraining's l2: 0.637651\tvalid_0's l2: 0.609178\n",
            "[257]\ttraining's l2: 0.637438\tvalid_0's l2: 0.609103\n",
            "[258]\ttraining's l2: 0.637296\tvalid_0's l2: 0.608862\n",
            "[259]\ttraining's l2: 0.637118\tvalid_0's l2: 0.608751\n",
            "[260]\ttraining's l2: 0.636973\tvalid_0's l2: 0.608728\n",
            "[261]\ttraining's l2: 0.636789\tvalid_0's l2: 0.608655\n",
            "[262]\ttraining's l2: 0.636665\tvalid_0's l2: 0.608545\n",
            "[263]\ttraining's l2: 0.636553\tvalid_0's l2: 0.608472\n",
            "[264]\ttraining's l2: 0.636452\tvalid_0's l2: 0.608447\n",
            "[265]\ttraining's l2: 0.636333\tvalid_0's l2: 0.608231\n",
            "[266]\ttraining's l2: 0.636134\tvalid_0's l2: 0.608223\n",
            "[267]\ttraining's l2: 0.63599\tvalid_0's l2: 0.608117\n",
            "[268]\ttraining's l2: 0.635781\tvalid_0's l2: 0.608103\n",
            "[269]\ttraining's l2: 0.635671\tvalid_0's l2: 0.607922\n",
            "[270]\ttraining's l2: 0.63555\tvalid_0's l2: 0.60784\n",
            "[271]\ttraining's l2: 0.635414\tvalid_0's l2: 0.607827\n",
            "[272]\ttraining's l2: 0.635298\tvalid_0's l2: 0.607731\n",
            "[273]\ttraining's l2: 0.6352\tvalid_0's l2: 0.607722\n",
            "[274]\ttraining's l2: 0.635074\tvalid_0's l2: 0.607607\n",
            "[275]\ttraining's l2: 0.634964\tvalid_0's l2: 0.607568\n",
            "[276]\ttraining's l2: 0.634832\tvalid_0's l2: 0.607455\n",
            "[277]\ttraining's l2: 0.634717\tvalid_0's l2: 0.607343\n",
            "[278]\ttraining's l2: 0.634578\tvalid_0's l2: 0.607281\n",
            "[279]\ttraining's l2: 0.634488\tvalid_0's l2: 0.607265\n",
            "[280]\ttraining's l2: 0.634358\tvalid_0's l2: 0.607156\n",
            "[281]\ttraining's l2: 0.634265\tvalid_0's l2: 0.607105\n",
            "[282]\ttraining's l2: 0.63411\tvalid_0's l2: 0.607033\n",
            "[283]\ttraining's l2: 0.63399\tvalid_0's l2: 0.60698\n",
            "[284]\ttraining's l2: 0.633872\tvalid_0's l2: 0.606882\n",
            "[285]\ttraining's l2: 0.633753\tvalid_0's l2: 0.606835\n",
            "[286]\ttraining's l2: 0.633649\tvalid_0's l2: 0.606764\n",
            "[287]\ttraining's l2: 0.633534\tvalid_0's l2: 0.606793\n",
            "[288]\ttraining's l2: 0.633416\tvalid_0's l2: 0.606721\n",
            "[289]\ttraining's l2: 0.633317\tvalid_0's l2: 0.606709\n",
            "[290]\ttraining's l2: 0.633139\tvalid_0's l2: 0.606703\n",
            "[291]\ttraining's l2: 0.633054\tvalid_0's l2: 0.606671\n",
            "[292]\ttraining's l2: 0.632938\tvalid_0's l2: 0.606615\n",
            "[293]\ttraining's l2: 0.632804\tvalid_0's l2: 0.606545\n",
            "[294]\ttraining's l2: 0.63271\tvalid_0's l2: 0.606242\n",
            "[295]\ttraining's l2: 0.632591\tvalid_0's l2: 0.606188\n",
            "[296]\ttraining's l2: 0.632482\tvalid_0's l2: 0.606015\n",
            "[297]\ttraining's l2: 0.63238\tvalid_0's l2: 0.605959\n",
            "[298]\ttraining's l2: 0.632287\tvalid_0's l2: 0.605939\n",
            "[299]\ttraining's l2: 0.632177\tvalid_0's l2: 0.605866\n",
            "[300]\ttraining's l2: 0.632064\tvalid_0's l2: 0.605815\n",
            "[301]\ttraining's l2: 0.631887\tvalid_0's l2: 0.605808\n",
            "[302]\ttraining's l2: 0.631805\tvalid_0's l2: 0.605802\n",
            "[303]\ttraining's l2: 0.631673\tvalid_0's l2: 0.605691\n",
            "[304]\ttraining's l2: 0.631564\tvalid_0's l2: 0.605633\n",
            "[305]\ttraining's l2: 0.631413\tvalid_0's l2: 0.605623\n",
            "[306]\ttraining's l2: 0.631303\tvalid_0's l2: 0.605603\n",
            "[307]\ttraining's l2: 0.631201\tvalid_0's l2: 0.605541\n",
            "[308]\ttraining's l2: 0.631087\tvalid_0's l2: 0.605528\n",
            "[309]\ttraining's l2: 0.630975\tvalid_0's l2: 0.605519\n",
            "[310]\ttraining's l2: 0.630851\tvalid_0's l2: 0.605471\n",
            "[311]\ttraining's l2: 0.630746\tvalid_0's l2: 0.605144\n",
            "[312]\ttraining's l2: 0.63064\tvalid_0's l2: 0.605066\n",
            "[313]\ttraining's l2: 0.630518\tvalid_0's l2: 0.605007\n",
            "[314]\ttraining's l2: 0.630429\tvalid_0's l2: 0.605007\n",
            "[315]\ttraining's l2: 0.630289\tvalid_0's l2: 0.604933\n",
            "[316]\ttraining's l2: 0.63015\tvalid_0's l2: 0.604924\n",
            "[317]\ttraining's l2: 0.63005\tvalid_0's l2: 0.604849\n",
            "[318]\ttraining's l2: 0.62997\tvalid_0's l2: 0.604824\n",
            "[319]\ttraining's l2: 0.629852\tvalid_0's l2: 0.604816\n",
            "[320]\ttraining's l2: 0.629752\tvalid_0's l2: 0.604765\n",
            "[321]\ttraining's l2: 0.629647\tvalid_0's l2: 0.60467\n",
            "[322]\ttraining's l2: 0.629545\tvalid_0's l2: 0.604627\n",
            "[323]\ttraining's l2: 0.629392\tvalid_0's l2: 0.604615\n",
            "[324]\ttraining's l2: 0.629274\tvalid_0's l2: 0.604591\n",
            "[325]\ttraining's l2: 0.629163\tvalid_0's l2: 0.604515\n",
            "[326]\ttraining's l2: 0.629055\tvalid_0's l2: 0.604447\n",
            "[327]\ttraining's l2: 0.628941\tvalid_0's l2: 0.604303\n",
            "[328]\ttraining's l2: 0.628841\tvalid_0's l2: 0.604295\n",
            "[329]\ttraining's l2: 0.628743\tvalid_0's l2: 0.604235\n",
            "[330]\ttraining's l2: 0.628634\tvalid_0's l2: 0.604227\n",
            "[331]\ttraining's l2: 0.628533\tvalid_0's l2: 0.604147\n",
            "[332]\ttraining's l2: 0.628452\tvalid_0's l2: 0.60408\n",
            "[333]\ttraining's l2: 0.628376\tvalid_0's l2: 0.604074\n",
            "[334]\ttraining's l2: 0.628304\tvalid_0's l2: 0.604056\n",
            "[335]\ttraining's l2: 0.628183\tvalid_0's l2: 0.603955\n",
            "[336]\ttraining's l2: 0.628077\tvalid_0's l2: 0.603948\n",
            "[337]\ttraining's l2: 0.627986\tvalid_0's l2: 0.603907\n",
            "[338]\ttraining's l2: 0.627905\tvalid_0's l2: 0.603858\n",
            "[339]\ttraining's l2: 0.627792\tvalid_0's l2: 0.603754\n",
            "[340]\ttraining's l2: 0.627659\tvalid_0's l2: 0.603749\n",
            "[341]\ttraining's l2: 0.627581\tvalid_0's l2: 0.603725\n",
            "[342]\ttraining's l2: 0.627474\tvalid_0's l2: 0.603704\n",
            "[343]\ttraining's l2: 0.627379\tvalid_0's l2: 0.603669\n",
            "[344]\ttraining's l2: 0.627249\tvalid_0's l2: 0.603571\n",
            "[345]\ttraining's l2: 0.62718\tvalid_0's l2: 0.603438\n",
            "[346]\ttraining's l2: 0.627083\tvalid_0's l2: 0.603391\n",
            "[347]\ttraining's l2: 0.627008\tvalid_0's l2: 0.603308\n",
            "[348]\ttraining's l2: 0.626919\tvalid_0's l2: 0.603241\n",
            "[349]\ttraining's l2: 0.626858\tvalid_0's l2: 0.6032\n",
            "[350]\ttraining's l2: 0.626774\tvalid_0's l2: 0.603176\n",
            "[351]\ttraining's l2: 0.626703\tvalid_0's l2: 0.603113\n",
            "[352]\ttraining's l2: 0.626625\tvalid_0's l2: 0.603094\n",
            "[353]\ttraining's l2: 0.626539\tvalid_0's l2: 0.603093\n",
            "[354]\ttraining's l2: 0.62645\tvalid_0's l2: 0.603045\n",
            "[355]\ttraining's l2: 0.626396\tvalid_0's l2: 0.603049\n",
            "[356]\ttraining's l2: 0.626273\tvalid_0's l2: 0.603038\n",
            "[357]\ttraining's l2: 0.626183\tvalid_0's l2: 0.602965\n",
            "[358]\ttraining's l2: 0.626105\tvalid_0's l2: 0.602903\n",
            "[359]\ttraining's l2: 0.625991\tvalid_0's l2: 0.602781\n",
            "[360]\ttraining's l2: 0.625886\tvalid_0's l2: 0.602774\n",
            "[361]\ttraining's l2: 0.625793\tvalid_0's l2: 0.602725\n",
            "[362]\ttraining's l2: 0.625703\tvalid_0's l2: 0.602604\n",
            "[363]\ttraining's l2: 0.625622\tvalid_0's l2: 0.602575\n",
            "[364]\ttraining's l2: 0.625557\tvalid_0's l2: 0.602539\n",
            "[365]\ttraining's l2: 0.625477\tvalid_0's l2: 0.60248\n",
            "[366]\ttraining's l2: 0.6254\tvalid_0's l2: 0.602471\n",
            "[367]\ttraining's l2: 0.62534\tvalid_0's l2: 0.602544\n",
            "[368]\ttraining's l2: 0.625207\tvalid_0's l2: 0.602538\n",
            "[369]\ttraining's l2: 0.625122\tvalid_0's l2: 0.60251\n",
            "[370]\ttraining's l2: 0.625046\tvalid_0's l2: 0.60252\n",
            "[371]\ttraining's l2: 0.624982\tvalid_0's l2: 0.602517\n",
            "[372]\ttraining's l2: 0.624897\tvalid_0's l2: 0.602437\n",
            "[373]\ttraining's l2: 0.624827\tvalid_0's l2: 0.602401\n",
            "[374]\ttraining's l2: 0.624753\tvalid_0's l2: 0.602338\n",
            "[375]\ttraining's l2: 0.624674\tvalid_0's l2: 0.602261\n",
            "[376]\ttraining's l2: 0.624602\tvalid_0's l2: 0.602253\n",
            "[377]\ttraining's l2: 0.624489\tvalid_0's l2: 0.602134\n",
            "[378]\ttraining's l2: 0.624425\tvalid_0's l2: 0.602134\n",
            "[379]\ttraining's l2: 0.624353\tvalid_0's l2: 0.602129\n",
            "[380]\ttraining's l2: 0.624261\tvalid_0's l2: 0.602089\n",
            "[381]\ttraining's l2: 0.624124\tvalid_0's l2: 0.602031\n",
            "[382]\ttraining's l2: 0.624038\tvalid_0's l2: 0.601915\n",
            "[383]\ttraining's l2: 0.623945\tvalid_0's l2: 0.6019\n",
            "[384]\ttraining's l2: 0.623831\tvalid_0's l2: 0.601848\n",
            "[385]\ttraining's l2: 0.623732\tvalid_0's l2: 0.601831\n",
            "[386]\ttraining's l2: 0.623687\tvalid_0's l2: 0.601817\n",
            "[387]\ttraining's l2: 0.62359\tvalid_0's l2: 0.601803\n",
            "[388]\ttraining's l2: 0.62346\tvalid_0's l2: 0.601793\n",
            "[389]\ttraining's l2: 0.623397\tvalid_0's l2: 0.601749\n",
            "[390]\ttraining's l2: 0.62332\tvalid_0's l2: 0.601676\n",
            "[391]\ttraining's l2: 0.623211\tvalid_0's l2: 0.601607\n",
            "[392]\ttraining's l2: 0.623134\tvalid_0's l2: 0.601608\n",
            "[393]\ttraining's l2: 0.623054\tvalid_0's l2: 0.601543\n",
            "[394]\ttraining's l2: 0.622962\tvalid_0's l2: 0.60154\n",
            "[395]\ttraining's l2: 0.622905\tvalid_0's l2: 0.601496\n",
            "[396]\ttraining's l2: 0.62282\tvalid_0's l2: 0.601469\n",
            "[397]\ttraining's l2: 0.622746\tvalid_0's l2: 0.601445\n",
            "[398]\ttraining's l2: 0.622656\tvalid_0's l2: 0.600845\n",
            "[399]\ttraining's l2: 0.622593\tvalid_0's l2: 0.600526\n",
            "[400]\ttraining's l2: 0.622449\tvalid_0's l2: 0.600521\n",
            "[401]\ttraining's l2: 0.622378\tvalid_0's l2: 0.600611\n",
            "[402]\ttraining's l2: 0.622291\tvalid_0's l2: 0.600551\n",
            "[403]\ttraining's l2: 0.622181\tvalid_0's l2: 0.6005\n",
            "[404]\ttraining's l2: 0.622081\tvalid_0's l2: 0.600466\n",
            "[405]\ttraining's l2: 0.622007\tvalid_0's l2: 0.600444\n",
            "[406]\ttraining's l2: 0.621892\tvalid_0's l2: 0.60044\n",
            "[407]\ttraining's l2: 0.621832\tvalid_0's l2: 0.600398\n",
            "[408]\ttraining's l2: 0.621741\tvalid_0's l2: 0.600356\n",
            "[409]\ttraining's l2: 0.621676\tvalid_0's l2: 0.600345\n",
            "[410]\ttraining's l2: 0.621617\tvalid_0's l2: 0.60034\n",
            "[411]\ttraining's l2: 0.621534\tvalid_0's l2: 0.600327\n",
            "[412]\ttraining's l2: 0.621468\tvalid_0's l2: 0.600316\n",
            "[413]\ttraining's l2: 0.621405\tvalid_0's l2: 0.600332\n",
            "[414]\ttraining's l2: 0.621307\tvalid_0's l2: 0.600198\n",
            "[415]\ttraining's l2: 0.621205\tvalid_0's l2: 0.600125\n",
            "[416]\ttraining's l2: 0.621132\tvalid_0's l2: 0.600112\n",
            "[417]\ttraining's l2: 0.621066\tvalid_0's l2: 0.600108\n",
            "[418]\ttraining's l2: 0.62102\tvalid_0's l2: 0.600081\n",
            "[419]\ttraining's l2: 0.620953\tvalid_0's l2: 0.600048\n",
            "[420]\ttraining's l2: 0.62087\tvalid_0's l2: 0.600036\n",
            "[421]\ttraining's l2: 0.620785\tvalid_0's l2: 0.599988\n",
            "[422]\ttraining's l2: 0.620681\tvalid_0's l2: 0.599901\n",
            "[423]\ttraining's l2: 0.620597\tvalid_0's l2: 0.599868\n",
            "[424]\ttraining's l2: 0.620525\tvalid_0's l2: 0.599843\n",
            "[425]\ttraining's l2: 0.620461\tvalid_0's l2: 0.599807\n",
            "[426]\ttraining's l2: 0.620409\tvalid_0's l2: 0.599751\n",
            "[427]\ttraining's l2: 0.620349\tvalid_0's l2: 0.599769\n",
            "[428]\ttraining's l2: 0.620266\tvalid_0's l2: 0.599708\n",
            "[429]\ttraining's l2: 0.620192\tvalid_0's l2: 0.599687\n",
            "[430]\ttraining's l2: 0.620123\tvalid_0's l2: 0.599635\n",
            "[431]\ttraining's l2: 0.620023\tvalid_0's l2: 0.59963\n",
            "[432]\ttraining's l2: 0.619933\tvalid_0's l2: 0.599572\n",
            "[433]\ttraining's l2: 0.619836\tvalid_0's l2: 0.599523\n",
            "[434]\ttraining's l2: 0.619757\tvalid_0's l2: 0.5995\n",
            "[435]\ttraining's l2: 0.619667\tvalid_0's l2: 0.599431\n",
            "[436]\ttraining's l2: 0.619582\tvalid_0's l2: 0.599378\n",
            "[437]\ttraining's l2: 0.619526\tvalid_0's l2: 0.599383\n",
            "[438]\ttraining's l2: 0.619438\tvalid_0's l2: 0.599362\n",
            "[439]\ttraining's l2: 0.619362\tvalid_0's l2: 0.599323\n",
            "[440]\ttraining's l2: 0.619286\tvalid_0's l2: 0.599263\n",
            "[441]\ttraining's l2: 0.619197\tvalid_0's l2: 0.599305\n",
            "[442]\ttraining's l2: 0.619128\tvalid_0's l2: 0.599293\n",
            "[443]\ttraining's l2: 0.619023\tvalid_0's l2: 0.599237\n",
            "[444]\ttraining's l2: 0.618865\tvalid_0's l2: 0.599233\n",
            "[445]\ttraining's l2: 0.618805\tvalid_0's l2: 0.59921\n",
            "[446]\ttraining's l2: 0.618738\tvalid_0's l2: 0.598986\n",
            "[447]\ttraining's l2: 0.618652\tvalid_0's l2: 0.599002\n",
            "[448]\ttraining's l2: 0.61858\tvalid_0's l2: 0.598933\n",
            "[449]\ttraining's l2: 0.618513\tvalid_0's l2: 0.598871\n",
            "[450]\ttraining's l2: 0.618432\tvalid_0's l2: 0.598834\n",
            "[451]\ttraining's l2: 0.61835\tvalid_0's l2: 0.598819\n",
            "[452]\ttraining's l2: 0.618271\tvalid_0's l2: 0.598781\n",
            "[453]\ttraining's l2: 0.618217\tvalid_0's l2: 0.598746\n",
            "[454]\ttraining's l2: 0.618161\tvalid_0's l2: 0.59874\n",
            "[455]\ttraining's l2: 0.618004\tvalid_0's l2: 0.598711\n",
            "[456]\ttraining's l2: 0.617935\tvalid_0's l2: 0.598696\n",
            "[457]\ttraining's l2: 0.617851\tvalid_0's l2: 0.598661\n",
            "[458]\ttraining's l2: 0.617798\tvalid_0's l2: 0.598648\n",
            "[459]\ttraining's l2: 0.617728\tvalid_0's l2: 0.598576\n",
            "[460]\ttraining's l2: 0.617672\tvalid_0's l2: 0.598539\n",
            "[461]\ttraining's l2: 0.617599\tvalid_0's l2: 0.598532\n",
            "[462]\ttraining's l2: 0.617505\tvalid_0's l2: 0.598516\n",
            "[463]\ttraining's l2: 0.617426\tvalid_0's l2: 0.598066\n",
            "[464]\ttraining's l2: 0.617364\tvalid_0's l2: 0.59786\n",
            "[465]\ttraining's l2: 0.617242\tvalid_0's l2: 0.597901\n",
            "[466]\ttraining's l2: 0.617138\tvalid_0's l2: 0.597877\n",
            "[467]\ttraining's l2: 0.617077\tvalid_0's l2: 0.597848\n",
            "[468]\ttraining's l2: 0.617016\tvalid_0's l2: 0.597833\n",
            "[469]\ttraining's l2: 0.616923\tvalid_0's l2: 0.597777\n",
            "[470]\ttraining's l2: 0.616845\tvalid_0's l2: 0.597773\n",
            "[471]\ttraining's l2: 0.616774\tvalid_0's l2: 0.597695\n",
            "[472]\ttraining's l2: 0.616722\tvalid_0's l2: 0.597675\n",
            "[473]\ttraining's l2: 0.616677\tvalid_0's l2: 0.59762\n",
            "[474]\ttraining's l2: 0.616634\tvalid_0's l2: 0.597611\n",
            "[475]\ttraining's l2: 0.616572\tvalid_0's l2: 0.597593\n",
            "[476]\ttraining's l2: 0.616505\tvalid_0's l2: 0.597583\n",
            "[477]\ttraining's l2: 0.616424\tvalid_0's l2: 0.596937\n",
            "[478]\ttraining's l2: 0.616328\tvalid_0's l2: 0.596873\n",
            "[479]\ttraining's l2: 0.61625\tvalid_0's l2: 0.596863\n",
            "[480]\ttraining's l2: 0.616174\tvalid_0's l2: 0.59682\n",
            "[481]\ttraining's l2: 0.616131\tvalid_0's l2: 0.596814\n",
            "[482]\ttraining's l2: 0.616005\tvalid_0's l2: 0.596817\n",
            "[483]\ttraining's l2: 0.61595\tvalid_0's l2: 0.596806\n",
            "[484]\ttraining's l2: 0.615902\tvalid_0's l2: 0.596778\n",
            "[485]\ttraining's l2: 0.615833\tvalid_0's l2: 0.596765\n",
            "[486]\ttraining's l2: 0.615778\tvalid_0's l2: 0.596739\n",
            "[487]\ttraining's l2: 0.615732\tvalid_0's l2: 0.596697\n",
            "[488]\ttraining's l2: 0.615639\tvalid_0's l2: 0.596695\n",
            "[489]\ttraining's l2: 0.615591\tvalid_0's l2: 0.596681\n",
            "[490]\ttraining's l2: 0.615524\tvalid_0's l2: 0.596689\n",
            "[491]\ttraining's l2: 0.615467\tvalid_0's l2: 0.596409\n",
            "[492]\ttraining's l2: 0.615361\tvalid_0's l2: 0.596285\n",
            "[493]\ttraining's l2: 0.615309\tvalid_0's l2: 0.596259\n",
            "[494]\ttraining's l2: 0.615262\tvalid_0's l2: 0.596246\n",
            "[495]\ttraining's l2: 0.615201\tvalid_0's l2: 0.596227\n",
            "[496]\ttraining's l2: 0.615135\tvalid_0's l2: 0.59618\n",
            "[497]\ttraining's l2: 0.615067\tvalid_0's l2: 0.596259\n",
            "[498]\ttraining's l2: 0.615019\tvalid_0's l2: 0.596259\n",
            "[499]\ttraining's l2: 0.614922\tvalid_0's l2: 0.596208\n",
            "[500]\ttraining's l2: 0.61486\tvalid_0's l2: 0.596177\n",
            "[501]\ttraining's l2: 0.614787\tvalid_0's l2: 0.596167\n",
            "[502]\ttraining's l2: 0.61473\tvalid_0's l2: 0.596146\n",
            "[503]\ttraining's l2: 0.61461\tvalid_0's l2: 0.596164\n",
            "[504]\ttraining's l2: 0.61456\tvalid_0's l2: 0.596151\n",
            "[505]\ttraining's l2: 0.614497\tvalid_0's l2: 0.596141\n",
            "[506]\ttraining's l2: 0.614425\tvalid_0's l2: 0.596104\n",
            "[507]\ttraining's l2: 0.614365\tvalid_0's l2: 0.596081\n",
            "[508]\ttraining's l2: 0.6143\tvalid_0's l2: 0.596063\n",
            "[509]\ttraining's l2: 0.614209\tvalid_0's l2: 0.596033\n",
            "[510]\ttraining's l2: 0.614168\tvalid_0's l2: 0.595979\n",
            "[511]\ttraining's l2: 0.614108\tvalid_0's l2: 0.595945\n",
            "[512]\ttraining's l2: 0.613991\tvalid_0's l2: 0.595941\n",
            "[513]\ttraining's l2: 0.613915\tvalid_0's l2: 0.595947\n",
            "[514]\ttraining's l2: 0.613868\tvalid_0's l2: 0.595901\n",
            "[515]\ttraining's l2: 0.613814\tvalid_0's l2: 0.595897\n",
            "[516]\ttraining's l2: 0.613756\tvalid_0's l2: 0.595868\n",
            "[517]\ttraining's l2: 0.613703\tvalid_0's l2: 0.595423\n",
            "[518]\ttraining's l2: 0.613653\tvalid_0's l2: 0.595215\n",
            "[519]\ttraining's l2: 0.613605\tvalid_0's l2: 0.595165\n",
            "[520]\ttraining's l2: 0.613562\tvalid_0's l2: 0.595122\n",
            "[521]\ttraining's l2: 0.613499\tvalid_0's l2: 0.595076\n",
            "[522]\ttraining's l2: 0.613433\tvalid_0's l2: 0.595068\n",
            "[523]\ttraining's l2: 0.613391\tvalid_0's l2: 0.594939\n",
            "[524]\ttraining's l2: 0.613318\tvalid_0's l2: 0.594908\n",
            "[525]\ttraining's l2: 0.613262\tvalid_0's l2: 0.594948\n",
            "[526]\ttraining's l2: 0.613173\tvalid_0's l2: 0.594943\n",
            "[527]\ttraining's l2: 0.613098\tvalid_0's l2: 0.594902\n",
            "[528]\ttraining's l2: 0.613031\tvalid_0's l2: 0.594887\n",
            "[529]\ttraining's l2: 0.612967\tvalid_0's l2: 0.594851\n",
            "[530]\ttraining's l2: 0.612913\tvalid_0's l2: 0.594827\n",
            "[531]\ttraining's l2: 0.612855\tvalid_0's l2: 0.594812\n",
            "[532]\ttraining's l2: 0.612785\tvalid_0's l2: 0.594802\n",
            "[533]\ttraining's l2: 0.612723\tvalid_0's l2: 0.594836\n",
            "[534]\ttraining's l2: 0.612682\tvalid_0's l2: 0.594821\n",
            "[535]\ttraining's l2: 0.612597\tvalid_0's l2: 0.594787\n",
            "[536]\ttraining's l2: 0.612526\tvalid_0's l2: 0.594774\n",
            "[537]\ttraining's l2: 0.612465\tvalid_0's l2: 0.594745\n",
            "[538]\ttraining's l2: 0.612395\tvalid_0's l2: 0.594708\n",
            "[539]\ttraining's l2: 0.612282\tvalid_0's l2: 0.594703\n",
            "[540]\ttraining's l2: 0.612226\tvalid_0's l2: 0.594645\n",
            "[541]\ttraining's l2: 0.61214\tvalid_0's l2: 0.594563\n",
            "[542]\ttraining's l2: 0.612059\tvalid_0's l2: 0.594541\n",
            "[543]\ttraining's l2: 0.61203\tvalid_0's l2: 0.594538\n",
            "[544]\ttraining's l2: 0.611993\tvalid_0's l2: 0.594541\n",
            "[545]\ttraining's l2: 0.611879\tvalid_0's l2: 0.59452\n",
            "[546]\ttraining's l2: 0.611843\tvalid_0's l2: 0.594486\n",
            "[547]\ttraining's l2: 0.611783\tvalid_0's l2: 0.59448\n",
            "[548]\ttraining's l2: 0.611737\tvalid_0's l2: 0.594479\n",
            "[549]\ttraining's l2: 0.611677\tvalid_0's l2: 0.594469\n",
            "[550]\ttraining's l2: 0.611654\tvalid_0's l2: 0.594467\n",
            "[551]\ttraining's l2: 0.6116\tvalid_0's l2: 0.594499\n",
            "[552]\ttraining's l2: 0.611555\tvalid_0's l2: 0.594491\n",
            "[553]\ttraining's l2: 0.611486\tvalid_0's l2: 0.594548\n",
            "[554]\ttraining's l2: 0.61146\tvalid_0's l2: 0.594527\n",
            "[555]\ttraining's l2: 0.611416\tvalid_0's l2: 0.594487\n",
            "[556]\ttraining's l2: 0.611374\tvalid_0's l2: 0.594441\n",
            "[557]\ttraining's l2: 0.61131\tvalid_0's l2: 0.594407\n",
            "[558]\ttraining's l2: 0.61123\tvalid_0's l2: 0.594358\n",
            "[559]\ttraining's l2: 0.611168\tvalid_0's l2: 0.594352\n",
            "[560]\ttraining's l2: 0.611141\tvalid_0's l2: 0.594334\n",
            "[561]\ttraining's l2: 0.611088\tvalid_0's l2: 0.594319\n",
            "[562]\ttraining's l2: 0.61103\tvalid_0's l2: 0.594289\n",
            "[563]\ttraining's l2: 0.610952\tvalid_0's l2: 0.59422\n",
            "[564]\ttraining's l2: 0.610907\tvalid_0's l2: 0.594204\n",
            "[565]\ttraining's l2: 0.610847\tvalid_0's l2: 0.594254\n",
            "[566]\ttraining's l2: 0.610787\tvalid_0's l2: 0.594252\n",
            "[567]\ttraining's l2: 0.610737\tvalid_0's l2: 0.594184\n",
            "[568]\ttraining's l2: 0.610685\tvalid_0's l2: 0.59413\n",
            "[569]\ttraining's l2: 0.610611\tvalid_0's l2: 0.59413\n",
            "[570]\ttraining's l2: 0.61057\tvalid_0's l2: 0.594145\n",
            "[571]\ttraining's l2: 0.610502\tvalid_0's l2: 0.594078\n",
            "[572]\ttraining's l2: 0.610431\tvalid_0's l2: 0.594102\n",
            "[573]\ttraining's l2: 0.610382\tvalid_0's l2: 0.594058\n",
            "[574]\ttraining's l2: 0.610317\tvalid_0's l2: 0.594033\n",
            "[575]\ttraining's l2: 0.61025\tvalid_0's l2: 0.594011\n",
            "[576]\ttraining's l2: 0.610171\tvalid_0's l2: 0.594029\n",
            "[577]\ttraining's l2: 0.610111\tvalid_0's l2: 0.594031\n",
            "[578]\ttraining's l2: 0.610053\tvalid_0's l2: 0.594036\n",
            "[579]\ttraining's l2: 0.609982\tvalid_0's l2: 0.594101\n",
            "[580]\ttraining's l2: 0.609932\tvalid_0's l2: 0.594124\n",
            "[581]\ttraining's l2: 0.609823\tvalid_0's l2: 0.594122\n",
            "[582]\ttraining's l2: 0.609767\tvalid_0's l2: 0.594075\n",
            "[583]\ttraining's l2: 0.609678\tvalid_0's l2: 0.594063\n",
            "[584]\ttraining's l2: 0.60962\tvalid_0's l2: 0.59399\n",
            "[585]\ttraining's l2: 0.609568\tvalid_0's l2: 0.593978\n",
            "[586]\ttraining's l2: 0.609517\tvalid_0's l2: 0.593979\n",
            "[587]\ttraining's l2: 0.60947\tvalid_0's l2: 0.59395\n",
            "[588]\ttraining's l2: 0.60943\tvalid_0's l2: 0.593926\n",
            "[589]\ttraining's l2: 0.609376\tvalid_0's l2: 0.593936\n",
            "[590]\ttraining's l2: 0.609334\tvalid_0's l2: 0.593909\n",
            "[591]\ttraining's l2: 0.609278\tvalid_0's l2: 0.593845\n",
            "[592]\ttraining's l2: 0.609227\tvalid_0's l2: 0.593834\n",
            "[593]\ttraining's l2: 0.609167\tvalid_0's l2: 0.59389\n",
            "[594]\ttraining's l2: 0.609113\tvalid_0's l2: 0.593888\n",
            "[595]\ttraining's l2: 0.609075\tvalid_0's l2: 0.593865\n",
            "[596]\ttraining's l2: 0.609025\tvalid_0's l2: 0.59382\n",
            "[597]\ttraining's l2: 0.608976\tvalid_0's l2: 0.5938\n",
            "[598]\ttraining's l2: 0.608951\tvalid_0's l2: 0.593795\n",
            "[599]\ttraining's l2: 0.608908\tvalid_0's l2: 0.59376\n",
            "[600]\ttraining's l2: 0.608868\tvalid_0's l2: 0.593762\n",
            "[601]\ttraining's l2: 0.608788\tvalid_0's l2: 0.593757\n",
            "[602]\ttraining's l2: 0.608747\tvalid_0's l2: 0.593713\n",
            "[603]\ttraining's l2: 0.608684\tvalid_0's l2: 0.593591\n",
            "[604]\ttraining's l2: 0.60864\tvalid_0's l2: 0.59354\n",
            "[605]\ttraining's l2: 0.608598\tvalid_0's l2: 0.593626\n",
            "[606]\ttraining's l2: 0.608569\tvalid_0's l2: 0.59362\n",
            "[607]\ttraining's l2: 0.608505\tvalid_0's l2: 0.593613\n",
            "[608]\ttraining's l2: 0.608466\tvalid_0's l2: 0.593596\n",
            "[609]\ttraining's l2: 0.60844\tvalid_0's l2: 0.593606\n",
            "[610]\ttraining's l2: 0.608378\tvalid_0's l2: 0.593579\n",
            "[611]\ttraining's l2: 0.608323\tvalid_0's l2: 0.59358\n",
            "[612]\ttraining's l2: 0.608275\tvalid_0's l2: 0.593576\n",
            "[613]\ttraining's l2: 0.608204\tvalid_0's l2: 0.593542\n",
            "[614]\ttraining's l2: 0.608179\tvalid_0's l2: 0.593538\n",
            "[615]\ttraining's l2: 0.608087\tvalid_0's l2: 0.593551\n",
            "[616]\ttraining's l2: 0.608045\tvalid_0's l2: 0.593469\n",
            "[617]\ttraining's l2: 0.608008\tvalid_0's l2: 0.593449\n",
            "[618]\ttraining's l2: 0.607984\tvalid_0's l2: 0.593436\n",
            "[619]\ttraining's l2: 0.607942\tvalid_0's l2: 0.593426\n",
            "[620]\ttraining's l2: 0.607879\tvalid_0's l2: 0.593396\n",
            "[621]\ttraining's l2: 0.607835\tvalid_0's l2: 0.593334\n",
            "[622]\ttraining's l2: 0.607788\tvalid_0's l2: 0.593315\n",
            "[623]\ttraining's l2: 0.607712\tvalid_0's l2: 0.593287\n",
            "[624]\ttraining's l2: 0.607657\tvalid_0's l2: 0.593315\n",
            "[625]\ttraining's l2: 0.607601\tvalid_0's l2: 0.593306\n",
            "[626]\ttraining's l2: 0.607552\tvalid_0's l2: 0.593266\n",
            "[627]\ttraining's l2: 0.607496\tvalid_0's l2: 0.593241\n",
            "[628]\ttraining's l2: 0.607441\tvalid_0's l2: 0.593242\n",
            "[629]\ttraining's l2: 0.607363\tvalid_0's l2: 0.59322\n",
            "[630]\ttraining's l2: 0.607313\tvalid_0's l2: 0.593193\n",
            "[631]\ttraining's l2: 0.60726\tvalid_0's l2: 0.593198\n",
            "[632]\ttraining's l2: 0.607205\tvalid_0's l2: 0.593159\n",
            "[633]\ttraining's l2: 0.607168\tvalid_0's l2: 0.593239\n",
            "[634]\ttraining's l2: 0.607141\tvalid_0's l2: 0.593238\n",
            "[635]\ttraining's l2: 0.607116\tvalid_0's l2: 0.593241\n",
            "[636]\ttraining's l2: 0.607081\tvalid_0's l2: 0.593217\n",
            "[637]\ttraining's l2: 0.607026\tvalid_0's l2: 0.593206\n",
            "[638]\ttraining's l2: 0.606956\tvalid_0's l2: 0.593112\n",
            "[639]\ttraining's l2: 0.606897\tvalid_0's l2: 0.593171\n",
            "[640]\ttraining's l2: 0.606828\tvalid_0's l2: 0.593184\n",
            "[641]\ttraining's l2: 0.606779\tvalid_0's l2: 0.593129\n",
            "[642]\ttraining's l2: 0.606737\tvalid_0's l2: 0.593109\n",
            "[643]\ttraining's l2: 0.606688\tvalid_0's l2: 0.593087\n",
            "[644]\ttraining's l2: 0.606651\tvalid_0's l2: 0.593067\n",
            "[645]\ttraining's l2: 0.606594\tvalid_0's l2: 0.593012\n",
            "[646]\ttraining's l2: 0.606537\tvalid_0's l2: 0.592927\n",
            "[647]\ttraining's l2: 0.606485\tvalid_0's l2: 0.592921\n",
            "[648]\ttraining's l2: 0.606446\tvalid_0's l2: 0.592898\n",
            "[649]\ttraining's l2: 0.606389\tvalid_0's l2: 0.592825\n",
            "[650]\ttraining's l2: 0.606336\tvalid_0's l2: 0.592823\n",
            "[651]\ttraining's l2: 0.606303\tvalid_0's l2: 0.592803\n",
            "[652]\ttraining's l2: 0.606244\tvalid_0's l2: 0.592787\n",
            "[653]\ttraining's l2: 0.606217\tvalid_0's l2: 0.592785\n",
            "[654]\ttraining's l2: 0.606173\tvalid_0's l2: 0.592768\n",
            "[655]\ttraining's l2: 0.606136\tvalid_0's l2: 0.592759\n",
            "[656]\ttraining's l2: 0.606083\tvalid_0's l2: 0.592784\n",
            "[657]\ttraining's l2: 0.606043\tvalid_0's l2: 0.592783\n",
            "[658]\ttraining's l2: 0.606009\tvalid_0's l2: 0.592797\n",
            "[659]\ttraining's l2: 0.605965\tvalid_0's l2: 0.592792\n",
            "[660]\ttraining's l2: 0.605912\tvalid_0's l2: 0.592787\n",
            "[661]\ttraining's l2: 0.605877\tvalid_0's l2: 0.592817\n",
            "[662]\ttraining's l2: 0.605814\tvalid_0's l2: 0.592772\n",
            "[663]\ttraining's l2: 0.605772\tvalid_0's l2: 0.592853\n",
            "[664]\ttraining's l2: 0.605742\tvalid_0's l2: 0.592852\n",
            "[665]\ttraining's l2: 0.60568\tvalid_0's l2: 0.592864\n",
            "[666]\ttraining's l2: 0.605654\tvalid_0's l2: 0.592848\n",
            "[667]\ttraining's l2: 0.605577\tvalid_0's l2: 0.592838\n",
            "[668]\ttraining's l2: 0.605545\tvalid_0's l2: 0.592824\n",
            "[669]\ttraining's l2: 0.605496\tvalid_0's l2: 0.592794\n",
            "[670]\ttraining's l2: 0.605439\tvalid_0's l2: 0.59279\n",
            "[671]\ttraining's l2: 0.605391\tvalid_0's l2: 0.592874\n",
            "[672]\ttraining's l2: 0.605331\tvalid_0's l2: 0.592855\n",
            "[673]\ttraining's l2: 0.605286\tvalid_0's l2: 0.592839\n",
            "[674]\ttraining's l2: 0.605251\tvalid_0's l2: 0.592902\n",
            "[675]\ttraining's l2: 0.605187\tvalid_0's l2: 0.592895\n",
            "[676]\ttraining's l2: 0.605135\tvalid_0's l2: 0.592893\n",
            "[677]\ttraining's l2: 0.605054\tvalid_0's l2: 0.592881\n",
            "[678]\ttraining's l2: 0.60501\tvalid_0's l2: 0.59287\n",
            "[679]\ttraining's l2: 0.60494\tvalid_0's l2: 0.592857\n",
            "[680]\ttraining's l2: 0.604896\tvalid_0's l2: 0.592828\n",
            "[681]\ttraining's l2: 0.604843\tvalid_0's l2: 0.59282\n",
            "[682]\ttraining's l2: 0.6048\tvalid_0's l2: 0.592837\n",
            "[683]\ttraining's l2: 0.604776\tvalid_0's l2: 0.592829\n",
            "[684]\ttraining's l2: 0.604745\tvalid_0's l2: 0.592811\n",
            "[685]\ttraining's l2: 0.604688\tvalid_0's l2: 0.592755\n",
            "[686]\ttraining's l2: 0.604639\tvalid_0's l2: 0.592726\n",
            "[687]\ttraining's l2: 0.604576\tvalid_0's l2: 0.592716\n",
            "[688]\ttraining's l2: 0.604499\tvalid_0's l2: 0.59269\n",
            "[689]\ttraining's l2: 0.604439\tvalid_0's l2: 0.592672\n",
            "[690]\ttraining's l2: 0.6044\tvalid_0's l2: 0.592587\n",
            "[691]\ttraining's l2: 0.604328\tvalid_0's l2: 0.59265\n",
            "[692]\ttraining's l2: 0.604269\tvalid_0's l2: 0.592605\n",
            "[693]\ttraining's l2: 0.604216\tvalid_0's l2: 0.592622\n",
            "[694]\ttraining's l2: 0.604176\tvalid_0's l2: 0.592649\n",
            "[695]\ttraining's l2: 0.604131\tvalid_0's l2: 0.592618\n",
            "[696]\ttraining's l2: 0.604016\tvalid_0's l2: 0.592645\n",
            "[697]\ttraining's l2: 0.603992\tvalid_0's l2: 0.592639\n",
            "[698]\ttraining's l2: 0.603955\tvalid_0's l2: 0.592629\n",
            "[699]\ttraining's l2: 0.603927\tvalid_0's l2: 0.592613\n",
            "[700]\ttraining's l2: 0.603884\tvalid_0's l2: 0.592591\n",
            "[701]\ttraining's l2: 0.603832\tvalid_0's l2: 0.59259\n",
            "[702]\ttraining's l2: 0.603734\tvalid_0's l2: 0.592619\n",
            "[703]\ttraining's l2: 0.603667\tvalid_0's l2: 0.592557\n",
            "[704]\ttraining's l2: 0.603617\tvalid_0's l2: 0.592545\n",
            "[705]\ttraining's l2: 0.603535\tvalid_0's l2: 0.592551\n",
            "[706]\ttraining's l2: 0.603478\tvalid_0's l2: 0.59259\n",
            "[707]\ttraining's l2: 0.603433\tvalid_0's l2: 0.592589\n",
            "[708]\ttraining's l2: 0.603384\tvalid_0's l2: 0.592575\n",
            "[709]\ttraining's l2: 0.603316\tvalid_0's l2: 0.592551\n",
            "[710]\ttraining's l2: 0.603236\tvalid_0's l2: 0.592576\n",
            "[711]\ttraining's l2: 0.60319\tvalid_0's l2: 0.592563\n",
            "[712]\ttraining's l2: 0.603132\tvalid_0's l2: 0.592559\n",
            "[713]\ttraining's l2: 0.60307\tvalid_0's l2: 0.592554\n",
            "[714]\ttraining's l2: 0.603025\tvalid_0's l2: 0.592535\n",
            "[715]\ttraining's l2: 0.602983\tvalid_0's l2: 0.592484\n",
            "[716]\ttraining's l2: 0.602951\tvalid_0's l2: 0.592475\n",
            "[717]\ttraining's l2: 0.602877\tvalid_0's l2: 0.592453\n",
            "[718]\ttraining's l2: 0.602851\tvalid_0's l2: 0.592427\n",
            "[719]\ttraining's l2: 0.602787\tvalid_0's l2: 0.592397\n",
            "[720]\ttraining's l2: 0.602738\tvalid_0's l2: 0.592435\n",
            "[721]\ttraining's l2: 0.602696\tvalid_0's l2: 0.592427\n",
            "[722]\ttraining's l2: 0.602675\tvalid_0's l2: 0.59243\n",
            "[723]\ttraining's l2: 0.602636\tvalid_0's l2: 0.592477\n",
            "[724]\ttraining's l2: 0.602595\tvalid_0's l2: 0.592476\n",
            "[725]\ttraining's l2: 0.60256\tvalid_0's l2: 0.59247\n",
            "[726]\ttraining's l2: 0.602524\tvalid_0's l2: 0.592454\n",
            "[727]\ttraining's l2: 0.602473\tvalid_0's l2: 0.592447\n",
            "[728]\ttraining's l2: 0.602418\tvalid_0's l2: 0.592437\n",
            "[729]\ttraining's l2: 0.602369\tvalid_0's l2: 0.592438\n",
            "[730]\ttraining's l2: 0.602335\tvalid_0's l2: 0.592433\n",
            "[731]\ttraining's l2: 0.602283\tvalid_0's l2: 0.59239\n",
            "[732]\ttraining's l2: 0.602218\tvalid_0's l2: 0.592363\n",
            "[733]\ttraining's l2: 0.60217\tvalid_0's l2: 0.592384\n",
            "[734]\ttraining's l2: 0.602139\tvalid_0's l2: 0.592375\n",
            "[735]\ttraining's l2: 0.602105\tvalid_0's l2: 0.592366\n",
            "[736]\ttraining's l2: 0.602047\tvalid_0's l2: 0.592346\n",
            "[737]\ttraining's l2: 0.602011\tvalid_0's l2: 0.592333\n",
            "[738]\ttraining's l2: 0.601979\tvalid_0's l2: 0.59234\n",
            "[739]\ttraining's l2: 0.601942\tvalid_0's l2: 0.592309\n",
            "[740]\ttraining's l2: 0.601895\tvalid_0's l2: 0.592289\n",
            "[741]\ttraining's l2: 0.601862\tvalid_0's l2: 0.592268\n",
            "[742]\ttraining's l2: 0.601789\tvalid_0's l2: 0.592249\n",
            "[743]\ttraining's l2: 0.601732\tvalid_0's l2: 0.592234\n",
            "[744]\ttraining's l2: 0.601691\tvalid_0's l2: 0.592221\n",
            "[745]\ttraining's l2: 0.601663\tvalid_0's l2: 0.592225\n",
            "[746]\ttraining's l2: 0.601616\tvalid_0's l2: 0.592292\n",
            "[747]\ttraining's l2: 0.601564\tvalid_0's l2: 0.592281\n",
            "[748]\ttraining's l2: 0.60151\tvalid_0's l2: 0.592335\n",
            "[749]\ttraining's l2: 0.601485\tvalid_0's l2: 0.592311\n",
            "[750]\ttraining's l2: 0.601434\tvalid_0's l2: 0.592244\n",
            "[751]\ttraining's l2: 0.601396\tvalid_0's l2: 0.592247\n",
            "[752]\ttraining's l2: 0.601352\tvalid_0's l2: 0.592229\n",
            "[753]\ttraining's l2: 0.601322\tvalid_0's l2: 0.592249\n",
            "[754]\ttraining's l2: 0.601281\tvalid_0's l2: 0.592214\n",
            "[755]\ttraining's l2: 0.60125\tvalid_0's l2: 0.592194\n",
            "[756]\ttraining's l2: 0.601162\tvalid_0's l2: 0.592222\n",
            "[757]\ttraining's l2: 0.601135\tvalid_0's l2: 0.592186\n",
            "[758]\ttraining's l2: 0.601115\tvalid_0's l2: 0.592185\n",
            "[759]\ttraining's l2: 0.601012\tvalid_0's l2: 0.592153\n",
            "[760]\ttraining's l2: 0.600986\tvalid_0's l2: 0.592149\n",
            "[761]\ttraining's l2: 0.600931\tvalid_0's l2: 0.592133\n",
            "[762]\ttraining's l2: 0.600898\tvalid_0's l2: 0.592111\n",
            "[763]\ttraining's l2: 0.600862\tvalid_0's l2: 0.592188\n",
            "[764]\ttraining's l2: 0.600831\tvalid_0's l2: 0.592177\n",
            "[765]\ttraining's l2: 0.600783\tvalid_0's l2: 0.592127\n",
            "[766]\ttraining's l2: 0.600748\tvalid_0's l2: 0.592109\n",
            "[767]\ttraining's l2: 0.600706\tvalid_0's l2: 0.59216\n",
            "[768]\ttraining's l2: 0.600672\tvalid_0's l2: 0.592153\n",
            "[769]\ttraining's l2: 0.600633\tvalid_0's l2: 0.592149\n",
            "[770]\ttraining's l2: 0.600604\tvalid_0's l2: 0.592128\n",
            "[771]\ttraining's l2: 0.60058\tvalid_0's l2: 0.592115\n",
            "[772]\ttraining's l2: 0.600515\tvalid_0's l2: 0.592105\n",
            "[773]\ttraining's l2: 0.600473\tvalid_0's l2: 0.592091\n",
            "[774]\ttraining's l2: 0.600438\tvalid_0's l2: 0.592091\n",
            "[775]\ttraining's l2: 0.600411\tvalid_0's l2: 0.591995\n",
            "[776]\ttraining's l2: 0.600369\tvalid_0's l2: 0.59197\n",
            "[777]\ttraining's l2: 0.600303\tvalid_0's l2: 0.591969\n",
            "[778]\ttraining's l2: 0.600279\tvalid_0's l2: 0.591969\n",
            "[779]\ttraining's l2: 0.600253\tvalid_0's l2: 0.591977\n",
            "[780]\ttraining's l2: 0.600215\tvalid_0's l2: 0.591979\n",
            "[781]\ttraining's l2: 0.600185\tvalid_0's l2: 0.591952\n",
            "[782]\ttraining's l2: 0.60015\tvalid_0's l2: 0.591918\n",
            "[783]\ttraining's l2: 0.60011\tvalid_0's l2: 0.591912\n",
            "[784]\ttraining's l2: 0.600079\tvalid_0's l2: 0.5919\n",
            "[785]\ttraining's l2: 0.600042\tvalid_0's l2: 0.591913\n",
            "[786]\ttraining's l2: 0.599988\tvalid_0's l2: 0.591877\n",
            "[787]\ttraining's l2: 0.599939\tvalid_0's l2: 0.591864\n",
            "[788]\ttraining's l2: 0.599914\tvalid_0's l2: 0.59185\n",
            "[789]\ttraining's l2: 0.599874\tvalid_0's l2: 0.59184\n",
            "[790]\ttraining's l2: 0.599832\tvalid_0's l2: 0.591837\n",
            "[791]\ttraining's l2: 0.599763\tvalid_0's l2: 0.591879\n",
            "[792]\ttraining's l2: 0.599724\tvalid_0's l2: 0.591873\n",
            "[793]\ttraining's l2: 0.599689\tvalid_0's l2: 0.591837\n",
            "[794]\ttraining's l2: 0.59965\tvalid_0's l2: 0.591813\n",
            "[795]\ttraining's l2: 0.599608\tvalid_0's l2: 0.591815\n",
            "[796]\ttraining's l2: 0.599587\tvalid_0's l2: 0.591815\n",
            "[797]\ttraining's l2: 0.599537\tvalid_0's l2: 0.59179\n",
            "[798]\ttraining's l2: 0.599494\tvalid_0's l2: 0.591793\n",
            "[799]\ttraining's l2: 0.599453\tvalid_0's l2: 0.591787\n",
            "[800]\ttraining's l2: 0.599378\tvalid_0's l2: 0.591736\n",
            "[801]\ttraining's l2: 0.59935\tvalid_0's l2: 0.591751\n",
            "[802]\ttraining's l2: 0.599311\tvalid_0's l2: 0.591745\n",
            "[803]\ttraining's l2: 0.599263\tvalid_0's l2: 0.59173\n",
            "[804]\ttraining's l2: 0.599237\tvalid_0's l2: 0.591723\n",
            "[805]\ttraining's l2: 0.599211\tvalid_0's l2: 0.591775\n",
            "[806]\ttraining's l2: 0.59919\tvalid_0's l2: 0.591781\n",
            "[807]\ttraining's l2: 0.59915\tvalid_0's l2: 0.591787\n",
            "[808]\ttraining's l2: 0.599113\tvalid_0's l2: 0.591882\n",
            "[809]\ttraining's l2: 0.599085\tvalid_0's l2: 0.591881\n",
            "[810]\ttraining's l2: 0.599049\tvalid_0's l2: 0.591908\n",
            "[811]\ttraining's l2: 0.599009\tvalid_0's l2: 0.591919\n",
            "[812]\ttraining's l2: 0.598956\tvalid_0's l2: 0.591886\n",
            "[813]\ttraining's l2: 0.598912\tvalid_0's l2: 0.591871\n",
            "[814]\ttraining's l2: 0.59885\tvalid_0's l2: 0.59187\n",
            "[815]\ttraining's l2: 0.598788\tvalid_0's l2: 0.591852\n",
            "[816]\ttraining's l2: 0.598753\tvalid_0's l2: 0.591854\n",
            "[817]\ttraining's l2: 0.598727\tvalid_0's l2: 0.591824\n",
            "[818]\ttraining's l2: 0.598691\tvalid_0's l2: 0.591812\n",
            "[819]\ttraining's l2: 0.59864\tvalid_0's l2: 0.5918\n",
            "[820]\ttraining's l2: 0.598573\tvalid_0's l2: 0.591803\n",
            "[821]\ttraining's l2: 0.59853\tvalid_0's l2: 0.591763\n",
            "[822]\ttraining's l2: 0.598485\tvalid_0's l2: 0.591782\n",
            "[823]\ttraining's l2: 0.598461\tvalid_0's l2: 0.591814\n",
            "[824]\ttraining's l2: 0.598425\tvalid_0's l2: 0.591784\n",
            "[825]\ttraining's l2: 0.598404\tvalid_0's l2: 0.591783\n",
            "[826]\ttraining's l2: 0.598355\tvalid_0's l2: 0.591765\n",
            "[827]\ttraining's l2: 0.598292\tvalid_0's l2: 0.59171\n",
            "[828]\ttraining's l2: 0.598262\tvalid_0's l2: 0.591712\n",
            "[829]\ttraining's l2: 0.598218\tvalid_0's l2: 0.591698\n",
            "[830]\ttraining's l2: 0.598189\tvalid_0's l2: 0.591698\n",
            "[831]\ttraining's l2: 0.598101\tvalid_0's l2: 0.591711\n",
            "[832]\ttraining's l2: 0.598043\tvalid_0's l2: 0.591667\n",
            "[833]\ttraining's l2: 0.598007\tvalid_0's l2: 0.591665\n",
            "[834]\ttraining's l2: 0.597975\tvalid_0's l2: 0.591619\n",
            "[835]\ttraining's l2: 0.597937\tvalid_0's l2: 0.591601\n",
            "[836]\ttraining's l2: 0.597893\tvalid_0's l2: 0.591567\n",
            "[837]\ttraining's l2: 0.597863\tvalid_0's l2: 0.591578\n",
            "[838]\ttraining's l2: 0.597796\tvalid_0's l2: 0.591583\n",
            "[839]\ttraining's l2: 0.597761\tvalid_0's l2: 0.591574\n",
            "[840]\ttraining's l2: 0.59769\tvalid_0's l2: 0.591569\n",
            "[841]\ttraining's l2: 0.59765\tvalid_0's l2: 0.591569\n",
            "[842]\ttraining's l2: 0.597617\tvalid_0's l2: 0.59158\n",
            "[843]\ttraining's l2: 0.597585\tvalid_0's l2: 0.591577\n",
            "[844]\ttraining's l2: 0.597556\tvalid_0's l2: 0.591574\n",
            "[845]\ttraining's l2: 0.597518\tvalid_0's l2: 0.591595\n",
            "[846]\ttraining's l2: 0.59749\tvalid_0's l2: 0.591586\n",
            "[847]\ttraining's l2: 0.597452\tvalid_0's l2: 0.59158\n",
            "[848]\ttraining's l2: 0.597399\tvalid_0's l2: 0.591559\n",
            "[849]\ttraining's l2: 0.597357\tvalid_0's l2: 0.591562\n",
            "[850]\ttraining's l2: 0.597329\tvalid_0's l2: 0.591559\n",
            "[851]\ttraining's l2: 0.597295\tvalid_0's l2: 0.591556\n",
            "[852]\ttraining's l2: 0.597266\tvalid_0's l2: 0.591551\n",
            "[853]\ttraining's l2: 0.597212\tvalid_0's l2: 0.591523\n",
            "[854]\ttraining's l2: 0.59719\tvalid_0's l2: 0.591498\n",
            "[855]\ttraining's l2: 0.597162\tvalid_0's l2: 0.591501\n",
            "[856]\ttraining's l2: 0.597137\tvalid_0's l2: 0.591499\n",
            "[857]\ttraining's l2: 0.597072\tvalid_0's l2: 0.591482\n",
            "[858]\ttraining's l2: 0.597042\tvalid_0's l2: 0.591465\n",
            "[859]\ttraining's l2: 0.597019\tvalid_0's l2: 0.591466\n",
            "[860]\ttraining's l2: 0.596982\tvalid_0's l2: 0.591426\n",
            "[861]\ttraining's l2: 0.596947\tvalid_0's l2: 0.591515\n",
            "[862]\ttraining's l2: 0.596903\tvalid_0's l2: 0.591514\n",
            "[863]\ttraining's l2: 0.596843\tvalid_0's l2: 0.591505\n",
            "[864]\ttraining's l2: 0.596807\tvalid_0's l2: 0.591488\n",
            "[865]\ttraining's l2: 0.596777\tvalid_0's l2: 0.591479\n",
            "[866]\ttraining's l2: 0.596745\tvalid_0's l2: 0.591476\n",
            "[867]\ttraining's l2: 0.596725\tvalid_0's l2: 0.591475\n",
            "[868]\ttraining's l2: 0.596678\tvalid_0's l2: 0.591433\n",
            "[869]\ttraining's l2: 0.596635\tvalid_0's l2: 0.591422\n",
            "[870]\ttraining's l2: 0.596596\tvalid_0's l2: 0.591407\n",
            "[871]\ttraining's l2: 0.596567\tvalid_0's l2: 0.591396\n",
            "[872]\ttraining's l2: 0.59654\tvalid_0's l2: 0.591391\n",
            "[873]\ttraining's l2: 0.596491\tvalid_0's l2: 0.591358\n",
            "[874]\ttraining's l2: 0.596457\tvalid_0's l2: 0.591351\n",
            "[875]\ttraining's l2: 0.596436\tvalid_0's l2: 0.591346\n",
            "[876]\ttraining's l2: 0.596383\tvalid_0's l2: 0.591329\n",
            "[877]\ttraining's l2: 0.596367\tvalid_0's l2: 0.591293\n",
            "[878]\ttraining's l2: 0.596343\tvalid_0's l2: 0.591286\n",
            "[879]\ttraining's l2: 0.596306\tvalid_0's l2: 0.591282\n",
            "[880]\ttraining's l2: 0.59622\tvalid_0's l2: 0.591285\n",
            "[881]\ttraining's l2: 0.596186\tvalid_0's l2: 0.591268\n",
            "[882]\ttraining's l2: 0.596139\tvalid_0's l2: 0.591245\n",
            "[883]\ttraining's l2: 0.596113\tvalid_0's l2: 0.59124\n",
            "[884]\ttraining's l2: 0.596052\tvalid_0's l2: 0.591231\n",
            "[885]\ttraining's l2: 0.596002\tvalid_0's l2: 0.591205\n",
            "[886]\ttraining's l2: 0.59597\tvalid_0's l2: 0.591211\n",
            "[887]\ttraining's l2: 0.595927\tvalid_0's l2: 0.591193\n",
            "[888]\ttraining's l2: 0.595878\tvalid_0's l2: 0.591169\n",
            "[889]\ttraining's l2: 0.595843\tvalid_0's l2: 0.591132\n",
            "[890]\ttraining's l2: 0.595805\tvalid_0's l2: 0.591138\n",
            "[891]\ttraining's l2: 0.595778\tvalid_0's l2: 0.591137\n",
            "[892]\ttraining's l2: 0.595754\tvalid_0's l2: 0.59114\n",
            "[893]\ttraining's l2: 0.595724\tvalid_0's l2: 0.591118\n",
            "[894]\ttraining's l2: 0.595695\tvalid_0's l2: 0.591092\n",
            "[895]\ttraining's l2: 0.59566\tvalid_0's l2: 0.591095\n",
            "[896]\ttraining's l2: 0.595624\tvalid_0's l2: 0.591063\n",
            "[897]\ttraining's l2: 0.595565\tvalid_0's l2: 0.591012\n",
            "[898]\ttraining's l2: 0.595518\tvalid_0's l2: 0.590976\n",
            "[899]\ttraining's l2: 0.595475\tvalid_0's l2: 0.590963\n",
            "[900]\ttraining's l2: 0.59545\tvalid_0's l2: 0.590953\n",
            "[901]\ttraining's l2: 0.595432\tvalid_0's l2: 0.590936\n",
            "[902]\ttraining's l2: 0.595395\tvalid_0's l2: 0.590859\n",
            "[903]\ttraining's l2: 0.595354\tvalid_0's l2: 0.590848\n",
            "[904]\ttraining's l2: 0.59533\tvalid_0's l2: 0.590855\n",
            "[905]\ttraining's l2: 0.595261\tvalid_0's l2: 0.590788\n",
            "[906]\ttraining's l2: 0.595211\tvalid_0's l2: 0.590798\n",
            "[907]\ttraining's l2: 0.59517\tvalid_0's l2: 0.590788\n",
            "[908]\ttraining's l2: 0.595144\tvalid_0's l2: 0.590779\n",
            "[909]\ttraining's l2: 0.595103\tvalid_0's l2: 0.590772\n",
            "[910]\ttraining's l2: 0.59508\tvalid_0's l2: 0.590782\n",
            "[911]\ttraining's l2: 0.595015\tvalid_0's l2: 0.590742\n",
            "[912]\ttraining's l2: 0.59498\tvalid_0's l2: 0.590696\n",
            "[913]\ttraining's l2: 0.594941\tvalid_0's l2: 0.590695\n",
            "[914]\ttraining's l2: 0.594898\tvalid_0's l2: 0.590656\n",
            "[915]\ttraining's l2: 0.594877\tvalid_0's l2: 0.590666\n",
            "[916]\ttraining's l2: 0.594842\tvalid_0's l2: 0.590652\n",
            "[917]\ttraining's l2: 0.594811\tvalid_0's l2: 0.590641\n",
            "[918]\ttraining's l2: 0.594789\tvalid_0's l2: 0.590641\n",
            "[919]\ttraining's l2: 0.594763\tvalid_0's l2: 0.590674\n",
            "[920]\ttraining's l2: 0.594714\tvalid_0's l2: 0.590756\n",
            "[921]\ttraining's l2: 0.594684\tvalid_0's l2: 0.590759\n",
            "[922]\ttraining's l2: 0.594644\tvalid_0's l2: 0.590729\n",
            "[923]\ttraining's l2: 0.594617\tvalid_0's l2: 0.590687\n",
            "[924]\ttraining's l2: 0.594575\tvalid_0's l2: 0.590684\n",
            "[925]\ttraining's l2: 0.594545\tvalid_0's l2: 0.59073\n",
            "[926]\ttraining's l2: 0.59452\tvalid_0's l2: 0.590737\n",
            "[927]\ttraining's l2: 0.594496\tvalid_0's l2: 0.590736\n",
            "[928]\ttraining's l2: 0.594463\tvalid_0's l2: 0.590825\n",
            "[929]\ttraining's l2: 0.594435\tvalid_0's l2: 0.590805\n",
            "[930]\ttraining's l2: 0.594411\tvalid_0's l2: 0.590819\n",
            "[931]\ttraining's l2: 0.594344\tvalid_0's l2: 0.590769\n",
            "[932]\ttraining's l2: 0.594303\tvalid_0's l2: 0.590758\n",
            "[933]\ttraining's l2: 0.594264\tvalid_0's l2: 0.590753\n",
            "[934]\ttraining's l2: 0.594238\tvalid_0's l2: 0.590777\n",
            "[935]\ttraining's l2: 0.594201\tvalid_0's l2: 0.590826\n",
            "[936]\ttraining's l2: 0.594171\tvalid_0's l2: 0.590796\n",
            "[937]\ttraining's l2: 0.594126\tvalid_0's l2: 0.590779\n",
            "[938]\ttraining's l2: 0.594103\tvalid_0's l2: 0.59079\n",
            "[939]\ttraining's l2: 0.594087\tvalid_0's l2: 0.590774\n",
            "[940]\ttraining's l2: 0.594028\tvalid_0's l2: 0.590719\n",
            "[941]\ttraining's l2: 0.593979\tvalid_0's l2: 0.590714\n",
            "[942]\ttraining's l2: 0.593958\tvalid_0's l2: 0.590721\n",
            "[943]\ttraining's l2: 0.593932\tvalid_0's l2: 0.590725\n",
            "[944]\ttraining's l2: 0.593906\tvalid_0's l2: 0.590726\n",
            "[945]\ttraining's l2: 0.593885\tvalid_0's l2: 0.59073\n",
            "[946]\ttraining's l2: 0.59387\tvalid_0's l2: 0.590722\n",
            "[947]\ttraining's l2: 0.593793\tvalid_0's l2: 0.590684\n",
            "Early stopping, best iteration is:\n",
            "[917]\ttraining's l2: 0.594811\tvalid_0's l2: 0.590641\n"
          ],
          "name": "stdout"
        },
        {
          "output_type": "execute_result",
          "data": {
            "text/plain": [
              "LGBMRegressor(boosting_type='gbdt', class_weight=None, colsample_bytree=1.0,\n",
              "              feature_fraction=0.9, importance_type='split', learning_rate=0.02,\n",
              "              max_depth=-1, min_child_samples=20, min_child_weight=0.001,\n",
              "              min_split_gain=0.0, n_estimators=1000, n_jobs=-1, num_leaves=50,\n",
              "              objective=None, random_state=1, reg_alpha=0.0, reg_lambda=0.0,\n",
              "              silent=True, subsample=1.0, subsample_for_bin=200000,\n",
              "              subsample_freq=0)"
            ]
          },
          "metadata": {
            "tags": []
          },
          "execution_count": 66
        }
      ]
    },
    {
      "cell_type": "code",
      "metadata": {
        "id": "KFIqADYExdWZ",
        "colab_type": "code",
        "outputId": "c5100bb2-cdd2-4780-d84d-f973fb7dcdd7",
        "colab": {
          "base_uri": "https://localhost:8080/",
          "height": 299
        }
      },
      "source": [
        "plt.figure(figsize=(12,6))\n",
        "results = lgbm.evals_result_\n",
        "epochs = len(results['valid_0']['l2'])\n",
        "x_axis = range(0, epochs)\n",
        "# plot acuuracy\n",
        "fig, ax = plt.subplots()\n",
        "ax.plot(x_axis, results['training']['l2'], label='Train')\n",
        "ax.plot(x_axis, results['valid_0']['l2'], label='validation')\n",
        "ax.legend()\n",
        "plt.ylabel('RMSE')\n",
        "plt.title('LGBM RMSE')\n",
        "plt.show()\n"
      ],
      "execution_count": 0,
      "outputs": [
        {
          "output_type": "display_data",
          "data": {
            "text/plain": [
              "<Figure size 864x432 with 0 Axes>"
            ]
          },
          "metadata": {
            "tags": []
          }
        },
        {
          "output_type": "display_data",
          "data": {
            "image/png": "[encoded data removed]",
            "text/plain": [
              "<Figure size 432x288 with 1 Axes>"
            ]
          },
          "metadata": {
            "tags": [],
            "needs_background": "light"
          }
        }
      ]
    },
    {
      "cell_type": "markdown",
      "metadata": {
        "id": "jMWgNdVJ7G-p",
        "colab_type": "text"
      },
      "source": [
        "Early stopping, best iteration is:\n",
        "[917]\ttraining's l2: `0.594811`\tvalid_0's l2: `0.590641`"
      ]
    },
    {
      "cell_type": "markdown",
      "metadata": {
        "id": "OGOXsux1AlvY",
        "colab_type": "text"
      },
      "source": [
        "see the impact on the test set"
      ]
    },
    {
      "cell_type": "code",
      "metadata": {
        "id": "XdYvKMtQAoIb",
        "colab_type": "code",
        "colab": {}
      },
      "source": [
        "AHPT_lgbm = LGBMRegressor(random_state = random_state  , learning_rate = 0.02 , n_estimators = 917,num_leaves = 50, feature_fraction = 0.9) # AHPT : After Hyper Paramater Tuning\n",
        "AHPT_lgbm.fit(Final_train.drop(['item_cnt_month'],axis = 1),Final_train.item_cnt_month)\n",
        "\n",
        "# save the model\n",
        "filename = 'after_hyperparamater_tuning.sav'\n",
        "pickle.dump(AHPT_lgbm,open(filename,'wb'))"
      ],
      "execution_count": 0,
      "outputs": []
    },
    {
      "cell_type": "code",
      "metadata": {
        "id": "30HWxJh_ApvI",
        "colab_type": "code",
        "colab": {}
      },
      "source": [
        "# load the model from the disk\n",
        "AHPT_lgbm = pickle.load(open('/content/after_hyperparamater_tuning.sav','rb'))\n",
        "AHPT_preds = AHPT_lgbm.predict(Final_test)\n",
        "sub = sample_submission\n",
        "sub.item_cnt_month = AHPT_preds\n",
        "sub.to_csv('after_hyperparamater_tuning.csv' , index = False)"
      ],
      "execution_count": 0,
      "outputs": []
    },
    {
      "cell_type": "markdown",
      "metadata": {
        "id": "yTE3K__QBBlT",
        "colab_type": "text"
      },
      "source": [
        "RMSE : `1.26008`"
      ]
    },
    {
      "cell_type": "markdown",
      "metadata": {
        "id": "5EkewK4CBN4u",
        "colab_type": "text"
      },
      "source": [
        "Surprisngly the RMSE is more than the one before hyper paramater tning mabye because the validation is not simulating the test set perfectly but any ways it's very small fraction that we can ignore"
      ]
    },
    {
      "cell_type": "markdown",
      "metadata": {
        "id": "n12Ua1QLArQa",
        "colab_type": "text"
      },
      "source": [
        "# Stacking"
      ]
    },
    {
      "cell_type": "markdown",
      "metadata": {
        "id": "F2E1O8qJfPm7",
        "colab_type": "text"
      },
      "source": [
        "make test_level2 using :\n",
        "\n",
        "1) linear regression ( linear algorithms)\n",
        "\n",
        "2) lightgbm (ensamble with dependent trees)\n",
        "\n",
        "3) knn (similarity measures)\n",
        "\n",
        "4) naive_bais (bayesian algotithms)"
      ]
    },
    {
      "cell_type": "markdown",
      "metadata": {
        "id": "FXp-svhAgGQv",
        "colab_type": "text"
      },
      "source": [
        "A side note that i tried random forest and decision tree but the RAM was crashing so i removed them"
      ]
    },
    {
      "cell_type": "code",
      "metadata": {
        "id": "0Oc1RakPAr5l",
        "colab_type": "code",
        "outputId": "e044fa7a-8e43-4bd7-8387-1057f0d1a31f",
        "colab": {
          "base_uri": "https://localhost:8080/",
          "height": 419
        }
      },
      "source": [
        "zeros_array = np.zeros(len(Final_test)) # to initiate the test_level2 with\n",
        "test_level2 = pd.DataFrame({'lr':zeros_array,'lgbm':zeros_array,'knn':zeros_array,'nb':zeros_array})\n",
        "test_level2"
      ],
      "execution_count": 45,
      "outputs": [
        {
          "output_type": "execute_result",
          "data": {
            "text/html": [
              "<div>\n",
              "<style scoped>\n",
              "    .dataframe tbody tr th:only-of-type {\n",
              "        vertical-align: middle;\n",
              "    }\n",
              "\n",
              "    .dataframe tbody tr th {\n",
              "        vertical-align: top;\n",
              "    }\n",
              "\n",
              "    .dataframe thead th {\n",
              "        text-align: right;\n",
              "    }\n",
              "</style>\n",
              "<table border=\"1\" class=\"dataframe\">\n",
              "  <thead>\n",
              "    <tr style=\"text-align: right;\">\n",
              "      <th></th>\n",
              "      <th>lr</th>\n",
              "      <th>lgbm</th>\n",
              "      <th>knn</th>\n",
              "      <th>nb</th>\n",
              "    </tr>\n",
              "  </thead>\n",
              "  <tbody>\n",
              "    <tr>\n",
              "      <th>0</th>\n",
              "      <td>0.0</td>\n",
              "      <td>0.0</td>\n",
              "      <td>0.0</td>\n",
              "      <td>0.0</td>\n",
              "    </tr>\n",
              "    <tr>\n",
              "      <th>1</th>\n",
              "      <td>0.0</td>\n",
              "      <td>0.0</td>\n",
              "      <td>0.0</td>\n",
              "      <td>0.0</td>\n",
              "    </tr>\n",
              "    <tr>\n",
              "      <th>2</th>\n",
              "      <td>0.0</td>\n",
              "      <td>0.0</td>\n",
              "      <td>0.0</td>\n",
              "      <td>0.0</td>\n",
              "    </tr>\n",
              "    <tr>\n",
              "      <th>3</th>\n",
              "      <td>0.0</td>\n",
              "      <td>0.0</td>\n",
              "      <td>0.0</td>\n",
              "      <td>0.0</td>\n",
              "    </tr>\n",
              "    <tr>\n",
              "      <th>4</th>\n",
              "      <td>0.0</td>\n",
              "      <td>0.0</td>\n",
              "      <td>0.0</td>\n",
              "      <td>0.0</td>\n",
              "    </tr>\n",
              "    <tr>\n",
              "      <th>...</th>\n",
              "      <td>...</td>\n",
              "      <td>...</td>\n",
              "      <td>...</td>\n",
              "      <td>...</td>\n",
              "    </tr>\n",
              "    <tr>\n",
              "      <th>214195</th>\n",
              "      <td>0.0</td>\n",
              "      <td>0.0</td>\n",
              "      <td>0.0</td>\n",
              "      <td>0.0</td>\n",
              "    </tr>\n",
              "    <tr>\n",
              "      <th>214196</th>\n",
              "      <td>0.0</td>\n",
              "      <td>0.0</td>\n",
              "      <td>0.0</td>\n",
              "      <td>0.0</td>\n",
              "    </tr>\n",
              "    <tr>\n",
              "      <th>214197</th>\n",
              "      <td>0.0</td>\n",
              "      <td>0.0</td>\n",
              "      <td>0.0</td>\n",
              "      <td>0.0</td>\n",
              "    </tr>\n",
              "    <tr>\n",
              "      <th>214198</th>\n",
              "      <td>0.0</td>\n",
              "      <td>0.0</td>\n",
              "      <td>0.0</td>\n",
              "      <td>0.0</td>\n",
              "    </tr>\n",
              "    <tr>\n",
              "      <th>214199</th>\n",
              "      <td>0.0</td>\n",
              "      <td>0.0</td>\n",
              "      <td>0.0</td>\n",
              "      <td>0.0</td>\n",
              "    </tr>\n",
              "  </tbody>\n",
              "</table>\n",
              "<p>214200 rows × 4 columns</p>\n",
              "</div>"
            ],
            "text/plain": [
              "         lr  lgbm  knn   nb\n",
              "0       0.0   0.0  0.0  0.0\n",
              "1       0.0   0.0  0.0  0.0\n",
              "2       0.0   0.0  0.0  0.0\n",
              "3       0.0   0.0  0.0  0.0\n",
              "4       0.0   0.0  0.0  0.0\n",
              "...     ...   ...  ...  ...\n",
              "214195  0.0   0.0  0.0  0.0\n",
              "214196  0.0   0.0  0.0  0.0\n",
              "214197  0.0   0.0  0.0  0.0\n",
              "214198  0.0   0.0  0.0  0.0\n",
              "214199  0.0   0.0  0.0  0.0\n",
              "\n",
              "[214200 rows x 4 columns]"
            ]
          },
          "metadata": {
            "tags": []
          },
          "execution_count": 45
        }
      ]
    },
    {
      "cell_type": "code",
      "metadata": {
        "id": "0Y4E9hYBSjCk",
        "colab_type": "code",
        "colab": {}
      },
      "source": [
        "# initiating the models\n",
        "# fitting the models\n",
        "# predicting and put the predictions in test_level2 data frame to test on it with the meta model\n",
        "\n",
        "lr =  LinearRegression()\n",
        "lr.fit(Final_train.drop(['item_cnt_month'],axis = 1),Final_train.item_cnt_month)\n",
        "pred = lr.predict(Final_test)\n",
        "test_level2['lr'] = pred\n"
      ],
      "execution_count": 0,
      "outputs": []
    },
    {
      "cell_type": "code",
      "metadata": {
        "id": "5PLrSANLsR7y",
        "colab_type": "code",
        "colab": {}
      },
      "source": [
        "knn= KNeighborsRegressor()\n",
        "knn.fit(Final_train.drop(['item_cnt_month'],axis = 1),Final_train.item_cnt_month)\n",
        "pred = knn.predict(Final_test)\n",
        "test_level2['knn'] = pred"
      ],
      "execution_count": 0,
      "outputs": []
    },
    {
      "cell_type": "code",
      "metadata": {
        "id": "BQVkEsc5s994",
        "colab_type": "code",
        "colab": {}
      },
      "source": [
        "nb = GaussianNB()\n",
        "nb.fit(Final_train.drop(['item_cnt_month'],axis = 1),Final_train.item_cnt_month)\n",
        "pred = nb.predict(Final_test)\n",
        "test_level2['nb'] = pred"
      ],
      "execution_count": 0,
      "outputs": []
    },
    {
      "cell_type": "code",
      "metadata": {
        "id": "hx3u6WTss9En",
        "colab_type": "code",
        "colab": {}
      },
      "source": [
        "lgbm = LGBMRegressor(random_state = random_state  , learning_rate = 0.02 , n_estimators = 917,num_leaves = 50, feature_fraction = 0.9) \n",
        "lgbm.fit(Final_train.drop(['item_cnt_month'],axis = 1),Final_train.item_cnt_month)\n",
        "pred = lgbm.predict(Final_test)\n",
        "test_level2['lgbm'] = pred\n",
        "\n"
      ],
      "execution_count": 0,
      "outputs": []
    },
    {
      "cell_type": "code",
      "metadata": {
        "id": "Kgg8lXZzg-_5",
        "colab_type": "code",
        "colab": {}
      },
      "source": [
        "# taking all the dates we have to make conditions on it\n",
        "dates = Final_train.date_block_num\n",
        "# this validation_dates will help me making conditions as you will see next\n",
        "validation_dates = Final_train[dates.isin([24,25,26,27,28])].date_block_num"
      ],
      "execution_count": 0,
      "outputs": []
    },
    {
      "cell_type": "code",
      "metadata": {
        "id": "PdpBeOgFg96K",
        "colab_type": "code",
        "colab": {}
      },
      "source": [
        "# And here we create 2nd level feeature matrix, init it with zeros first\n",
        "validation_size = len(Final_train[dates.isin([24,25,26,27,28])])\n",
        "zeros_array = np.zeros(validation_size )\n",
        "X_train_level2 = pd.DataFrame({'lr':zeros_array,'lgbm':zeros_array,'knn':zeros_array,'nb':zeros_array , 'dates':validation_dates})\n",
        "\n",
        "# making the y_train\n",
        "Final_train_sub = Final_train.loc[dates >  23]\n",
        "y_train_level2 = Final_train_sub.item_cnt_month"
      ],
      "execution_count": 0,
      "outputs": []
    },
    {
      "cell_type": "code",
      "metadata": {
        "id": "nu-3-hVAUPJj",
        "colab_type": "code",
        "colab": {}
      },
      "source": [
        "models = []\n",
        "models.append(('lr', LinearRegression()))\n",
        "models.append(('lgbm',LGBMRegressor(random_state = random_state  , learning_rate = 0.02 , n_estimators = 71,num_leaves = 10)))\n",
        "models.append(('knn', KNeighborsRegressor()))\n",
        "models.append(('nb', GaussianNB()))\n"
      ],
      "execution_count": 0,
      "outputs": []
    },
    {
      "cell_type": "code",
      "metadata": {
        "id": "b_A6pULjvqlN",
        "colab_type": "code",
        "colab": {}
      },
      "source": [
        "# Now fill `X_train_level2` with metafeatures\n",
        "for cur_block_num in [28,29,30,31,32]:\n",
        "    \n",
        "    print(cur_block_num)\n",
        "     \n",
        "    # 1. Split `X_train` into parts\n",
        "    X = Final_train.loc[dates <  cur_block_num].drop('item_cnt_month', axis=1)\n",
        "    y= Final_train.loc[dates < cur_block_num, 'item_cnt_month']\n",
        "    X_test = Final_train.loc[dates ==  cur_block_num].drop('item_cnt_month', axis=1)\n",
        "    \n",
        "    \n",
        "    for name, model in models : # i'm using cross validation but with respect to time and this is done for each model in the 4\n",
        "        model.fit(X,y)\n",
        "        pred = model.predict(X_test)\n",
        "        X_train_level2.loc[X_train_level2.dates == cur_block_num ,name] = pred"
      ],
      "execution_count": 0,
      "outputs": []
    },
    {
      "cell_type": "markdown",
      "metadata": {
        "id": "QwYSKmgahh5Y",
        "colab_type": "text"
      },
      "source": [
        "now the meta model will fit on X_train_level2 and predict on test_level2.\n"
      ]
    },
    {
      "cell_type": "markdown",
      "metadata": {
        "id": "sY7g68HPHqko",
        "colab_type": "text"
      },
      "source": [
        "I will get the best paramaters using Randomgridsearch with 4 folds"
      ]
    },
    {
      "cell_type": "code",
      "metadata": {
        "id": "w1Tldx-XUIm7",
        "colab_type": "code",
        "colab": {}
      },
      "source": [
        "# 2) lighgbm with randomGridSearch on 4 folds\n",
        "\n",
        "# Define our search space for grid search\n",
        "search_space = [\n",
        "  {\n",
        "               'feature_fraction': [0.7,0.8,0.9,1],\n",
        "                'n_estimators': [100,150,200,250,300,350,400,450,500,600,700],\n",
        "               'min_data_in_leaf': [0,1,5,10,50,100,200], \n",
        "               'bagging_fraction': [0.7,0.8,0.9,1], \n",
        "               'learning_rate': [0.01,0.02], \n",
        "               'num_leaves': [1,2,3,4,5,10,15,20,25,30],\n",
        "               'verbose':[0]\n",
        "  }\n",
        "]\n",
        "# Define cross validation\n",
        "kfold = StratifiedKFold(n_splits=4, random_state=random_state)\n",
        "# Define grid search\n",
        "random_grid = RandomizedSearchCV(\n",
        "  LGBMRegressor(),\n",
        "  param_distributions=search_space,\n",
        "  cv=kfold,\n",
        "  scoring='neg_root_mean_squared_error',\n",
        "  verbose=1,\n",
        "  n_jobs=-1,\n",
        "  refit = True\n",
        ")\n"
      ],
      "execution_count": 0,
      "outputs": []
    },
    {
      "cell_type": "code",
      "metadata": {
        "id": "wgjUpqdvUIrZ",
        "colab_type": "code",
        "colab": {}
      },
      "source": [
        "random_grid.fit(X_train_level2.drop('dates',axis = 1) , y_train_level2)\n",
        "\n",
        "# save the model\n",
        "filename = 'meta_lgbm.sav'\n",
        "pickle.dump(random_grid,open(filename,'wb'))\n",
        "\n",
        "preds = random_grid.predict(test_level2)\n",
        "sub = sample_submission\n",
        "sub.item_cnt_month = preds\n",
        "sub.to_csv('meta_lgbm.csv' , index = False)"
      ],
      "execution_count": 0,
      "outputs": []
    },
    {
      "cell_type": "markdown",
      "metadata": {
        "id": "W0md63PxHmLq",
        "colab_type": "text"
      },
      "source": [
        "RMSE : `1.21`"
      ]
    }
  ]
}